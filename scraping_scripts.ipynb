{
 "cells": [
  {
   "cell_type": "code",
   "execution_count": 6,
   "id": "e122f892",
   "metadata": {},
   "outputs": [],
   "source": [
    "import pandas as pd\n",
    "from bs4 import BeautifulSoup\n",
    "import time\n",
    "from selenium import webdriver\n",
    "import pandas as pd "
   ]
  },
  {
   "cell_type": "code",
   "execution_count": 7,
   "id": "7ed6c86d",
   "metadata": {},
   "outputs": [],
   "source": [
    "def render_page(url):\n",
    "    driver = webdriver.Chrome(\"chromedriver.exe\")\n",
    "    driver.get(url)\n",
    "    height = driver.execute_script(\"return document.body.scrollHeight\")\n",
    "    driver.execute_script(f\"window.scrollTo(0, {height/2})\") \n",
    "    # time.sleep(PAUSE_TIME)\n",
    "    driver.execute_script(f\"window.scrollTo(0, {height})\") \n",
    "    # time.sleep(PAUSE_TIME)\n",
    "    # height = driver.execute_script(\"return document.body.scrollHeight\")\n",
    "    # driver.execute_script(f\"window.scrollTo(0, {height})\")\n",
    "    r = driver.page_source\n",
    "    \n",
    "    return r"
   ]
  },
  {
   "cell_type": "code",
   "execution_count": 32,
   "id": "a99661d8",
   "metadata": {},
   "outputs": [],
   "source": [
    "def get_all_properties(url):\n",
    "    all_properties={\"url\":url}\n",
    "    r = render_page(url)\n",
    "    soup = BeautifulSoup(r, \"html.parser\")\n",
    "    properties = soup.find_all('div', attrs={'class':'product-properties__i'})\n",
    "    for property in properties:\n",
    "        property_name = property.find('label', attrs={'class':'product-properties__i-name'})\n",
    "        property_value = property.find('span', attrs={'class':'product-properties__i-value'})\n",
    "        if property_name == None or property_value == None:\n",
    "            pass\n",
    "        else:\n",
    "            all_properties.update({property_name.text:property_value.text})\n",
    "        \n",
    "\n",
    "    \n",
    "    description = soup.find('div', attrs={'class':'product-description__content js-description-content'})\n",
    "    if description:\n",
    "        all_properties.update({\"description\":description.text})\n",
    "    else:\n",
    "        all_properties.update({\"description\":None})\n",
    "\n",
    "    price = soup.find('div', attrs={'class':'product-price__i product-price__i--bold'})\n",
    "    if price:\n",
    "        all_properties.update({\"price\":price.text})\n",
    "    else:\n",
    "        all_properties.update({\"price\":None})\n",
    "        \n",
    "\n",
    "    return all_properties"
   ]
  },
  {
   "cell_type": "code",
   "execution_count": 9,
   "id": "64c5465c",
   "metadata": {},
   "outputs": [],
   "source": [
    "links = pd.read_csv('recent_links.csv').iloc[:,0].tolist()"
   ]
  },
  {
   "cell_type": "code",
   "execution_count": null,
   "id": "d013f9cc",
   "metadata": {},
   "outputs": [],
   "source": []
  },
  {
   "cell_type": "code",
   "execution_count": 3,
   "id": "49edb953",
   "metadata": {},
   "outputs": [],
   "source": [
    "df = pd.read_csv(\"turbo.csv\")"
   ]
  },
  {
   "cell_type": "code",
   "execution_count": 11,
   "id": "bba074db",
   "metadata": {},
   "outputs": [
    {
     "name": "stderr",
     "output_type": "stream",
     "text": [
      "C:\\Users\\bashi\\AppData\\Local\\Temp\\ipykernel_1612\\837280139.py:2: DeprecationWarning: executable_path has been deprecated, please pass in a Service object\n",
      "  driver = webdriver.Chrome(\"chromedriver.exe\")\n"
     ]
    }
   ],
   "source": [
    "data =  get_all_properties(links[0])\n"
   ]
  },
  {
   "cell_type": "code",
   "execution_count": 12,
   "id": "a3b1f854",
   "metadata": {},
   "outputs": [
    {
     "data": {
      "text/plain": [
       "{'url': 'https://turbo.az/autos/7019546-toyota-camry',\n",
       " 'Şəhər': 'Bakı',\n",
       " 'Marka': 'Toyota',\n",
       " 'Model': 'Camry',\n",
       " 'Buraxılış ili': '2006',\n",
       " 'Ban növü': 'Sedan',\n",
       " 'Rəng': 'Qara',\n",
       " 'Mühərrik': '2.0 L/150 a.g./Benzin',\n",
       " 'Yürüş': '210 000 km',\n",
       " 'Sürətlər qutusu': 'Avtomat',\n",
       " 'Ötürücü': 'Ön',\n",
       " 'Yeni': 'Xeyr',\n",
       " 'Vəziyyəti': 'Vuruğu yoxdur, rənglənib',\n",
       " 'description': 'Tecili satilir.bez kraska mawin axtaran yigmasin.  Ne xerci varsa qiymetden cixilacaq',\n",
       " 'price': '15 800 AZN'}"
      ]
     },
     "execution_count": 12,
     "metadata": {},
     "output_type": "execute_result"
    }
   ],
   "source": [
    "data"
   ]
  },
  {
   "cell_type": "code",
   "execution_count": 18,
   "id": "cd6d3a97",
   "metadata": {},
   "outputs": [],
   "source": [
    "turbo_df = pd.DataFrame()"
   ]
  },
  {
   "cell_type": "code",
   "execution_count": 19,
   "id": "deba559f",
   "metadata": {},
   "outputs": [
    {
     "data": {
      "text/html": [
       "<div>\n",
       "<style scoped>\n",
       "    .dataframe tbody tr th:only-of-type {\n",
       "        vertical-align: middle;\n",
       "    }\n",
       "\n",
       "    .dataframe tbody tr th {\n",
       "        vertical-align: top;\n",
       "    }\n",
       "\n",
       "    .dataframe thead th {\n",
       "        text-align: right;\n",
       "    }\n",
       "</style>\n",
       "<table border=\"1\" class=\"dataframe\">\n",
       "  <thead>\n",
       "    <tr style=\"text-align: right;\">\n",
       "      <th></th>\n",
       "    </tr>\n",
       "  </thead>\n",
       "  <tbody>\n",
       "  </tbody>\n",
       "</table>\n",
       "</div>"
      ],
      "text/plain": [
       "Empty DataFrame\n",
       "Columns: []\n",
       "Index: []"
      ]
     },
     "execution_count": 19,
     "metadata": {},
     "output_type": "execute_result"
    }
   ],
   "source": [
    "turbo_df"
   ]
  },
  {
   "cell_type": "code",
   "execution_count": 23,
   "id": "3e0dd126",
   "metadata": {},
   "outputs": [
    {
     "name": "stderr",
     "output_type": "stream",
     "text": [
      "C:\\Users\\bashi\\AppData\\Local\\Temp\\ipykernel_1612\\837280139.py:2: DeprecationWarning: executable_path has been deprecated, please pass in a Service object\n",
      "  driver = webdriver.Chrome(\"chromedriver.exe\")\n",
      "C:\\Users\\bashi\\AppData\\Local\\Temp\\ipykernel_1612\\2103951641.py:2: FutureWarning: The frame.append method is deprecated and will be removed from pandas in a future version. Use pandas.concat instead.\n",
      "  turbo_df = turbo_df.append(data, ignore_index = True)\n"
     ]
    }
   ],
   "source": [
    "data =  get_all_properties(links[0])\n",
    "turbo_df = turbo_df.append(data, ignore_index = True)"
   ]
  },
  {
   "cell_type": "code",
   "execution_count": 24,
   "id": "184bbb91",
   "metadata": {},
   "outputs": [
    {
     "name": "stderr",
     "output_type": "stream",
     "text": [
      "C:\\Users\\bashi\\AppData\\Local\\Temp\\ipykernel_1612\\837280139.py:2: DeprecationWarning: executable_path has been deprecated, please pass in a Service object\n",
      "  driver = webdriver.Chrome(\"chromedriver.exe\")\n",
      "C:\\Users\\bashi\\AppData\\Local\\Temp\\ipykernel_1612\\1116606047.py:2: FutureWarning: The frame.append method is deprecated and will be removed from pandas in a future version. Use pandas.concat instead.\n",
      "  turbo_df = turbo_df.append(data, ignore_index = True)\n"
     ]
    }
   ],
   "source": [
    "data =  get_all_properties(links[1])\n",
    "turbo_df = turbo_df.append(data, ignore_index = True)"
   ]
  },
  {
   "cell_type": "code",
   "execution_count": 25,
   "id": "bbde19be",
   "metadata": {},
   "outputs": [
    {
     "data": {
      "text/html": [
       "<div>\n",
       "<style scoped>\n",
       "    .dataframe tbody tr th:only-of-type {\n",
       "        vertical-align: middle;\n",
       "    }\n",
       "\n",
       "    .dataframe tbody tr th {\n",
       "        vertical-align: top;\n",
       "    }\n",
       "\n",
       "    .dataframe thead th {\n",
       "        text-align: right;\n",
       "    }\n",
       "</style>\n",
       "<table border=\"1\" class=\"dataframe\">\n",
       "  <thead>\n",
       "    <tr style=\"text-align: right;\">\n",
       "      <th></th>\n",
       "      <th>url</th>\n",
       "      <th>Şəhər</th>\n",
       "      <th>Marka</th>\n",
       "      <th>Model</th>\n",
       "      <th>Buraxılış ili</th>\n",
       "      <th>Ban növü</th>\n",
       "      <th>Rəng</th>\n",
       "      <th>Mühərrik</th>\n",
       "      <th>Yürüş</th>\n",
       "      <th>Sürətlər qutusu</th>\n",
       "      <th>Ötürücü</th>\n",
       "      <th>Yeni</th>\n",
       "      <th>Yerlərin sayı</th>\n",
       "      <th>Sahiblər</th>\n",
       "      <th>Vəziyyəti</th>\n",
       "      <th>description</th>\n",
       "      <th>price</th>\n",
       "    </tr>\n",
       "  </thead>\n",
       "  <tbody>\n",
       "    <tr>\n",
       "      <th>0</th>\n",
       "      <td>https://turbo.az/autos/7019547-lada-vaz-2107</td>\n",
       "      <td>Mingəçevir</td>\n",
       "      <td>LADA (VAZ)</td>\n",
       "      <td>2107</td>\n",
       "      <td>1985</td>\n",
       "      <td>Sedan</td>\n",
       "      <td>Göy</td>\n",
       "      <td>1.5 L/65 a.g./Benzin</td>\n",
       "      <td>300 000 km</td>\n",
       "      <td>Mexaniki</td>\n",
       "      <td>Arxa</td>\n",
       "      <td>Xeyr</td>\n",
       "      <td>5</td>\n",
       "      <td>3</td>\n",
       "      <td>Vuruğu yoxdur, rənglənib</td>\n",
       "      <td>Maşının</td>\n",
       "      <td>2 300 AZN</td>\n",
       "    </tr>\n",
       "    <tr>\n",
       "      <th>1</th>\n",
       "      <td>https://turbo.az/autos/7019547-lada-vaz-2107</td>\n",
       "      <td>Mingəçevir</td>\n",
       "      <td>LADA (VAZ)</td>\n",
       "      <td>2107</td>\n",
       "      <td>1985</td>\n",
       "      <td>Sedan</td>\n",
       "      <td>Göy</td>\n",
       "      <td>1.5 L/65 a.g./Benzin</td>\n",
       "      <td>300 000 km</td>\n",
       "      <td>Mexaniki</td>\n",
       "      <td>Arxa</td>\n",
       "      <td>Xeyr</td>\n",
       "      <td>5</td>\n",
       "      <td>3</td>\n",
       "      <td>Vuruğu yoxdur, rənglənib</td>\n",
       "      <td>Maşının</td>\n",
       "      <td>2 300 AZN</td>\n",
       "    </tr>\n",
       "    <tr>\n",
       "      <th>2</th>\n",
       "      <td>https://turbo.az/autos/7019546-toyota-camry</td>\n",
       "      <td>Bakı</td>\n",
       "      <td>Toyota</td>\n",
       "      <td>Camry</td>\n",
       "      <td>2006</td>\n",
       "      <td>Sedan</td>\n",
       "      <td>Qara</td>\n",
       "      <td>2.0 L/150 a.g./Benzin</td>\n",
       "      <td>210 000 km</td>\n",
       "      <td>Avtomat</td>\n",
       "      <td>Ön</td>\n",
       "      <td>Xeyr</td>\n",
       "      <td>NaN</td>\n",
       "      <td>NaN</td>\n",
       "      <td>Vuruğu yoxdur, rənglənib</td>\n",
       "      <td>Tecili satilir.bez kraska mawin axtaran yigmas...</td>\n",
       "      <td>15 800 AZN</td>\n",
       "    </tr>\n",
       "    <tr>\n",
       "      <th>3</th>\n",
       "      <td>https://turbo.az/autos/7019547-lada-vaz-2107</td>\n",
       "      <td>Mingəçevir</td>\n",
       "      <td>LADA (VAZ)</td>\n",
       "      <td>2107</td>\n",
       "      <td>1985</td>\n",
       "      <td>Sedan</td>\n",
       "      <td>Göy</td>\n",
       "      <td>1.5 L/65 a.g./Benzin</td>\n",
       "      <td>300 000 km</td>\n",
       "      <td>Mexaniki</td>\n",
       "      <td>Arxa</td>\n",
       "      <td>Xeyr</td>\n",
       "      <td>5</td>\n",
       "      <td>3</td>\n",
       "      <td>Vuruğu yoxdur, rənglənib</td>\n",
       "      <td>Maşının</td>\n",
       "      <td>2 300 AZN</td>\n",
       "    </tr>\n",
       "  </tbody>\n",
       "</table>\n",
       "</div>"
      ],
      "text/plain": [
       "                                            url       Şəhər       Marka  \\\n",
       "0  https://turbo.az/autos/7019547-lada-vaz-2107  Mingəçevir  LADA (VAZ)   \n",
       "1  https://turbo.az/autos/7019547-lada-vaz-2107  Mingəçevir  LADA (VAZ)   \n",
       "2   https://turbo.az/autos/7019546-toyota-camry        Bakı      Toyota   \n",
       "3  https://turbo.az/autos/7019547-lada-vaz-2107  Mingəçevir  LADA (VAZ)   \n",
       "\n",
       "   Model Buraxılış ili Ban növü  Rəng               Mühərrik       Yürüş  \\\n",
       "0   2107          1985    Sedan   Göy   1.5 L/65 a.g./Benzin  300 000 km   \n",
       "1   2107          1985    Sedan   Göy   1.5 L/65 a.g./Benzin  300 000 km   \n",
       "2  Camry          2006    Sedan  Qara  2.0 L/150 a.g./Benzin  210 000 km   \n",
       "3   2107          1985    Sedan   Göy   1.5 L/65 a.g./Benzin  300 000 km   \n",
       "\n",
       "  Sürətlər qutusu Ötürücü  Yeni Yerlərin sayı Sahiblər  \\\n",
       "0        Mexaniki    Arxa  Xeyr             5        3   \n",
       "1        Mexaniki    Arxa  Xeyr             5        3   \n",
       "2         Avtomat      Ön  Xeyr           NaN      NaN   \n",
       "3        Mexaniki    Arxa  Xeyr             5        3   \n",
       "\n",
       "                  Vəziyyəti  \\\n",
       "0  Vuruğu yoxdur, rənglənib   \n",
       "1  Vuruğu yoxdur, rənglənib   \n",
       "2  Vuruğu yoxdur, rənglənib   \n",
       "3  Vuruğu yoxdur, rənglənib   \n",
       "\n",
       "                                         description       price  \n",
       "0                                            Maşının   2 300 AZN  \n",
       "1                                            Maşının   2 300 AZN  \n",
       "2  Tecili satilir.bez kraska mawin axtaran yigmas...  15 800 AZN  \n",
       "3                                            Maşının   2 300 AZN  "
      ]
     },
     "execution_count": 25,
     "metadata": {},
     "output_type": "execute_result"
    }
   ],
   "source": [
    "turbo_df"
   ]
  },
  {
   "cell_type": "code",
   "execution_count": 33,
   "id": "f3ff97de",
   "metadata": {},
   "outputs": [
    {
     "data": {
      "text/plain": [
       "2376"
      ]
     },
     "execution_count": 33,
     "metadata": {},
     "output_type": "execute_result"
    }
   ],
   "source": [
    "len(links)"
   ]
  },
  {
   "cell_type": "code",
   "execution_count": 34,
   "id": "ffd8a5b5",
   "metadata": {},
   "outputs": [
    {
     "name": "stderr",
     "output_type": "stream",
     "text": [
      "C:\\Users\\bashi\\AppData\\Local\\Temp\\ipykernel_1612\\837280139.py:2: DeprecationWarning: executable_path has been deprecated, please pass in a Service object\n",
      "  driver = webdriver.Chrome(\"chromedriver.exe\")\n",
      "C:\\Users\\bashi\\AppData\\Local\\Temp\\ipykernel_1612\\1789959209.py:4: FutureWarning: The frame.append method is deprecated and will be removed from pandas in a future version. Use pandas.concat instead.\n",
      "  turbo_df = turbo_df.append(data, ignore_index = True)\n",
      "C:\\Users\\bashi\\AppData\\Local\\Temp\\ipykernel_1612\\837280139.py:2: DeprecationWarning: executable_path has been deprecated, please pass in a Service object\n",
      "  driver = webdriver.Chrome(\"chromedriver.exe\")\n"
     ]
    },
    {
     "name": "stdout",
     "output_type": "stream",
     "text": [
      "0\n"
     ]
    },
    {
     "name": "stderr",
     "output_type": "stream",
     "text": [
      "C:\\Users\\bashi\\AppData\\Local\\Temp\\ipykernel_1612\\1789959209.py:4: FutureWarning: The frame.append method is deprecated and will be removed from pandas in a future version. Use pandas.concat instead.\n",
      "  turbo_df = turbo_df.append(data, ignore_index = True)\n",
      "C:\\Users\\bashi\\AppData\\Local\\Temp\\ipykernel_1612\\837280139.py:2: DeprecationWarning: executable_path has been deprecated, please pass in a Service object\n",
      "  driver = webdriver.Chrome(\"chromedriver.exe\")\n"
     ]
    },
    {
     "name": "stdout",
     "output_type": "stream",
     "text": [
      "1\n"
     ]
    },
    {
     "name": "stderr",
     "output_type": "stream",
     "text": [
      "C:\\Users\\bashi\\AppData\\Local\\Temp\\ipykernel_1612\\1789959209.py:4: FutureWarning: The frame.append method is deprecated and will be removed from pandas in a future version. Use pandas.concat instead.\n",
      "  turbo_df = turbo_df.append(data, ignore_index = True)\n",
      "C:\\Users\\bashi\\AppData\\Local\\Temp\\ipykernel_1612\\837280139.py:2: DeprecationWarning: executable_path has been deprecated, please pass in a Service object\n",
      "  driver = webdriver.Chrome(\"chromedriver.exe\")\n"
     ]
    },
    {
     "name": "stdout",
     "output_type": "stream",
     "text": [
      "2\n"
     ]
    },
    {
     "name": "stderr",
     "output_type": "stream",
     "text": [
      "C:\\Users\\bashi\\AppData\\Local\\Temp\\ipykernel_1612\\1789959209.py:4: FutureWarning: The frame.append method is deprecated and will be removed from pandas in a future version. Use pandas.concat instead.\n",
      "  turbo_df = turbo_df.append(data, ignore_index = True)\n",
      "C:\\Users\\bashi\\AppData\\Local\\Temp\\ipykernel_1612\\837280139.py:2: DeprecationWarning: executable_path has been deprecated, please pass in a Service object\n",
      "  driver = webdriver.Chrome(\"chromedriver.exe\")\n"
     ]
    },
    {
     "name": "stdout",
     "output_type": "stream",
     "text": [
      "3\n"
     ]
    },
    {
     "name": "stderr",
     "output_type": "stream",
     "text": [
      "C:\\Users\\bashi\\AppData\\Local\\Temp\\ipykernel_1612\\1789959209.py:4: FutureWarning: The frame.append method is deprecated and will be removed from pandas in a future version. Use pandas.concat instead.\n",
      "  turbo_df = turbo_df.append(data, ignore_index = True)\n",
      "C:\\Users\\bashi\\AppData\\Local\\Temp\\ipykernel_1612\\837280139.py:2: DeprecationWarning: executable_path has been deprecated, please pass in a Service object\n",
      "  driver = webdriver.Chrome(\"chromedriver.exe\")\n"
     ]
    },
    {
     "name": "stdout",
     "output_type": "stream",
     "text": [
      "4\n"
     ]
    },
    {
     "name": "stderr",
     "output_type": "stream",
     "text": [
      "C:\\Users\\bashi\\AppData\\Local\\Temp\\ipykernel_1612\\1789959209.py:4: FutureWarning: The frame.append method is deprecated and will be removed from pandas in a future version. Use pandas.concat instead.\n",
      "  turbo_df = turbo_df.append(data, ignore_index = True)\n",
      "C:\\Users\\bashi\\AppData\\Local\\Temp\\ipykernel_1612\\837280139.py:2: DeprecationWarning: executable_path has been deprecated, please pass in a Service object\n",
      "  driver = webdriver.Chrome(\"chromedriver.exe\")\n"
     ]
    },
    {
     "name": "stdout",
     "output_type": "stream",
     "text": [
      "5\n"
     ]
    },
    {
     "name": "stderr",
     "output_type": "stream",
     "text": [
      "C:\\Users\\bashi\\AppData\\Local\\Temp\\ipykernel_1612\\1789959209.py:4: FutureWarning: The frame.append method is deprecated and will be removed from pandas in a future version. Use pandas.concat instead.\n",
      "  turbo_df = turbo_df.append(data, ignore_index = True)\n",
      "C:\\Users\\bashi\\AppData\\Local\\Temp\\ipykernel_1612\\837280139.py:2: DeprecationWarning: executable_path has been deprecated, please pass in a Service object\n",
      "  driver = webdriver.Chrome(\"chromedriver.exe\")\n"
     ]
    },
    {
     "name": "stdout",
     "output_type": "stream",
     "text": [
      "6\n"
     ]
    },
    {
     "name": "stderr",
     "output_type": "stream",
     "text": [
      "C:\\Users\\bashi\\AppData\\Local\\Temp\\ipykernel_1612\\1789959209.py:4: FutureWarning: The frame.append method is deprecated and will be removed from pandas in a future version. Use pandas.concat instead.\n",
      "  turbo_df = turbo_df.append(data, ignore_index = True)\n",
      "C:\\Users\\bashi\\AppData\\Local\\Temp\\ipykernel_1612\\837280139.py:2: DeprecationWarning: executable_path has been deprecated, please pass in a Service object\n",
      "  driver = webdriver.Chrome(\"chromedriver.exe\")\n"
     ]
    },
    {
     "name": "stdout",
     "output_type": "stream",
     "text": [
      "7\n"
     ]
    },
    {
     "name": "stderr",
     "output_type": "stream",
     "text": [
      "C:\\Users\\bashi\\AppData\\Local\\Temp\\ipykernel_1612\\1789959209.py:4: FutureWarning: The frame.append method is deprecated and will be removed from pandas in a future version. Use pandas.concat instead.\n",
      "  turbo_df = turbo_df.append(data, ignore_index = True)\n",
      "C:\\Users\\bashi\\AppData\\Local\\Temp\\ipykernel_1612\\837280139.py:2: DeprecationWarning: executable_path has been deprecated, please pass in a Service object\n",
      "  driver = webdriver.Chrome(\"chromedriver.exe\")\n"
     ]
    },
    {
     "name": "stdout",
     "output_type": "stream",
     "text": [
      "8\n"
     ]
    },
    {
     "name": "stderr",
     "output_type": "stream",
     "text": [
      "C:\\Users\\bashi\\AppData\\Local\\Temp\\ipykernel_1612\\1789959209.py:4: FutureWarning: The frame.append method is deprecated and will be removed from pandas in a future version. Use pandas.concat instead.\n",
      "  turbo_df = turbo_df.append(data, ignore_index = True)\n",
      "C:\\Users\\bashi\\AppData\\Local\\Temp\\ipykernel_1612\\837280139.py:2: DeprecationWarning: executable_path has been deprecated, please pass in a Service object\n",
      "  driver = webdriver.Chrome(\"chromedriver.exe\")\n"
     ]
    },
    {
     "name": "stdout",
     "output_type": "stream",
     "text": [
      "9\n"
     ]
    },
    {
     "name": "stderr",
     "output_type": "stream",
     "text": [
      "C:\\Users\\bashi\\AppData\\Local\\Temp\\ipykernel_1612\\1789959209.py:4: FutureWarning: The frame.append method is deprecated and will be removed from pandas in a future version. Use pandas.concat instead.\n",
      "  turbo_df = turbo_df.append(data, ignore_index = True)\n",
      "C:\\Users\\bashi\\AppData\\Local\\Temp\\ipykernel_1612\\837280139.py:2: DeprecationWarning: executable_path has been deprecated, please pass in a Service object\n",
      "  driver = webdriver.Chrome(\"chromedriver.exe\")\n"
     ]
    },
    {
     "name": "stdout",
     "output_type": "stream",
     "text": [
      "10\n"
     ]
    },
    {
     "name": "stderr",
     "output_type": "stream",
     "text": [
      "C:\\Users\\bashi\\AppData\\Local\\Temp\\ipykernel_1612\\1789959209.py:4: FutureWarning: The frame.append method is deprecated and will be removed from pandas in a future version. Use pandas.concat instead.\n",
      "  turbo_df = turbo_df.append(data, ignore_index = True)\n",
      "C:\\Users\\bashi\\AppData\\Local\\Temp\\ipykernel_1612\\837280139.py:2: DeprecationWarning: executable_path has been deprecated, please pass in a Service object\n",
      "  driver = webdriver.Chrome(\"chromedriver.exe\")\n"
     ]
    },
    {
     "name": "stdout",
     "output_type": "stream",
     "text": [
      "11\n"
     ]
    },
    {
     "name": "stderr",
     "output_type": "stream",
     "text": [
      "C:\\Users\\bashi\\AppData\\Local\\Temp\\ipykernel_1612\\1789959209.py:4: FutureWarning: The frame.append method is deprecated and will be removed from pandas in a future version. Use pandas.concat instead.\n",
      "  turbo_df = turbo_df.append(data, ignore_index = True)\n",
      "C:\\Users\\bashi\\AppData\\Local\\Temp\\ipykernel_1612\\837280139.py:2: DeprecationWarning: executable_path has been deprecated, please pass in a Service object\n",
      "  driver = webdriver.Chrome(\"chromedriver.exe\")\n"
     ]
    },
    {
     "name": "stdout",
     "output_type": "stream",
     "text": [
      "12\n"
     ]
    },
    {
     "name": "stderr",
     "output_type": "stream",
     "text": [
      "C:\\Users\\bashi\\AppData\\Local\\Temp\\ipykernel_1612\\1789959209.py:4: FutureWarning: The frame.append method is deprecated and will be removed from pandas in a future version. Use pandas.concat instead.\n",
      "  turbo_df = turbo_df.append(data, ignore_index = True)\n",
      "C:\\Users\\bashi\\AppData\\Local\\Temp\\ipykernel_1612\\837280139.py:2: DeprecationWarning: executable_path has been deprecated, please pass in a Service object\n",
      "  driver = webdriver.Chrome(\"chromedriver.exe\")\n"
     ]
    },
    {
     "name": "stdout",
     "output_type": "stream",
     "text": [
      "13\n"
     ]
    },
    {
     "name": "stderr",
     "output_type": "stream",
     "text": [
      "C:\\Users\\bashi\\AppData\\Local\\Temp\\ipykernel_1612\\1789959209.py:4: FutureWarning: The frame.append method is deprecated and will be removed from pandas in a future version. Use pandas.concat instead.\n",
      "  turbo_df = turbo_df.append(data, ignore_index = True)\n",
      "C:\\Users\\bashi\\AppData\\Local\\Temp\\ipykernel_1612\\837280139.py:2: DeprecationWarning: executable_path has been deprecated, please pass in a Service object\n",
      "  driver = webdriver.Chrome(\"chromedriver.exe\")\n"
     ]
    },
    {
     "name": "stdout",
     "output_type": "stream",
     "text": [
      "14\n"
     ]
    },
    {
     "name": "stderr",
     "output_type": "stream",
     "text": [
      "C:\\Users\\bashi\\AppData\\Local\\Temp\\ipykernel_1612\\1789959209.py:4: FutureWarning: The frame.append method is deprecated and will be removed from pandas in a future version. Use pandas.concat instead.\n",
      "  turbo_df = turbo_df.append(data, ignore_index = True)\n",
      "C:\\Users\\bashi\\AppData\\Local\\Temp\\ipykernel_1612\\837280139.py:2: DeprecationWarning: executable_path has been deprecated, please pass in a Service object\n",
      "  driver = webdriver.Chrome(\"chromedriver.exe\")\n"
     ]
    },
    {
     "name": "stdout",
     "output_type": "stream",
     "text": [
      "15\n"
     ]
    },
    {
     "name": "stderr",
     "output_type": "stream",
     "text": [
      "C:\\Users\\bashi\\AppData\\Local\\Temp\\ipykernel_1612\\1789959209.py:4: FutureWarning: The frame.append method is deprecated and will be removed from pandas in a future version. Use pandas.concat instead.\n",
      "  turbo_df = turbo_df.append(data, ignore_index = True)\n",
      "C:\\Users\\bashi\\AppData\\Local\\Temp\\ipykernel_1612\\837280139.py:2: DeprecationWarning: executable_path has been deprecated, please pass in a Service object\n",
      "  driver = webdriver.Chrome(\"chromedriver.exe\")\n"
     ]
    },
    {
     "name": "stdout",
     "output_type": "stream",
     "text": [
      "16\n"
     ]
    },
    {
     "name": "stderr",
     "output_type": "stream",
     "text": [
      "C:\\Users\\bashi\\AppData\\Local\\Temp\\ipykernel_1612\\1789959209.py:4: FutureWarning: The frame.append method is deprecated and will be removed from pandas in a future version. Use pandas.concat instead.\n",
      "  turbo_df = turbo_df.append(data, ignore_index = True)\n",
      "C:\\Users\\bashi\\AppData\\Local\\Temp\\ipykernel_1612\\837280139.py:2: DeprecationWarning: executable_path has been deprecated, please pass in a Service object\n",
      "  driver = webdriver.Chrome(\"chromedriver.exe\")\n"
     ]
    },
    {
     "name": "stdout",
     "output_type": "stream",
     "text": [
      "17\n"
     ]
    },
    {
     "name": "stderr",
     "output_type": "stream",
     "text": [
      "C:\\Users\\bashi\\AppData\\Local\\Temp\\ipykernel_1612\\1789959209.py:4: FutureWarning: The frame.append method is deprecated and will be removed from pandas in a future version. Use pandas.concat instead.\n",
      "  turbo_df = turbo_df.append(data, ignore_index = True)\n",
      "C:\\Users\\bashi\\AppData\\Local\\Temp\\ipykernel_1612\\837280139.py:2: DeprecationWarning: executable_path has been deprecated, please pass in a Service object\n",
      "  driver = webdriver.Chrome(\"chromedriver.exe\")\n"
     ]
    },
    {
     "name": "stdout",
     "output_type": "stream",
     "text": [
      "18\n"
     ]
    },
    {
     "name": "stderr",
     "output_type": "stream",
     "text": [
      "C:\\Users\\bashi\\AppData\\Local\\Temp\\ipykernel_1612\\1789959209.py:4: FutureWarning: The frame.append method is deprecated and will be removed from pandas in a future version. Use pandas.concat instead.\n",
      "  turbo_df = turbo_df.append(data, ignore_index = True)\n",
      "C:\\Users\\bashi\\AppData\\Local\\Temp\\ipykernel_1612\\837280139.py:2: DeprecationWarning: executable_path has been deprecated, please pass in a Service object\n",
      "  driver = webdriver.Chrome(\"chromedriver.exe\")\n"
     ]
    },
    {
     "name": "stdout",
     "output_type": "stream",
     "text": [
      "19\n"
     ]
    },
    {
     "name": "stderr",
     "output_type": "stream",
     "text": [
      "C:\\Users\\bashi\\AppData\\Local\\Temp\\ipykernel_1612\\1789959209.py:4: FutureWarning: The frame.append method is deprecated and will be removed from pandas in a future version. Use pandas.concat instead.\n",
      "  turbo_df = turbo_df.append(data, ignore_index = True)\n",
      "C:\\Users\\bashi\\AppData\\Local\\Temp\\ipykernel_1612\\837280139.py:2: DeprecationWarning: executable_path has been deprecated, please pass in a Service object\n",
      "  driver = webdriver.Chrome(\"chromedriver.exe\")\n"
     ]
    },
    {
     "name": "stdout",
     "output_type": "stream",
     "text": [
      "20\n"
     ]
    },
    {
     "name": "stderr",
     "output_type": "stream",
     "text": [
      "C:\\Users\\bashi\\AppData\\Local\\Temp\\ipykernel_1612\\1789959209.py:4: FutureWarning: The frame.append method is deprecated and will be removed from pandas in a future version. Use pandas.concat instead.\n",
      "  turbo_df = turbo_df.append(data, ignore_index = True)\n",
      "C:\\Users\\bashi\\AppData\\Local\\Temp\\ipykernel_1612\\837280139.py:2: DeprecationWarning: executable_path has been deprecated, please pass in a Service object\n",
      "  driver = webdriver.Chrome(\"chromedriver.exe\")\n"
     ]
    },
    {
     "name": "stdout",
     "output_type": "stream",
     "text": [
      "21\n"
     ]
    },
    {
     "name": "stderr",
     "output_type": "stream",
     "text": [
      "C:\\Users\\bashi\\AppData\\Local\\Temp\\ipykernel_1612\\1789959209.py:4: FutureWarning: The frame.append method is deprecated and will be removed from pandas in a future version. Use pandas.concat instead.\n",
      "  turbo_df = turbo_df.append(data, ignore_index = True)\n",
      "C:\\Users\\bashi\\AppData\\Local\\Temp\\ipykernel_1612\\837280139.py:2: DeprecationWarning: executable_path has been deprecated, please pass in a Service object\n",
      "  driver = webdriver.Chrome(\"chromedriver.exe\")\n"
     ]
    },
    {
     "name": "stdout",
     "output_type": "stream",
     "text": [
      "22\n"
     ]
    },
    {
     "name": "stderr",
     "output_type": "stream",
     "text": [
      "C:\\Users\\bashi\\AppData\\Local\\Temp\\ipykernel_1612\\1789959209.py:4: FutureWarning: The frame.append method is deprecated and will be removed from pandas in a future version. Use pandas.concat instead.\n",
      "  turbo_df = turbo_df.append(data, ignore_index = True)\n",
      "C:\\Users\\bashi\\AppData\\Local\\Temp\\ipykernel_1612\\837280139.py:2: DeprecationWarning: executable_path has been deprecated, please pass in a Service object\n",
      "  driver = webdriver.Chrome(\"chromedriver.exe\")\n"
     ]
    },
    {
     "name": "stdout",
     "output_type": "stream",
     "text": [
      "23\n"
     ]
    },
    {
     "name": "stderr",
     "output_type": "stream",
     "text": [
      "C:\\Users\\bashi\\AppData\\Local\\Temp\\ipykernel_1612\\1789959209.py:4: FutureWarning: The frame.append method is deprecated and will be removed from pandas in a future version. Use pandas.concat instead.\n",
      "  turbo_df = turbo_df.append(data, ignore_index = True)\n",
      "C:\\Users\\bashi\\AppData\\Local\\Temp\\ipykernel_1612\\837280139.py:2: DeprecationWarning: executable_path has been deprecated, please pass in a Service object\n",
      "  driver = webdriver.Chrome(\"chromedriver.exe\")\n"
     ]
    },
    {
     "name": "stdout",
     "output_type": "stream",
     "text": [
      "23\n"
     ]
    },
    {
     "name": "stderr",
     "output_type": "stream",
     "text": [
      "C:\\Users\\bashi\\AppData\\Local\\Temp\\ipykernel_1612\\1789959209.py:4: FutureWarning: The frame.append method is deprecated and will be removed from pandas in a future version. Use pandas.concat instead.\n",
      "  turbo_df = turbo_df.append(data, ignore_index = True)\n",
      "C:\\Users\\bashi\\AppData\\Local\\Temp\\ipykernel_1612\\837280139.py:2: DeprecationWarning: executable_path has been deprecated, please pass in a Service object\n",
      "  driver = webdriver.Chrome(\"chromedriver.exe\")\n"
     ]
    },
    {
     "name": "stdout",
     "output_type": "stream",
     "text": [
      "25\n"
     ]
    },
    {
     "name": "stderr",
     "output_type": "stream",
     "text": [
      "C:\\Users\\bashi\\AppData\\Local\\Temp\\ipykernel_1612\\1789959209.py:4: FutureWarning: The frame.append method is deprecated and will be removed from pandas in a future version. Use pandas.concat instead.\n",
      "  turbo_df = turbo_df.append(data, ignore_index = True)\n",
      "C:\\Users\\bashi\\AppData\\Local\\Temp\\ipykernel_1612\\837280139.py:2: DeprecationWarning: executable_path has been deprecated, please pass in a Service object\n",
      "  driver = webdriver.Chrome(\"chromedriver.exe\")\n"
     ]
    },
    {
     "name": "stdout",
     "output_type": "stream",
     "text": [
      "26\n"
     ]
    },
    {
     "name": "stderr",
     "output_type": "stream",
     "text": [
      "C:\\Users\\bashi\\AppData\\Local\\Temp\\ipykernel_1612\\1789959209.py:4: FutureWarning: The frame.append method is deprecated and will be removed from pandas in a future version. Use pandas.concat instead.\n",
      "  turbo_df = turbo_df.append(data, ignore_index = True)\n",
      "C:\\Users\\bashi\\AppData\\Local\\Temp\\ipykernel_1612\\837280139.py:2: DeprecationWarning: executable_path has been deprecated, please pass in a Service object\n",
      "  driver = webdriver.Chrome(\"chromedriver.exe\")\n"
     ]
    },
    {
     "name": "stdout",
     "output_type": "stream",
     "text": [
      "27\n"
     ]
    },
    {
     "name": "stderr",
     "output_type": "stream",
     "text": [
      "C:\\Users\\bashi\\AppData\\Local\\Temp\\ipykernel_1612\\1789959209.py:4: FutureWarning: The frame.append method is deprecated and will be removed from pandas in a future version. Use pandas.concat instead.\n",
      "  turbo_df = turbo_df.append(data, ignore_index = True)\n",
      "C:\\Users\\bashi\\AppData\\Local\\Temp\\ipykernel_1612\\837280139.py:2: DeprecationWarning: executable_path has been deprecated, please pass in a Service object\n",
      "  driver = webdriver.Chrome(\"chromedriver.exe\")\n"
     ]
    },
    {
     "name": "stdout",
     "output_type": "stream",
     "text": [
      "28\n"
     ]
    },
    {
     "name": "stderr",
     "output_type": "stream",
     "text": [
      "C:\\Users\\bashi\\AppData\\Local\\Temp\\ipykernel_1612\\1789959209.py:4: FutureWarning: The frame.append method is deprecated and will be removed from pandas in a future version. Use pandas.concat instead.\n",
      "  turbo_df = turbo_df.append(data, ignore_index = True)\n",
      "C:\\Users\\bashi\\AppData\\Local\\Temp\\ipykernel_1612\\837280139.py:2: DeprecationWarning: executable_path has been deprecated, please pass in a Service object\n",
      "  driver = webdriver.Chrome(\"chromedriver.exe\")\n"
     ]
    },
    {
     "name": "stdout",
     "output_type": "stream",
     "text": [
      "29\n"
     ]
    },
    {
     "name": "stderr",
     "output_type": "stream",
     "text": [
      "C:\\Users\\bashi\\AppData\\Local\\Temp\\ipykernel_1612\\1789959209.py:4: FutureWarning: The frame.append method is deprecated and will be removed from pandas in a future version. Use pandas.concat instead.\n",
      "  turbo_df = turbo_df.append(data, ignore_index = True)\n",
      "C:\\Users\\bashi\\AppData\\Local\\Temp\\ipykernel_1612\\837280139.py:2: DeprecationWarning: executable_path has been deprecated, please pass in a Service object\n",
      "  driver = webdriver.Chrome(\"chromedriver.exe\")\n"
     ]
    },
    {
     "name": "stdout",
     "output_type": "stream",
     "text": [
      "30\n"
     ]
    },
    {
     "name": "stderr",
     "output_type": "stream",
     "text": [
      "C:\\Users\\bashi\\AppData\\Local\\Temp\\ipykernel_1612\\1789959209.py:4: FutureWarning: The frame.append method is deprecated and will be removed from pandas in a future version. Use pandas.concat instead.\n",
      "  turbo_df = turbo_df.append(data, ignore_index = True)\n",
      "C:\\Users\\bashi\\AppData\\Local\\Temp\\ipykernel_1612\\837280139.py:2: DeprecationWarning: executable_path has been deprecated, please pass in a Service object\n",
      "  driver = webdriver.Chrome(\"chromedriver.exe\")\n"
     ]
    },
    {
     "name": "stdout",
     "output_type": "stream",
     "text": [
      "31\n"
     ]
    },
    {
     "name": "stderr",
     "output_type": "stream",
     "text": [
      "C:\\Users\\bashi\\AppData\\Local\\Temp\\ipykernel_1612\\1789959209.py:4: FutureWarning: The frame.append method is deprecated and will be removed from pandas in a future version. Use pandas.concat instead.\n",
      "  turbo_df = turbo_df.append(data, ignore_index = True)\n",
      "C:\\Users\\bashi\\AppData\\Local\\Temp\\ipykernel_1612\\837280139.py:2: DeprecationWarning: executable_path has been deprecated, please pass in a Service object\n",
      "  driver = webdriver.Chrome(\"chromedriver.exe\")\n"
     ]
    },
    {
     "name": "stdout",
     "output_type": "stream",
     "text": [
      "32\n"
     ]
    },
    {
     "name": "stderr",
     "output_type": "stream",
     "text": [
      "C:\\Users\\bashi\\AppData\\Local\\Temp\\ipykernel_1612\\1789959209.py:4: FutureWarning: The frame.append method is deprecated and will be removed from pandas in a future version. Use pandas.concat instead.\n",
      "  turbo_df = turbo_df.append(data, ignore_index = True)\n",
      "C:\\Users\\bashi\\AppData\\Local\\Temp\\ipykernel_1612\\837280139.py:2: DeprecationWarning: executable_path has been deprecated, please pass in a Service object\n",
      "  driver = webdriver.Chrome(\"chromedriver.exe\")\n"
     ]
    },
    {
     "name": "stdout",
     "output_type": "stream",
     "text": [
      "33\n"
     ]
    },
    {
     "name": "stderr",
     "output_type": "stream",
     "text": [
      "C:\\Users\\bashi\\AppData\\Local\\Temp\\ipykernel_1612\\1789959209.py:4: FutureWarning: The frame.append method is deprecated and will be removed from pandas in a future version. Use pandas.concat instead.\n",
      "  turbo_df = turbo_df.append(data, ignore_index = True)\n",
      "C:\\Users\\bashi\\AppData\\Local\\Temp\\ipykernel_1612\\837280139.py:2: DeprecationWarning: executable_path has been deprecated, please pass in a Service object\n",
      "  driver = webdriver.Chrome(\"chromedriver.exe\")\n"
     ]
    },
    {
     "name": "stdout",
     "output_type": "stream",
     "text": [
      "34\n"
     ]
    },
    {
     "name": "stderr",
     "output_type": "stream",
     "text": [
      "C:\\Users\\bashi\\AppData\\Local\\Temp\\ipykernel_1612\\1789959209.py:4: FutureWarning: The frame.append method is deprecated and will be removed from pandas in a future version. Use pandas.concat instead.\n",
      "  turbo_df = turbo_df.append(data, ignore_index = True)\n",
      "C:\\Users\\bashi\\AppData\\Local\\Temp\\ipykernel_1612\\837280139.py:2: DeprecationWarning: executable_path has been deprecated, please pass in a Service object\n",
      "  driver = webdriver.Chrome(\"chromedriver.exe\")\n"
     ]
    },
    {
     "name": "stdout",
     "output_type": "stream",
     "text": [
      "35\n"
     ]
    },
    {
     "name": "stderr",
     "output_type": "stream",
     "text": [
      "C:\\Users\\bashi\\AppData\\Local\\Temp\\ipykernel_1612\\1789959209.py:4: FutureWarning: The frame.append method is deprecated and will be removed from pandas in a future version. Use pandas.concat instead.\n",
      "  turbo_df = turbo_df.append(data, ignore_index = True)\n",
      "C:\\Users\\bashi\\AppData\\Local\\Temp\\ipykernel_1612\\837280139.py:2: DeprecationWarning: executable_path has been deprecated, please pass in a Service object\n",
      "  driver = webdriver.Chrome(\"chromedriver.exe\")\n"
     ]
    },
    {
     "name": "stdout",
     "output_type": "stream",
     "text": [
      "36\n"
     ]
    },
    {
     "name": "stderr",
     "output_type": "stream",
     "text": [
      "C:\\Users\\bashi\\AppData\\Local\\Temp\\ipykernel_1612\\1789959209.py:4: FutureWarning: The frame.append method is deprecated and will be removed from pandas in a future version. Use pandas.concat instead.\n",
      "  turbo_df = turbo_df.append(data, ignore_index = True)\n",
      "C:\\Users\\bashi\\AppData\\Local\\Temp\\ipykernel_1612\\837280139.py:2: DeprecationWarning: executable_path has been deprecated, please pass in a Service object\n",
      "  driver = webdriver.Chrome(\"chromedriver.exe\")\n"
     ]
    },
    {
     "name": "stdout",
     "output_type": "stream",
     "text": [
      "37\n"
     ]
    },
    {
     "name": "stderr",
     "output_type": "stream",
     "text": [
      "C:\\Users\\bashi\\AppData\\Local\\Temp\\ipykernel_1612\\1789959209.py:4: FutureWarning: The frame.append method is deprecated and will be removed from pandas in a future version. Use pandas.concat instead.\n",
      "  turbo_df = turbo_df.append(data, ignore_index = True)\n",
      "C:\\Users\\bashi\\AppData\\Local\\Temp\\ipykernel_1612\\837280139.py:2: DeprecationWarning: executable_path has been deprecated, please pass in a Service object\n",
      "  driver = webdriver.Chrome(\"chromedriver.exe\")\n"
     ]
    },
    {
     "name": "stdout",
     "output_type": "stream",
     "text": [
      "38\n"
     ]
    },
    {
     "name": "stderr",
     "output_type": "stream",
     "text": [
      "C:\\Users\\bashi\\AppData\\Local\\Temp\\ipykernel_1612\\1789959209.py:4: FutureWarning: The frame.append method is deprecated and will be removed from pandas in a future version. Use pandas.concat instead.\n",
      "  turbo_df = turbo_df.append(data, ignore_index = True)\n",
      "C:\\Users\\bashi\\AppData\\Local\\Temp\\ipykernel_1612\\837280139.py:2: DeprecationWarning: executable_path has been deprecated, please pass in a Service object\n",
      "  driver = webdriver.Chrome(\"chromedriver.exe\")\n"
     ]
    },
    {
     "name": "stdout",
     "output_type": "stream",
     "text": [
      "39\n"
     ]
    },
    {
     "name": "stderr",
     "output_type": "stream",
     "text": [
      "C:\\Users\\bashi\\AppData\\Local\\Temp\\ipykernel_1612\\1789959209.py:4: FutureWarning: The frame.append method is deprecated and will be removed from pandas in a future version. Use pandas.concat instead.\n",
      "  turbo_df = turbo_df.append(data, ignore_index = True)\n",
      "C:\\Users\\bashi\\AppData\\Local\\Temp\\ipykernel_1612\\837280139.py:2: DeprecationWarning: executable_path has been deprecated, please pass in a Service object\n",
      "  driver = webdriver.Chrome(\"chromedriver.exe\")\n"
     ]
    },
    {
     "name": "stdout",
     "output_type": "stream",
     "text": [
      "40\n"
     ]
    },
    {
     "name": "stderr",
     "output_type": "stream",
     "text": [
      "C:\\Users\\bashi\\AppData\\Local\\Temp\\ipykernel_1612\\1789959209.py:4: FutureWarning: The frame.append method is deprecated and will be removed from pandas in a future version. Use pandas.concat instead.\n",
      "  turbo_df = turbo_df.append(data, ignore_index = True)\n",
      "C:\\Users\\bashi\\AppData\\Local\\Temp\\ipykernel_1612\\837280139.py:2: DeprecationWarning: executable_path has been deprecated, please pass in a Service object\n",
      "  driver = webdriver.Chrome(\"chromedriver.exe\")\n"
     ]
    },
    {
     "name": "stdout",
     "output_type": "stream",
     "text": [
      "41\n"
     ]
    },
    {
     "name": "stderr",
     "output_type": "stream",
     "text": [
      "C:\\Users\\bashi\\AppData\\Local\\Temp\\ipykernel_1612\\1789959209.py:4: FutureWarning: The frame.append method is deprecated and will be removed from pandas in a future version. Use pandas.concat instead.\n",
      "  turbo_df = turbo_df.append(data, ignore_index = True)\n",
      "C:\\Users\\bashi\\AppData\\Local\\Temp\\ipykernel_1612\\837280139.py:2: DeprecationWarning: executable_path has been deprecated, please pass in a Service object\n",
      "  driver = webdriver.Chrome(\"chromedriver.exe\")\n"
     ]
    },
    {
     "name": "stdout",
     "output_type": "stream",
     "text": [
      "42\n"
     ]
    },
    {
     "name": "stderr",
     "output_type": "stream",
     "text": [
      "C:\\Users\\bashi\\AppData\\Local\\Temp\\ipykernel_1612\\1789959209.py:4: FutureWarning: The frame.append method is deprecated and will be removed from pandas in a future version. Use pandas.concat instead.\n",
      "  turbo_df = turbo_df.append(data, ignore_index = True)\n",
      "C:\\Users\\bashi\\AppData\\Local\\Temp\\ipykernel_1612\\837280139.py:2: DeprecationWarning: executable_path has been deprecated, please pass in a Service object\n",
      "  driver = webdriver.Chrome(\"chromedriver.exe\")\n"
     ]
    },
    {
     "name": "stdout",
     "output_type": "stream",
     "text": [
      "43\n"
     ]
    },
    {
     "name": "stderr",
     "output_type": "stream",
     "text": [
      "C:\\Users\\bashi\\AppData\\Local\\Temp\\ipykernel_1612\\1789959209.py:4: FutureWarning: The frame.append method is deprecated and will be removed from pandas in a future version. Use pandas.concat instead.\n",
      "  turbo_df = turbo_df.append(data, ignore_index = True)\n",
      "C:\\Users\\bashi\\AppData\\Local\\Temp\\ipykernel_1612\\837280139.py:2: DeprecationWarning: executable_path has been deprecated, please pass in a Service object\n",
      "  driver = webdriver.Chrome(\"chromedriver.exe\")\n"
     ]
    },
    {
     "name": "stdout",
     "output_type": "stream",
     "text": [
      "44\n"
     ]
    },
    {
     "name": "stderr",
     "output_type": "stream",
     "text": [
      "C:\\Users\\bashi\\AppData\\Local\\Temp\\ipykernel_1612\\1789959209.py:4: FutureWarning: The frame.append method is deprecated and will be removed from pandas in a future version. Use pandas.concat instead.\n",
      "  turbo_df = turbo_df.append(data, ignore_index = True)\n",
      "C:\\Users\\bashi\\AppData\\Local\\Temp\\ipykernel_1612\\837280139.py:2: DeprecationWarning: executable_path has been deprecated, please pass in a Service object\n",
      "  driver = webdriver.Chrome(\"chromedriver.exe\")\n"
     ]
    },
    {
     "name": "stdout",
     "output_type": "stream",
     "text": [
      "45\n"
     ]
    },
    {
     "name": "stderr",
     "output_type": "stream",
     "text": [
      "C:\\Users\\bashi\\AppData\\Local\\Temp\\ipykernel_1612\\1789959209.py:4: FutureWarning: The frame.append method is deprecated and will be removed from pandas in a future version. Use pandas.concat instead.\n",
      "  turbo_df = turbo_df.append(data, ignore_index = True)\n",
      "C:\\Users\\bashi\\AppData\\Local\\Temp\\ipykernel_1612\\837280139.py:2: DeprecationWarning: executable_path has been deprecated, please pass in a Service object\n",
      "  driver = webdriver.Chrome(\"chromedriver.exe\")\n"
     ]
    },
    {
     "name": "stdout",
     "output_type": "stream",
     "text": [
      "46\n"
     ]
    },
    {
     "name": "stderr",
     "output_type": "stream",
     "text": [
      "C:\\Users\\bashi\\AppData\\Local\\Temp\\ipykernel_1612\\1789959209.py:4: FutureWarning: The frame.append method is deprecated and will be removed from pandas in a future version. Use pandas.concat instead.\n",
      "  turbo_df = turbo_df.append(data, ignore_index = True)\n",
      "C:\\Users\\bashi\\AppData\\Local\\Temp\\ipykernel_1612\\837280139.py:2: DeprecationWarning: executable_path has been deprecated, please pass in a Service object\n",
      "  driver = webdriver.Chrome(\"chromedriver.exe\")\n"
     ]
    },
    {
     "name": "stdout",
     "output_type": "stream",
     "text": [
      "47\n"
     ]
    },
    {
     "name": "stderr",
     "output_type": "stream",
     "text": [
      "C:\\Users\\bashi\\AppData\\Local\\Temp\\ipykernel_1612\\1789959209.py:4: FutureWarning: The frame.append method is deprecated and will be removed from pandas in a future version. Use pandas.concat instead.\n",
      "  turbo_df = turbo_df.append(data, ignore_index = True)\n",
      "C:\\Users\\bashi\\AppData\\Local\\Temp\\ipykernel_1612\\837280139.py:2: DeprecationWarning: executable_path has been deprecated, please pass in a Service object\n",
      "  driver = webdriver.Chrome(\"chromedriver.exe\")\n"
     ]
    },
    {
     "name": "stdout",
     "output_type": "stream",
     "text": [
      "48\n"
     ]
    },
    {
     "name": "stderr",
     "output_type": "stream",
     "text": [
      "C:\\Users\\bashi\\AppData\\Local\\Temp\\ipykernel_1612\\1789959209.py:4: FutureWarning: The frame.append method is deprecated and will be removed from pandas in a future version. Use pandas.concat instead.\n",
      "  turbo_df = turbo_df.append(data, ignore_index = True)\n",
      "C:\\Users\\bashi\\AppData\\Local\\Temp\\ipykernel_1612\\837280139.py:2: DeprecationWarning: executable_path has been deprecated, please pass in a Service object\n",
      "  driver = webdriver.Chrome(\"chromedriver.exe\")\n"
     ]
    },
    {
     "name": "stdout",
     "output_type": "stream",
     "text": [
      "49\n"
     ]
    },
    {
     "name": "stderr",
     "output_type": "stream",
     "text": [
      "C:\\Users\\bashi\\AppData\\Local\\Temp\\ipykernel_1612\\1789959209.py:4: FutureWarning: The frame.append method is deprecated and will be removed from pandas in a future version. Use pandas.concat instead.\n",
      "  turbo_df = turbo_df.append(data, ignore_index = True)\n",
      "C:\\Users\\bashi\\AppData\\Local\\Temp\\ipykernel_1612\\837280139.py:2: DeprecationWarning: executable_path has been deprecated, please pass in a Service object\n",
      "  driver = webdriver.Chrome(\"chromedriver.exe\")\n"
     ]
    },
    {
     "name": "stdout",
     "output_type": "stream",
     "text": [
      "50\n"
     ]
    },
    {
     "name": "stderr",
     "output_type": "stream",
     "text": [
      "C:\\Users\\bashi\\AppData\\Local\\Temp\\ipykernel_1612\\1789959209.py:4: FutureWarning: The frame.append method is deprecated and will be removed from pandas in a future version. Use pandas.concat instead.\n",
      "  turbo_df = turbo_df.append(data, ignore_index = True)\n",
      "C:\\Users\\bashi\\AppData\\Local\\Temp\\ipykernel_1612\\837280139.py:2: DeprecationWarning: executable_path has been deprecated, please pass in a Service object\n",
      "  driver = webdriver.Chrome(\"chromedriver.exe\")\n"
     ]
    },
    {
     "name": "stdout",
     "output_type": "stream",
     "text": [
      "51\n"
     ]
    },
    {
     "name": "stderr",
     "output_type": "stream",
     "text": [
      "C:\\Users\\bashi\\AppData\\Local\\Temp\\ipykernel_1612\\1789959209.py:4: FutureWarning: The frame.append method is deprecated and will be removed from pandas in a future version. Use pandas.concat instead.\n",
      "  turbo_df = turbo_df.append(data, ignore_index = True)\n",
      "C:\\Users\\bashi\\AppData\\Local\\Temp\\ipykernel_1612\\837280139.py:2: DeprecationWarning: executable_path has been deprecated, please pass in a Service object\n",
      "  driver = webdriver.Chrome(\"chromedriver.exe\")\n"
     ]
    },
    {
     "name": "stdout",
     "output_type": "stream",
     "text": [
      "52\n"
     ]
    },
    {
     "name": "stderr",
     "output_type": "stream",
     "text": [
      "C:\\Users\\bashi\\AppData\\Local\\Temp\\ipykernel_1612\\1789959209.py:4: FutureWarning: The frame.append method is deprecated and will be removed from pandas in a future version. Use pandas.concat instead.\n",
      "  turbo_df = turbo_df.append(data, ignore_index = True)\n",
      "C:\\Users\\bashi\\AppData\\Local\\Temp\\ipykernel_1612\\837280139.py:2: DeprecationWarning: executable_path has been deprecated, please pass in a Service object\n",
      "  driver = webdriver.Chrome(\"chromedriver.exe\")\n"
     ]
    },
    {
     "name": "stdout",
     "output_type": "stream",
     "text": [
      "53\n"
     ]
    },
    {
     "name": "stderr",
     "output_type": "stream",
     "text": [
      "C:\\Users\\bashi\\AppData\\Local\\Temp\\ipykernel_1612\\1789959209.py:4: FutureWarning: The frame.append method is deprecated and will be removed from pandas in a future version. Use pandas.concat instead.\n",
      "  turbo_df = turbo_df.append(data, ignore_index = True)\n",
      "C:\\Users\\bashi\\AppData\\Local\\Temp\\ipykernel_1612\\837280139.py:2: DeprecationWarning: executable_path has been deprecated, please pass in a Service object\n",
      "  driver = webdriver.Chrome(\"chromedriver.exe\")\n"
     ]
    },
    {
     "name": "stdout",
     "output_type": "stream",
     "text": [
      "54\n"
     ]
    },
    {
     "name": "stderr",
     "output_type": "stream",
     "text": [
      "C:\\Users\\bashi\\AppData\\Local\\Temp\\ipykernel_1612\\1789959209.py:4: FutureWarning: The frame.append method is deprecated and will be removed from pandas in a future version. Use pandas.concat instead.\n",
      "  turbo_df = turbo_df.append(data, ignore_index = True)\n",
      "C:\\Users\\bashi\\AppData\\Local\\Temp\\ipykernel_1612\\837280139.py:2: DeprecationWarning: executable_path has been deprecated, please pass in a Service object\n",
      "  driver = webdriver.Chrome(\"chromedriver.exe\")\n"
     ]
    },
    {
     "name": "stdout",
     "output_type": "stream",
     "text": [
      "55\n"
     ]
    },
    {
     "name": "stderr",
     "output_type": "stream",
     "text": [
      "C:\\Users\\bashi\\AppData\\Local\\Temp\\ipykernel_1612\\1789959209.py:4: FutureWarning: The frame.append method is deprecated and will be removed from pandas in a future version. Use pandas.concat instead.\n",
      "  turbo_df = turbo_df.append(data, ignore_index = True)\n",
      "C:\\Users\\bashi\\AppData\\Local\\Temp\\ipykernel_1612\\837280139.py:2: DeprecationWarning: executable_path has been deprecated, please pass in a Service object\n",
      "  driver = webdriver.Chrome(\"chromedriver.exe\")\n"
     ]
    },
    {
     "name": "stdout",
     "output_type": "stream",
     "text": [
      "56\n"
     ]
    },
    {
     "name": "stderr",
     "output_type": "stream",
     "text": [
      "C:\\Users\\bashi\\AppData\\Local\\Temp\\ipykernel_1612\\1789959209.py:4: FutureWarning: The frame.append method is deprecated and will be removed from pandas in a future version. Use pandas.concat instead.\n",
      "  turbo_df = turbo_df.append(data, ignore_index = True)\n",
      "C:\\Users\\bashi\\AppData\\Local\\Temp\\ipykernel_1612\\837280139.py:2: DeprecationWarning: executable_path has been deprecated, please pass in a Service object\n",
      "  driver = webdriver.Chrome(\"chromedriver.exe\")\n"
     ]
    },
    {
     "name": "stdout",
     "output_type": "stream",
     "text": [
      "57\n"
     ]
    },
    {
     "name": "stderr",
     "output_type": "stream",
     "text": [
      "C:\\Users\\bashi\\AppData\\Local\\Temp\\ipykernel_1612\\1789959209.py:4: FutureWarning: The frame.append method is deprecated and will be removed from pandas in a future version. Use pandas.concat instead.\n",
      "  turbo_df = turbo_df.append(data, ignore_index = True)\n",
      "C:\\Users\\bashi\\AppData\\Local\\Temp\\ipykernel_1612\\837280139.py:2: DeprecationWarning: executable_path has been deprecated, please pass in a Service object\n",
      "  driver = webdriver.Chrome(\"chromedriver.exe\")\n"
     ]
    },
    {
     "name": "stdout",
     "output_type": "stream",
     "text": [
      "58\n"
     ]
    },
    {
     "name": "stderr",
     "output_type": "stream",
     "text": [
      "C:\\Users\\bashi\\AppData\\Local\\Temp\\ipykernel_1612\\1789959209.py:4: FutureWarning: The frame.append method is deprecated and will be removed from pandas in a future version. Use pandas.concat instead.\n",
      "  turbo_df = turbo_df.append(data, ignore_index = True)\n",
      "C:\\Users\\bashi\\AppData\\Local\\Temp\\ipykernel_1612\\837280139.py:2: DeprecationWarning: executable_path has been deprecated, please pass in a Service object\n",
      "  driver = webdriver.Chrome(\"chromedriver.exe\")\n"
     ]
    },
    {
     "name": "stdout",
     "output_type": "stream",
     "text": [
      "59\n"
     ]
    },
    {
     "name": "stderr",
     "output_type": "stream",
     "text": [
      "C:\\Users\\bashi\\AppData\\Local\\Temp\\ipykernel_1612\\1789959209.py:4: FutureWarning: The frame.append method is deprecated and will be removed from pandas in a future version. Use pandas.concat instead.\n",
      "  turbo_df = turbo_df.append(data, ignore_index = True)\n",
      "C:\\Users\\bashi\\AppData\\Local\\Temp\\ipykernel_1612\\837280139.py:2: DeprecationWarning: executable_path has been deprecated, please pass in a Service object\n",
      "  driver = webdriver.Chrome(\"chromedriver.exe\")\n"
     ]
    },
    {
     "name": "stdout",
     "output_type": "stream",
     "text": [
      "60\n"
     ]
    },
    {
     "name": "stderr",
     "output_type": "stream",
     "text": [
      "C:\\Users\\bashi\\AppData\\Local\\Temp\\ipykernel_1612\\1789959209.py:4: FutureWarning: The frame.append method is deprecated and will be removed from pandas in a future version. Use pandas.concat instead.\n",
      "  turbo_df = turbo_df.append(data, ignore_index = True)\n",
      "C:\\Users\\bashi\\AppData\\Local\\Temp\\ipykernel_1612\\837280139.py:2: DeprecationWarning: executable_path has been deprecated, please pass in a Service object\n",
      "  driver = webdriver.Chrome(\"chromedriver.exe\")\n"
     ]
    },
    {
     "name": "stdout",
     "output_type": "stream",
     "text": [
      "61\n"
     ]
    },
    {
     "name": "stderr",
     "output_type": "stream",
     "text": [
      "C:\\Users\\bashi\\AppData\\Local\\Temp\\ipykernel_1612\\1789959209.py:4: FutureWarning: The frame.append method is deprecated and will be removed from pandas in a future version. Use pandas.concat instead.\n",
      "  turbo_df = turbo_df.append(data, ignore_index = True)\n",
      "C:\\Users\\bashi\\AppData\\Local\\Temp\\ipykernel_1612\\837280139.py:2: DeprecationWarning: executable_path has been deprecated, please pass in a Service object\n",
      "  driver = webdriver.Chrome(\"chromedriver.exe\")\n"
     ]
    },
    {
     "name": "stdout",
     "output_type": "stream",
     "text": [
      "62\n"
     ]
    },
    {
     "name": "stderr",
     "output_type": "stream",
     "text": [
      "C:\\Users\\bashi\\AppData\\Local\\Temp\\ipykernel_1612\\1789959209.py:4: FutureWarning: The frame.append method is deprecated and will be removed from pandas in a future version. Use pandas.concat instead.\n",
      "  turbo_df = turbo_df.append(data, ignore_index = True)\n",
      "C:\\Users\\bashi\\AppData\\Local\\Temp\\ipykernel_1612\\837280139.py:2: DeprecationWarning: executable_path has been deprecated, please pass in a Service object\n",
      "  driver = webdriver.Chrome(\"chromedriver.exe\")\n"
     ]
    },
    {
     "name": "stdout",
     "output_type": "stream",
     "text": [
      "63\n"
     ]
    },
    {
     "name": "stderr",
     "output_type": "stream",
     "text": [
      "C:\\Users\\bashi\\AppData\\Local\\Temp\\ipykernel_1612\\1789959209.py:4: FutureWarning: The frame.append method is deprecated and will be removed from pandas in a future version. Use pandas.concat instead.\n",
      "  turbo_df = turbo_df.append(data, ignore_index = True)\n",
      "C:\\Users\\bashi\\AppData\\Local\\Temp\\ipykernel_1612\\837280139.py:2: DeprecationWarning: executable_path has been deprecated, please pass in a Service object\n",
      "  driver = webdriver.Chrome(\"chromedriver.exe\")\n"
     ]
    },
    {
     "name": "stdout",
     "output_type": "stream",
     "text": [
      "64\n"
     ]
    },
    {
     "name": "stderr",
     "output_type": "stream",
     "text": [
      "C:\\Users\\bashi\\AppData\\Local\\Temp\\ipykernel_1612\\1789959209.py:4: FutureWarning: The frame.append method is deprecated and will be removed from pandas in a future version. Use pandas.concat instead.\n",
      "  turbo_df = turbo_df.append(data, ignore_index = True)\n",
      "C:\\Users\\bashi\\AppData\\Local\\Temp\\ipykernel_1612\\837280139.py:2: DeprecationWarning: executable_path has been deprecated, please pass in a Service object\n",
      "  driver = webdriver.Chrome(\"chromedriver.exe\")\n"
     ]
    },
    {
     "name": "stdout",
     "output_type": "stream",
     "text": [
      "65\n"
     ]
    },
    {
     "name": "stderr",
     "output_type": "stream",
     "text": [
      "C:\\Users\\bashi\\AppData\\Local\\Temp\\ipykernel_1612\\1789959209.py:4: FutureWarning: The frame.append method is deprecated and will be removed from pandas in a future version. Use pandas.concat instead.\n",
      "  turbo_df = turbo_df.append(data, ignore_index = True)\n",
      "C:\\Users\\bashi\\AppData\\Local\\Temp\\ipykernel_1612\\837280139.py:2: DeprecationWarning: executable_path has been deprecated, please pass in a Service object\n",
      "  driver = webdriver.Chrome(\"chromedriver.exe\")\n"
     ]
    },
    {
     "name": "stdout",
     "output_type": "stream",
     "text": [
      "66\n"
     ]
    },
    {
     "name": "stderr",
     "output_type": "stream",
     "text": [
      "C:\\Users\\bashi\\AppData\\Local\\Temp\\ipykernel_1612\\1789959209.py:4: FutureWarning: The frame.append method is deprecated and will be removed from pandas in a future version. Use pandas.concat instead.\n",
      "  turbo_df = turbo_df.append(data, ignore_index = True)\n",
      "C:\\Users\\bashi\\AppData\\Local\\Temp\\ipykernel_1612\\837280139.py:2: DeprecationWarning: executable_path has been deprecated, please pass in a Service object\n",
      "  driver = webdriver.Chrome(\"chromedriver.exe\")\n"
     ]
    },
    {
     "name": "stdout",
     "output_type": "stream",
     "text": [
      "67\n"
     ]
    },
    {
     "name": "stderr",
     "output_type": "stream",
     "text": [
      "C:\\Users\\bashi\\AppData\\Local\\Temp\\ipykernel_1612\\1789959209.py:4: FutureWarning: The frame.append method is deprecated and will be removed from pandas in a future version. Use pandas.concat instead.\n",
      "  turbo_df = turbo_df.append(data, ignore_index = True)\n",
      "C:\\Users\\bashi\\AppData\\Local\\Temp\\ipykernel_1612\\837280139.py:2: DeprecationWarning: executable_path has been deprecated, please pass in a Service object\n",
      "  driver = webdriver.Chrome(\"chromedriver.exe\")\n"
     ]
    },
    {
     "name": "stdout",
     "output_type": "stream",
     "text": [
      "68\n"
     ]
    },
    {
     "name": "stderr",
     "output_type": "stream",
     "text": [
      "C:\\Users\\bashi\\AppData\\Local\\Temp\\ipykernel_1612\\1789959209.py:4: FutureWarning: The frame.append method is deprecated and will be removed from pandas in a future version. Use pandas.concat instead.\n",
      "  turbo_df = turbo_df.append(data, ignore_index = True)\n",
      "C:\\Users\\bashi\\AppData\\Local\\Temp\\ipykernel_1612\\837280139.py:2: DeprecationWarning: executable_path has been deprecated, please pass in a Service object\n",
      "  driver = webdriver.Chrome(\"chromedriver.exe\")\n"
     ]
    },
    {
     "name": "stdout",
     "output_type": "stream",
     "text": [
      "69\n"
     ]
    },
    {
     "name": "stderr",
     "output_type": "stream",
     "text": [
      "C:\\Users\\bashi\\AppData\\Local\\Temp\\ipykernel_1612\\1789959209.py:4: FutureWarning: The frame.append method is deprecated and will be removed from pandas in a future version. Use pandas.concat instead.\n",
      "  turbo_df = turbo_df.append(data, ignore_index = True)\n",
      "C:\\Users\\bashi\\AppData\\Local\\Temp\\ipykernel_1612\\837280139.py:2: DeprecationWarning: executable_path has been deprecated, please pass in a Service object\n",
      "  driver = webdriver.Chrome(\"chromedriver.exe\")\n"
     ]
    },
    {
     "name": "stdout",
     "output_type": "stream",
     "text": [
      "70\n"
     ]
    },
    {
     "name": "stderr",
     "output_type": "stream",
     "text": [
      "C:\\Users\\bashi\\AppData\\Local\\Temp\\ipykernel_1612\\1789959209.py:4: FutureWarning: The frame.append method is deprecated and will be removed from pandas in a future version. Use pandas.concat instead.\n",
      "  turbo_df = turbo_df.append(data, ignore_index = True)\n",
      "C:\\Users\\bashi\\AppData\\Local\\Temp\\ipykernel_1612\\837280139.py:2: DeprecationWarning: executable_path has been deprecated, please pass in a Service object\n",
      "  driver = webdriver.Chrome(\"chromedriver.exe\")\n"
     ]
    },
    {
     "name": "stdout",
     "output_type": "stream",
     "text": [
      "71\n"
     ]
    },
    {
     "name": "stderr",
     "output_type": "stream",
     "text": [
      "C:\\Users\\bashi\\AppData\\Local\\Temp\\ipykernel_1612\\1789959209.py:4: FutureWarning: The frame.append method is deprecated and will be removed from pandas in a future version. Use pandas.concat instead.\n",
      "  turbo_df = turbo_df.append(data, ignore_index = True)\n",
      "C:\\Users\\bashi\\AppData\\Local\\Temp\\ipykernel_1612\\837280139.py:2: DeprecationWarning: executable_path has been deprecated, please pass in a Service object\n",
      "  driver = webdriver.Chrome(\"chromedriver.exe\")\n"
     ]
    },
    {
     "name": "stdout",
     "output_type": "stream",
     "text": [
      "71\n"
     ]
    },
    {
     "name": "stderr",
     "output_type": "stream",
     "text": [
      "C:\\Users\\bashi\\AppData\\Local\\Temp\\ipykernel_1612\\1789959209.py:4: FutureWarning: The frame.append method is deprecated and will be removed from pandas in a future version. Use pandas.concat instead.\n",
      "  turbo_df = turbo_df.append(data, ignore_index = True)\n",
      "C:\\Users\\bashi\\AppData\\Local\\Temp\\ipykernel_1612\\837280139.py:2: DeprecationWarning: executable_path has been deprecated, please pass in a Service object\n",
      "  driver = webdriver.Chrome(\"chromedriver.exe\")\n"
     ]
    },
    {
     "name": "stdout",
     "output_type": "stream",
     "text": [
      "73\n"
     ]
    },
    {
     "name": "stderr",
     "output_type": "stream",
     "text": [
      "C:\\Users\\bashi\\AppData\\Local\\Temp\\ipykernel_1612\\1789959209.py:4: FutureWarning: The frame.append method is deprecated and will be removed from pandas in a future version. Use pandas.concat instead.\n",
      "  turbo_df = turbo_df.append(data, ignore_index = True)\n",
      "C:\\Users\\bashi\\AppData\\Local\\Temp\\ipykernel_1612\\837280139.py:2: DeprecationWarning: executable_path has been deprecated, please pass in a Service object\n",
      "  driver = webdriver.Chrome(\"chromedriver.exe\")\n"
     ]
    },
    {
     "name": "stdout",
     "output_type": "stream",
     "text": [
      "74\n"
     ]
    },
    {
     "name": "stderr",
     "output_type": "stream",
     "text": [
      "C:\\Users\\bashi\\AppData\\Local\\Temp\\ipykernel_1612\\1789959209.py:4: FutureWarning: The frame.append method is deprecated and will be removed from pandas in a future version. Use pandas.concat instead.\n",
      "  turbo_df = turbo_df.append(data, ignore_index = True)\n",
      "C:\\Users\\bashi\\AppData\\Local\\Temp\\ipykernel_1612\\837280139.py:2: DeprecationWarning: executable_path has been deprecated, please pass in a Service object\n",
      "  driver = webdriver.Chrome(\"chromedriver.exe\")\n"
     ]
    },
    {
     "name": "stdout",
     "output_type": "stream",
     "text": [
      "75\n"
     ]
    },
    {
     "name": "stderr",
     "output_type": "stream",
     "text": [
      "C:\\Users\\bashi\\AppData\\Local\\Temp\\ipykernel_1612\\1789959209.py:4: FutureWarning: The frame.append method is deprecated and will be removed from pandas in a future version. Use pandas.concat instead.\n",
      "  turbo_df = turbo_df.append(data, ignore_index = True)\n",
      "C:\\Users\\bashi\\AppData\\Local\\Temp\\ipykernel_1612\\837280139.py:2: DeprecationWarning: executable_path has been deprecated, please pass in a Service object\n",
      "  driver = webdriver.Chrome(\"chromedriver.exe\")\n"
     ]
    },
    {
     "name": "stdout",
     "output_type": "stream",
     "text": [
      "76\n"
     ]
    },
    {
     "name": "stderr",
     "output_type": "stream",
     "text": [
      "C:\\Users\\bashi\\AppData\\Local\\Temp\\ipykernel_1612\\1789959209.py:4: FutureWarning: The frame.append method is deprecated and will be removed from pandas in a future version. Use pandas.concat instead.\n",
      "  turbo_df = turbo_df.append(data, ignore_index = True)\n",
      "C:\\Users\\bashi\\AppData\\Local\\Temp\\ipykernel_1612\\837280139.py:2: DeprecationWarning: executable_path has been deprecated, please pass in a Service object\n",
      "  driver = webdriver.Chrome(\"chromedriver.exe\")\n"
     ]
    },
    {
     "name": "stdout",
     "output_type": "stream",
     "text": [
      "77\n"
     ]
    },
    {
     "name": "stderr",
     "output_type": "stream",
     "text": [
      "C:\\Users\\bashi\\AppData\\Local\\Temp\\ipykernel_1612\\1789959209.py:4: FutureWarning: The frame.append method is deprecated and will be removed from pandas in a future version. Use pandas.concat instead.\n",
      "  turbo_df = turbo_df.append(data, ignore_index = True)\n",
      "C:\\Users\\bashi\\AppData\\Local\\Temp\\ipykernel_1612\\837280139.py:2: DeprecationWarning: executable_path has been deprecated, please pass in a Service object\n",
      "  driver = webdriver.Chrome(\"chromedriver.exe\")\n"
     ]
    },
    {
     "name": "stdout",
     "output_type": "stream",
     "text": [
      "78\n"
     ]
    },
    {
     "name": "stderr",
     "output_type": "stream",
     "text": [
      "C:\\Users\\bashi\\AppData\\Local\\Temp\\ipykernel_1612\\1789959209.py:4: FutureWarning: The frame.append method is deprecated and will be removed from pandas in a future version. Use pandas.concat instead.\n",
      "  turbo_df = turbo_df.append(data, ignore_index = True)\n",
      "C:\\Users\\bashi\\AppData\\Local\\Temp\\ipykernel_1612\\837280139.py:2: DeprecationWarning: executable_path has been deprecated, please pass in a Service object\n",
      "  driver = webdriver.Chrome(\"chromedriver.exe\")\n"
     ]
    },
    {
     "name": "stdout",
     "output_type": "stream",
     "text": [
      "79\n"
     ]
    },
    {
     "name": "stderr",
     "output_type": "stream",
     "text": [
      "C:\\Users\\bashi\\AppData\\Local\\Temp\\ipykernel_1612\\1789959209.py:4: FutureWarning: The frame.append method is deprecated and will be removed from pandas in a future version. Use pandas.concat instead.\n",
      "  turbo_df = turbo_df.append(data, ignore_index = True)\n",
      "C:\\Users\\bashi\\AppData\\Local\\Temp\\ipykernel_1612\\837280139.py:2: DeprecationWarning: executable_path has been deprecated, please pass in a Service object\n",
      "  driver = webdriver.Chrome(\"chromedriver.exe\")\n"
     ]
    },
    {
     "name": "stdout",
     "output_type": "stream",
     "text": [
      "80\n"
     ]
    },
    {
     "name": "stderr",
     "output_type": "stream",
     "text": [
      "C:\\Users\\bashi\\AppData\\Local\\Temp\\ipykernel_1612\\1789959209.py:4: FutureWarning: The frame.append method is deprecated and will be removed from pandas in a future version. Use pandas.concat instead.\n",
      "  turbo_df = turbo_df.append(data, ignore_index = True)\n",
      "C:\\Users\\bashi\\AppData\\Local\\Temp\\ipykernel_1612\\837280139.py:2: DeprecationWarning: executable_path has been deprecated, please pass in a Service object\n",
      "  driver = webdriver.Chrome(\"chromedriver.exe\")\n"
     ]
    },
    {
     "name": "stdout",
     "output_type": "stream",
     "text": [
      "81\n"
     ]
    },
    {
     "name": "stderr",
     "output_type": "stream",
     "text": [
      "C:\\Users\\bashi\\AppData\\Local\\Temp\\ipykernel_1612\\1789959209.py:4: FutureWarning: The frame.append method is deprecated and will be removed from pandas in a future version. Use pandas.concat instead.\n",
      "  turbo_df = turbo_df.append(data, ignore_index = True)\n",
      "C:\\Users\\bashi\\AppData\\Local\\Temp\\ipykernel_1612\\837280139.py:2: DeprecationWarning: executable_path has been deprecated, please pass in a Service object\n",
      "  driver = webdriver.Chrome(\"chromedriver.exe\")\n"
     ]
    },
    {
     "name": "stdout",
     "output_type": "stream",
     "text": [
      "82\n"
     ]
    },
    {
     "name": "stderr",
     "output_type": "stream",
     "text": [
      "C:\\Users\\bashi\\AppData\\Local\\Temp\\ipykernel_1612\\1789959209.py:4: FutureWarning: The frame.append method is deprecated and will be removed from pandas in a future version. Use pandas.concat instead.\n",
      "  turbo_df = turbo_df.append(data, ignore_index = True)\n",
      "C:\\Users\\bashi\\AppData\\Local\\Temp\\ipykernel_1612\\837280139.py:2: DeprecationWarning: executable_path has been deprecated, please pass in a Service object\n",
      "  driver = webdriver.Chrome(\"chromedriver.exe\")\n"
     ]
    },
    {
     "name": "stdout",
     "output_type": "stream",
     "text": [
      "83\n"
     ]
    },
    {
     "name": "stderr",
     "output_type": "stream",
     "text": [
      "C:\\Users\\bashi\\AppData\\Local\\Temp\\ipykernel_1612\\1789959209.py:4: FutureWarning: The frame.append method is deprecated and will be removed from pandas in a future version. Use pandas.concat instead.\n",
      "  turbo_df = turbo_df.append(data, ignore_index = True)\n",
      "C:\\Users\\bashi\\AppData\\Local\\Temp\\ipykernel_1612\\837280139.py:2: DeprecationWarning: executable_path has been deprecated, please pass in a Service object\n",
      "  driver = webdriver.Chrome(\"chromedriver.exe\")\n"
     ]
    },
    {
     "name": "stdout",
     "output_type": "stream",
     "text": [
      "84\n"
     ]
    },
    {
     "name": "stderr",
     "output_type": "stream",
     "text": [
      "C:\\Users\\bashi\\AppData\\Local\\Temp\\ipykernel_1612\\1789959209.py:4: FutureWarning: The frame.append method is deprecated and will be removed from pandas in a future version. Use pandas.concat instead.\n",
      "  turbo_df = turbo_df.append(data, ignore_index = True)\n",
      "C:\\Users\\bashi\\AppData\\Local\\Temp\\ipykernel_1612\\837280139.py:2: DeprecationWarning: executable_path has been deprecated, please pass in a Service object\n",
      "  driver = webdriver.Chrome(\"chromedriver.exe\")\n"
     ]
    },
    {
     "name": "stdout",
     "output_type": "stream",
     "text": [
      "85\n"
     ]
    },
    {
     "name": "stderr",
     "output_type": "stream",
     "text": [
      "C:\\Users\\bashi\\AppData\\Local\\Temp\\ipykernel_1612\\1789959209.py:4: FutureWarning: The frame.append method is deprecated and will be removed from pandas in a future version. Use pandas.concat instead.\n",
      "  turbo_df = turbo_df.append(data, ignore_index = True)\n",
      "C:\\Users\\bashi\\AppData\\Local\\Temp\\ipykernel_1612\\837280139.py:2: DeprecationWarning: executable_path has been deprecated, please pass in a Service object\n",
      "  driver = webdriver.Chrome(\"chromedriver.exe\")\n"
     ]
    },
    {
     "name": "stdout",
     "output_type": "stream",
     "text": [
      "86\n"
     ]
    },
    {
     "name": "stderr",
     "output_type": "stream",
     "text": [
      "C:\\Users\\bashi\\AppData\\Local\\Temp\\ipykernel_1612\\1789959209.py:4: FutureWarning: The frame.append method is deprecated and will be removed from pandas in a future version. Use pandas.concat instead.\n",
      "  turbo_df = turbo_df.append(data, ignore_index = True)\n",
      "C:\\Users\\bashi\\AppData\\Local\\Temp\\ipykernel_1612\\837280139.py:2: DeprecationWarning: executable_path has been deprecated, please pass in a Service object\n",
      "  driver = webdriver.Chrome(\"chromedriver.exe\")\n"
     ]
    },
    {
     "name": "stdout",
     "output_type": "stream",
     "text": [
      "87\n"
     ]
    },
    {
     "name": "stderr",
     "output_type": "stream",
     "text": [
      "C:\\Users\\bashi\\AppData\\Local\\Temp\\ipykernel_1612\\1789959209.py:4: FutureWarning: The frame.append method is deprecated and will be removed from pandas in a future version. Use pandas.concat instead.\n",
      "  turbo_df = turbo_df.append(data, ignore_index = True)\n",
      "C:\\Users\\bashi\\AppData\\Local\\Temp\\ipykernel_1612\\837280139.py:2: DeprecationWarning: executable_path has been deprecated, please pass in a Service object\n",
      "  driver = webdriver.Chrome(\"chromedriver.exe\")\n"
     ]
    },
    {
     "name": "stdout",
     "output_type": "stream",
     "text": [
      "88\n"
     ]
    },
    {
     "name": "stderr",
     "output_type": "stream",
     "text": [
      "C:\\Users\\bashi\\AppData\\Local\\Temp\\ipykernel_1612\\1789959209.py:4: FutureWarning: The frame.append method is deprecated and will be removed from pandas in a future version. Use pandas.concat instead.\n",
      "  turbo_df = turbo_df.append(data, ignore_index = True)\n",
      "C:\\Users\\bashi\\AppData\\Local\\Temp\\ipykernel_1612\\837280139.py:2: DeprecationWarning: executable_path has been deprecated, please pass in a Service object\n",
      "  driver = webdriver.Chrome(\"chromedriver.exe\")\n"
     ]
    },
    {
     "name": "stdout",
     "output_type": "stream",
     "text": [
      "89\n"
     ]
    },
    {
     "name": "stderr",
     "output_type": "stream",
     "text": [
      "C:\\Users\\bashi\\AppData\\Local\\Temp\\ipykernel_1612\\1789959209.py:4: FutureWarning: The frame.append method is deprecated and will be removed from pandas in a future version. Use pandas.concat instead.\n",
      "  turbo_df = turbo_df.append(data, ignore_index = True)\n",
      "C:\\Users\\bashi\\AppData\\Local\\Temp\\ipykernel_1612\\837280139.py:2: DeprecationWarning: executable_path has been deprecated, please pass in a Service object\n",
      "  driver = webdriver.Chrome(\"chromedriver.exe\")\n"
     ]
    },
    {
     "name": "stdout",
     "output_type": "stream",
     "text": [
      "90\n"
     ]
    },
    {
     "name": "stderr",
     "output_type": "stream",
     "text": [
      "C:\\Users\\bashi\\AppData\\Local\\Temp\\ipykernel_1612\\1789959209.py:4: FutureWarning: The frame.append method is deprecated and will be removed from pandas in a future version. Use pandas.concat instead.\n",
      "  turbo_df = turbo_df.append(data, ignore_index = True)\n",
      "C:\\Users\\bashi\\AppData\\Local\\Temp\\ipykernel_1612\\837280139.py:2: DeprecationWarning: executable_path has been deprecated, please pass in a Service object\n",
      "  driver = webdriver.Chrome(\"chromedriver.exe\")\n"
     ]
    },
    {
     "name": "stdout",
     "output_type": "stream",
     "text": [
      "91\n"
     ]
    },
    {
     "name": "stderr",
     "output_type": "stream",
     "text": [
      "C:\\Users\\bashi\\AppData\\Local\\Temp\\ipykernel_1612\\1789959209.py:4: FutureWarning: The frame.append method is deprecated and will be removed from pandas in a future version. Use pandas.concat instead.\n",
      "  turbo_df = turbo_df.append(data, ignore_index = True)\n",
      "C:\\Users\\bashi\\AppData\\Local\\Temp\\ipykernel_1612\\837280139.py:2: DeprecationWarning: executable_path has been deprecated, please pass in a Service object\n",
      "  driver = webdriver.Chrome(\"chromedriver.exe\")\n"
     ]
    },
    {
     "name": "stdout",
     "output_type": "stream",
     "text": [
      "92\n"
     ]
    },
    {
     "name": "stderr",
     "output_type": "stream",
     "text": [
      "C:\\Users\\bashi\\AppData\\Local\\Temp\\ipykernel_1612\\1789959209.py:4: FutureWarning: The frame.append method is deprecated and will be removed from pandas in a future version. Use pandas.concat instead.\n",
      "  turbo_df = turbo_df.append(data, ignore_index = True)\n",
      "C:\\Users\\bashi\\AppData\\Local\\Temp\\ipykernel_1612\\837280139.py:2: DeprecationWarning: executable_path has been deprecated, please pass in a Service object\n",
      "  driver = webdriver.Chrome(\"chromedriver.exe\")\n"
     ]
    },
    {
     "name": "stdout",
     "output_type": "stream",
     "text": [
      "93\n"
     ]
    },
    {
     "name": "stderr",
     "output_type": "stream",
     "text": [
      "C:\\Users\\bashi\\AppData\\Local\\Temp\\ipykernel_1612\\1789959209.py:4: FutureWarning: The frame.append method is deprecated and will be removed from pandas in a future version. Use pandas.concat instead.\n",
      "  turbo_df = turbo_df.append(data, ignore_index = True)\n",
      "C:\\Users\\bashi\\AppData\\Local\\Temp\\ipykernel_1612\\837280139.py:2: DeprecationWarning: executable_path has been deprecated, please pass in a Service object\n",
      "  driver = webdriver.Chrome(\"chromedriver.exe\")\n"
     ]
    },
    {
     "name": "stdout",
     "output_type": "stream",
     "text": [
      "94\n"
     ]
    },
    {
     "name": "stderr",
     "output_type": "stream",
     "text": [
      "C:\\Users\\bashi\\AppData\\Local\\Temp\\ipykernel_1612\\1789959209.py:4: FutureWarning: The frame.append method is deprecated and will be removed from pandas in a future version. Use pandas.concat instead.\n",
      "  turbo_df = turbo_df.append(data, ignore_index = True)\n",
      "C:\\Users\\bashi\\AppData\\Local\\Temp\\ipykernel_1612\\837280139.py:2: DeprecationWarning: executable_path has been deprecated, please pass in a Service object\n",
      "  driver = webdriver.Chrome(\"chromedriver.exe\")\n"
     ]
    },
    {
     "name": "stdout",
     "output_type": "stream",
     "text": [
      "95\n"
     ]
    },
    {
     "name": "stderr",
     "output_type": "stream",
     "text": [
      "C:\\Users\\bashi\\AppData\\Local\\Temp\\ipykernel_1612\\1789959209.py:4: FutureWarning: The frame.append method is deprecated and will be removed from pandas in a future version. Use pandas.concat instead.\n",
      "  turbo_df = turbo_df.append(data, ignore_index = True)\n",
      "C:\\Users\\bashi\\AppData\\Local\\Temp\\ipykernel_1612\\837280139.py:2: DeprecationWarning: executable_path has been deprecated, please pass in a Service object\n",
      "  driver = webdriver.Chrome(\"chromedriver.exe\")\n"
     ]
    },
    {
     "name": "stdout",
     "output_type": "stream",
     "text": [
      "95\n"
     ]
    },
    {
     "name": "stderr",
     "output_type": "stream",
     "text": [
      "C:\\Users\\bashi\\AppData\\Local\\Temp\\ipykernel_1612\\1789959209.py:4: FutureWarning: The frame.append method is deprecated and will be removed from pandas in a future version. Use pandas.concat instead.\n",
      "  turbo_df = turbo_df.append(data, ignore_index = True)\n",
      "C:\\Users\\bashi\\AppData\\Local\\Temp\\ipykernel_1612\\837280139.py:2: DeprecationWarning: executable_path has been deprecated, please pass in a Service object\n",
      "  driver = webdriver.Chrome(\"chromedriver.exe\")\n"
     ]
    },
    {
     "name": "stdout",
     "output_type": "stream",
     "text": [
      "97\n"
     ]
    },
    {
     "name": "stderr",
     "output_type": "stream",
     "text": [
      "C:\\Users\\bashi\\AppData\\Local\\Temp\\ipykernel_1612\\1789959209.py:4: FutureWarning: The frame.append method is deprecated and will be removed from pandas in a future version. Use pandas.concat instead.\n",
      "  turbo_df = turbo_df.append(data, ignore_index = True)\n",
      "C:\\Users\\bashi\\AppData\\Local\\Temp\\ipykernel_1612\\837280139.py:2: DeprecationWarning: executable_path has been deprecated, please pass in a Service object\n",
      "  driver = webdriver.Chrome(\"chromedriver.exe\")\n"
     ]
    },
    {
     "name": "stdout",
     "output_type": "stream",
     "text": [
      "98\n"
     ]
    },
    {
     "name": "stderr",
     "output_type": "stream",
     "text": [
      "C:\\Users\\bashi\\AppData\\Local\\Temp\\ipykernel_1612\\1789959209.py:4: FutureWarning: The frame.append method is deprecated and will be removed from pandas in a future version. Use pandas.concat instead.\n",
      "  turbo_df = turbo_df.append(data, ignore_index = True)\n",
      "C:\\Users\\bashi\\AppData\\Local\\Temp\\ipykernel_1612\\837280139.py:2: DeprecationWarning: executable_path has been deprecated, please pass in a Service object\n",
      "  driver = webdriver.Chrome(\"chromedriver.exe\")\n"
     ]
    },
    {
     "name": "stdout",
     "output_type": "stream",
     "text": [
      "99\n"
     ]
    },
    {
     "name": "stderr",
     "output_type": "stream",
     "text": [
      "C:\\Users\\bashi\\AppData\\Local\\Temp\\ipykernel_1612\\1789959209.py:4: FutureWarning: The frame.append method is deprecated and will be removed from pandas in a future version. Use pandas.concat instead.\n",
      "  turbo_df = turbo_df.append(data, ignore_index = True)\n",
      "C:\\Users\\bashi\\AppData\\Local\\Temp\\ipykernel_1612\\837280139.py:2: DeprecationWarning: executable_path has been deprecated, please pass in a Service object\n",
      "  driver = webdriver.Chrome(\"chromedriver.exe\")\n"
     ]
    },
    {
     "name": "stdout",
     "output_type": "stream",
     "text": [
      "100\n"
     ]
    },
    {
     "name": "stderr",
     "output_type": "stream",
     "text": [
      "C:\\Users\\bashi\\AppData\\Local\\Temp\\ipykernel_1612\\1789959209.py:4: FutureWarning: The frame.append method is deprecated and will be removed from pandas in a future version. Use pandas.concat instead.\n",
      "  turbo_df = turbo_df.append(data, ignore_index = True)\n",
      "C:\\Users\\bashi\\AppData\\Local\\Temp\\ipykernel_1612\\837280139.py:2: DeprecationWarning: executable_path has been deprecated, please pass in a Service object\n",
      "  driver = webdriver.Chrome(\"chromedriver.exe\")\n"
     ]
    },
    {
     "name": "stdout",
     "output_type": "stream",
     "text": [
      "101\n"
     ]
    },
    {
     "name": "stderr",
     "output_type": "stream",
     "text": [
      "C:\\Users\\bashi\\AppData\\Local\\Temp\\ipykernel_1612\\1789959209.py:4: FutureWarning: The frame.append method is deprecated and will be removed from pandas in a future version. Use pandas.concat instead.\n",
      "  turbo_df = turbo_df.append(data, ignore_index = True)\n",
      "C:\\Users\\bashi\\AppData\\Local\\Temp\\ipykernel_1612\\837280139.py:2: DeprecationWarning: executable_path has been deprecated, please pass in a Service object\n",
      "  driver = webdriver.Chrome(\"chromedriver.exe\")\n"
     ]
    },
    {
     "name": "stdout",
     "output_type": "stream",
     "text": [
      "102\n"
     ]
    },
    {
     "name": "stderr",
     "output_type": "stream",
     "text": [
      "C:\\Users\\bashi\\AppData\\Local\\Temp\\ipykernel_1612\\1789959209.py:4: FutureWarning: The frame.append method is deprecated and will be removed from pandas in a future version. Use pandas.concat instead.\n",
      "  turbo_df = turbo_df.append(data, ignore_index = True)\n",
      "C:\\Users\\bashi\\AppData\\Local\\Temp\\ipykernel_1612\\837280139.py:2: DeprecationWarning: executable_path has been deprecated, please pass in a Service object\n",
      "  driver = webdriver.Chrome(\"chromedriver.exe\")\n"
     ]
    },
    {
     "name": "stdout",
     "output_type": "stream",
     "text": [
      "103\n"
     ]
    },
    {
     "name": "stderr",
     "output_type": "stream",
     "text": [
      "C:\\Users\\bashi\\AppData\\Local\\Temp\\ipykernel_1612\\1789959209.py:4: FutureWarning: The frame.append method is deprecated and will be removed from pandas in a future version. Use pandas.concat instead.\n",
      "  turbo_df = turbo_df.append(data, ignore_index = True)\n",
      "C:\\Users\\bashi\\AppData\\Local\\Temp\\ipykernel_1612\\837280139.py:2: DeprecationWarning: executable_path has been deprecated, please pass in a Service object\n",
      "  driver = webdriver.Chrome(\"chromedriver.exe\")\n"
     ]
    },
    {
     "name": "stdout",
     "output_type": "stream",
     "text": [
      "104\n"
     ]
    },
    {
     "name": "stderr",
     "output_type": "stream",
     "text": [
      "C:\\Users\\bashi\\AppData\\Local\\Temp\\ipykernel_1612\\1789959209.py:4: FutureWarning: The frame.append method is deprecated and will be removed from pandas in a future version. Use pandas.concat instead.\n",
      "  turbo_df = turbo_df.append(data, ignore_index = True)\n",
      "C:\\Users\\bashi\\AppData\\Local\\Temp\\ipykernel_1612\\837280139.py:2: DeprecationWarning: executable_path has been deprecated, please pass in a Service object\n",
      "  driver = webdriver.Chrome(\"chromedriver.exe\")\n"
     ]
    },
    {
     "name": "stdout",
     "output_type": "stream",
     "text": [
      "105\n"
     ]
    },
    {
     "name": "stderr",
     "output_type": "stream",
     "text": [
      "C:\\Users\\bashi\\AppData\\Local\\Temp\\ipykernel_1612\\1789959209.py:4: FutureWarning: The frame.append method is deprecated and will be removed from pandas in a future version. Use pandas.concat instead.\n",
      "  turbo_df = turbo_df.append(data, ignore_index = True)\n",
      "C:\\Users\\bashi\\AppData\\Local\\Temp\\ipykernel_1612\\837280139.py:2: DeprecationWarning: executable_path has been deprecated, please pass in a Service object\n",
      "  driver = webdriver.Chrome(\"chromedriver.exe\")\n"
     ]
    },
    {
     "name": "stdout",
     "output_type": "stream",
     "text": [
      "106\n"
     ]
    },
    {
     "name": "stderr",
     "output_type": "stream",
     "text": [
      "C:\\Users\\bashi\\AppData\\Local\\Temp\\ipykernel_1612\\1789959209.py:4: FutureWarning: The frame.append method is deprecated and will be removed from pandas in a future version. Use pandas.concat instead.\n",
      "  turbo_df = turbo_df.append(data, ignore_index = True)\n",
      "C:\\Users\\bashi\\AppData\\Local\\Temp\\ipykernel_1612\\837280139.py:2: DeprecationWarning: executable_path has been deprecated, please pass in a Service object\n",
      "  driver = webdriver.Chrome(\"chromedriver.exe\")\n"
     ]
    },
    {
     "name": "stdout",
     "output_type": "stream",
     "text": [
      "107\n"
     ]
    },
    {
     "name": "stderr",
     "output_type": "stream",
     "text": [
      "C:\\Users\\bashi\\AppData\\Local\\Temp\\ipykernel_1612\\1789959209.py:4: FutureWarning: The frame.append method is deprecated and will be removed from pandas in a future version. Use pandas.concat instead.\n",
      "  turbo_df = turbo_df.append(data, ignore_index = True)\n",
      "C:\\Users\\bashi\\AppData\\Local\\Temp\\ipykernel_1612\\837280139.py:2: DeprecationWarning: executable_path has been deprecated, please pass in a Service object\n",
      "  driver = webdriver.Chrome(\"chromedriver.exe\")\n"
     ]
    },
    {
     "name": "stdout",
     "output_type": "stream",
     "text": [
      "108\n"
     ]
    },
    {
     "name": "stderr",
     "output_type": "stream",
     "text": [
      "C:\\Users\\bashi\\AppData\\Local\\Temp\\ipykernel_1612\\1789959209.py:4: FutureWarning: The frame.append method is deprecated and will be removed from pandas in a future version. Use pandas.concat instead.\n",
      "  turbo_df = turbo_df.append(data, ignore_index = True)\n",
      "C:\\Users\\bashi\\AppData\\Local\\Temp\\ipykernel_1612\\837280139.py:2: DeprecationWarning: executable_path has been deprecated, please pass in a Service object\n",
      "  driver = webdriver.Chrome(\"chromedriver.exe\")\n"
     ]
    },
    {
     "name": "stdout",
     "output_type": "stream",
     "text": [
      "109\n"
     ]
    },
    {
     "name": "stderr",
     "output_type": "stream",
     "text": [
      "C:\\Users\\bashi\\AppData\\Local\\Temp\\ipykernel_1612\\1789959209.py:4: FutureWarning: The frame.append method is deprecated and will be removed from pandas in a future version. Use pandas.concat instead.\n",
      "  turbo_df = turbo_df.append(data, ignore_index = True)\n",
      "C:\\Users\\bashi\\AppData\\Local\\Temp\\ipykernel_1612\\837280139.py:2: DeprecationWarning: executable_path has been deprecated, please pass in a Service object\n",
      "  driver = webdriver.Chrome(\"chromedriver.exe\")\n"
     ]
    },
    {
     "name": "stdout",
     "output_type": "stream",
     "text": [
      "110\n"
     ]
    },
    {
     "name": "stderr",
     "output_type": "stream",
     "text": [
      "C:\\Users\\bashi\\AppData\\Local\\Temp\\ipykernel_1612\\1789959209.py:4: FutureWarning: The frame.append method is deprecated and will be removed from pandas in a future version. Use pandas.concat instead.\n",
      "  turbo_df = turbo_df.append(data, ignore_index = True)\n",
      "C:\\Users\\bashi\\AppData\\Local\\Temp\\ipykernel_1612\\837280139.py:2: DeprecationWarning: executable_path has been deprecated, please pass in a Service object\n",
      "  driver = webdriver.Chrome(\"chromedriver.exe\")\n"
     ]
    },
    {
     "name": "stdout",
     "output_type": "stream",
     "text": [
      "111\n"
     ]
    },
    {
     "name": "stderr",
     "output_type": "stream",
     "text": [
      "C:\\Users\\bashi\\AppData\\Local\\Temp\\ipykernel_1612\\1789959209.py:4: FutureWarning: The frame.append method is deprecated and will be removed from pandas in a future version. Use pandas.concat instead.\n",
      "  turbo_df = turbo_df.append(data, ignore_index = True)\n",
      "C:\\Users\\bashi\\AppData\\Local\\Temp\\ipykernel_1612\\837280139.py:2: DeprecationWarning: executable_path has been deprecated, please pass in a Service object\n",
      "  driver = webdriver.Chrome(\"chromedriver.exe\")\n"
     ]
    },
    {
     "name": "stdout",
     "output_type": "stream",
     "text": [
      "112\n"
     ]
    },
    {
     "name": "stderr",
     "output_type": "stream",
     "text": [
      "C:\\Users\\bashi\\AppData\\Local\\Temp\\ipykernel_1612\\1789959209.py:4: FutureWarning: The frame.append method is deprecated and will be removed from pandas in a future version. Use pandas.concat instead.\n",
      "  turbo_df = turbo_df.append(data, ignore_index = True)\n",
      "C:\\Users\\bashi\\AppData\\Local\\Temp\\ipykernel_1612\\837280139.py:2: DeprecationWarning: executable_path has been deprecated, please pass in a Service object\n",
      "  driver = webdriver.Chrome(\"chromedriver.exe\")\n"
     ]
    },
    {
     "name": "stdout",
     "output_type": "stream",
     "text": [
      "113\n"
     ]
    },
    {
     "name": "stderr",
     "output_type": "stream",
     "text": [
      "C:\\Users\\bashi\\AppData\\Local\\Temp\\ipykernel_1612\\1789959209.py:4: FutureWarning: The frame.append method is deprecated and will be removed from pandas in a future version. Use pandas.concat instead.\n",
      "  turbo_df = turbo_df.append(data, ignore_index = True)\n",
      "C:\\Users\\bashi\\AppData\\Local\\Temp\\ipykernel_1612\\837280139.py:2: DeprecationWarning: executable_path has been deprecated, please pass in a Service object\n",
      "  driver = webdriver.Chrome(\"chromedriver.exe\")\n"
     ]
    },
    {
     "name": "stdout",
     "output_type": "stream",
     "text": [
      "114\n"
     ]
    },
    {
     "name": "stderr",
     "output_type": "stream",
     "text": [
      "C:\\Users\\bashi\\AppData\\Local\\Temp\\ipykernel_1612\\1789959209.py:4: FutureWarning: The frame.append method is deprecated and will be removed from pandas in a future version. Use pandas.concat instead.\n",
      "  turbo_df = turbo_df.append(data, ignore_index = True)\n",
      "C:\\Users\\bashi\\AppData\\Local\\Temp\\ipykernel_1612\\837280139.py:2: DeprecationWarning: executable_path has been deprecated, please pass in a Service object\n",
      "  driver = webdriver.Chrome(\"chromedriver.exe\")\n"
     ]
    },
    {
     "name": "stdout",
     "output_type": "stream",
     "text": [
      "115\n"
     ]
    },
    {
     "name": "stderr",
     "output_type": "stream",
     "text": [
      "C:\\Users\\bashi\\AppData\\Local\\Temp\\ipykernel_1612\\1789959209.py:4: FutureWarning: The frame.append method is deprecated and will be removed from pandas in a future version. Use pandas.concat instead.\n",
      "  turbo_df = turbo_df.append(data, ignore_index = True)\n",
      "C:\\Users\\bashi\\AppData\\Local\\Temp\\ipykernel_1612\\837280139.py:2: DeprecationWarning: executable_path has been deprecated, please pass in a Service object\n",
      "  driver = webdriver.Chrome(\"chromedriver.exe\")\n"
     ]
    },
    {
     "name": "stdout",
     "output_type": "stream",
     "text": [
      "116\n"
     ]
    },
    {
     "name": "stderr",
     "output_type": "stream",
     "text": [
      "C:\\Users\\bashi\\AppData\\Local\\Temp\\ipykernel_1612\\1789959209.py:4: FutureWarning: The frame.append method is deprecated and will be removed from pandas in a future version. Use pandas.concat instead.\n",
      "  turbo_df = turbo_df.append(data, ignore_index = True)\n",
      "C:\\Users\\bashi\\AppData\\Local\\Temp\\ipykernel_1612\\837280139.py:2: DeprecationWarning: executable_path has been deprecated, please pass in a Service object\n",
      "  driver = webdriver.Chrome(\"chromedriver.exe\")\n"
     ]
    },
    {
     "name": "stdout",
     "output_type": "stream",
     "text": [
      "117\n"
     ]
    },
    {
     "name": "stderr",
     "output_type": "stream",
     "text": [
      "C:\\Users\\bashi\\AppData\\Local\\Temp\\ipykernel_1612\\1789959209.py:4: FutureWarning: The frame.append method is deprecated and will be removed from pandas in a future version. Use pandas.concat instead.\n",
      "  turbo_df = turbo_df.append(data, ignore_index = True)\n",
      "C:\\Users\\bashi\\AppData\\Local\\Temp\\ipykernel_1612\\837280139.py:2: DeprecationWarning: executable_path has been deprecated, please pass in a Service object\n",
      "  driver = webdriver.Chrome(\"chromedriver.exe\")\n"
     ]
    },
    {
     "name": "stdout",
     "output_type": "stream",
     "text": [
      "118\n"
     ]
    },
    {
     "name": "stderr",
     "output_type": "stream",
     "text": [
      "C:\\Users\\bashi\\AppData\\Local\\Temp\\ipykernel_1612\\1789959209.py:4: FutureWarning: The frame.append method is deprecated and will be removed from pandas in a future version. Use pandas.concat instead.\n",
      "  turbo_df = turbo_df.append(data, ignore_index = True)\n",
      "C:\\Users\\bashi\\AppData\\Local\\Temp\\ipykernel_1612\\837280139.py:2: DeprecationWarning: executable_path has been deprecated, please pass in a Service object\n",
      "  driver = webdriver.Chrome(\"chromedriver.exe\")\n"
     ]
    },
    {
     "name": "stdout",
     "output_type": "stream",
     "text": [
      "119\n"
     ]
    },
    {
     "name": "stderr",
     "output_type": "stream",
     "text": [
      "C:\\Users\\bashi\\AppData\\Local\\Temp\\ipykernel_1612\\1789959209.py:4: FutureWarning: The frame.append method is deprecated and will be removed from pandas in a future version. Use pandas.concat instead.\n",
      "  turbo_df = turbo_df.append(data, ignore_index = True)\n",
      "C:\\Users\\bashi\\AppData\\Local\\Temp\\ipykernel_1612\\837280139.py:2: DeprecationWarning: executable_path has been deprecated, please pass in a Service object\n",
      "  driver = webdriver.Chrome(\"chromedriver.exe\")\n"
     ]
    },
    {
     "name": "stdout",
     "output_type": "stream",
     "text": [
      "119\n"
     ]
    },
    {
     "name": "stderr",
     "output_type": "stream",
     "text": [
      "C:\\Users\\bashi\\AppData\\Local\\Temp\\ipykernel_1612\\1789959209.py:4: FutureWarning: The frame.append method is deprecated and will be removed from pandas in a future version. Use pandas.concat instead.\n",
      "  turbo_df = turbo_df.append(data, ignore_index = True)\n",
      "C:\\Users\\bashi\\AppData\\Local\\Temp\\ipykernel_1612\\837280139.py:2: DeprecationWarning: executable_path has been deprecated, please pass in a Service object\n",
      "  driver = webdriver.Chrome(\"chromedriver.exe\")\n"
     ]
    },
    {
     "name": "stdout",
     "output_type": "stream",
     "text": [
      "121\n"
     ]
    },
    {
     "name": "stderr",
     "output_type": "stream",
     "text": [
      "C:\\Users\\bashi\\AppData\\Local\\Temp\\ipykernel_1612\\1789959209.py:4: FutureWarning: The frame.append method is deprecated and will be removed from pandas in a future version. Use pandas.concat instead.\n",
      "  turbo_df = turbo_df.append(data, ignore_index = True)\n",
      "C:\\Users\\bashi\\AppData\\Local\\Temp\\ipykernel_1612\\837280139.py:2: DeprecationWarning: executable_path has been deprecated, please pass in a Service object\n",
      "  driver = webdriver.Chrome(\"chromedriver.exe\")\n"
     ]
    },
    {
     "name": "stdout",
     "output_type": "stream",
     "text": [
      "122\n"
     ]
    },
    {
     "name": "stderr",
     "output_type": "stream",
     "text": [
      "C:\\Users\\bashi\\AppData\\Local\\Temp\\ipykernel_1612\\1789959209.py:4: FutureWarning: The frame.append method is deprecated and will be removed from pandas in a future version. Use pandas.concat instead.\n",
      "  turbo_df = turbo_df.append(data, ignore_index = True)\n",
      "C:\\Users\\bashi\\AppData\\Local\\Temp\\ipykernel_1612\\837280139.py:2: DeprecationWarning: executable_path has been deprecated, please pass in a Service object\n",
      "  driver = webdriver.Chrome(\"chromedriver.exe\")\n"
     ]
    },
    {
     "name": "stdout",
     "output_type": "stream",
     "text": [
      "123\n"
     ]
    },
    {
     "name": "stderr",
     "output_type": "stream",
     "text": [
      "C:\\Users\\bashi\\AppData\\Local\\Temp\\ipykernel_1612\\1789959209.py:4: FutureWarning: The frame.append method is deprecated and will be removed from pandas in a future version. Use pandas.concat instead.\n",
      "  turbo_df = turbo_df.append(data, ignore_index = True)\n",
      "C:\\Users\\bashi\\AppData\\Local\\Temp\\ipykernel_1612\\837280139.py:2: DeprecationWarning: executable_path has been deprecated, please pass in a Service object\n",
      "  driver = webdriver.Chrome(\"chromedriver.exe\")\n"
     ]
    },
    {
     "name": "stdout",
     "output_type": "stream",
     "text": [
      "124\n"
     ]
    },
    {
     "name": "stderr",
     "output_type": "stream",
     "text": [
      "C:\\Users\\bashi\\AppData\\Local\\Temp\\ipykernel_1612\\1789959209.py:4: FutureWarning: The frame.append method is deprecated and will be removed from pandas in a future version. Use pandas.concat instead.\n",
      "  turbo_df = turbo_df.append(data, ignore_index = True)\n",
      "C:\\Users\\bashi\\AppData\\Local\\Temp\\ipykernel_1612\\837280139.py:2: DeprecationWarning: executable_path has been deprecated, please pass in a Service object\n",
      "  driver = webdriver.Chrome(\"chromedriver.exe\")\n"
     ]
    },
    {
     "name": "stdout",
     "output_type": "stream",
     "text": [
      "125\n"
     ]
    },
    {
     "name": "stderr",
     "output_type": "stream",
     "text": [
      "C:\\Users\\bashi\\AppData\\Local\\Temp\\ipykernel_1612\\1789959209.py:4: FutureWarning: The frame.append method is deprecated and will be removed from pandas in a future version. Use pandas.concat instead.\n",
      "  turbo_df = turbo_df.append(data, ignore_index = True)\n",
      "C:\\Users\\bashi\\AppData\\Local\\Temp\\ipykernel_1612\\837280139.py:2: DeprecationWarning: executable_path has been deprecated, please pass in a Service object\n",
      "  driver = webdriver.Chrome(\"chromedriver.exe\")\n"
     ]
    },
    {
     "name": "stdout",
     "output_type": "stream",
     "text": [
      "126\n"
     ]
    },
    {
     "name": "stderr",
     "output_type": "stream",
     "text": [
      "C:\\Users\\bashi\\AppData\\Local\\Temp\\ipykernel_1612\\1789959209.py:4: FutureWarning: The frame.append method is deprecated and will be removed from pandas in a future version. Use pandas.concat instead.\n",
      "  turbo_df = turbo_df.append(data, ignore_index = True)\n",
      "C:\\Users\\bashi\\AppData\\Local\\Temp\\ipykernel_1612\\837280139.py:2: DeprecationWarning: executable_path has been deprecated, please pass in a Service object\n",
      "  driver = webdriver.Chrome(\"chromedriver.exe\")\n"
     ]
    },
    {
     "name": "stdout",
     "output_type": "stream",
     "text": [
      "127\n"
     ]
    },
    {
     "name": "stderr",
     "output_type": "stream",
     "text": [
      "C:\\Users\\bashi\\AppData\\Local\\Temp\\ipykernel_1612\\1789959209.py:4: FutureWarning: The frame.append method is deprecated and will be removed from pandas in a future version. Use pandas.concat instead.\n",
      "  turbo_df = turbo_df.append(data, ignore_index = True)\n",
      "C:\\Users\\bashi\\AppData\\Local\\Temp\\ipykernel_1612\\837280139.py:2: DeprecationWarning: executable_path has been deprecated, please pass in a Service object\n",
      "  driver = webdriver.Chrome(\"chromedriver.exe\")\n"
     ]
    },
    {
     "name": "stdout",
     "output_type": "stream",
     "text": [
      "128\n"
     ]
    },
    {
     "name": "stderr",
     "output_type": "stream",
     "text": [
      "C:\\Users\\bashi\\AppData\\Local\\Temp\\ipykernel_1612\\1789959209.py:4: FutureWarning: The frame.append method is deprecated and will be removed from pandas in a future version. Use pandas.concat instead.\n",
      "  turbo_df = turbo_df.append(data, ignore_index = True)\n",
      "C:\\Users\\bashi\\AppData\\Local\\Temp\\ipykernel_1612\\837280139.py:2: DeprecationWarning: executable_path has been deprecated, please pass in a Service object\n",
      "  driver = webdriver.Chrome(\"chromedriver.exe\")\n"
     ]
    },
    {
     "name": "stdout",
     "output_type": "stream",
     "text": [
      "129\n"
     ]
    },
    {
     "name": "stderr",
     "output_type": "stream",
     "text": [
      "C:\\Users\\bashi\\AppData\\Local\\Temp\\ipykernel_1612\\1789959209.py:4: FutureWarning: The frame.append method is deprecated and will be removed from pandas in a future version. Use pandas.concat instead.\n",
      "  turbo_df = turbo_df.append(data, ignore_index = True)\n",
      "C:\\Users\\bashi\\AppData\\Local\\Temp\\ipykernel_1612\\837280139.py:2: DeprecationWarning: executable_path has been deprecated, please pass in a Service object\n",
      "  driver = webdriver.Chrome(\"chromedriver.exe\")\n"
     ]
    },
    {
     "name": "stdout",
     "output_type": "stream",
     "text": [
      "130\n"
     ]
    },
    {
     "name": "stderr",
     "output_type": "stream",
     "text": [
      "C:\\Users\\bashi\\AppData\\Local\\Temp\\ipykernel_1612\\1789959209.py:4: FutureWarning: The frame.append method is deprecated and will be removed from pandas in a future version. Use pandas.concat instead.\n",
      "  turbo_df = turbo_df.append(data, ignore_index = True)\n",
      "C:\\Users\\bashi\\AppData\\Local\\Temp\\ipykernel_1612\\837280139.py:2: DeprecationWarning: executable_path has been deprecated, please pass in a Service object\n",
      "  driver = webdriver.Chrome(\"chromedriver.exe\")\n"
     ]
    },
    {
     "name": "stdout",
     "output_type": "stream",
     "text": [
      "131\n"
     ]
    },
    {
     "name": "stderr",
     "output_type": "stream",
     "text": [
      "C:\\Users\\bashi\\AppData\\Local\\Temp\\ipykernel_1612\\1789959209.py:4: FutureWarning: The frame.append method is deprecated and will be removed from pandas in a future version. Use pandas.concat instead.\n",
      "  turbo_df = turbo_df.append(data, ignore_index = True)\n",
      "C:\\Users\\bashi\\AppData\\Local\\Temp\\ipykernel_1612\\837280139.py:2: DeprecationWarning: executable_path has been deprecated, please pass in a Service object\n",
      "  driver = webdriver.Chrome(\"chromedriver.exe\")\n"
     ]
    },
    {
     "name": "stdout",
     "output_type": "stream",
     "text": [
      "132\n"
     ]
    },
    {
     "name": "stderr",
     "output_type": "stream",
     "text": [
      "C:\\Users\\bashi\\AppData\\Local\\Temp\\ipykernel_1612\\1789959209.py:4: FutureWarning: The frame.append method is deprecated and will be removed from pandas in a future version. Use pandas.concat instead.\n",
      "  turbo_df = turbo_df.append(data, ignore_index = True)\n",
      "C:\\Users\\bashi\\AppData\\Local\\Temp\\ipykernel_1612\\837280139.py:2: DeprecationWarning: executable_path has been deprecated, please pass in a Service object\n",
      "  driver = webdriver.Chrome(\"chromedriver.exe\")\n"
     ]
    },
    {
     "name": "stdout",
     "output_type": "stream",
     "text": [
      "133\n"
     ]
    },
    {
     "name": "stderr",
     "output_type": "stream",
     "text": [
      "C:\\Users\\bashi\\AppData\\Local\\Temp\\ipykernel_1612\\1789959209.py:4: FutureWarning: The frame.append method is deprecated and will be removed from pandas in a future version. Use pandas.concat instead.\n",
      "  turbo_df = turbo_df.append(data, ignore_index = True)\n",
      "C:\\Users\\bashi\\AppData\\Local\\Temp\\ipykernel_1612\\837280139.py:2: DeprecationWarning: executable_path has been deprecated, please pass in a Service object\n",
      "  driver = webdriver.Chrome(\"chromedriver.exe\")\n"
     ]
    },
    {
     "name": "stdout",
     "output_type": "stream",
     "text": [
      "134\n"
     ]
    },
    {
     "name": "stderr",
     "output_type": "stream",
     "text": [
      "C:\\Users\\bashi\\AppData\\Local\\Temp\\ipykernel_1612\\1789959209.py:4: FutureWarning: The frame.append method is deprecated and will be removed from pandas in a future version. Use pandas.concat instead.\n",
      "  turbo_df = turbo_df.append(data, ignore_index = True)\n",
      "C:\\Users\\bashi\\AppData\\Local\\Temp\\ipykernel_1612\\837280139.py:2: DeprecationWarning: executable_path has been deprecated, please pass in a Service object\n",
      "  driver = webdriver.Chrome(\"chromedriver.exe\")\n"
     ]
    },
    {
     "name": "stdout",
     "output_type": "stream",
     "text": [
      "135\n"
     ]
    },
    {
     "name": "stderr",
     "output_type": "stream",
     "text": [
      "C:\\Users\\bashi\\AppData\\Local\\Temp\\ipykernel_1612\\1789959209.py:4: FutureWarning: The frame.append method is deprecated and will be removed from pandas in a future version. Use pandas.concat instead.\n",
      "  turbo_df = turbo_df.append(data, ignore_index = True)\n",
      "C:\\Users\\bashi\\AppData\\Local\\Temp\\ipykernel_1612\\837280139.py:2: DeprecationWarning: executable_path has been deprecated, please pass in a Service object\n",
      "  driver = webdriver.Chrome(\"chromedriver.exe\")\n"
     ]
    },
    {
     "name": "stdout",
     "output_type": "stream",
     "text": [
      "136\n"
     ]
    },
    {
     "name": "stderr",
     "output_type": "stream",
     "text": [
      "C:\\Users\\bashi\\AppData\\Local\\Temp\\ipykernel_1612\\1789959209.py:4: FutureWarning: The frame.append method is deprecated and will be removed from pandas in a future version. Use pandas.concat instead.\n",
      "  turbo_df = turbo_df.append(data, ignore_index = True)\n",
      "C:\\Users\\bashi\\AppData\\Local\\Temp\\ipykernel_1612\\837280139.py:2: DeprecationWarning: executable_path has been deprecated, please pass in a Service object\n",
      "  driver = webdriver.Chrome(\"chromedriver.exe\")\n"
     ]
    },
    {
     "name": "stdout",
     "output_type": "stream",
     "text": [
      "137\n"
     ]
    },
    {
     "name": "stderr",
     "output_type": "stream",
     "text": [
      "C:\\Users\\bashi\\AppData\\Local\\Temp\\ipykernel_1612\\1789959209.py:4: FutureWarning: The frame.append method is deprecated and will be removed from pandas in a future version. Use pandas.concat instead.\n",
      "  turbo_df = turbo_df.append(data, ignore_index = True)\n",
      "C:\\Users\\bashi\\AppData\\Local\\Temp\\ipykernel_1612\\837280139.py:2: DeprecationWarning: executable_path has been deprecated, please pass in a Service object\n",
      "  driver = webdriver.Chrome(\"chromedriver.exe\")\n"
     ]
    },
    {
     "name": "stdout",
     "output_type": "stream",
     "text": [
      "138\n"
     ]
    },
    {
     "name": "stderr",
     "output_type": "stream",
     "text": [
      "C:\\Users\\bashi\\AppData\\Local\\Temp\\ipykernel_1612\\1789959209.py:4: FutureWarning: The frame.append method is deprecated and will be removed from pandas in a future version. Use pandas.concat instead.\n",
      "  turbo_df = turbo_df.append(data, ignore_index = True)\n",
      "C:\\Users\\bashi\\AppData\\Local\\Temp\\ipykernel_1612\\837280139.py:2: DeprecationWarning: executable_path has been deprecated, please pass in a Service object\n",
      "  driver = webdriver.Chrome(\"chromedriver.exe\")\n"
     ]
    },
    {
     "name": "stdout",
     "output_type": "stream",
     "text": [
      "139\n"
     ]
    },
    {
     "name": "stderr",
     "output_type": "stream",
     "text": [
      "C:\\Users\\bashi\\AppData\\Local\\Temp\\ipykernel_1612\\1789959209.py:4: FutureWarning: The frame.append method is deprecated and will be removed from pandas in a future version. Use pandas.concat instead.\n",
      "  turbo_df = turbo_df.append(data, ignore_index = True)\n",
      "C:\\Users\\bashi\\AppData\\Local\\Temp\\ipykernel_1612\\837280139.py:2: DeprecationWarning: executable_path has been deprecated, please pass in a Service object\n",
      "  driver = webdriver.Chrome(\"chromedriver.exe\")\n"
     ]
    },
    {
     "name": "stdout",
     "output_type": "stream",
     "text": [
      "140\n"
     ]
    },
    {
     "name": "stderr",
     "output_type": "stream",
     "text": [
      "C:\\Users\\bashi\\AppData\\Local\\Temp\\ipykernel_1612\\1789959209.py:4: FutureWarning: The frame.append method is deprecated and will be removed from pandas in a future version. Use pandas.concat instead.\n",
      "  turbo_df = turbo_df.append(data, ignore_index = True)\n",
      "C:\\Users\\bashi\\AppData\\Local\\Temp\\ipykernel_1612\\837280139.py:2: DeprecationWarning: executable_path has been deprecated, please pass in a Service object\n",
      "  driver = webdriver.Chrome(\"chromedriver.exe\")\n"
     ]
    },
    {
     "name": "stdout",
     "output_type": "stream",
     "text": [
      "141\n"
     ]
    },
    {
     "name": "stderr",
     "output_type": "stream",
     "text": [
      "C:\\Users\\bashi\\AppData\\Local\\Temp\\ipykernel_1612\\1789959209.py:4: FutureWarning: The frame.append method is deprecated and will be removed from pandas in a future version. Use pandas.concat instead.\n",
      "  turbo_df = turbo_df.append(data, ignore_index = True)\n",
      "C:\\Users\\bashi\\AppData\\Local\\Temp\\ipykernel_1612\\837280139.py:2: DeprecationWarning: executable_path has been deprecated, please pass in a Service object\n",
      "  driver = webdriver.Chrome(\"chromedriver.exe\")\n"
     ]
    },
    {
     "name": "stdout",
     "output_type": "stream",
     "text": [
      "142\n"
     ]
    },
    {
     "name": "stderr",
     "output_type": "stream",
     "text": [
      "C:\\Users\\bashi\\AppData\\Local\\Temp\\ipykernel_1612\\1789959209.py:4: FutureWarning: The frame.append method is deprecated and will be removed from pandas in a future version. Use pandas.concat instead.\n",
      "  turbo_df = turbo_df.append(data, ignore_index = True)\n",
      "C:\\Users\\bashi\\AppData\\Local\\Temp\\ipykernel_1612\\837280139.py:2: DeprecationWarning: executable_path has been deprecated, please pass in a Service object\n",
      "  driver = webdriver.Chrome(\"chromedriver.exe\")\n"
     ]
    },
    {
     "name": "stdout",
     "output_type": "stream",
     "text": [
      "143\n"
     ]
    },
    {
     "name": "stderr",
     "output_type": "stream",
     "text": [
      "C:\\Users\\bashi\\AppData\\Local\\Temp\\ipykernel_1612\\1789959209.py:4: FutureWarning: The frame.append method is deprecated and will be removed from pandas in a future version. Use pandas.concat instead.\n",
      "  turbo_df = turbo_df.append(data, ignore_index = True)\n",
      "C:\\Users\\bashi\\AppData\\Local\\Temp\\ipykernel_1612\\837280139.py:2: DeprecationWarning: executable_path has been deprecated, please pass in a Service object\n",
      "  driver = webdriver.Chrome(\"chromedriver.exe\")\n"
     ]
    },
    {
     "name": "stdout",
     "output_type": "stream",
     "text": [
      "143\n"
     ]
    },
    {
     "name": "stderr",
     "output_type": "stream",
     "text": [
      "C:\\Users\\bashi\\AppData\\Local\\Temp\\ipykernel_1612\\1789959209.py:4: FutureWarning: The frame.append method is deprecated and will be removed from pandas in a future version. Use pandas.concat instead.\n",
      "  turbo_df = turbo_df.append(data, ignore_index = True)\n",
      "C:\\Users\\bashi\\AppData\\Local\\Temp\\ipykernel_1612\\837280139.py:2: DeprecationWarning: executable_path has been deprecated, please pass in a Service object\n",
      "  driver = webdriver.Chrome(\"chromedriver.exe\")\n"
     ]
    },
    {
     "name": "stdout",
     "output_type": "stream",
     "text": [
      "145\n"
     ]
    },
    {
     "name": "stderr",
     "output_type": "stream",
     "text": [
      "C:\\Users\\bashi\\AppData\\Local\\Temp\\ipykernel_1612\\1789959209.py:4: FutureWarning: The frame.append method is deprecated and will be removed from pandas in a future version. Use pandas.concat instead.\n",
      "  turbo_df = turbo_df.append(data, ignore_index = True)\n",
      "C:\\Users\\bashi\\AppData\\Local\\Temp\\ipykernel_1612\\837280139.py:2: DeprecationWarning: executable_path has been deprecated, please pass in a Service object\n",
      "  driver = webdriver.Chrome(\"chromedriver.exe\")\n"
     ]
    },
    {
     "name": "stdout",
     "output_type": "stream",
     "text": [
      "146\n"
     ]
    },
    {
     "name": "stderr",
     "output_type": "stream",
     "text": [
      "C:\\Users\\bashi\\AppData\\Local\\Temp\\ipykernel_1612\\1789959209.py:4: FutureWarning: The frame.append method is deprecated and will be removed from pandas in a future version. Use pandas.concat instead.\n",
      "  turbo_df = turbo_df.append(data, ignore_index = True)\n",
      "C:\\Users\\bashi\\AppData\\Local\\Temp\\ipykernel_1612\\837280139.py:2: DeprecationWarning: executable_path has been deprecated, please pass in a Service object\n",
      "  driver = webdriver.Chrome(\"chromedriver.exe\")\n"
     ]
    },
    {
     "name": "stdout",
     "output_type": "stream",
     "text": [
      "147\n"
     ]
    },
    {
     "name": "stderr",
     "output_type": "stream",
     "text": [
      "C:\\Users\\bashi\\AppData\\Local\\Temp\\ipykernel_1612\\1789959209.py:4: FutureWarning: The frame.append method is deprecated and will be removed from pandas in a future version. Use pandas.concat instead.\n",
      "  turbo_df = turbo_df.append(data, ignore_index = True)\n",
      "C:\\Users\\bashi\\AppData\\Local\\Temp\\ipykernel_1612\\837280139.py:2: DeprecationWarning: executable_path has been deprecated, please pass in a Service object\n",
      "  driver = webdriver.Chrome(\"chromedriver.exe\")\n"
     ]
    },
    {
     "name": "stdout",
     "output_type": "stream",
     "text": [
      "148\n"
     ]
    },
    {
     "name": "stderr",
     "output_type": "stream",
     "text": [
      "C:\\Users\\bashi\\AppData\\Local\\Temp\\ipykernel_1612\\1789959209.py:4: FutureWarning: The frame.append method is deprecated and will be removed from pandas in a future version. Use pandas.concat instead.\n",
      "  turbo_df = turbo_df.append(data, ignore_index = True)\n",
      "C:\\Users\\bashi\\AppData\\Local\\Temp\\ipykernel_1612\\837280139.py:2: DeprecationWarning: executable_path has been deprecated, please pass in a Service object\n",
      "  driver = webdriver.Chrome(\"chromedriver.exe\")\n"
     ]
    },
    {
     "name": "stdout",
     "output_type": "stream",
     "text": [
      "149\n"
     ]
    },
    {
     "name": "stderr",
     "output_type": "stream",
     "text": [
      "C:\\Users\\bashi\\AppData\\Local\\Temp\\ipykernel_1612\\1789959209.py:4: FutureWarning: The frame.append method is deprecated and will be removed from pandas in a future version. Use pandas.concat instead.\n",
      "  turbo_df = turbo_df.append(data, ignore_index = True)\n",
      "C:\\Users\\bashi\\AppData\\Local\\Temp\\ipykernel_1612\\837280139.py:2: DeprecationWarning: executable_path has been deprecated, please pass in a Service object\n",
      "  driver = webdriver.Chrome(\"chromedriver.exe\")\n"
     ]
    },
    {
     "name": "stdout",
     "output_type": "stream",
     "text": [
      "150\n"
     ]
    },
    {
     "name": "stderr",
     "output_type": "stream",
     "text": [
      "C:\\Users\\bashi\\AppData\\Local\\Temp\\ipykernel_1612\\1789959209.py:4: FutureWarning: The frame.append method is deprecated and will be removed from pandas in a future version. Use pandas.concat instead.\n",
      "  turbo_df = turbo_df.append(data, ignore_index = True)\n",
      "C:\\Users\\bashi\\AppData\\Local\\Temp\\ipykernel_1612\\837280139.py:2: DeprecationWarning: executable_path has been deprecated, please pass in a Service object\n",
      "  driver = webdriver.Chrome(\"chromedriver.exe\")\n"
     ]
    },
    {
     "name": "stdout",
     "output_type": "stream",
     "text": [
      "151\n"
     ]
    },
    {
     "name": "stderr",
     "output_type": "stream",
     "text": [
      "C:\\Users\\bashi\\AppData\\Local\\Temp\\ipykernel_1612\\1789959209.py:4: FutureWarning: The frame.append method is deprecated and will be removed from pandas in a future version. Use pandas.concat instead.\n",
      "  turbo_df = turbo_df.append(data, ignore_index = True)\n",
      "C:\\Users\\bashi\\AppData\\Local\\Temp\\ipykernel_1612\\837280139.py:2: DeprecationWarning: executable_path has been deprecated, please pass in a Service object\n",
      "  driver = webdriver.Chrome(\"chromedriver.exe\")\n"
     ]
    },
    {
     "name": "stdout",
     "output_type": "stream",
     "text": [
      "152\n"
     ]
    },
    {
     "name": "stderr",
     "output_type": "stream",
     "text": [
      "C:\\Users\\bashi\\AppData\\Local\\Temp\\ipykernel_1612\\1789959209.py:4: FutureWarning: The frame.append method is deprecated and will be removed from pandas in a future version. Use pandas.concat instead.\n",
      "  turbo_df = turbo_df.append(data, ignore_index = True)\n",
      "C:\\Users\\bashi\\AppData\\Local\\Temp\\ipykernel_1612\\837280139.py:2: DeprecationWarning: executable_path has been deprecated, please pass in a Service object\n",
      "  driver = webdriver.Chrome(\"chromedriver.exe\")\n"
     ]
    },
    {
     "name": "stdout",
     "output_type": "stream",
     "text": [
      "153\n"
     ]
    },
    {
     "name": "stderr",
     "output_type": "stream",
     "text": [
      "C:\\Users\\bashi\\AppData\\Local\\Temp\\ipykernel_1612\\1789959209.py:4: FutureWarning: The frame.append method is deprecated and will be removed from pandas in a future version. Use pandas.concat instead.\n",
      "  turbo_df = turbo_df.append(data, ignore_index = True)\n",
      "C:\\Users\\bashi\\AppData\\Local\\Temp\\ipykernel_1612\\837280139.py:2: DeprecationWarning: executable_path has been deprecated, please pass in a Service object\n",
      "  driver = webdriver.Chrome(\"chromedriver.exe\")\n"
     ]
    },
    {
     "name": "stdout",
     "output_type": "stream",
     "text": [
      "154\n"
     ]
    },
    {
     "name": "stderr",
     "output_type": "stream",
     "text": [
      "C:\\Users\\bashi\\AppData\\Local\\Temp\\ipykernel_1612\\1789959209.py:4: FutureWarning: The frame.append method is deprecated and will be removed from pandas in a future version. Use pandas.concat instead.\n",
      "  turbo_df = turbo_df.append(data, ignore_index = True)\n",
      "C:\\Users\\bashi\\AppData\\Local\\Temp\\ipykernel_1612\\837280139.py:2: DeprecationWarning: executable_path has been deprecated, please pass in a Service object\n",
      "  driver = webdriver.Chrome(\"chromedriver.exe\")\n"
     ]
    },
    {
     "name": "stdout",
     "output_type": "stream",
     "text": [
      "155\n"
     ]
    },
    {
     "name": "stderr",
     "output_type": "stream",
     "text": [
      "C:\\Users\\bashi\\AppData\\Local\\Temp\\ipykernel_1612\\1789959209.py:4: FutureWarning: The frame.append method is deprecated and will be removed from pandas in a future version. Use pandas.concat instead.\n",
      "  turbo_df = turbo_df.append(data, ignore_index = True)\n",
      "C:\\Users\\bashi\\AppData\\Local\\Temp\\ipykernel_1612\\837280139.py:2: DeprecationWarning: executable_path has been deprecated, please pass in a Service object\n",
      "  driver = webdriver.Chrome(\"chromedriver.exe\")\n"
     ]
    },
    {
     "name": "stdout",
     "output_type": "stream",
     "text": [
      "156\n"
     ]
    },
    {
     "name": "stderr",
     "output_type": "stream",
     "text": [
      "C:\\Users\\bashi\\AppData\\Local\\Temp\\ipykernel_1612\\1789959209.py:4: FutureWarning: The frame.append method is deprecated and will be removed from pandas in a future version. Use pandas.concat instead.\n",
      "  turbo_df = turbo_df.append(data, ignore_index = True)\n",
      "C:\\Users\\bashi\\AppData\\Local\\Temp\\ipykernel_1612\\837280139.py:2: DeprecationWarning: executable_path has been deprecated, please pass in a Service object\n",
      "  driver = webdriver.Chrome(\"chromedriver.exe\")\n"
     ]
    },
    {
     "name": "stdout",
     "output_type": "stream",
     "text": [
      "157\n"
     ]
    },
    {
     "name": "stderr",
     "output_type": "stream",
     "text": [
      "C:\\Users\\bashi\\AppData\\Local\\Temp\\ipykernel_1612\\1789959209.py:4: FutureWarning: The frame.append method is deprecated and will be removed from pandas in a future version. Use pandas.concat instead.\n",
      "  turbo_df = turbo_df.append(data, ignore_index = True)\n",
      "C:\\Users\\bashi\\AppData\\Local\\Temp\\ipykernel_1612\\837280139.py:2: DeprecationWarning: executable_path has been deprecated, please pass in a Service object\n",
      "  driver = webdriver.Chrome(\"chromedriver.exe\")\n"
     ]
    },
    {
     "name": "stdout",
     "output_type": "stream",
     "text": [
      "158\n"
     ]
    },
    {
     "name": "stderr",
     "output_type": "stream",
     "text": [
      "C:\\Users\\bashi\\AppData\\Local\\Temp\\ipykernel_1612\\1789959209.py:4: FutureWarning: The frame.append method is deprecated and will be removed from pandas in a future version. Use pandas.concat instead.\n",
      "  turbo_df = turbo_df.append(data, ignore_index = True)\n",
      "C:\\Users\\bashi\\AppData\\Local\\Temp\\ipykernel_1612\\837280139.py:2: DeprecationWarning: executable_path has been deprecated, please pass in a Service object\n",
      "  driver = webdriver.Chrome(\"chromedriver.exe\")\n"
     ]
    },
    {
     "name": "stdout",
     "output_type": "stream",
     "text": [
      "159\n"
     ]
    },
    {
     "name": "stderr",
     "output_type": "stream",
     "text": [
      "C:\\Users\\bashi\\AppData\\Local\\Temp\\ipykernel_1612\\1789959209.py:4: FutureWarning: The frame.append method is deprecated and will be removed from pandas in a future version. Use pandas.concat instead.\n",
      "  turbo_df = turbo_df.append(data, ignore_index = True)\n",
      "C:\\Users\\bashi\\AppData\\Local\\Temp\\ipykernel_1612\\837280139.py:2: DeprecationWarning: executable_path has been deprecated, please pass in a Service object\n",
      "  driver = webdriver.Chrome(\"chromedriver.exe\")\n"
     ]
    },
    {
     "name": "stdout",
     "output_type": "stream",
     "text": [
      "160\n"
     ]
    },
    {
     "name": "stderr",
     "output_type": "stream",
     "text": [
      "C:\\Users\\bashi\\AppData\\Local\\Temp\\ipykernel_1612\\1789959209.py:4: FutureWarning: The frame.append method is deprecated and will be removed from pandas in a future version. Use pandas.concat instead.\n",
      "  turbo_df = turbo_df.append(data, ignore_index = True)\n",
      "C:\\Users\\bashi\\AppData\\Local\\Temp\\ipykernel_1612\\837280139.py:2: DeprecationWarning: executable_path has been deprecated, please pass in a Service object\n",
      "  driver = webdriver.Chrome(\"chromedriver.exe\")\n"
     ]
    },
    {
     "name": "stdout",
     "output_type": "stream",
     "text": [
      "161\n"
     ]
    },
    {
     "name": "stderr",
     "output_type": "stream",
     "text": [
      "C:\\Users\\bashi\\AppData\\Local\\Temp\\ipykernel_1612\\1789959209.py:4: FutureWarning: The frame.append method is deprecated and will be removed from pandas in a future version. Use pandas.concat instead.\n",
      "  turbo_df = turbo_df.append(data, ignore_index = True)\n",
      "C:\\Users\\bashi\\AppData\\Local\\Temp\\ipykernel_1612\\837280139.py:2: DeprecationWarning: executable_path has been deprecated, please pass in a Service object\n",
      "  driver = webdriver.Chrome(\"chromedriver.exe\")\n"
     ]
    },
    {
     "name": "stdout",
     "output_type": "stream",
     "text": [
      "162\n"
     ]
    },
    {
     "name": "stderr",
     "output_type": "stream",
     "text": [
      "C:\\Users\\bashi\\AppData\\Local\\Temp\\ipykernel_1612\\1789959209.py:4: FutureWarning: The frame.append method is deprecated and will be removed from pandas in a future version. Use pandas.concat instead.\n",
      "  turbo_df = turbo_df.append(data, ignore_index = True)\n",
      "C:\\Users\\bashi\\AppData\\Local\\Temp\\ipykernel_1612\\837280139.py:2: DeprecationWarning: executable_path has been deprecated, please pass in a Service object\n",
      "  driver = webdriver.Chrome(\"chromedriver.exe\")\n"
     ]
    },
    {
     "name": "stdout",
     "output_type": "stream",
     "text": [
      "163\n"
     ]
    },
    {
     "name": "stderr",
     "output_type": "stream",
     "text": [
      "C:\\Users\\bashi\\AppData\\Local\\Temp\\ipykernel_1612\\1789959209.py:4: FutureWarning: The frame.append method is deprecated and will be removed from pandas in a future version. Use pandas.concat instead.\n",
      "  turbo_df = turbo_df.append(data, ignore_index = True)\n",
      "C:\\Users\\bashi\\AppData\\Local\\Temp\\ipykernel_1612\\837280139.py:2: DeprecationWarning: executable_path has been deprecated, please pass in a Service object\n",
      "  driver = webdriver.Chrome(\"chromedriver.exe\")\n"
     ]
    },
    {
     "name": "stdout",
     "output_type": "stream",
     "text": [
      "164\n"
     ]
    },
    {
     "name": "stderr",
     "output_type": "stream",
     "text": [
      "C:\\Users\\bashi\\AppData\\Local\\Temp\\ipykernel_1612\\1789959209.py:4: FutureWarning: The frame.append method is deprecated and will be removed from pandas in a future version. Use pandas.concat instead.\n",
      "  turbo_df = turbo_df.append(data, ignore_index = True)\n",
      "C:\\Users\\bashi\\AppData\\Local\\Temp\\ipykernel_1612\\837280139.py:2: DeprecationWarning: executable_path has been deprecated, please pass in a Service object\n",
      "  driver = webdriver.Chrome(\"chromedriver.exe\")\n"
     ]
    },
    {
     "name": "stdout",
     "output_type": "stream",
     "text": [
      "165\n"
     ]
    },
    {
     "name": "stderr",
     "output_type": "stream",
     "text": [
      "C:\\Users\\bashi\\AppData\\Local\\Temp\\ipykernel_1612\\1789959209.py:4: FutureWarning: The frame.append method is deprecated and will be removed from pandas in a future version. Use pandas.concat instead.\n",
      "  turbo_df = turbo_df.append(data, ignore_index = True)\n",
      "C:\\Users\\bashi\\AppData\\Local\\Temp\\ipykernel_1612\\837280139.py:2: DeprecationWarning: executable_path has been deprecated, please pass in a Service object\n",
      "  driver = webdriver.Chrome(\"chromedriver.exe\")\n"
     ]
    },
    {
     "name": "stdout",
     "output_type": "stream",
     "text": [
      "166\n"
     ]
    },
    {
     "name": "stderr",
     "output_type": "stream",
     "text": [
      "C:\\Users\\bashi\\AppData\\Local\\Temp\\ipykernel_1612\\1789959209.py:4: FutureWarning: The frame.append method is deprecated and will be removed from pandas in a future version. Use pandas.concat instead.\n",
      "  turbo_df = turbo_df.append(data, ignore_index = True)\n",
      "C:\\Users\\bashi\\AppData\\Local\\Temp\\ipykernel_1612\\837280139.py:2: DeprecationWarning: executable_path has been deprecated, please pass in a Service object\n",
      "  driver = webdriver.Chrome(\"chromedriver.exe\")\n"
     ]
    },
    {
     "name": "stdout",
     "output_type": "stream",
     "text": [
      "167\n"
     ]
    },
    {
     "name": "stderr",
     "output_type": "stream",
     "text": [
      "C:\\Users\\bashi\\AppData\\Local\\Temp\\ipykernel_1612\\1789959209.py:4: FutureWarning: The frame.append method is deprecated and will be removed from pandas in a future version. Use pandas.concat instead.\n",
      "  turbo_df = turbo_df.append(data, ignore_index = True)\n",
      "C:\\Users\\bashi\\AppData\\Local\\Temp\\ipykernel_1612\\837280139.py:2: DeprecationWarning: executable_path has been deprecated, please pass in a Service object\n",
      "  driver = webdriver.Chrome(\"chromedriver.exe\")\n"
     ]
    },
    {
     "name": "stdout",
     "output_type": "stream",
     "text": [
      "167\n"
     ]
    },
    {
     "name": "stderr",
     "output_type": "stream",
     "text": [
      "C:\\Users\\bashi\\AppData\\Local\\Temp\\ipykernel_1612\\1789959209.py:4: FutureWarning: The frame.append method is deprecated and will be removed from pandas in a future version. Use pandas.concat instead.\n",
      "  turbo_df = turbo_df.append(data, ignore_index = True)\n",
      "C:\\Users\\bashi\\AppData\\Local\\Temp\\ipykernel_1612\\837280139.py:2: DeprecationWarning: executable_path has been deprecated, please pass in a Service object\n",
      "  driver = webdriver.Chrome(\"chromedriver.exe\")\n"
     ]
    },
    {
     "name": "stdout",
     "output_type": "stream",
     "text": [
      "169\n"
     ]
    },
    {
     "name": "stderr",
     "output_type": "stream",
     "text": [
      "C:\\Users\\bashi\\AppData\\Local\\Temp\\ipykernel_1612\\1789959209.py:4: FutureWarning: The frame.append method is deprecated and will be removed from pandas in a future version. Use pandas.concat instead.\n",
      "  turbo_df = turbo_df.append(data, ignore_index = True)\n",
      "C:\\Users\\bashi\\AppData\\Local\\Temp\\ipykernel_1612\\837280139.py:2: DeprecationWarning: executable_path has been deprecated, please pass in a Service object\n",
      "  driver = webdriver.Chrome(\"chromedriver.exe\")\n"
     ]
    },
    {
     "name": "stdout",
     "output_type": "stream",
     "text": [
      "170\n"
     ]
    },
    {
     "name": "stderr",
     "output_type": "stream",
     "text": [
      "C:\\Users\\bashi\\AppData\\Local\\Temp\\ipykernel_1612\\1789959209.py:4: FutureWarning: The frame.append method is deprecated and will be removed from pandas in a future version. Use pandas.concat instead.\n",
      "  turbo_df = turbo_df.append(data, ignore_index = True)\n",
      "C:\\Users\\bashi\\AppData\\Local\\Temp\\ipykernel_1612\\837280139.py:2: DeprecationWarning: executable_path has been deprecated, please pass in a Service object\n",
      "  driver = webdriver.Chrome(\"chromedriver.exe\")\n"
     ]
    },
    {
     "name": "stdout",
     "output_type": "stream",
     "text": [
      "171\n"
     ]
    },
    {
     "name": "stderr",
     "output_type": "stream",
     "text": [
      "C:\\Users\\bashi\\AppData\\Local\\Temp\\ipykernel_1612\\1789959209.py:4: FutureWarning: The frame.append method is deprecated and will be removed from pandas in a future version. Use pandas.concat instead.\n",
      "  turbo_df = turbo_df.append(data, ignore_index = True)\n",
      "C:\\Users\\bashi\\AppData\\Local\\Temp\\ipykernel_1612\\837280139.py:2: DeprecationWarning: executable_path has been deprecated, please pass in a Service object\n",
      "  driver = webdriver.Chrome(\"chromedriver.exe\")\n"
     ]
    },
    {
     "name": "stdout",
     "output_type": "stream",
     "text": [
      "172\n"
     ]
    },
    {
     "name": "stderr",
     "output_type": "stream",
     "text": [
      "C:\\Users\\bashi\\AppData\\Local\\Temp\\ipykernel_1612\\1789959209.py:4: FutureWarning: The frame.append method is deprecated and will be removed from pandas in a future version. Use pandas.concat instead.\n",
      "  turbo_df = turbo_df.append(data, ignore_index = True)\n",
      "C:\\Users\\bashi\\AppData\\Local\\Temp\\ipykernel_1612\\837280139.py:2: DeprecationWarning: executable_path has been deprecated, please pass in a Service object\n",
      "  driver = webdriver.Chrome(\"chromedriver.exe\")\n"
     ]
    },
    {
     "name": "stdout",
     "output_type": "stream",
     "text": [
      "173\n"
     ]
    },
    {
     "name": "stderr",
     "output_type": "stream",
     "text": [
      "C:\\Users\\bashi\\AppData\\Local\\Temp\\ipykernel_1612\\1789959209.py:4: FutureWarning: The frame.append method is deprecated and will be removed from pandas in a future version. Use pandas.concat instead.\n",
      "  turbo_df = turbo_df.append(data, ignore_index = True)\n",
      "C:\\Users\\bashi\\AppData\\Local\\Temp\\ipykernel_1612\\837280139.py:2: DeprecationWarning: executable_path has been deprecated, please pass in a Service object\n",
      "  driver = webdriver.Chrome(\"chromedriver.exe\")\n"
     ]
    },
    {
     "name": "stdout",
     "output_type": "stream",
     "text": [
      "174\n"
     ]
    },
    {
     "name": "stderr",
     "output_type": "stream",
     "text": [
      "C:\\Users\\bashi\\AppData\\Local\\Temp\\ipykernel_1612\\1789959209.py:4: FutureWarning: The frame.append method is deprecated and will be removed from pandas in a future version. Use pandas.concat instead.\n",
      "  turbo_df = turbo_df.append(data, ignore_index = True)\n",
      "C:\\Users\\bashi\\AppData\\Local\\Temp\\ipykernel_1612\\837280139.py:2: DeprecationWarning: executable_path has been deprecated, please pass in a Service object\n",
      "  driver = webdriver.Chrome(\"chromedriver.exe\")\n"
     ]
    },
    {
     "name": "stdout",
     "output_type": "stream",
     "text": [
      "175\n"
     ]
    },
    {
     "name": "stderr",
     "output_type": "stream",
     "text": [
      "C:\\Users\\bashi\\AppData\\Local\\Temp\\ipykernel_1612\\1789959209.py:4: FutureWarning: The frame.append method is deprecated and will be removed from pandas in a future version. Use pandas.concat instead.\n",
      "  turbo_df = turbo_df.append(data, ignore_index = True)\n",
      "C:\\Users\\bashi\\AppData\\Local\\Temp\\ipykernel_1612\\837280139.py:2: DeprecationWarning: executable_path has been deprecated, please pass in a Service object\n",
      "  driver = webdriver.Chrome(\"chromedriver.exe\")\n"
     ]
    },
    {
     "name": "stdout",
     "output_type": "stream",
     "text": [
      "176\n"
     ]
    },
    {
     "name": "stderr",
     "output_type": "stream",
     "text": [
      "C:\\Users\\bashi\\AppData\\Local\\Temp\\ipykernel_1612\\1789959209.py:4: FutureWarning: The frame.append method is deprecated and will be removed from pandas in a future version. Use pandas.concat instead.\n",
      "  turbo_df = turbo_df.append(data, ignore_index = True)\n",
      "C:\\Users\\bashi\\AppData\\Local\\Temp\\ipykernel_1612\\837280139.py:2: DeprecationWarning: executable_path has been deprecated, please pass in a Service object\n",
      "  driver = webdriver.Chrome(\"chromedriver.exe\")\n"
     ]
    },
    {
     "name": "stdout",
     "output_type": "stream",
     "text": [
      "177\n"
     ]
    },
    {
     "name": "stderr",
     "output_type": "stream",
     "text": [
      "C:\\Users\\bashi\\AppData\\Local\\Temp\\ipykernel_1612\\1789959209.py:4: FutureWarning: The frame.append method is deprecated and will be removed from pandas in a future version. Use pandas.concat instead.\n",
      "  turbo_df = turbo_df.append(data, ignore_index = True)\n",
      "C:\\Users\\bashi\\AppData\\Local\\Temp\\ipykernel_1612\\837280139.py:2: DeprecationWarning: executable_path has been deprecated, please pass in a Service object\n",
      "  driver = webdriver.Chrome(\"chromedriver.exe\")\n"
     ]
    },
    {
     "name": "stdout",
     "output_type": "stream",
     "text": [
      "178\n"
     ]
    },
    {
     "name": "stderr",
     "output_type": "stream",
     "text": [
      "C:\\Users\\bashi\\AppData\\Local\\Temp\\ipykernel_1612\\1789959209.py:4: FutureWarning: The frame.append method is deprecated and will be removed from pandas in a future version. Use pandas.concat instead.\n",
      "  turbo_df = turbo_df.append(data, ignore_index = True)\n",
      "C:\\Users\\bashi\\AppData\\Local\\Temp\\ipykernel_1612\\837280139.py:2: DeprecationWarning: executable_path has been deprecated, please pass in a Service object\n",
      "  driver = webdriver.Chrome(\"chromedriver.exe\")\n"
     ]
    },
    {
     "name": "stdout",
     "output_type": "stream",
     "text": [
      "179\n"
     ]
    },
    {
     "name": "stderr",
     "output_type": "stream",
     "text": [
      "C:\\Users\\bashi\\AppData\\Local\\Temp\\ipykernel_1612\\1789959209.py:4: FutureWarning: The frame.append method is deprecated and will be removed from pandas in a future version. Use pandas.concat instead.\n",
      "  turbo_df = turbo_df.append(data, ignore_index = True)\n",
      "C:\\Users\\bashi\\AppData\\Local\\Temp\\ipykernel_1612\\837280139.py:2: DeprecationWarning: executable_path has been deprecated, please pass in a Service object\n",
      "  driver = webdriver.Chrome(\"chromedriver.exe\")\n"
     ]
    },
    {
     "name": "stdout",
     "output_type": "stream",
     "text": [
      "180\n"
     ]
    },
    {
     "name": "stderr",
     "output_type": "stream",
     "text": [
      "C:\\Users\\bashi\\AppData\\Local\\Temp\\ipykernel_1612\\1789959209.py:4: FutureWarning: The frame.append method is deprecated and will be removed from pandas in a future version. Use pandas.concat instead.\n",
      "  turbo_df = turbo_df.append(data, ignore_index = True)\n",
      "C:\\Users\\bashi\\AppData\\Local\\Temp\\ipykernel_1612\\837280139.py:2: DeprecationWarning: executable_path has been deprecated, please pass in a Service object\n",
      "  driver = webdriver.Chrome(\"chromedriver.exe\")\n"
     ]
    },
    {
     "name": "stdout",
     "output_type": "stream",
     "text": [
      "181\n"
     ]
    },
    {
     "name": "stderr",
     "output_type": "stream",
     "text": [
      "C:\\Users\\bashi\\AppData\\Local\\Temp\\ipykernel_1612\\1789959209.py:4: FutureWarning: The frame.append method is deprecated and will be removed from pandas in a future version. Use pandas.concat instead.\n",
      "  turbo_df = turbo_df.append(data, ignore_index = True)\n",
      "C:\\Users\\bashi\\AppData\\Local\\Temp\\ipykernel_1612\\837280139.py:2: DeprecationWarning: executable_path has been deprecated, please pass in a Service object\n",
      "  driver = webdriver.Chrome(\"chromedriver.exe\")\n"
     ]
    },
    {
     "name": "stdout",
     "output_type": "stream",
     "text": [
      "182\n"
     ]
    },
    {
     "name": "stderr",
     "output_type": "stream",
     "text": [
      "C:\\Users\\bashi\\AppData\\Local\\Temp\\ipykernel_1612\\1789959209.py:4: FutureWarning: The frame.append method is deprecated and will be removed from pandas in a future version. Use pandas.concat instead.\n",
      "  turbo_df = turbo_df.append(data, ignore_index = True)\n",
      "C:\\Users\\bashi\\AppData\\Local\\Temp\\ipykernel_1612\\837280139.py:2: DeprecationWarning: executable_path has been deprecated, please pass in a Service object\n",
      "  driver = webdriver.Chrome(\"chromedriver.exe\")\n"
     ]
    },
    {
     "name": "stdout",
     "output_type": "stream",
     "text": [
      "183\n"
     ]
    },
    {
     "name": "stderr",
     "output_type": "stream",
     "text": [
      "C:\\Users\\bashi\\AppData\\Local\\Temp\\ipykernel_1612\\1789959209.py:4: FutureWarning: The frame.append method is deprecated and will be removed from pandas in a future version. Use pandas.concat instead.\n",
      "  turbo_df = turbo_df.append(data, ignore_index = True)\n",
      "C:\\Users\\bashi\\AppData\\Local\\Temp\\ipykernel_1612\\837280139.py:2: DeprecationWarning: executable_path has been deprecated, please pass in a Service object\n",
      "  driver = webdriver.Chrome(\"chromedriver.exe\")\n"
     ]
    },
    {
     "name": "stdout",
     "output_type": "stream",
     "text": [
      "184\n"
     ]
    },
    {
     "name": "stderr",
     "output_type": "stream",
     "text": [
      "C:\\Users\\bashi\\AppData\\Local\\Temp\\ipykernel_1612\\1789959209.py:4: FutureWarning: The frame.append method is deprecated and will be removed from pandas in a future version. Use pandas.concat instead.\n",
      "  turbo_df = turbo_df.append(data, ignore_index = True)\n",
      "C:\\Users\\bashi\\AppData\\Local\\Temp\\ipykernel_1612\\837280139.py:2: DeprecationWarning: executable_path has been deprecated, please pass in a Service object\n",
      "  driver = webdriver.Chrome(\"chromedriver.exe\")\n"
     ]
    },
    {
     "name": "stdout",
     "output_type": "stream",
     "text": [
      "185\n"
     ]
    },
    {
     "name": "stderr",
     "output_type": "stream",
     "text": [
      "C:\\Users\\bashi\\AppData\\Local\\Temp\\ipykernel_1612\\1789959209.py:4: FutureWarning: The frame.append method is deprecated and will be removed from pandas in a future version. Use pandas.concat instead.\n",
      "  turbo_df = turbo_df.append(data, ignore_index = True)\n",
      "C:\\Users\\bashi\\AppData\\Local\\Temp\\ipykernel_1612\\837280139.py:2: DeprecationWarning: executable_path has been deprecated, please pass in a Service object\n",
      "  driver = webdriver.Chrome(\"chromedriver.exe\")\n"
     ]
    },
    {
     "name": "stdout",
     "output_type": "stream",
     "text": [
      "186\n"
     ]
    },
    {
     "name": "stderr",
     "output_type": "stream",
     "text": [
      "C:\\Users\\bashi\\AppData\\Local\\Temp\\ipykernel_1612\\1789959209.py:4: FutureWarning: The frame.append method is deprecated and will be removed from pandas in a future version. Use pandas.concat instead.\n",
      "  turbo_df = turbo_df.append(data, ignore_index = True)\n",
      "C:\\Users\\bashi\\AppData\\Local\\Temp\\ipykernel_1612\\837280139.py:2: DeprecationWarning: executable_path has been deprecated, please pass in a Service object\n",
      "  driver = webdriver.Chrome(\"chromedriver.exe\")\n"
     ]
    },
    {
     "name": "stdout",
     "output_type": "stream",
     "text": [
      "187\n"
     ]
    },
    {
     "name": "stderr",
     "output_type": "stream",
     "text": [
      "C:\\Users\\bashi\\AppData\\Local\\Temp\\ipykernel_1612\\1789959209.py:4: FutureWarning: The frame.append method is deprecated and will be removed from pandas in a future version. Use pandas.concat instead.\n",
      "  turbo_df = turbo_df.append(data, ignore_index = True)\n",
      "C:\\Users\\bashi\\AppData\\Local\\Temp\\ipykernel_1612\\837280139.py:2: DeprecationWarning: executable_path has been deprecated, please pass in a Service object\n",
      "  driver = webdriver.Chrome(\"chromedriver.exe\")\n"
     ]
    },
    {
     "name": "stdout",
     "output_type": "stream",
     "text": [
      "188\n"
     ]
    },
    {
     "name": "stderr",
     "output_type": "stream",
     "text": [
      "C:\\Users\\bashi\\AppData\\Local\\Temp\\ipykernel_1612\\1789959209.py:4: FutureWarning: The frame.append method is deprecated and will be removed from pandas in a future version. Use pandas.concat instead.\n",
      "  turbo_df = turbo_df.append(data, ignore_index = True)\n",
      "C:\\Users\\bashi\\AppData\\Local\\Temp\\ipykernel_1612\\837280139.py:2: DeprecationWarning: executable_path has been deprecated, please pass in a Service object\n",
      "  driver = webdriver.Chrome(\"chromedriver.exe\")\n"
     ]
    },
    {
     "name": "stdout",
     "output_type": "stream",
     "text": [
      "189\n"
     ]
    },
    {
     "name": "stderr",
     "output_type": "stream",
     "text": [
      "C:\\Users\\bashi\\AppData\\Local\\Temp\\ipykernel_1612\\1789959209.py:4: FutureWarning: The frame.append method is deprecated and will be removed from pandas in a future version. Use pandas.concat instead.\n",
      "  turbo_df = turbo_df.append(data, ignore_index = True)\n",
      "C:\\Users\\bashi\\AppData\\Local\\Temp\\ipykernel_1612\\837280139.py:2: DeprecationWarning: executable_path has been deprecated, please pass in a Service object\n",
      "  driver = webdriver.Chrome(\"chromedriver.exe\")\n"
     ]
    },
    {
     "name": "stdout",
     "output_type": "stream",
     "text": [
      "190\n"
     ]
    },
    {
     "name": "stderr",
     "output_type": "stream",
     "text": [
      "C:\\Users\\bashi\\AppData\\Local\\Temp\\ipykernel_1612\\1789959209.py:4: FutureWarning: The frame.append method is deprecated and will be removed from pandas in a future version. Use pandas.concat instead.\n",
      "  turbo_df = turbo_df.append(data, ignore_index = True)\n",
      "C:\\Users\\bashi\\AppData\\Local\\Temp\\ipykernel_1612\\837280139.py:2: DeprecationWarning: executable_path has been deprecated, please pass in a Service object\n",
      "  driver = webdriver.Chrome(\"chromedriver.exe\")\n"
     ]
    },
    {
     "name": "stdout",
     "output_type": "stream",
     "text": [
      "191\n"
     ]
    },
    {
     "name": "stderr",
     "output_type": "stream",
     "text": [
      "C:\\Users\\bashi\\AppData\\Local\\Temp\\ipykernel_1612\\1789959209.py:4: FutureWarning: The frame.append method is deprecated and will be removed from pandas in a future version. Use pandas.concat instead.\n",
      "  turbo_df = turbo_df.append(data, ignore_index = True)\n",
      "C:\\Users\\bashi\\AppData\\Local\\Temp\\ipykernel_1612\\837280139.py:2: DeprecationWarning: executable_path has been deprecated, please pass in a Service object\n",
      "  driver = webdriver.Chrome(\"chromedriver.exe\")\n"
     ]
    },
    {
     "name": "stdout",
     "output_type": "stream",
     "text": [
      "191\n"
     ]
    },
    {
     "name": "stderr",
     "output_type": "stream",
     "text": [
      "C:\\Users\\bashi\\AppData\\Local\\Temp\\ipykernel_1612\\1789959209.py:4: FutureWarning: The frame.append method is deprecated and will be removed from pandas in a future version. Use pandas.concat instead.\n",
      "  turbo_df = turbo_df.append(data, ignore_index = True)\n",
      "C:\\Users\\bashi\\AppData\\Local\\Temp\\ipykernel_1612\\837280139.py:2: DeprecationWarning: executable_path has been deprecated, please pass in a Service object\n",
      "  driver = webdriver.Chrome(\"chromedriver.exe\")\n"
     ]
    },
    {
     "name": "stdout",
     "output_type": "stream",
     "text": [
      "193\n"
     ]
    },
    {
     "name": "stderr",
     "output_type": "stream",
     "text": [
      "C:\\Users\\bashi\\AppData\\Local\\Temp\\ipykernel_1612\\1789959209.py:4: FutureWarning: The frame.append method is deprecated and will be removed from pandas in a future version. Use pandas.concat instead.\n",
      "  turbo_df = turbo_df.append(data, ignore_index = True)\n",
      "C:\\Users\\bashi\\AppData\\Local\\Temp\\ipykernel_1612\\837280139.py:2: DeprecationWarning: executable_path has been deprecated, please pass in a Service object\n",
      "  driver = webdriver.Chrome(\"chromedriver.exe\")\n"
     ]
    },
    {
     "name": "stdout",
     "output_type": "stream",
     "text": [
      "194\n"
     ]
    },
    {
     "name": "stderr",
     "output_type": "stream",
     "text": [
      "C:\\Users\\bashi\\AppData\\Local\\Temp\\ipykernel_1612\\1789959209.py:4: FutureWarning: The frame.append method is deprecated and will be removed from pandas in a future version. Use pandas.concat instead.\n",
      "  turbo_df = turbo_df.append(data, ignore_index = True)\n",
      "C:\\Users\\bashi\\AppData\\Local\\Temp\\ipykernel_1612\\837280139.py:2: DeprecationWarning: executable_path has been deprecated, please pass in a Service object\n",
      "  driver = webdriver.Chrome(\"chromedriver.exe\")\n"
     ]
    },
    {
     "name": "stdout",
     "output_type": "stream",
     "text": [
      "195\n"
     ]
    },
    {
     "name": "stderr",
     "output_type": "stream",
     "text": [
      "C:\\Users\\bashi\\AppData\\Local\\Temp\\ipykernel_1612\\1789959209.py:4: FutureWarning: The frame.append method is deprecated and will be removed from pandas in a future version. Use pandas.concat instead.\n",
      "  turbo_df = turbo_df.append(data, ignore_index = True)\n",
      "C:\\Users\\bashi\\AppData\\Local\\Temp\\ipykernel_1612\\837280139.py:2: DeprecationWarning: executable_path has been deprecated, please pass in a Service object\n",
      "  driver = webdriver.Chrome(\"chromedriver.exe\")\n"
     ]
    },
    {
     "name": "stdout",
     "output_type": "stream",
     "text": [
      "196\n"
     ]
    },
    {
     "name": "stderr",
     "output_type": "stream",
     "text": [
      "C:\\Users\\bashi\\AppData\\Local\\Temp\\ipykernel_1612\\1789959209.py:4: FutureWarning: The frame.append method is deprecated and will be removed from pandas in a future version. Use pandas.concat instead.\n",
      "  turbo_df = turbo_df.append(data, ignore_index = True)\n",
      "C:\\Users\\bashi\\AppData\\Local\\Temp\\ipykernel_1612\\837280139.py:2: DeprecationWarning: executable_path has been deprecated, please pass in a Service object\n",
      "  driver = webdriver.Chrome(\"chromedriver.exe\")\n"
     ]
    },
    {
     "name": "stdout",
     "output_type": "stream",
     "text": [
      "197\n"
     ]
    },
    {
     "name": "stderr",
     "output_type": "stream",
     "text": [
      "C:\\Users\\bashi\\AppData\\Local\\Temp\\ipykernel_1612\\1789959209.py:4: FutureWarning: The frame.append method is deprecated and will be removed from pandas in a future version. Use pandas.concat instead.\n",
      "  turbo_df = turbo_df.append(data, ignore_index = True)\n",
      "C:\\Users\\bashi\\AppData\\Local\\Temp\\ipykernel_1612\\837280139.py:2: DeprecationWarning: executable_path has been deprecated, please pass in a Service object\n",
      "  driver = webdriver.Chrome(\"chromedriver.exe\")\n"
     ]
    },
    {
     "name": "stdout",
     "output_type": "stream",
     "text": [
      "198\n"
     ]
    },
    {
     "name": "stderr",
     "output_type": "stream",
     "text": [
      "C:\\Users\\bashi\\AppData\\Local\\Temp\\ipykernel_1612\\1789959209.py:4: FutureWarning: The frame.append method is deprecated and will be removed from pandas in a future version. Use pandas.concat instead.\n",
      "  turbo_df = turbo_df.append(data, ignore_index = True)\n",
      "C:\\Users\\bashi\\AppData\\Local\\Temp\\ipykernel_1612\\837280139.py:2: DeprecationWarning: executable_path has been deprecated, please pass in a Service object\n",
      "  driver = webdriver.Chrome(\"chromedriver.exe\")\n"
     ]
    },
    {
     "name": "stdout",
     "output_type": "stream",
     "text": [
      "199\n"
     ]
    },
    {
     "name": "stderr",
     "output_type": "stream",
     "text": [
      "C:\\Users\\bashi\\AppData\\Local\\Temp\\ipykernel_1612\\1789959209.py:4: FutureWarning: The frame.append method is deprecated and will be removed from pandas in a future version. Use pandas.concat instead.\n",
      "  turbo_df = turbo_df.append(data, ignore_index = True)\n",
      "C:\\Users\\bashi\\AppData\\Local\\Temp\\ipykernel_1612\\837280139.py:2: DeprecationWarning: executable_path has been deprecated, please pass in a Service object\n",
      "  driver = webdriver.Chrome(\"chromedriver.exe\")\n"
     ]
    },
    {
     "name": "stdout",
     "output_type": "stream",
     "text": [
      "200\n"
     ]
    },
    {
     "name": "stderr",
     "output_type": "stream",
     "text": [
      "C:\\Users\\bashi\\AppData\\Local\\Temp\\ipykernel_1612\\1789959209.py:4: FutureWarning: The frame.append method is deprecated and will be removed from pandas in a future version. Use pandas.concat instead.\n",
      "  turbo_df = turbo_df.append(data, ignore_index = True)\n",
      "C:\\Users\\bashi\\AppData\\Local\\Temp\\ipykernel_1612\\837280139.py:2: DeprecationWarning: executable_path has been deprecated, please pass in a Service object\n",
      "  driver = webdriver.Chrome(\"chromedriver.exe\")\n"
     ]
    },
    {
     "name": "stdout",
     "output_type": "stream",
     "text": [
      "201\n"
     ]
    },
    {
     "name": "stderr",
     "output_type": "stream",
     "text": [
      "C:\\Users\\bashi\\AppData\\Local\\Temp\\ipykernel_1612\\1789959209.py:4: FutureWarning: The frame.append method is deprecated and will be removed from pandas in a future version. Use pandas.concat instead.\n",
      "  turbo_df = turbo_df.append(data, ignore_index = True)\n",
      "C:\\Users\\bashi\\AppData\\Local\\Temp\\ipykernel_1612\\837280139.py:2: DeprecationWarning: executable_path has been deprecated, please pass in a Service object\n",
      "  driver = webdriver.Chrome(\"chromedriver.exe\")\n"
     ]
    },
    {
     "name": "stdout",
     "output_type": "stream",
     "text": [
      "202\n"
     ]
    },
    {
     "name": "stderr",
     "output_type": "stream",
     "text": [
      "C:\\Users\\bashi\\AppData\\Local\\Temp\\ipykernel_1612\\1789959209.py:4: FutureWarning: The frame.append method is deprecated and will be removed from pandas in a future version. Use pandas.concat instead.\n",
      "  turbo_df = turbo_df.append(data, ignore_index = True)\n",
      "C:\\Users\\bashi\\AppData\\Local\\Temp\\ipykernel_1612\\837280139.py:2: DeprecationWarning: executable_path has been deprecated, please pass in a Service object\n",
      "  driver = webdriver.Chrome(\"chromedriver.exe\")\n"
     ]
    },
    {
     "name": "stdout",
     "output_type": "stream",
     "text": [
      "203\n"
     ]
    },
    {
     "name": "stderr",
     "output_type": "stream",
     "text": [
      "C:\\Users\\bashi\\AppData\\Local\\Temp\\ipykernel_1612\\1789959209.py:4: FutureWarning: The frame.append method is deprecated and will be removed from pandas in a future version. Use pandas.concat instead.\n",
      "  turbo_df = turbo_df.append(data, ignore_index = True)\n",
      "C:\\Users\\bashi\\AppData\\Local\\Temp\\ipykernel_1612\\837280139.py:2: DeprecationWarning: executable_path has been deprecated, please pass in a Service object\n",
      "  driver = webdriver.Chrome(\"chromedriver.exe\")\n"
     ]
    },
    {
     "name": "stdout",
     "output_type": "stream",
     "text": [
      "204\n"
     ]
    },
    {
     "name": "stderr",
     "output_type": "stream",
     "text": [
      "C:\\Users\\bashi\\AppData\\Local\\Temp\\ipykernel_1612\\1789959209.py:4: FutureWarning: The frame.append method is deprecated and will be removed from pandas in a future version. Use pandas.concat instead.\n",
      "  turbo_df = turbo_df.append(data, ignore_index = True)\n",
      "C:\\Users\\bashi\\AppData\\Local\\Temp\\ipykernel_1612\\837280139.py:2: DeprecationWarning: executable_path has been deprecated, please pass in a Service object\n",
      "  driver = webdriver.Chrome(\"chromedriver.exe\")\n"
     ]
    },
    {
     "name": "stdout",
     "output_type": "stream",
     "text": [
      "205\n"
     ]
    },
    {
     "name": "stderr",
     "output_type": "stream",
     "text": [
      "C:\\Users\\bashi\\AppData\\Local\\Temp\\ipykernel_1612\\1789959209.py:4: FutureWarning: The frame.append method is deprecated and will be removed from pandas in a future version. Use pandas.concat instead.\n",
      "  turbo_df = turbo_df.append(data, ignore_index = True)\n",
      "C:\\Users\\bashi\\AppData\\Local\\Temp\\ipykernel_1612\\837280139.py:2: DeprecationWarning: executable_path has been deprecated, please pass in a Service object\n",
      "  driver = webdriver.Chrome(\"chromedriver.exe\")\n"
     ]
    },
    {
     "name": "stdout",
     "output_type": "stream",
     "text": [
      "206\n"
     ]
    },
    {
     "name": "stderr",
     "output_type": "stream",
     "text": [
      "C:\\Users\\bashi\\AppData\\Local\\Temp\\ipykernel_1612\\1789959209.py:4: FutureWarning: The frame.append method is deprecated and will be removed from pandas in a future version. Use pandas.concat instead.\n",
      "  turbo_df = turbo_df.append(data, ignore_index = True)\n",
      "C:\\Users\\bashi\\AppData\\Local\\Temp\\ipykernel_1612\\837280139.py:2: DeprecationWarning: executable_path has been deprecated, please pass in a Service object\n",
      "  driver = webdriver.Chrome(\"chromedriver.exe\")\n"
     ]
    },
    {
     "name": "stdout",
     "output_type": "stream",
     "text": [
      "207\n"
     ]
    },
    {
     "name": "stderr",
     "output_type": "stream",
     "text": [
      "C:\\Users\\bashi\\AppData\\Local\\Temp\\ipykernel_1612\\1789959209.py:4: FutureWarning: The frame.append method is deprecated and will be removed from pandas in a future version. Use pandas.concat instead.\n",
      "  turbo_df = turbo_df.append(data, ignore_index = True)\n",
      "C:\\Users\\bashi\\AppData\\Local\\Temp\\ipykernel_1612\\837280139.py:2: DeprecationWarning: executable_path has been deprecated, please pass in a Service object\n",
      "  driver = webdriver.Chrome(\"chromedriver.exe\")\n"
     ]
    },
    {
     "name": "stdout",
     "output_type": "stream",
     "text": [
      "208\n"
     ]
    },
    {
     "name": "stderr",
     "output_type": "stream",
     "text": [
      "C:\\Users\\bashi\\AppData\\Local\\Temp\\ipykernel_1612\\1789959209.py:4: FutureWarning: The frame.append method is deprecated and will be removed from pandas in a future version. Use pandas.concat instead.\n",
      "  turbo_df = turbo_df.append(data, ignore_index = True)\n",
      "C:\\Users\\bashi\\AppData\\Local\\Temp\\ipykernel_1612\\837280139.py:2: DeprecationWarning: executable_path has been deprecated, please pass in a Service object\n",
      "  driver = webdriver.Chrome(\"chromedriver.exe\")\n"
     ]
    },
    {
     "name": "stdout",
     "output_type": "stream",
     "text": [
      "209\n"
     ]
    },
    {
     "name": "stderr",
     "output_type": "stream",
     "text": [
      "C:\\Users\\bashi\\AppData\\Local\\Temp\\ipykernel_1612\\1789959209.py:4: FutureWarning: The frame.append method is deprecated and will be removed from pandas in a future version. Use pandas.concat instead.\n",
      "  turbo_df = turbo_df.append(data, ignore_index = True)\n",
      "C:\\Users\\bashi\\AppData\\Local\\Temp\\ipykernel_1612\\837280139.py:2: DeprecationWarning: executable_path has been deprecated, please pass in a Service object\n",
      "  driver = webdriver.Chrome(\"chromedriver.exe\")\n"
     ]
    },
    {
     "name": "stdout",
     "output_type": "stream",
     "text": [
      "210\n"
     ]
    },
    {
     "name": "stderr",
     "output_type": "stream",
     "text": [
      "C:\\Users\\bashi\\AppData\\Local\\Temp\\ipykernel_1612\\1789959209.py:4: FutureWarning: The frame.append method is deprecated and will be removed from pandas in a future version. Use pandas.concat instead.\n",
      "  turbo_df = turbo_df.append(data, ignore_index = True)\n",
      "C:\\Users\\bashi\\AppData\\Local\\Temp\\ipykernel_1612\\837280139.py:2: DeprecationWarning: executable_path has been deprecated, please pass in a Service object\n",
      "  driver = webdriver.Chrome(\"chromedriver.exe\")\n"
     ]
    },
    {
     "name": "stdout",
     "output_type": "stream",
     "text": [
      "211\n"
     ]
    },
    {
     "name": "stderr",
     "output_type": "stream",
     "text": [
      "C:\\Users\\bashi\\AppData\\Local\\Temp\\ipykernel_1612\\1789959209.py:4: FutureWarning: The frame.append method is deprecated and will be removed from pandas in a future version. Use pandas.concat instead.\n",
      "  turbo_df = turbo_df.append(data, ignore_index = True)\n",
      "C:\\Users\\bashi\\AppData\\Local\\Temp\\ipykernel_1612\\837280139.py:2: DeprecationWarning: executable_path has been deprecated, please pass in a Service object\n",
      "  driver = webdriver.Chrome(\"chromedriver.exe\")\n"
     ]
    },
    {
     "name": "stdout",
     "output_type": "stream",
     "text": [
      "212\n"
     ]
    },
    {
     "name": "stderr",
     "output_type": "stream",
     "text": [
      "C:\\Users\\bashi\\AppData\\Local\\Temp\\ipykernel_1612\\1789959209.py:4: FutureWarning: The frame.append method is deprecated and will be removed from pandas in a future version. Use pandas.concat instead.\n",
      "  turbo_df = turbo_df.append(data, ignore_index = True)\n",
      "C:\\Users\\bashi\\AppData\\Local\\Temp\\ipykernel_1612\\837280139.py:2: DeprecationWarning: executable_path has been deprecated, please pass in a Service object\n",
      "  driver = webdriver.Chrome(\"chromedriver.exe\")\n"
     ]
    },
    {
     "name": "stdout",
     "output_type": "stream",
     "text": [
      "213\n"
     ]
    },
    {
     "name": "stderr",
     "output_type": "stream",
     "text": [
      "C:\\Users\\bashi\\AppData\\Local\\Temp\\ipykernel_1612\\1789959209.py:4: FutureWarning: The frame.append method is deprecated and will be removed from pandas in a future version. Use pandas.concat instead.\n",
      "  turbo_df = turbo_df.append(data, ignore_index = True)\n",
      "C:\\Users\\bashi\\AppData\\Local\\Temp\\ipykernel_1612\\837280139.py:2: DeprecationWarning: executable_path has been deprecated, please pass in a Service object\n",
      "  driver = webdriver.Chrome(\"chromedriver.exe\")\n"
     ]
    },
    {
     "name": "stdout",
     "output_type": "stream",
     "text": [
      "214\n"
     ]
    },
    {
     "name": "stderr",
     "output_type": "stream",
     "text": [
      "C:\\Users\\bashi\\AppData\\Local\\Temp\\ipykernel_1612\\1789959209.py:4: FutureWarning: The frame.append method is deprecated and will be removed from pandas in a future version. Use pandas.concat instead.\n",
      "  turbo_df = turbo_df.append(data, ignore_index = True)\n",
      "C:\\Users\\bashi\\AppData\\Local\\Temp\\ipykernel_1612\\837280139.py:2: DeprecationWarning: executable_path has been deprecated, please pass in a Service object\n",
      "  driver = webdriver.Chrome(\"chromedriver.exe\")\n"
     ]
    },
    {
     "name": "stdout",
     "output_type": "stream",
     "text": [
      "215\n"
     ]
    },
    {
     "name": "stderr",
     "output_type": "stream",
     "text": [
      "C:\\Users\\bashi\\AppData\\Local\\Temp\\ipykernel_1612\\1789959209.py:4: FutureWarning: The frame.append method is deprecated and will be removed from pandas in a future version. Use pandas.concat instead.\n",
      "  turbo_df = turbo_df.append(data, ignore_index = True)\n",
      "C:\\Users\\bashi\\AppData\\Local\\Temp\\ipykernel_1612\\837280139.py:2: DeprecationWarning: executable_path has been deprecated, please pass in a Service object\n",
      "  driver = webdriver.Chrome(\"chromedriver.exe\")\n"
     ]
    },
    {
     "name": "stdout",
     "output_type": "stream",
     "text": [
      "216\n"
     ]
    },
    {
     "name": "stderr",
     "output_type": "stream",
     "text": [
      "C:\\Users\\bashi\\AppData\\Local\\Temp\\ipykernel_1612\\1789959209.py:4: FutureWarning: The frame.append method is deprecated and will be removed from pandas in a future version. Use pandas.concat instead.\n",
      "  turbo_df = turbo_df.append(data, ignore_index = True)\n",
      "C:\\Users\\bashi\\AppData\\Local\\Temp\\ipykernel_1612\\837280139.py:2: DeprecationWarning: executable_path has been deprecated, please pass in a Service object\n",
      "  driver = webdriver.Chrome(\"chromedriver.exe\")\n"
     ]
    },
    {
     "name": "stdout",
     "output_type": "stream",
     "text": [
      "217\n"
     ]
    },
    {
     "name": "stderr",
     "output_type": "stream",
     "text": [
      "C:\\Users\\bashi\\AppData\\Local\\Temp\\ipykernel_1612\\1789959209.py:4: FutureWarning: The frame.append method is deprecated and will be removed from pandas in a future version. Use pandas.concat instead.\n",
      "  turbo_df = turbo_df.append(data, ignore_index = True)\n",
      "C:\\Users\\bashi\\AppData\\Local\\Temp\\ipykernel_1612\\837280139.py:2: DeprecationWarning: executable_path has been deprecated, please pass in a Service object\n",
      "  driver = webdriver.Chrome(\"chromedriver.exe\")\n"
     ]
    },
    {
     "name": "stdout",
     "output_type": "stream",
     "text": [
      "218\n"
     ]
    },
    {
     "name": "stderr",
     "output_type": "stream",
     "text": [
      "C:\\Users\\bashi\\AppData\\Local\\Temp\\ipykernel_1612\\1789959209.py:4: FutureWarning: The frame.append method is deprecated and will be removed from pandas in a future version. Use pandas.concat instead.\n",
      "  turbo_df = turbo_df.append(data, ignore_index = True)\n",
      "C:\\Users\\bashi\\AppData\\Local\\Temp\\ipykernel_1612\\837280139.py:2: DeprecationWarning: executable_path has been deprecated, please pass in a Service object\n",
      "  driver = webdriver.Chrome(\"chromedriver.exe\")\n"
     ]
    },
    {
     "name": "stdout",
     "output_type": "stream",
     "text": [
      "219\n"
     ]
    },
    {
     "name": "stderr",
     "output_type": "stream",
     "text": [
      "C:\\Users\\bashi\\AppData\\Local\\Temp\\ipykernel_1612\\1789959209.py:4: FutureWarning: The frame.append method is deprecated and will be removed from pandas in a future version. Use pandas.concat instead.\n",
      "  turbo_df = turbo_df.append(data, ignore_index = True)\n",
      "C:\\Users\\bashi\\AppData\\Local\\Temp\\ipykernel_1612\\837280139.py:2: DeprecationWarning: executable_path has been deprecated, please pass in a Service object\n",
      "  driver = webdriver.Chrome(\"chromedriver.exe\")\n"
     ]
    },
    {
     "name": "stdout",
     "output_type": "stream",
     "text": [
      "220\n"
     ]
    },
    {
     "name": "stderr",
     "output_type": "stream",
     "text": [
      "C:\\Users\\bashi\\AppData\\Local\\Temp\\ipykernel_1612\\1789959209.py:4: FutureWarning: The frame.append method is deprecated and will be removed from pandas in a future version. Use pandas.concat instead.\n",
      "  turbo_df = turbo_df.append(data, ignore_index = True)\n",
      "C:\\Users\\bashi\\AppData\\Local\\Temp\\ipykernel_1612\\837280139.py:2: DeprecationWarning: executable_path has been deprecated, please pass in a Service object\n",
      "  driver = webdriver.Chrome(\"chromedriver.exe\")\n"
     ]
    },
    {
     "name": "stdout",
     "output_type": "stream",
     "text": [
      "221\n"
     ]
    },
    {
     "name": "stderr",
     "output_type": "stream",
     "text": [
      "C:\\Users\\bashi\\AppData\\Local\\Temp\\ipykernel_1612\\1789959209.py:4: FutureWarning: The frame.append method is deprecated and will be removed from pandas in a future version. Use pandas.concat instead.\n",
      "  turbo_df = turbo_df.append(data, ignore_index = True)\n",
      "C:\\Users\\bashi\\AppData\\Local\\Temp\\ipykernel_1612\\837280139.py:2: DeprecationWarning: executable_path has been deprecated, please pass in a Service object\n",
      "  driver = webdriver.Chrome(\"chromedriver.exe\")\n"
     ]
    },
    {
     "name": "stdout",
     "output_type": "stream",
     "text": [
      "222\n"
     ]
    },
    {
     "name": "stderr",
     "output_type": "stream",
     "text": [
      "C:\\Users\\bashi\\AppData\\Local\\Temp\\ipykernel_1612\\1789959209.py:4: FutureWarning: The frame.append method is deprecated and will be removed from pandas in a future version. Use pandas.concat instead.\n",
      "  turbo_df = turbo_df.append(data, ignore_index = True)\n",
      "C:\\Users\\bashi\\AppData\\Local\\Temp\\ipykernel_1612\\837280139.py:2: DeprecationWarning: executable_path has been deprecated, please pass in a Service object\n",
      "  driver = webdriver.Chrome(\"chromedriver.exe\")\n"
     ]
    },
    {
     "name": "stdout",
     "output_type": "stream",
     "text": [
      "223\n"
     ]
    },
    {
     "name": "stderr",
     "output_type": "stream",
     "text": [
      "C:\\Users\\bashi\\AppData\\Local\\Temp\\ipykernel_1612\\1789959209.py:4: FutureWarning: The frame.append method is deprecated and will be removed from pandas in a future version. Use pandas.concat instead.\n",
      "  turbo_df = turbo_df.append(data, ignore_index = True)\n",
      "C:\\Users\\bashi\\AppData\\Local\\Temp\\ipykernel_1612\\837280139.py:2: DeprecationWarning: executable_path has been deprecated, please pass in a Service object\n",
      "  driver = webdriver.Chrome(\"chromedriver.exe\")\n"
     ]
    },
    {
     "name": "stdout",
     "output_type": "stream",
     "text": [
      "224\n"
     ]
    },
    {
     "name": "stderr",
     "output_type": "stream",
     "text": [
      "C:\\Users\\bashi\\AppData\\Local\\Temp\\ipykernel_1612\\1789959209.py:4: FutureWarning: The frame.append method is deprecated and will be removed from pandas in a future version. Use pandas.concat instead.\n",
      "  turbo_df = turbo_df.append(data, ignore_index = True)\n",
      "C:\\Users\\bashi\\AppData\\Local\\Temp\\ipykernel_1612\\837280139.py:2: DeprecationWarning: executable_path has been deprecated, please pass in a Service object\n",
      "  driver = webdriver.Chrome(\"chromedriver.exe\")\n"
     ]
    },
    {
     "name": "stdout",
     "output_type": "stream",
     "text": [
      "225\n"
     ]
    },
    {
     "name": "stderr",
     "output_type": "stream",
     "text": [
      "C:\\Users\\bashi\\AppData\\Local\\Temp\\ipykernel_1612\\1789959209.py:4: FutureWarning: The frame.append method is deprecated and will be removed from pandas in a future version. Use pandas.concat instead.\n",
      "  turbo_df = turbo_df.append(data, ignore_index = True)\n",
      "C:\\Users\\bashi\\AppData\\Local\\Temp\\ipykernel_1612\\837280139.py:2: DeprecationWarning: executable_path has been deprecated, please pass in a Service object\n",
      "  driver = webdriver.Chrome(\"chromedriver.exe\")\n"
     ]
    },
    {
     "name": "stdout",
     "output_type": "stream",
     "text": [
      "226\n"
     ]
    },
    {
     "name": "stderr",
     "output_type": "stream",
     "text": [
      "C:\\Users\\bashi\\AppData\\Local\\Temp\\ipykernel_1612\\1789959209.py:4: FutureWarning: The frame.append method is deprecated and will be removed from pandas in a future version. Use pandas.concat instead.\n",
      "  turbo_df = turbo_df.append(data, ignore_index = True)\n",
      "C:\\Users\\bashi\\AppData\\Local\\Temp\\ipykernel_1612\\837280139.py:2: DeprecationWarning: executable_path has been deprecated, please pass in a Service object\n",
      "  driver = webdriver.Chrome(\"chromedriver.exe\")\n"
     ]
    },
    {
     "name": "stdout",
     "output_type": "stream",
     "text": [
      "227\n"
     ]
    },
    {
     "name": "stderr",
     "output_type": "stream",
     "text": [
      "C:\\Users\\bashi\\AppData\\Local\\Temp\\ipykernel_1612\\1789959209.py:4: FutureWarning: The frame.append method is deprecated and will be removed from pandas in a future version. Use pandas.concat instead.\n",
      "  turbo_df = turbo_df.append(data, ignore_index = True)\n",
      "C:\\Users\\bashi\\AppData\\Local\\Temp\\ipykernel_1612\\837280139.py:2: DeprecationWarning: executable_path has been deprecated, please pass in a Service object\n",
      "  driver = webdriver.Chrome(\"chromedriver.exe\")\n"
     ]
    },
    {
     "name": "stdout",
     "output_type": "stream",
     "text": [
      "228\n"
     ]
    },
    {
     "name": "stderr",
     "output_type": "stream",
     "text": [
      "C:\\Users\\bashi\\AppData\\Local\\Temp\\ipykernel_1612\\1789959209.py:4: FutureWarning: The frame.append method is deprecated and will be removed from pandas in a future version. Use pandas.concat instead.\n",
      "  turbo_df = turbo_df.append(data, ignore_index = True)\n",
      "C:\\Users\\bashi\\AppData\\Local\\Temp\\ipykernel_1612\\837280139.py:2: DeprecationWarning: executable_path has been deprecated, please pass in a Service object\n",
      "  driver = webdriver.Chrome(\"chromedriver.exe\")\n"
     ]
    },
    {
     "name": "stdout",
     "output_type": "stream",
     "text": [
      "229\n"
     ]
    },
    {
     "name": "stderr",
     "output_type": "stream",
     "text": [
      "C:\\Users\\bashi\\AppData\\Local\\Temp\\ipykernel_1612\\1789959209.py:4: FutureWarning: The frame.append method is deprecated and will be removed from pandas in a future version. Use pandas.concat instead.\n",
      "  turbo_df = turbo_df.append(data, ignore_index = True)\n",
      "C:\\Users\\bashi\\AppData\\Local\\Temp\\ipykernel_1612\\837280139.py:2: DeprecationWarning: executable_path has been deprecated, please pass in a Service object\n",
      "  driver = webdriver.Chrome(\"chromedriver.exe\")\n"
     ]
    },
    {
     "name": "stdout",
     "output_type": "stream",
     "text": [
      "230\n"
     ]
    },
    {
     "name": "stderr",
     "output_type": "stream",
     "text": [
      "C:\\Users\\bashi\\AppData\\Local\\Temp\\ipykernel_1612\\1789959209.py:4: FutureWarning: The frame.append method is deprecated and will be removed from pandas in a future version. Use pandas.concat instead.\n",
      "  turbo_df = turbo_df.append(data, ignore_index = True)\n",
      "C:\\Users\\bashi\\AppData\\Local\\Temp\\ipykernel_1612\\837280139.py:2: DeprecationWarning: executable_path has been deprecated, please pass in a Service object\n",
      "  driver = webdriver.Chrome(\"chromedriver.exe\")\n"
     ]
    },
    {
     "name": "stdout",
     "output_type": "stream",
     "text": [
      "231\n"
     ]
    },
    {
     "name": "stderr",
     "output_type": "stream",
     "text": [
      "C:\\Users\\bashi\\AppData\\Local\\Temp\\ipykernel_1612\\1789959209.py:4: FutureWarning: The frame.append method is deprecated and will be removed from pandas in a future version. Use pandas.concat instead.\n",
      "  turbo_df = turbo_df.append(data, ignore_index = True)\n",
      "C:\\Users\\bashi\\AppData\\Local\\Temp\\ipykernel_1612\\837280139.py:2: DeprecationWarning: executable_path has been deprecated, please pass in a Service object\n",
      "  driver = webdriver.Chrome(\"chromedriver.exe\")\n"
     ]
    },
    {
     "name": "stdout",
     "output_type": "stream",
     "text": [
      "232\n"
     ]
    },
    {
     "name": "stderr",
     "output_type": "stream",
     "text": [
      "C:\\Users\\bashi\\AppData\\Local\\Temp\\ipykernel_1612\\1789959209.py:4: FutureWarning: The frame.append method is deprecated and will be removed from pandas in a future version. Use pandas.concat instead.\n",
      "  turbo_df = turbo_df.append(data, ignore_index = True)\n",
      "C:\\Users\\bashi\\AppData\\Local\\Temp\\ipykernel_1612\\837280139.py:2: DeprecationWarning: executable_path has been deprecated, please pass in a Service object\n",
      "  driver = webdriver.Chrome(\"chromedriver.exe\")\n"
     ]
    },
    {
     "name": "stdout",
     "output_type": "stream",
     "text": [
      "233\n"
     ]
    },
    {
     "name": "stderr",
     "output_type": "stream",
     "text": [
      "C:\\Users\\bashi\\AppData\\Local\\Temp\\ipykernel_1612\\1789959209.py:4: FutureWarning: The frame.append method is deprecated and will be removed from pandas in a future version. Use pandas.concat instead.\n",
      "  turbo_df = turbo_df.append(data, ignore_index = True)\n",
      "C:\\Users\\bashi\\AppData\\Local\\Temp\\ipykernel_1612\\837280139.py:2: DeprecationWarning: executable_path has been deprecated, please pass in a Service object\n",
      "  driver = webdriver.Chrome(\"chromedriver.exe\")\n"
     ]
    },
    {
     "name": "stdout",
     "output_type": "stream",
     "text": [
      "234\n"
     ]
    },
    {
     "name": "stderr",
     "output_type": "stream",
     "text": [
      "C:\\Users\\bashi\\AppData\\Local\\Temp\\ipykernel_1612\\1789959209.py:4: FutureWarning: The frame.append method is deprecated and will be removed from pandas in a future version. Use pandas.concat instead.\n",
      "  turbo_df = turbo_df.append(data, ignore_index = True)\n",
      "C:\\Users\\bashi\\AppData\\Local\\Temp\\ipykernel_1612\\837280139.py:2: DeprecationWarning: executable_path has been deprecated, please pass in a Service object\n",
      "  driver = webdriver.Chrome(\"chromedriver.exe\")\n"
     ]
    },
    {
     "name": "stdout",
     "output_type": "stream",
     "text": [
      "235\n"
     ]
    },
    {
     "name": "stderr",
     "output_type": "stream",
     "text": [
      "C:\\Users\\bashi\\AppData\\Local\\Temp\\ipykernel_1612\\1789959209.py:4: FutureWarning: The frame.append method is deprecated and will be removed from pandas in a future version. Use pandas.concat instead.\n",
      "  turbo_df = turbo_df.append(data, ignore_index = True)\n",
      "C:\\Users\\bashi\\AppData\\Local\\Temp\\ipykernel_1612\\837280139.py:2: DeprecationWarning: executable_path has been deprecated, please pass in a Service object\n",
      "  driver = webdriver.Chrome(\"chromedriver.exe\")\n"
     ]
    },
    {
     "name": "stdout",
     "output_type": "stream",
     "text": [
      "236\n"
     ]
    },
    {
     "name": "stderr",
     "output_type": "stream",
     "text": [
      "C:\\Users\\bashi\\AppData\\Local\\Temp\\ipykernel_1612\\1789959209.py:4: FutureWarning: The frame.append method is deprecated and will be removed from pandas in a future version. Use pandas.concat instead.\n",
      "  turbo_df = turbo_df.append(data, ignore_index = True)\n",
      "C:\\Users\\bashi\\AppData\\Local\\Temp\\ipykernel_1612\\837280139.py:2: DeprecationWarning: executable_path has been deprecated, please pass in a Service object\n",
      "  driver = webdriver.Chrome(\"chromedriver.exe\")\n"
     ]
    },
    {
     "name": "stdout",
     "output_type": "stream",
     "text": [
      "237\n"
     ]
    },
    {
     "name": "stderr",
     "output_type": "stream",
     "text": [
      "C:\\Users\\bashi\\AppData\\Local\\Temp\\ipykernel_1612\\1789959209.py:4: FutureWarning: The frame.append method is deprecated and will be removed from pandas in a future version. Use pandas.concat instead.\n",
      "  turbo_df = turbo_df.append(data, ignore_index = True)\n",
      "C:\\Users\\bashi\\AppData\\Local\\Temp\\ipykernel_1612\\837280139.py:2: DeprecationWarning: executable_path has been deprecated, please pass in a Service object\n",
      "  driver = webdriver.Chrome(\"chromedriver.exe\")\n"
     ]
    },
    {
     "name": "stdout",
     "output_type": "stream",
     "text": [
      "238\n"
     ]
    },
    {
     "name": "stderr",
     "output_type": "stream",
     "text": [
      "C:\\Users\\bashi\\AppData\\Local\\Temp\\ipykernel_1612\\1789959209.py:4: FutureWarning: The frame.append method is deprecated and will be removed from pandas in a future version. Use pandas.concat instead.\n",
      "  turbo_df = turbo_df.append(data, ignore_index = True)\n",
      "C:\\Users\\bashi\\AppData\\Local\\Temp\\ipykernel_1612\\837280139.py:2: DeprecationWarning: executable_path has been deprecated, please pass in a Service object\n",
      "  driver = webdriver.Chrome(\"chromedriver.exe\")\n"
     ]
    },
    {
     "name": "stdout",
     "output_type": "stream",
     "text": [
      "239\n"
     ]
    },
    {
     "name": "stderr",
     "output_type": "stream",
     "text": [
      "C:\\Users\\bashi\\AppData\\Local\\Temp\\ipykernel_1612\\1789959209.py:4: FutureWarning: The frame.append method is deprecated and will be removed from pandas in a future version. Use pandas.concat instead.\n",
      "  turbo_df = turbo_df.append(data, ignore_index = True)\n",
      "C:\\Users\\bashi\\AppData\\Local\\Temp\\ipykernel_1612\\837280139.py:2: DeprecationWarning: executable_path has been deprecated, please pass in a Service object\n",
      "  driver = webdriver.Chrome(\"chromedriver.exe\")\n"
     ]
    },
    {
     "name": "stdout",
     "output_type": "stream",
     "text": [
      "240\n"
     ]
    },
    {
     "name": "stderr",
     "output_type": "stream",
     "text": [
      "C:\\Users\\bashi\\AppData\\Local\\Temp\\ipykernel_1612\\1789959209.py:4: FutureWarning: The frame.append method is deprecated and will be removed from pandas in a future version. Use pandas.concat instead.\n",
      "  turbo_df = turbo_df.append(data, ignore_index = True)\n",
      "C:\\Users\\bashi\\AppData\\Local\\Temp\\ipykernel_1612\\837280139.py:2: DeprecationWarning: executable_path has been deprecated, please pass in a Service object\n",
      "  driver = webdriver.Chrome(\"chromedriver.exe\")\n"
     ]
    },
    {
     "name": "stdout",
     "output_type": "stream",
     "text": [
      "241\n"
     ]
    },
    {
     "name": "stderr",
     "output_type": "stream",
     "text": [
      "C:\\Users\\bashi\\AppData\\Local\\Temp\\ipykernel_1612\\1789959209.py:4: FutureWarning: The frame.append method is deprecated and will be removed from pandas in a future version. Use pandas.concat instead.\n",
      "  turbo_df = turbo_df.append(data, ignore_index = True)\n",
      "C:\\Users\\bashi\\AppData\\Local\\Temp\\ipykernel_1612\\837280139.py:2: DeprecationWarning: executable_path has been deprecated, please pass in a Service object\n",
      "  driver = webdriver.Chrome(\"chromedriver.exe\")\n"
     ]
    },
    {
     "name": "stdout",
     "output_type": "stream",
     "text": [
      "242\n"
     ]
    },
    {
     "name": "stderr",
     "output_type": "stream",
     "text": [
      "C:\\Users\\bashi\\AppData\\Local\\Temp\\ipykernel_1612\\1789959209.py:4: FutureWarning: The frame.append method is deprecated and will be removed from pandas in a future version. Use pandas.concat instead.\n",
      "  turbo_df = turbo_df.append(data, ignore_index = True)\n",
      "C:\\Users\\bashi\\AppData\\Local\\Temp\\ipykernel_1612\\837280139.py:2: DeprecationWarning: executable_path has been deprecated, please pass in a Service object\n",
      "  driver = webdriver.Chrome(\"chromedriver.exe\")\n"
     ]
    },
    {
     "name": "stdout",
     "output_type": "stream",
     "text": [
      "243\n"
     ]
    },
    {
     "name": "stderr",
     "output_type": "stream",
     "text": [
      "C:\\Users\\bashi\\AppData\\Local\\Temp\\ipykernel_1612\\1789959209.py:4: FutureWarning: The frame.append method is deprecated and will be removed from pandas in a future version. Use pandas.concat instead.\n",
      "  turbo_df = turbo_df.append(data, ignore_index = True)\n",
      "C:\\Users\\bashi\\AppData\\Local\\Temp\\ipykernel_1612\\837280139.py:2: DeprecationWarning: executable_path has been deprecated, please pass in a Service object\n",
      "  driver = webdriver.Chrome(\"chromedriver.exe\")\n"
     ]
    },
    {
     "name": "stdout",
     "output_type": "stream",
     "text": [
      "244\n"
     ]
    },
    {
     "name": "stderr",
     "output_type": "stream",
     "text": [
      "C:\\Users\\bashi\\AppData\\Local\\Temp\\ipykernel_1612\\1789959209.py:4: FutureWarning: The frame.append method is deprecated and will be removed from pandas in a future version. Use pandas.concat instead.\n",
      "  turbo_df = turbo_df.append(data, ignore_index = True)\n",
      "C:\\Users\\bashi\\AppData\\Local\\Temp\\ipykernel_1612\\837280139.py:2: DeprecationWarning: executable_path has been deprecated, please pass in a Service object\n",
      "  driver = webdriver.Chrome(\"chromedriver.exe\")\n"
     ]
    },
    {
     "name": "stdout",
     "output_type": "stream",
     "text": [
      "245\n"
     ]
    },
    {
     "name": "stderr",
     "output_type": "stream",
     "text": [
      "C:\\Users\\bashi\\AppData\\Local\\Temp\\ipykernel_1612\\1789959209.py:4: FutureWarning: The frame.append method is deprecated and will be removed from pandas in a future version. Use pandas.concat instead.\n",
      "  turbo_df = turbo_df.append(data, ignore_index = True)\n",
      "C:\\Users\\bashi\\AppData\\Local\\Temp\\ipykernel_1612\\837280139.py:2: DeprecationWarning: executable_path has been deprecated, please pass in a Service object\n",
      "  driver = webdriver.Chrome(\"chromedriver.exe\")\n"
     ]
    },
    {
     "name": "stdout",
     "output_type": "stream",
     "text": [
      "246\n"
     ]
    },
    {
     "name": "stderr",
     "output_type": "stream",
     "text": [
      "C:\\Users\\bashi\\AppData\\Local\\Temp\\ipykernel_1612\\1789959209.py:4: FutureWarning: The frame.append method is deprecated and will be removed from pandas in a future version. Use pandas.concat instead.\n",
      "  turbo_df = turbo_df.append(data, ignore_index = True)\n",
      "C:\\Users\\bashi\\AppData\\Local\\Temp\\ipykernel_1612\\837280139.py:2: DeprecationWarning: executable_path has been deprecated, please pass in a Service object\n",
      "  driver = webdriver.Chrome(\"chromedriver.exe\")\n"
     ]
    },
    {
     "name": "stdout",
     "output_type": "stream",
     "text": [
      "247\n"
     ]
    },
    {
     "name": "stderr",
     "output_type": "stream",
     "text": [
      "C:\\Users\\bashi\\AppData\\Local\\Temp\\ipykernel_1612\\1789959209.py:4: FutureWarning: The frame.append method is deprecated and will be removed from pandas in a future version. Use pandas.concat instead.\n",
      "  turbo_df = turbo_df.append(data, ignore_index = True)\n",
      "C:\\Users\\bashi\\AppData\\Local\\Temp\\ipykernel_1612\\837280139.py:2: DeprecationWarning: executable_path has been deprecated, please pass in a Service object\n",
      "  driver = webdriver.Chrome(\"chromedriver.exe\")\n"
     ]
    },
    {
     "name": "stdout",
     "output_type": "stream",
     "text": [
      "248\n"
     ]
    },
    {
     "name": "stderr",
     "output_type": "stream",
     "text": [
      "C:\\Users\\bashi\\AppData\\Local\\Temp\\ipykernel_1612\\1789959209.py:4: FutureWarning: The frame.append method is deprecated and will be removed from pandas in a future version. Use pandas.concat instead.\n",
      "  turbo_df = turbo_df.append(data, ignore_index = True)\n",
      "C:\\Users\\bashi\\AppData\\Local\\Temp\\ipykernel_1612\\837280139.py:2: DeprecationWarning: executable_path has been deprecated, please pass in a Service object\n",
      "  driver = webdriver.Chrome(\"chromedriver.exe\")\n"
     ]
    },
    {
     "name": "stdout",
     "output_type": "stream",
     "text": [
      "249\n"
     ]
    },
    {
     "name": "stderr",
     "output_type": "stream",
     "text": [
      "C:\\Users\\bashi\\AppData\\Local\\Temp\\ipykernel_1612\\1789959209.py:4: FutureWarning: The frame.append method is deprecated and will be removed from pandas in a future version. Use pandas.concat instead.\n",
      "  turbo_df = turbo_df.append(data, ignore_index = True)\n",
      "C:\\Users\\bashi\\AppData\\Local\\Temp\\ipykernel_1612\\837280139.py:2: DeprecationWarning: executable_path has been deprecated, please pass in a Service object\n",
      "  driver = webdriver.Chrome(\"chromedriver.exe\")\n"
     ]
    },
    {
     "name": "stdout",
     "output_type": "stream",
     "text": [
      "250\n"
     ]
    },
    {
     "name": "stderr",
     "output_type": "stream",
     "text": [
      "C:\\Users\\bashi\\AppData\\Local\\Temp\\ipykernel_1612\\1789959209.py:4: FutureWarning: The frame.append method is deprecated and will be removed from pandas in a future version. Use pandas.concat instead.\n",
      "  turbo_df = turbo_df.append(data, ignore_index = True)\n",
      "C:\\Users\\bashi\\AppData\\Local\\Temp\\ipykernel_1612\\837280139.py:2: DeprecationWarning: executable_path has been deprecated, please pass in a Service object\n",
      "  driver = webdriver.Chrome(\"chromedriver.exe\")\n"
     ]
    },
    {
     "name": "stdout",
     "output_type": "stream",
     "text": [
      "251\n"
     ]
    },
    {
     "name": "stderr",
     "output_type": "stream",
     "text": [
      "C:\\Users\\bashi\\AppData\\Local\\Temp\\ipykernel_1612\\1789959209.py:4: FutureWarning: The frame.append method is deprecated and will be removed from pandas in a future version. Use pandas.concat instead.\n",
      "  turbo_df = turbo_df.append(data, ignore_index = True)\n",
      "C:\\Users\\bashi\\AppData\\Local\\Temp\\ipykernel_1612\\837280139.py:2: DeprecationWarning: executable_path has been deprecated, please pass in a Service object\n",
      "  driver = webdriver.Chrome(\"chromedriver.exe\")\n"
     ]
    },
    {
     "name": "stdout",
     "output_type": "stream",
     "text": [
      "252\n"
     ]
    },
    {
     "name": "stderr",
     "output_type": "stream",
     "text": [
      "C:\\Users\\bashi\\AppData\\Local\\Temp\\ipykernel_1612\\1789959209.py:4: FutureWarning: The frame.append method is deprecated and will be removed from pandas in a future version. Use pandas.concat instead.\n",
      "  turbo_df = turbo_df.append(data, ignore_index = True)\n",
      "C:\\Users\\bashi\\AppData\\Local\\Temp\\ipykernel_1612\\837280139.py:2: DeprecationWarning: executable_path has been deprecated, please pass in a Service object\n",
      "  driver = webdriver.Chrome(\"chromedriver.exe\")\n"
     ]
    },
    {
     "name": "stdout",
     "output_type": "stream",
     "text": [
      "253\n"
     ]
    },
    {
     "name": "stderr",
     "output_type": "stream",
     "text": [
      "C:\\Users\\bashi\\AppData\\Local\\Temp\\ipykernel_1612\\1789959209.py:4: FutureWarning: The frame.append method is deprecated and will be removed from pandas in a future version. Use pandas.concat instead.\n",
      "  turbo_df = turbo_df.append(data, ignore_index = True)\n",
      "C:\\Users\\bashi\\AppData\\Local\\Temp\\ipykernel_1612\\837280139.py:2: DeprecationWarning: executable_path has been deprecated, please pass in a Service object\n",
      "  driver = webdriver.Chrome(\"chromedriver.exe\")\n"
     ]
    },
    {
     "name": "stdout",
     "output_type": "stream",
     "text": [
      "254\n"
     ]
    },
    {
     "name": "stderr",
     "output_type": "stream",
     "text": [
      "C:\\Users\\bashi\\AppData\\Local\\Temp\\ipykernel_1612\\1789959209.py:4: FutureWarning: The frame.append method is deprecated and will be removed from pandas in a future version. Use pandas.concat instead.\n",
      "  turbo_df = turbo_df.append(data, ignore_index = True)\n",
      "C:\\Users\\bashi\\AppData\\Local\\Temp\\ipykernel_1612\\837280139.py:2: DeprecationWarning: executable_path has been deprecated, please pass in a Service object\n",
      "  driver = webdriver.Chrome(\"chromedriver.exe\")\n"
     ]
    },
    {
     "name": "stdout",
     "output_type": "stream",
     "text": [
      "255\n"
     ]
    },
    {
     "name": "stderr",
     "output_type": "stream",
     "text": [
      "C:\\Users\\bashi\\AppData\\Local\\Temp\\ipykernel_1612\\1789959209.py:4: FutureWarning: The frame.append method is deprecated and will be removed from pandas in a future version. Use pandas.concat instead.\n",
      "  turbo_df = turbo_df.append(data, ignore_index = True)\n",
      "C:\\Users\\bashi\\AppData\\Local\\Temp\\ipykernel_1612\\837280139.py:2: DeprecationWarning: executable_path has been deprecated, please pass in a Service object\n",
      "  driver = webdriver.Chrome(\"chromedriver.exe\")\n"
     ]
    },
    {
     "name": "stdout",
     "output_type": "stream",
     "text": [
      "256\n"
     ]
    },
    {
     "name": "stderr",
     "output_type": "stream",
     "text": [
      "C:\\Users\\bashi\\AppData\\Local\\Temp\\ipykernel_1612\\1789959209.py:4: FutureWarning: The frame.append method is deprecated and will be removed from pandas in a future version. Use pandas.concat instead.\n",
      "  turbo_df = turbo_df.append(data, ignore_index = True)\n",
      "C:\\Users\\bashi\\AppData\\Local\\Temp\\ipykernel_1612\\837280139.py:2: DeprecationWarning: executable_path has been deprecated, please pass in a Service object\n",
      "  driver = webdriver.Chrome(\"chromedriver.exe\")\n"
     ]
    },
    {
     "name": "stdout",
     "output_type": "stream",
     "text": [
      "257\n"
     ]
    },
    {
     "name": "stderr",
     "output_type": "stream",
     "text": [
      "C:\\Users\\bashi\\AppData\\Local\\Temp\\ipykernel_1612\\1789959209.py:4: FutureWarning: The frame.append method is deprecated and will be removed from pandas in a future version. Use pandas.concat instead.\n",
      "  turbo_df = turbo_df.append(data, ignore_index = True)\n",
      "C:\\Users\\bashi\\AppData\\Local\\Temp\\ipykernel_1612\\837280139.py:2: DeprecationWarning: executable_path has been deprecated, please pass in a Service object\n",
      "  driver = webdriver.Chrome(\"chromedriver.exe\")\n"
     ]
    },
    {
     "name": "stdout",
     "output_type": "stream",
     "text": [
      "258\n"
     ]
    },
    {
     "name": "stderr",
     "output_type": "stream",
     "text": [
      "C:\\Users\\bashi\\AppData\\Local\\Temp\\ipykernel_1612\\1789959209.py:4: FutureWarning: The frame.append method is deprecated and will be removed from pandas in a future version. Use pandas.concat instead.\n",
      "  turbo_df = turbo_df.append(data, ignore_index = True)\n",
      "C:\\Users\\bashi\\AppData\\Local\\Temp\\ipykernel_1612\\837280139.py:2: DeprecationWarning: executable_path has been deprecated, please pass in a Service object\n",
      "  driver = webdriver.Chrome(\"chromedriver.exe\")\n"
     ]
    },
    {
     "name": "stdout",
     "output_type": "stream",
     "text": [
      "259\n"
     ]
    },
    {
     "name": "stderr",
     "output_type": "stream",
     "text": [
      "C:\\Users\\bashi\\AppData\\Local\\Temp\\ipykernel_1612\\1789959209.py:4: FutureWarning: The frame.append method is deprecated and will be removed from pandas in a future version. Use pandas.concat instead.\n",
      "  turbo_df = turbo_df.append(data, ignore_index = True)\n",
      "C:\\Users\\bashi\\AppData\\Local\\Temp\\ipykernel_1612\\837280139.py:2: DeprecationWarning: executable_path has been deprecated, please pass in a Service object\n",
      "  driver = webdriver.Chrome(\"chromedriver.exe\")\n"
     ]
    },
    {
     "name": "stdout",
     "output_type": "stream",
     "text": [
      "260\n"
     ]
    },
    {
     "name": "stderr",
     "output_type": "stream",
     "text": [
      "C:\\Users\\bashi\\AppData\\Local\\Temp\\ipykernel_1612\\1789959209.py:4: FutureWarning: The frame.append method is deprecated and will be removed from pandas in a future version. Use pandas.concat instead.\n",
      "  turbo_df = turbo_df.append(data, ignore_index = True)\n",
      "C:\\Users\\bashi\\AppData\\Local\\Temp\\ipykernel_1612\\837280139.py:2: DeprecationWarning: executable_path has been deprecated, please pass in a Service object\n",
      "  driver = webdriver.Chrome(\"chromedriver.exe\")\n"
     ]
    },
    {
     "name": "stdout",
     "output_type": "stream",
     "text": [
      "261\n"
     ]
    },
    {
     "name": "stderr",
     "output_type": "stream",
     "text": [
      "C:\\Users\\bashi\\AppData\\Local\\Temp\\ipykernel_1612\\1789959209.py:4: FutureWarning: The frame.append method is deprecated and will be removed from pandas in a future version. Use pandas.concat instead.\n",
      "  turbo_df = turbo_df.append(data, ignore_index = True)\n",
      "C:\\Users\\bashi\\AppData\\Local\\Temp\\ipykernel_1612\\837280139.py:2: DeprecationWarning: executable_path has been deprecated, please pass in a Service object\n",
      "  driver = webdriver.Chrome(\"chromedriver.exe\")\n"
     ]
    },
    {
     "name": "stdout",
     "output_type": "stream",
     "text": [
      "262\n"
     ]
    },
    {
     "name": "stderr",
     "output_type": "stream",
     "text": [
      "C:\\Users\\bashi\\AppData\\Local\\Temp\\ipykernel_1612\\1789959209.py:4: FutureWarning: The frame.append method is deprecated and will be removed from pandas in a future version. Use pandas.concat instead.\n",
      "  turbo_df = turbo_df.append(data, ignore_index = True)\n",
      "C:\\Users\\bashi\\AppData\\Local\\Temp\\ipykernel_1612\\837280139.py:2: DeprecationWarning: executable_path has been deprecated, please pass in a Service object\n",
      "  driver = webdriver.Chrome(\"chromedriver.exe\")\n"
     ]
    },
    {
     "name": "stdout",
     "output_type": "stream",
     "text": [
      "263\n"
     ]
    },
    {
     "name": "stderr",
     "output_type": "stream",
     "text": [
      "C:\\Users\\bashi\\AppData\\Local\\Temp\\ipykernel_1612\\1789959209.py:4: FutureWarning: The frame.append method is deprecated and will be removed from pandas in a future version. Use pandas.concat instead.\n",
      "  turbo_df = turbo_df.append(data, ignore_index = True)\n",
      "C:\\Users\\bashi\\AppData\\Local\\Temp\\ipykernel_1612\\837280139.py:2: DeprecationWarning: executable_path has been deprecated, please pass in a Service object\n",
      "  driver = webdriver.Chrome(\"chromedriver.exe\")\n"
     ]
    },
    {
     "name": "stdout",
     "output_type": "stream",
     "text": [
      "264\n"
     ]
    },
    {
     "name": "stderr",
     "output_type": "stream",
     "text": [
      "C:\\Users\\bashi\\AppData\\Local\\Temp\\ipykernel_1612\\1789959209.py:4: FutureWarning: The frame.append method is deprecated and will be removed from pandas in a future version. Use pandas.concat instead.\n",
      "  turbo_df = turbo_df.append(data, ignore_index = True)\n",
      "C:\\Users\\bashi\\AppData\\Local\\Temp\\ipykernel_1612\\837280139.py:2: DeprecationWarning: executable_path has been deprecated, please pass in a Service object\n",
      "  driver = webdriver.Chrome(\"chromedriver.exe\")\n"
     ]
    },
    {
     "name": "stdout",
     "output_type": "stream",
     "text": [
      "265\n"
     ]
    },
    {
     "name": "stderr",
     "output_type": "stream",
     "text": [
      "C:\\Users\\bashi\\AppData\\Local\\Temp\\ipykernel_1612\\1789959209.py:4: FutureWarning: The frame.append method is deprecated and will be removed from pandas in a future version. Use pandas.concat instead.\n",
      "  turbo_df = turbo_df.append(data, ignore_index = True)\n",
      "C:\\Users\\bashi\\AppData\\Local\\Temp\\ipykernel_1612\\837280139.py:2: DeprecationWarning: executable_path has been deprecated, please pass in a Service object\n",
      "  driver = webdriver.Chrome(\"chromedriver.exe\")\n"
     ]
    },
    {
     "name": "stdout",
     "output_type": "stream",
     "text": [
      "266\n"
     ]
    },
    {
     "name": "stderr",
     "output_type": "stream",
     "text": [
      "C:\\Users\\bashi\\AppData\\Local\\Temp\\ipykernel_1612\\1789959209.py:4: FutureWarning: The frame.append method is deprecated and will be removed from pandas in a future version. Use pandas.concat instead.\n",
      "  turbo_df = turbo_df.append(data, ignore_index = True)\n",
      "C:\\Users\\bashi\\AppData\\Local\\Temp\\ipykernel_1612\\837280139.py:2: DeprecationWarning: executable_path has been deprecated, please pass in a Service object\n",
      "  driver = webdriver.Chrome(\"chromedriver.exe\")\n"
     ]
    },
    {
     "name": "stdout",
     "output_type": "stream",
     "text": [
      "267\n"
     ]
    },
    {
     "name": "stderr",
     "output_type": "stream",
     "text": [
      "C:\\Users\\bashi\\AppData\\Local\\Temp\\ipykernel_1612\\1789959209.py:4: FutureWarning: The frame.append method is deprecated and will be removed from pandas in a future version. Use pandas.concat instead.\n",
      "  turbo_df = turbo_df.append(data, ignore_index = True)\n",
      "C:\\Users\\bashi\\AppData\\Local\\Temp\\ipykernel_1612\\837280139.py:2: DeprecationWarning: executable_path has been deprecated, please pass in a Service object\n",
      "  driver = webdriver.Chrome(\"chromedriver.exe\")\n"
     ]
    },
    {
     "name": "stdout",
     "output_type": "stream",
     "text": [
      "268\n"
     ]
    },
    {
     "name": "stderr",
     "output_type": "stream",
     "text": [
      "C:\\Users\\bashi\\AppData\\Local\\Temp\\ipykernel_1612\\1789959209.py:4: FutureWarning: The frame.append method is deprecated and will be removed from pandas in a future version. Use pandas.concat instead.\n",
      "  turbo_df = turbo_df.append(data, ignore_index = True)\n",
      "C:\\Users\\bashi\\AppData\\Local\\Temp\\ipykernel_1612\\837280139.py:2: DeprecationWarning: executable_path has been deprecated, please pass in a Service object\n",
      "  driver = webdriver.Chrome(\"chromedriver.exe\")\n"
     ]
    },
    {
     "name": "stdout",
     "output_type": "stream",
     "text": [
      "269\n"
     ]
    },
    {
     "name": "stderr",
     "output_type": "stream",
     "text": [
      "C:\\Users\\bashi\\AppData\\Local\\Temp\\ipykernel_1612\\1789959209.py:4: FutureWarning: The frame.append method is deprecated and will be removed from pandas in a future version. Use pandas.concat instead.\n",
      "  turbo_df = turbo_df.append(data, ignore_index = True)\n",
      "C:\\Users\\bashi\\AppData\\Local\\Temp\\ipykernel_1612\\837280139.py:2: DeprecationWarning: executable_path has been deprecated, please pass in a Service object\n",
      "  driver = webdriver.Chrome(\"chromedriver.exe\")\n"
     ]
    },
    {
     "name": "stdout",
     "output_type": "stream",
     "text": [
      "270\n"
     ]
    },
    {
     "name": "stderr",
     "output_type": "stream",
     "text": [
      "C:\\Users\\bashi\\AppData\\Local\\Temp\\ipykernel_1612\\1789959209.py:4: FutureWarning: The frame.append method is deprecated and will be removed from pandas in a future version. Use pandas.concat instead.\n",
      "  turbo_df = turbo_df.append(data, ignore_index = True)\n",
      "C:\\Users\\bashi\\AppData\\Local\\Temp\\ipykernel_1612\\837280139.py:2: DeprecationWarning: executable_path has been deprecated, please pass in a Service object\n",
      "  driver = webdriver.Chrome(\"chromedriver.exe\")\n"
     ]
    },
    {
     "name": "stdout",
     "output_type": "stream",
     "text": [
      "271\n"
     ]
    },
    {
     "name": "stderr",
     "output_type": "stream",
     "text": [
      "C:\\Users\\bashi\\AppData\\Local\\Temp\\ipykernel_1612\\1789959209.py:4: FutureWarning: The frame.append method is deprecated and will be removed from pandas in a future version. Use pandas.concat instead.\n",
      "  turbo_df = turbo_df.append(data, ignore_index = True)\n",
      "C:\\Users\\bashi\\AppData\\Local\\Temp\\ipykernel_1612\\837280139.py:2: DeprecationWarning: executable_path has been deprecated, please pass in a Service object\n",
      "  driver = webdriver.Chrome(\"chromedriver.exe\")\n"
     ]
    },
    {
     "name": "stdout",
     "output_type": "stream",
     "text": [
      "272\n"
     ]
    },
    {
     "name": "stderr",
     "output_type": "stream",
     "text": [
      "C:\\Users\\bashi\\AppData\\Local\\Temp\\ipykernel_1612\\1789959209.py:4: FutureWarning: The frame.append method is deprecated and will be removed from pandas in a future version. Use pandas.concat instead.\n",
      "  turbo_df = turbo_df.append(data, ignore_index = True)\n",
      "C:\\Users\\bashi\\AppData\\Local\\Temp\\ipykernel_1612\\837280139.py:2: DeprecationWarning: executable_path has been deprecated, please pass in a Service object\n",
      "  driver = webdriver.Chrome(\"chromedriver.exe\")\n"
     ]
    },
    {
     "name": "stdout",
     "output_type": "stream",
     "text": [
      "273\n"
     ]
    },
    {
     "name": "stderr",
     "output_type": "stream",
     "text": [
      "C:\\Users\\bashi\\AppData\\Local\\Temp\\ipykernel_1612\\1789959209.py:4: FutureWarning: The frame.append method is deprecated and will be removed from pandas in a future version. Use pandas.concat instead.\n",
      "  turbo_df = turbo_df.append(data, ignore_index = True)\n",
      "C:\\Users\\bashi\\AppData\\Local\\Temp\\ipykernel_1612\\837280139.py:2: DeprecationWarning: executable_path has been deprecated, please pass in a Service object\n",
      "  driver = webdriver.Chrome(\"chromedriver.exe\")\n"
     ]
    },
    {
     "name": "stdout",
     "output_type": "stream",
     "text": [
      "274\n"
     ]
    },
    {
     "name": "stderr",
     "output_type": "stream",
     "text": [
      "C:\\Users\\bashi\\AppData\\Local\\Temp\\ipykernel_1612\\1789959209.py:4: FutureWarning: The frame.append method is deprecated and will be removed from pandas in a future version. Use pandas.concat instead.\n",
      "  turbo_df = turbo_df.append(data, ignore_index = True)\n",
      "C:\\Users\\bashi\\AppData\\Local\\Temp\\ipykernel_1612\\837280139.py:2: DeprecationWarning: executable_path has been deprecated, please pass in a Service object\n",
      "  driver = webdriver.Chrome(\"chromedriver.exe\")\n"
     ]
    },
    {
     "name": "stdout",
     "output_type": "stream",
     "text": [
      "275\n"
     ]
    },
    {
     "name": "stderr",
     "output_type": "stream",
     "text": [
      "C:\\Users\\bashi\\AppData\\Local\\Temp\\ipykernel_1612\\1789959209.py:4: FutureWarning: The frame.append method is deprecated and will be removed from pandas in a future version. Use pandas.concat instead.\n",
      "  turbo_df = turbo_df.append(data, ignore_index = True)\n",
      "C:\\Users\\bashi\\AppData\\Local\\Temp\\ipykernel_1612\\837280139.py:2: DeprecationWarning: executable_path has been deprecated, please pass in a Service object\n",
      "  driver = webdriver.Chrome(\"chromedriver.exe\")\n"
     ]
    },
    {
     "name": "stdout",
     "output_type": "stream",
     "text": [
      "276\n"
     ]
    },
    {
     "name": "stderr",
     "output_type": "stream",
     "text": [
      "C:\\Users\\bashi\\AppData\\Local\\Temp\\ipykernel_1612\\1789959209.py:4: FutureWarning: The frame.append method is deprecated and will be removed from pandas in a future version. Use pandas.concat instead.\n",
      "  turbo_df = turbo_df.append(data, ignore_index = True)\n",
      "C:\\Users\\bashi\\AppData\\Local\\Temp\\ipykernel_1612\\837280139.py:2: DeprecationWarning: executable_path has been deprecated, please pass in a Service object\n",
      "  driver = webdriver.Chrome(\"chromedriver.exe\")\n"
     ]
    },
    {
     "name": "stdout",
     "output_type": "stream",
     "text": [
      "277\n"
     ]
    },
    {
     "name": "stderr",
     "output_type": "stream",
     "text": [
      "C:\\Users\\bashi\\AppData\\Local\\Temp\\ipykernel_1612\\1789959209.py:4: FutureWarning: The frame.append method is deprecated and will be removed from pandas in a future version. Use pandas.concat instead.\n",
      "  turbo_df = turbo_df.append(data, ignore_index = True)\n",
      "C:\\Users\\bashi\\AppData\\Local\\Temp\\ipykernel_1612\\837280139.py:2: DeprecationWarning: executable_path has been deprecated, please pass in a Service object\n",
      "  driver = webdriver.Chrome(\"chromedriver.exe\")\n"
     ]
    },
    {
     "name": "stdout",
     "output_type": "stream",
     "text": [
      "278\n"
     ]
    },
    {
     "name": "stderr",
     "output_type": "stream",
     "text": [
      "C:\\Users\\bashi\\AppData\\Local\\Temp\\ipykernel_1612\\1789959209.py:4: FutureWarning: The frame.append method is deprecated and will be removed from pandas in a future version. Use pandas.concat instead.\n",
      "  turbo_df = turbo_df.append(data, ignore_index = True)\n",
      "C:\\Users\\bashi\\AppData\\Local\\Temp\\ipykernel_1612\\837280139.py:2: DeprecationWarning: executable_path has been deprecated, please pass in a Service object\n",
      "  driver = webdriver.Chrome(\"chromedriver.exe\")\n"
     ]
    },
    {
     "name": "stdout",
     "output_type": "stream",
     "text": [
      "279\n"
     ]
    },
    {
     "name": "stderr",
     "output_type": "stream",
     "text": [
      "C:\\Users\\bashi\\AppData\\Local\\Temp\\ipykernel_1612\\1789959209.py:4: FutureWarning: The frame.append method is deprecated and will be removed from pandas in a future version. Use pandas.concat instead.\n",
      "  turbo_df = turbo_df.append(data, ignore_index = True)\n",
      "C:\\Users\\bashi\\AppData\\Local\\Temp\\ipykernel_1612\\837280139.py:2: DeprecationWarning: executable_path has been deprecated, please pass in a Service object\n",
      "  driver = webdriver.Chrome(\"chromedriver.exe\")\n"
     ]
    },
    {
     "name": "stdout",
     "output_type": "stream",
     "text": [
      "280\n"
     ]
    },
    {
     "name": "stderr",
     "output_type": "stream",
     "text": [
      "C:\\Users\\bashi\\AppData\\Local\\Temp\\ipykernel_1612\\1789959209.py:4: FutureWarning: The frame.append method is deprecated and will be removed from pandas in a future version. Use pandas.concat instead.\n",
      "  turbo_df = turbo_df.append(data, ignore_index = True)\n",
      "C:\\Users\\bashi\\AppData\\Local\\Temp\\ipykernel_1612\\837280139.py:2: DeprecationWarning: executable_path has been deprecated, please pass in a Service object\n",
      "  driver = webdriver.Chrome(\"chromedriver.exe\")\n"
     ]
    },
    {
     "name": "stdout",
     "output_type": "stream",
     "text": [
      "281\n"
     ]
    },
    {
     "name": "stderr",
     "output_type": "stream",
     "text": [
      "C:\\Users\\bashi\\AppData\\Local\\Temp\\ipykernel_1612\\1789959209.py:4: FutureWarning: The frame.append method is deprecated and will be removed from pandas in a future version. Use pandas.concat instead.\n",
      "  turbo_df = turbo_df.append(data, ignore_index = True)\n",
      "C:\\Users\\bashi\\AppData\\Local\\Temp\\ipykernel_1612\\837280139.py:2: DeprecationWarning: executable_path has been deprecated, please pass in a Service object\n",
      "  driver = webdriver.Chrome(\"chromedriver.exe\")\n"
     ]
    },
    {
     "name": "stdout",
     "output_type": "stream",
     "text": [
      "282\n"
     ]
    },
    {
     "name": "stderr",
     "output_type": "stream",
     "text": [
      "C:\\Users\\bashi\\AppData\\Local\\Temp\\ipykernel_1612\\1789959209.py:4: FutureWarning: The frame.append method is deprecated and will be removed from pandas in a future version. Use pandas.concat instead.\n",
      "  turbo_df = turbo_df.append(data, ignore_index = True)\n",
      "C:\\Users\\bashi\\AppData\\Local\\Temp\\ipykernel_1612\\837280139.py:2: DeprecationWarning: executable_path has been deprecated, please pass in a Service object\n",
      "  driver = webdriver.Chrome(\"chromedriver.exe\")\n"
     ]
    },
    {
     "name": "stdout",
     "output_type": "stream",
     "text": [
      "283\n"
     ]
    },
    {
     "name": "stderr",
     "output_type": "stream",
     "text": [
      "C:\\Users\\bashi\\AppData\\Local\\Temp\\ipykernel_1612\\1789959209.py:4: FutureWarning: The frame.append method is deprecated and will be removed from pandas in a future version. Use pandas.concat instead.\n",
      "  turbo_df = turbo_df.append(data, ignore_index = True)\n",
      "C:\\Users\\bashi\\AppData\\Local\\Temp\\ipykernel_1612\\837280139.py:2: DeprecationWarning: executable_path has been deprecated, please pass in a Service object\n",
      "  driver = webdriver.Chrome(\"chromedriver.exe\")\n"
     ]
    },
    {
     "name": "stdout",
     "output_type": "stream",
     "text": [
      "284\n"
     ]
    },
    {
     "name": "stderr",
     "output_type": "stream",
     "text": [
      "C:\\Users\\bashi\\AppData\\Local\\Temp\\ipykernel_1612\\1789959209.py:4: FutureWarning: The frame.append method is deprecated and will be removed from pandas in a future version. Use pandas.concat instead.\n",
      "  turbo_df = turbo_df.append(data, ignore_index = True)\n",
      "C:\\Users\\bashi\\AppData\\Local\\Temp\\ipykernel_1612\\837280139.py:2: DeprecationWarning: executable_path has been deprecated, please pass in a Service object\n",
      "  driver = webdriver.Chrome(\"chromedriver.exe\")\n"
     ]
    },
    {
     "name": "stdout",
     "output_type": "stream",
     "text": [
      "285\n"
     ]
    },
    {
     "name": "stderr",
     "output_type": "stream",
     "text": [
      "C:\\Users\\bashi\\AppData\\Local\\Temp\\ipykernel_1612\\1789959209.py:4: FutureWarning: The frame.append method is deprecated and will be removed from pandas in a future version. Use pandas.concat instead.\n",
      "  turbo_df = turbo_df.append(data, ignore_index = True)\n",
      "C:\\Users\\bashi\\AppData\\Local\\Temp\\ipykernel_1612\\837280139.py:2: DeprecationWarning: executable_path has been deprecated, please pass in a Service object\n",
      "  driver = webdriver.Chrome(\"chromedriver.exe\")\n"
     ]
    },
    {
     "name": "stdout",
     "output_type": "stream",
     "text": [
      "286\n"
     ]
    },
    {
     "name": "stderr",
     "output_type": "stream",
     "text": [
      "C:\\Users\\bashi\\AppData\\Local\\Temp\\ipykernel_1612\\1789959209.py:4: FutureWarning: The frame.append method is deprecated and will be removed from pandas in a future version. Use pandas.concat instead.\n",
      "  turbo_df = turbo_df.append(data, ignore_index = True)\n",
      "C:\\Users\\bashi\\AppData\\Local\\Temp\\ipykernel_1612\\837280139.py:2: DeprecationWarning: executable_path has been deprecated, please pass in a Service object\n",
      "  driver = webdriver.Chrome(\"chromedriver.exe\")\n"
     ]
    },
    {
     "name": "stdout",
     "output_type": "stream",
     "text": [
      "287\n"
     ]
    },
    {
     "name": "stderr",
     "output_type": "stream",
     "text": [
      "C:\\Users\\bashi\\AppData\\Local\\Temp\\ipykernel_1612\\1789959209.py:4: FutureWarning: The frame.append method is deprecated and will be removed from pandas in a future version. Use pandas.concat instead.\n",
      "  turbo_df = turbo_df.append(data, ignore_index = True)\n",
      "C:\\Users\\bashi\\AppData\\Local\\Temp\\ipykernel_1612\\837280139.py:2: DeprecationWarning: executable_path has been deprecated, please pass in a Service object\n",
      "  driver = webdriver.Chrome(\"chromedriver.exe\")\n"
     ]
    },
    {
     "name": "stdout",
     "output_type": "stream",
     "text": [
      "287\n"
     ]
    },
    {
     "name": "stderr",
     "output_type": "stream",
     "text": [
      "C:\\Users\\bashi\\AppData\\Local\\Temp\\ipykernel_1612\\1789959209.py:4: FutureWarning: The frame.append method is deprecated and will be removed from pandas in a future version. Use pandas.concat instead.\n",
      "  turbo_df = turbo_df.append(data, ignore_index = True)\n",
      "C:\\Users\\bashi\\AppData\\Local\\Temp\\ipykernel_1612\\837280139.py:2: DeprecationWarning: executable_path has been deprecated, please pass in a Service object\n",
      "  driver = webdriver.Chrome(\"chromedriver.exe\")\n"
     ]
    },
    {
     "name": "stdout",
     "output_type": "stream",
     "text": [
      "289\n"
     ]
    },
    {
     "name": "stderr",
     "output_type": "stream",
     "text": [
      "C:\\Users\\bashi\\AppData\\Local\\Temp\\ipykernel_1612\\1789959209.py:4: FutureWarning: The frame.append method is deprecated and will be removed from pandas in a future version. Use pandas.concat instead.\n",
      "  turbo_df = turbo_df.append(data, ignore_index = True)\n",
      "C:\\Users\\bashi\\AppData\\Local\\Temp\\ipykernel_1612\\837280139.py:2: DeprecationWarning: executable_path has been deprecated, please pass in a Service object\n",
      "  driver = webdriver.Chrome(\"chromedriver.exe\")\n"
     ]
    },
    {
     "name": "stdout",
     "output_type": "stream",
     "text": [
      "290\n"
     ]
    },
    {
     "name": "stderr",
     "output_type": "stream",
     "text": [
      "C:\\Users\\bashi\\AppData\\Local\\Temp\\ipykernel_1612\\1789959209.py:4: FutureWarning: The frame.append method is deprecated and will be removed from pandas in a future version. Use pandas.concat instead.\n",
      "  turbo_df = turbo_df.append(data, ignore_index = True)\n",
      "C:\\Users\\bashi\\AppData\\Local\\Temp\\ipykernel_1612\\837280139.py:2: DeprecationWarning: executable_path has been deprecated, please pass in a Service object\n",
      "  driver = webdriver.Chrome(\"chromedriver.exe\")\n"
     ]
    },
    {
     "name": "stdout",
     "output_type": "stream",
     "text": [
      "291\n"
     ]
    },
    {
     "name": "stderr",
     "output_type": "stream",
     "text": [
      "C:\\Users\\bashi\\AppData\\Local\\Temp\\ipykernel_1612\\1789959209.py:4: FutureWarning: The frame.append method is deprecated and will be removed from pandas in a future version. Use pandas.concat instead.\n",
      "  turbo_df = turbo_df.append(data, ignore_index = True)\n",
      "C:\\Users\\bashi\\AppData\\Local\\Temp\\ipykernel_1612\\837280139.py:2: DeprecationWarning: executable_path has been deprecated, please pass in a Service object\n",
      "  driver = webdriver.Chrome(\"chromedriver.exe\")\n"
     ]
    },
    {
     "name": "stdout",
     "output_type": "stream",
     "text": [
      "292\n"
     ]
    },
    {
     "name": "stderr",
     "output_type": "stream",
     "text": [
      "C:\\Users\\bashi\\AppData\\Local\\Temp\\ipykernel_1612\\1789959209.py:4: FutureWarning: The frame.append method is deprecated and will be removed from pandas in a future version. Use pandas.concat instead.\n",
      "  turbo_df = turbo_df.append(data, ignore_index = True)\n",
      "C:\\Users\\bashi\\AppData\\Local\\Temp\\ipykernel_1612\\837280139.py:2: DeprecationWarning: executable_path has been deprecated, please pass in a Service object\n",
      "  driver = webdriver.Chrome(\"chromedriver.exe\")\n"
     ]
    },
    {
     "name": "stdout",
     "output_type": "stream",
     "text": [
      "293\n"
     ]
    },
    {
     "name": "stderr",
     "output_type": "stream",
     "text": [
      "C:\\Users\\bashi\\AppData\\Local\\Temp\\ipykernel_1612\\1789959209.py:4: FutureWarning: The frame.append method is deprecated and will be removed from pandas in a future version. Use pandas.concat instead.\n",
      "  turbo_df = turbo_df.append(data, ignore_index = True)\n",
      "C:\\Users\\bashi\\AppData\\Local\\Temp\\ipykernel_1612\\837280139.py:2: DeprecationWarning: executable_path has been deprecated, please pass in a Service object\n",
      "  driver = webdriver.Chrome(\"chromedriver.exe\")\n"
     ]
    },
    {
     "name": "stdout",
     "output_type": "stream",
     "text": [
      "294\n"
     ]
    },
    {
     "name": "stderr",
     "output_type": "stream",
     "text": [
      "C:\\Users\\bashi\\AppData\\Local\\Temp\\ipykernel_1612\\1789959209.py:4: FutureWarning: The frame.append method is deprecated and will be removed from pandas in a future version. Use pandas.concat instead.\n",
      "  turbo_df = turbo_df.append(data, ignore_index = True)\n",
      "C:\\Users\\bashi\\AppData\\Local\\Temp\\ipykernel_1612\\837280139.py:2: DeprecationWarning: executable_path has been deprecated, please pass in a Service object\n",
      "  driver = webdriver.Chrome(\"chromedriver.exe\")\n"
     ]
    },
    {
     "name": "stdout",
     "output_type": "stream",
     "text": [
      "295\n"
     ]
    },
    {
     "name": "stderr",
     "output_type": "stream",
     "text": [
      "C:\\Users\\bashi\\AppData\\Local\\Temp\\ipykernel_1612\\1789959209.py:4: FutureWarning: The frame.append method is deprecated and will be removed from pandas in a future version. Use pandas.concat instead.\n",
      "  turbo_df = turbo_df.append(data, ignore_index = True)\n",
      "C:\\Users\\bashi\\AppData\\Local\\Temp\\ipykernel_1612\\837280139.py:2: DeprecationWarning: executable_path has been deprecated, please pass in a Service object\n",
      "  driver = webdriver.Chrome(\"chromedriver.exe\")\n"
     ]
    },
    {
     "name": "stdout",
     "output_type": "stream",
     "text": [
      "296\n"
     ]
    },
    {
     "name": "stderr",
     "output_type": "stream",
     "text": [
      "C:\\Users\\bashi\\AppData\\Local\\Temp\\ipykernel_1612\\1789959209.py:4: FutureWarning: The frame.append method is deprecated and will be removed from pandas in a future version. Use pandas.concat instead.\n",
      "  turbo_df = turbo_df.append(data, ignore_index = True)\n",
      "C:\\Users\\bashi\\AppData\\Local\\Temp\\ipykernel_1612\\837280139.py:2: DeprecationWarning: executable_path has been deprecated, please pass in a Service object\n",
      "  driver = webdriver.Chrome(\"chromedriver.exe\")\n"
     ]
    },
    {
     "name": "stdout",
     "output_type": "stream",
     "text": [
      "297\n"
     ]
    },
    {
     "name": "stderr",
     "output_type": "stream",
     "text": [
      "C:\\Users\\bashi\\AppData\\Local\\Temp\\ipykernel_1612\\1789959209.py:4: FutureWarning: The frame.append method is deprecated and will be removed from pandas in a future version. Use pandas.concat instead.\n",
      "  turbo_df = turbo_df.append(data, ignore_index = True)\n",
      "C:\\Users\\bashi\\AppData\\Local\\Temp\\ipykernel_1612\\837280139.py:2: DeprecationWarning: executable_path has been deprecated, please pass in a Service object\n",
      "  driver = webdriver.Chrome(\"chromedriver.exe\")\n"
     ]
    },
    {
     "name": "stdout",
     "output_type": "stream",
     "text": [
      "298\n"
     ]
    },
    {
     "name": "stderr",
     "output_type": "stream",
     "text": [
      "C:\\Users\\bashi\\AppData\\Local\\Temp\\ipykernel_1612\\1789959209.py:4: FutureWarning: The frame.append method is deprecated and will be removed from pandas in a future version. Use pandas.concat instead.\n",
      "  turbo_df = turbo_df.append(data, ignore_index = True)\n",
      "C:\\Users\\bashi\\AppData\\Local\\Temp\\ipykernel_1612\\837280139.py:2: DeprecationWarning: executable_path has been deprecated, please pass in a Service object\n",
      "  driver = webdriver.Chrome(\"chromedriver.exe\")\n"
     ]
    },
    {
     "name": "stdout",
     "output_type": "stream",
     "text": [
      "299\n"
     ]
    },
    {
     "name": "stderr",
     "output_type": "stream",
     "text": [
      "C:\\Users\\bashi\\AppData\\Local\\Temp\\ipykernel_1612\\1789959209.py:4: FutureWarning: The frame.append method is deprecated and will be removed from pandas in a future version. Use pandas.concat instead.\n",
      "  turbo_df = turbo_df.append(data, ignore_index = True)\n",
      "C:\\Users\\bashi\\AppData\\Local\\Temp\\ipykernel_1612\\837280139.py:2: DeprecationWarning: executable_path has been deprecated, please pass in a Service object\n",
      "  driver = webdriver.Chrome(\"chromedriver.exe\")\n"
     ]
    },
    {
     "name": "stdout",
     "output_type": "stream",
     "text": [
      "300\n"
     ]
    },
    {
     "name": "stderr",
     "output_type": "stream",
     "text": [
      "C:\\Users\\bashi\\AppData\\Local\\Temp\\ipykernel_1612\\1789959209.py:4: FutureWarning: The frame.append method is deprecated and will be removed from pandas in a future version. Use pandas.concat instead.\n",
      "  turbo_df = turbo_df.append(data, ignore_index = True)\n",
      "C:\\Users\\bashi\\AppData\\Local\\Temp\\ipykernel_1612\\837280139.py:2: DeprecationWarning: executable_path has been deprecated, please pass in a Service object\n",
      "  driver = webdriver.Chrome(\"chromedriver.exe\")\n"
     ]
    },
    {
     "name": "stdout",
     "output_type": "stream",
     "text": [
      "301\n"
     ]
    },
    {
     "name": "stderr",
     "output_type": "stream",
     "text": [
      "C:\\Users\\bashi\\AppData\\Local\\Temp\\ipykernel_1612\\1789959209.py:4: FutureWarning: The frame.append method is deprecated and will be removed from pandas in a future version. Use pandas.concat instead.\n",
      "  turbo_df = turbo_df.append(data, ignore_index = True)\n",
      "C:\\Users\\bashi\\AppData\\Local\\Temp\\ipykernel_1612\\837280139.py:2: DeprecationWarning: executable_path has been deprecated, please pass in a Service object\n",
      "  driver = webdriver.Chrome(\"chromedriver.exe\")\n"
     ]
    },
    {
     "name": "stdout",
     "output_type": "stream",
     "text": [
      "302\n"
     ]
    },
    {
     "name": "stderr",
     "output_type": "stream",
     "text": [
      "C:\\Users\\bashi\\AppData\\Local\\Temp\\ipykernel_1612\\1789959209.py:4: FutureWarning: The frame.append method is deprecated and will be removed from pandas in a future version. Use pandas.concat instead.\n",
      "  turbo_df = turbo_df.append(data, ignore_index = True)\n",
      "C:\\Users\\bashi\\AppData\\Local\\Temp\\ipykernel_1612\\837280139.py:2: DeprecationWarning: executable_path has been deprecated, please pass in a Service object\n",
      "  driver = webdriver.Chrome(\"chromedriver.exe\")\n"
     ]
    },
    {
     "name": "stdout",
     "output_type": "stream",
     "text": [
      "303\n"
     ]
    },
    {
     "name": "stderr",
     "output_type": "stream",
     "text": [
      "C:\\Users\\bashi\\AppData\\Local\\Temp\\ipykernel_1612\\1789959209.py:4: FutureWarning: The frame.append method is deprecated and will be removed from pandas in a future version. Use pandas.concat instead.\n",
      "  turbo_df = turbo_df.append(data, ignore_index = True)\n",
      "C:\\Users\\bashi\\AppData\\Local\\Temp\\ipykernel_1612\\837280139.py:2: DeprecationWarning: executable_path has been deprecated, please pass in a Service object\n",
      "  driver = webdriver.Chrome(\"chromedriver.exe\")\n"
     ]
    },
    {
     "name": "stdout",
     "output_type": "stream",
     "text": [
      "304\n"
     ]
    },
    {
     "name": "stderr",
     "output_type": "stream",
     "text": [
      "C:\\Users\\bashi\\AppData\\Local\\Temp\\ipykernel_1612\\1789959209.py:4: FutureWarning: The frame.append method is deprecated and will be removed from pandas in a future version. Use pandas.concat instead.\n",
      "  turbo_df = turbo_df.append(data, ignore_index = True)\n",
      "C:\\Users\\bashi\\AppData\\Local\\Temp\\ipykernel_1612\\837280139.py:2: DeprecationWarning: executable_path has been deprecated, please pass in a Service object\n",
      "  driver = webdriver.Chrome(\"chromedriver.exe\")\n"
     ]
    },
    {
     "name": "stdout",
     "output_type": "stream",
     "text": [
      "305\n"
     ]
    },
    {
     "name": "stderr",
     "output_type": "stream",
     "text": [
      "C:\\Users\\bashi\\AppData\\Local\\Temp\\ipykernel_1612\\1789959209.py:4: FutureWarning: The frame.append method is deprecated and will be removed from pandas in a future version. Use pandas.concat instead.\n",
      "  turbo_df = turbo_df.append(data, ignore_index = True)\n",
      "C:\\Users\\bashi\\AppData\\Local\\Temp\\ipykernel_1612\\837280139.py:2: DeprecationWarning: executable_path has been deprecated, please pass in a Service object\n",
      "  driver = webdriver.Chrome(\"chromedriver.exe\")\n"
     ]
    },
    {
     "name": "stdout",
     "output_type": "stream",
     "text": [
      "306\n"
     ]
    },
    {
     "name": "stderr",
     "output_type": "stream",
     "text": [
      "C:\\Users\\bashi\\AppData\\Local\\Temp\\ipykernel_1612\\1789959209.py:4: FutureWarning: The frame.append method is deprecated and will be removed from pandas in a future version. Use pandas.concat instead.\n",
      "  turbo_df = turbo_df.append(data, ignore_index = True)\n",
      "C:\\Users\\bashi\\AppData\\Local\\Temp\\ipykernel_1612\\837280139.py:2: DeprecationWarning: executable_path has been deprecated, please pass in a Service object\n",
      "  driver = webdriver.Chrome(\"chromedriver.exe\")\n"
     ]
    },
    {
     "name": "stdout",
     "output_type": "stream",
     "text": [
      "307\n"
     ]
    },
    {
     "name": "stderr",
     "output_type": "stream",
     "text": [
      "C:\\Users\\bashi\\AppData\\Local\\Temp\\ipykernel_1612\\1789959209.py:4: FutureWarning: The frame.append method is deprecated and will be removed from pandas in a future version. Use pandas.concat instead.\n",
      "  turbo_df = turbo_df.append(data, ignore_index = True)\n",
      "C:\\Users\\bashi\\AppData\\Local\\Temp\\ipykernel_1612\\837280139.py:2: DeprecationWarning: executable_path has been deprecated, please pass in a Service object\n",
      "  driver = webdriver.Chrome(\"chromedriver.exe\")\n"
     ]
    },
    {
     "name": "stdout",
     "output_type": "stream",
     "text": [
      "308\n"
     ]
    },
    {
     "name": "stderr",
     "output_type": "stream",
     "text": [
      "C:\\Users\\bashi\\AppData\\Local\\Temp\\ipykernel_1612\\1789959209.py:4: FutureWarning: The frame.append method is deprecated and will be removed from pandas in a future version. Use pandas.concat instead.\n",
      "  turbo_df = turbo_df.append(data, ignore_index = True)\n",
      "C:\\Users\\bashi\\AppData\\Local\\Temp\\ipykernel_1612\\837280139.py:2: DeprecationWarning: executable_path has been deprecated, please pass in a Service object\n",
      "  driver = webdriver.Chrome(\"chromedriver.exe\")\n"
     ]
    },
    {
     "name": "stdout",
     "output_type": "stream",
     "text": [
      "309\n"
     ]
    },
    {
     "name": "stderr",
     "output_type": "stream",
     "text": [
      "C:\\Users\\bashi\\AppData\\Local\\Temp\\ipykernel_1612\\1789959209.py:4: FutureWarning: The frame.append method is deprecated and will be removed from pandas in a future version. Use pandas.concat instead.\n",
      "  turbo_df = turbo_df.append(data, ignore_index = True)\n",
      "C:\\Users\\bashi\\AppData\\Local\\Temp\\ipykernel_1612\\837280139.py:2: DeprecationWarning: executable_path has been deprecated, please pass in a Service object\n",
      "  driver = webdriver.Chrome(\"chromedriver.exe\")\n"
     ]
    },
    {
     "name": "stdout",
     "output_type": "stream",
     "text": [
      "310\n"
     ]
    },
    {
     "name": "stderr",
     "output_type": "stream",
     "text": [
      "C:\\Users\\bashi\\AppData\\Local\\Temp\\ipykernel_1612\\1789959209.py:4: FutureWarning: The frame.append method is deprecated and will be removed from pandas in a future version. Use pandas.concat instead.\n",
      "  turbo_df = turbo_df.append(data, ignore_index = True)\n",
      "C:\\Users\\bashi\\AppData\\Local\\Temp\\ipykernel_1612\\837280139.py:2: DeprecationWarning: executable_path has been deprecated, please pass in a Service object\n",
      "  driver = webdriver.Chrome(\"chromedriver.exe\")\n"
     ]
    },
    {
     "name": "stdout",
     "output_type": "stream",
     "text": [
      "311\n"
     ]
    },
    {
     "name": "stderr",
     "output_type": "stream",
     "text": [
      "C:\\Users\\bashi\\AppData\\Local\\Temp\\ipykernel_1612\\1789959209.py:4: FutureWarning: The frame.append method is deprecated and will be removed from pandas in a future version. Use pandas.concat instead.\n",
      "  turbo_df = turbo_df.append(data, ignore_index = True)\n",
      "C:\\Users\\bashi\\AppData\\Local\\Temp\\ipykernel_1612\\837280139.py:2: DeprecationWarning: executable_path has been deprecated, please pass in a Service object\n",
      "  driver = webdriver.Chrome(\"chromedriver.exe\")\n"
     ]
    },
    {
     "name": "stdout",
     "output_type": "stream",
     "text": [
      "311\n"
     ]
    },
    {
     "name": "stderr",
     "output_type": "stream",
     "text": [
      "C:\\Users\\bashi\\AppData\\Local\\Temp\\ipykernel_1612\\1789959209.py:4: FutureWarning: The frame.append method is deprecated and will be removed from pandas in a future version. Use pandas.concat instead.\n",
      "  turbo_df = turbo_df.append(data, ignore_index = True)\n",
      "C:\\Users\\bashi\\AppData\\Local\\Temp\\ipykernel_1612\\837280139.py:2: DeprecationWarning: executable_path has been deprecated, please pass in a Service object\n",
      "  driver = webdriver.Chrome(\"chromedriver.exe\")\n"
     ]
    },
    {
     "name": "stdout",
     "output_type": "stream",
     "text": [
      "313\n"
     ]
    },
    {
     "name": "stderr",
     "output_type": "stream",
     "text": [
      "C:\\Users\\bashi\\AppData\\Local\\Temp\\ipykernel_1612\\1789959209.py:4: FutureWarning: The frame.append method is deprecated and will be removed from pandas in a future version. Use pandas.concat instead.\n",
      "  turbo_df = turbo_df.append(data, ignore_index = True)\n",
      "C:\\Users\\bashi\\AppData\\Local\\Temp\\ipykernel_1612\\837280139.py:2: DeprecationWarning: executable_path has been deprecated, please pass in a Service object\n",
      "  driver = webdriver.Chrome(\"chromedriver.exe\")\n"
     ]
    },
    {
     "name": "stdout",
     "output_type": "stream",
     "text": [
      "314\n"
     ]
    },
    {
     "name": "stderr",
     "output_type": "stream",
     "text": [
      "C:\\Users\\bashi\\AppData\\Local\\Temp\\ipykernel_1612\\1789959209.py:4: FutureWarning: The frame.append method is deprecated and will be removed from pandas in a future version. Use pandas.concat instead.\n",
      "  turbo_df = turbo_df.append(data, ignore_index = True)\n",
      "C:\\Users\\bashi\\AppData\\Local\\Temp\\ipykernel_1612\\837280139.py:2: DeprecationWarning: executable_path has been deprecated, please pass in a Service object\n",
      "  driver = webdriver.Chrome(\"chromedriver.exe\")\n"
     ]
    },
    {
     "name": "stdout",
     "output_type": "stream",
     "text": [
      "315\n"
     ]
    },
    {
     "name": "stderr",
     "output_type": "stream",
     "text": [
      "C:\\Users\\bashi\\AppData\\Local\\Temp\\ipykernel_1612\\1789959209.py:4: FutureWarning: The frame.append method is deprecated and will be removed from pandas in a future version. Use pandas.concat instead.\n",
      "  turbo_df = turbo_df.append(data, ignore_index = True)\n",
      "C:\\Users\\bashi\\AppData\\Local\\Temp\\ipykernel_1612\\837280139.py:2: DeprecationWarning: executable_path has been deprecated, please pass in a Service object\n",
      "  driver = webdriver.Chrome(\"chromedriver.exe\")\n"
     ]
    },
    {
     "name": "stdout",
     "output_type": "stream",
     "text": [
      "316\n"
     ]
    },
    {
     "name": "stderr",
     "output_type": "stream",
     "text": [
      "C:\\Users\\bashi\\AppData\\Local\\Temp\\ipykernel_1612\\1789959209.py:4: FutureWarning: The frame.append method is deprecated and will be removed from pandas in a future version. Use pandas.concat instead.\n",
      "  turbo_df = turbo_df.append(data, ignore_index = True)\n",
      "C:\\Users\\bashi\\AppData\\Local\\Temp\\ipykernel_1612\\837280139.py:2: DeprecationWarning: executable_path has been deprecated, please pass in a Service object\n",
      "  driver = webdriver.Chrome(\"chromedriver.exe\")\n"
     ]
    },
    {
     "name": "stdout",
     "output_type": "stream",
     "text": [
      "317\n"
     ]
    },
    {
     "name": "stderr",
     "output_type": "stream",
     "text": [
      "C:\\Users\\bashi\\AppData\\Local\\Temp\\ipykernel_1612\\1789959209.py:4: FutureWarning: The frame.append method is deprecated and will be removed from pandas in a future version. Use pandas.concat instead.\n",
      "  turbo_df = turbo_df.append(data, ignore_index = True)\n",
      "C:\\Users\\bashi\\AppData\\Local\\Temp\\ipykernel_1612\\837280139.py:2: DeprecationWarning: executable_path has been deprecated, please pass in a Service object\n",
      "  driver = webdriver.Chrome(\"chromedriver.exe\")\n"
     ]
    },
    {
     "name": "stdout",
     "output_type": "stream",
     "text": [
      "318\n"
     ]
    },
    {
     "name": "stderr",
     "output_type": "stream",
     "text": [
      "C:\\Users\\bashi\\AppData\\Local\\Temp\\ipykernel_1612\\1789959209.py:4: FutureWarning: The frame.append method is deprecated and will be removed from pandas in a future version. Use pandas.concat instead.\n",
      "  turbo_df = turbo_df.append(data, ignore_index = True)\n",
      "C:\\Users\\bashi\\AppData\\Local\\Temp\\ipykernel_1612\\837280139.py:2: DeprecationWarning: executable_path has been deprecated, please pass in a Service object\n",
      "  driver = webdriver.Chrome(\"chromedriver.exe\")\n"
     ]
    },
    {
     "name": "stdout",
     "output_type": "stream",
     "text": [
      "319\n"
     ]
    },
    {
     "name": "stderr",
     "output_type": "stream",
     "text": [
      "C:\\Users\\bashi\\AppData\\Local\\Temp\\ipykernel_1612\\1789959209.py:4: FutureWarning: The frame.append method is deprecated and will be removed from pandas in a future version. Use pandas.concat instead.\n",
      "  turbo_df = turbo_df.append(data, ignore_index = True)\n",
      "C:\\Users\\bashi\\AppData\\Local\\Temp\\ipykernel_1612\\837280139.py:2: DeprecationWarning: executable_path has been deprecated, please pass in a Service object\n",
      "  driver = webdriver.Chrome(\"chromedriver.exe\")\n"
     ]
    },
    {
     "name": "stdout",
     "output_type": "stream",
     "text": [
      "320\n"
     ]
    },
    {
     "name": "stderr",
     "output_type": "stream",
     "text": [
      "C:\\Users\\bashi\\AppData\\Local\\Temp\\ipykernel_1612\\1789959209.py:4: FutureWarning: The frame.append method is deprecated and will be removed from pandas in a future version. Use pandas.concat instead.\n",
      "  turbo_df = turbo_df.append(data, ignore_index = True)\n",
      "C:\\Users\\bashi\\AppData\\Local\\Temp\\ipykernel_1612\\837280139.py:2: DeprecationWarning: executable_path has been deprecated, please pass in a Service object\n",
      "  driver = webdriver.Chrome(\"chromedriver.exe\")\n"
     ]
    },
    {
     "name": "stdout",
     "output_type": "stream",
     "text": [
      "321\n"
     ]
    },
    {
     "name": "stderr",
     "output_type": "stream",
     "text": [
      "C:\\Users\\bashi\\AppData\\Local\\Temp\\ipykernel_1612\\1789959209.py:4: FutureWarning: The frame.append method is deprecated and will be removed from pandas in a future version. Use pandas.concat instead.\n",
      "  turbo_df = turbo_df.append(data, ignore_index = True)\n",
      "C:\\Users\\bashi\\AppData\\Local\\Temp\\ipykernel_1612\\837280139.py:2: DeprecationWarning: executable_path has been deprecated, please pass in a Service object\n",
      "  driver = webdriver.Chrome(\"chromedriver.exe\")\n"
     ]
    },
    {
     "name": "stdout",
     "output_type": "stream",
     "text": [
      "322\n"
     ]
    },
    {
     "name": "stderr",
     "output_type": "stream",
     "text": [
      "C:\\Users\\bashi\\AppData\\Local\\Temp\\ipykernel_1612\\1789959209.py:4: FutureWarning: The frame.append method is deprecated and will be removed from pandas in a future version. Use pandas.concat instead.\n",
      "  turbo_df = turbo_df.append(data, ignore_index = True)\n",
      "C:\\Users\\bashi\\AppData\\Local\\Temp\\ipykernel_1612\\837280139.py:2: DeprecationWarning: executable_path has been deprecated, please pass in a Service object\n",
      "  driver = webdriver.Chrome(\"chromedriver.exe\")\n"
     ]
    },
    {
     "name": "stdout",
     "output_type": "stream",
     "text": [
      "323\n"
     ]
    },
    {
     "name": "stderr",
     "output_type": "stream",
     "text": [
      "C:\\Users\\bashi\\AppData\\Local\\Temp\\ipykernel_1612\\1789959209.py:4: FutureWarning: The frame.append method is deprecated and will be removed from pandas in a future version. Use pandas.concat instead.\n",
      "  turbo_df = turbo_df.append(data, ignore_index = True)\n",
      "C:\\Users\\bashi\\AppData\\Local\\Temp\\ipykernel_1612\\837280139.py:2: DeprecationWarning: executable_path has been deprecated, please pass in a Service object\n",
      "  driver = webdriver.Chrome(\"chromedriver.exe\")\n"
     ]
    },
    {
     "name": "stdout",
     "output_type": "stream",
     "text": [
      "324\n"
     ]
    },
    {
     "name": "stderr",
     "output_type": "stream",
     "text": [
      "C:\\Users\\bashi\\AppData\\Local\\Temp\\ipykernel_1612\\1789959209.py:4: FutureWarning: The frame.append method is deprecated and will be removed from pandas in a future version. Use pandas.concat instead.\n",
      "  turbo_df = turbo_df.append(data, ignore_index = True)\n",
      "C:\\Users\\bashi\\AppData\\Local\\Temp\\ipykernel_1612\\837280139.py:2: DeprecationWarning: executable_path has been deprecated, please pass in a Service object\n",
      "  driver = webdriver.Chrome(\"chromedriver.exe\")\n"
     ]
    },
    {
     "name": "stdout",
     "output_type": "stream",
     "text": [
      "325\n"
     ]
    },
    {
     "name": "stderr",
     "output_type": "stream",
     "text": [
      "C:\\Users\\bashi\\AppData\\Local\\Temp\\ipykernel_1612\\1789959209.py:4: FutureWarning: The frame.append method is deprecated and will be removed from pandas in a future version. Use pandas.concat instead.\n",
      "  turbo_df = turbo_df.append(data, ignore_index = True)\n",
      "C:\\Users\\bashi\\AppData\\Local\\Temp\\ipykernel_1612\\837280139.py:2: DeprecationWarning: executable_path has been deprecated, please pass in a Service object\n",
      "  driver = webdriver.Chrome(\"chromedriver.exe\")\n"
     ]
    },
    {
     "name": "stdout",
     "output_type": "stream",
     "text": [
      "326\n"
     ]
    },
    {
     "name": "stderr",
     "output_type": "stream",
     "text": [
      "C:\\Users\\bashi\\AppData\\Local\\Temp\\ipykernel_1612\\1789959209.py:4: FutureWarning: The frame.append method is deprecated and will be removed from pandas in a future version. Use pandas.concat instead.\n",
      "  turbo_df = turbo_df.append(data, ignore_index = True)\n",
      "C:\\Users\\bashi\\AppData\\Local\\Temp\\ipykernel_1612\\837280139.py:2: DeprecationWarning: executable_path has been deprecated, please pass in a Service object\n",
      "  driver = webdriver.Chrome(\"chromedriver.exe\")\n"
     ]
    },
    {
     "name": "stdout",
     "output_type": "stream",
     "text": [
      "327\n"
     ]
    },
    {
     "name": "stderr",
     "output_type": "stream",
     "text": [
      "C:\\Users\\bashi\\AppData\\Local\\Temp\\ipykernel_1612\\1789959209.py:4: FutureWarning: The frame.append method is deprecated and will be removed from pandas in a future version. Use pandas.concat instead.\n",
      "  turbo_df = turbo_df.append(data, ignore_index = True)\n",
      "C:\\Users\\bashi\\AppData\\Local\\Temp\\ipykernel_1612\\837280139.py:2: DeprecationWarning: executable_path has been deprecated, please pass in a Service object\n",
      "  driver = webdriver.Chrome(\"chromedriver.exe\")\n"
     ]
    },
    {
     "name": "stdout",
     "output_type": "stream",
     "text": [
      "328\n"
     ]
    },
    {
     "name": "stderr",
     "output_type": "stream",
     "text": [
      "C:\\Users\\bashi\\AppData\\Local\\Temp\\ipykernel_1612\\1789959209.py:4: FutureWarning: The frame.append method is deprecated and will be removed from pandas in a future version. Use pandas.concat instead.\n",
      "  turbo_df = turbo_df.append(data, ignore_index = True)\n",
      "C:\\Users\\bashi\\AppData\\Local\\Temp\\ipykernel_1612\\837280139.py:2: DeprecationWarning: executable_path has been deprecated, please pass in a Service object\n",
      "  driver = webdriver.Chrome(\"chromedriver.exe\")\n"
     ]
    },
    {
     "name": "stdout",
     "output_type": "stream",
     "text": [
      "329\n"
     ]
    },
    {
     "name": "stderr",
     "output_type": "stream",
     "text": [
      "C:\\Users\\bashi\\AppData\\Local\\Temp\\ipykernel_1612\\1789959209.py:4: FutureWarning: The frame.append method is deprecated and will be removed from pandas in a future version. Use pandas.concat instead.\n",
      "  turbo_df = turbo_df.append(data, ignore_index = True)\n",
      "C:\\Users\\bashi\\AppData\\Local\\Temp\\ipykernel_1612\\837280139.py:2: DeprecationWarning: executable_path has been deprecated, please pass in a Service object\n",
      "  driver = webdriver.Chrome(\"chromedriver.exe\")\n"
     ]
    },
    {
     "name": "stdout",
     "output_type": "stream",
     "text": [
      "330\n"
     ]
    },
    {
     "name": "stderr",
     "output_type": "stream",
     "text": [
      "C:\\Users\\bashi\\AppData\\Local\\Temp\\ipykernel_1612\\1789959209.py:4: FutureWarning: The frame.append method is deprecated and will be removed from pandas in a future version. Use pandas.concat instead.\n",
      "  turbo_df = turbo_df.append(data, ignore_index = True)\n",
      "C:\\Users\\bashi\\AppData\\Local\\Temp\\ipykernel_1612\\837280139.py:2: DeprecationWarning: executable_path has been deprecated, please pass in a Service object\n",
      "  driver = webdriver.Chrome(\"chromedriver.exe\")\n"
     ]
    },
    {
     "name": "stdout",
     "output_type": "stream",
     "text": [
      "331\n"
     ]
    },
    {
     "name": "stderr",
     "output_type": "stream",
     "text": [
      "C:\\Users\\bashi\\AppData\\Local\\Temp\\ipykernel_1612\\1789959209.py:4: FutureWarning: The frame.append method is deprecated and will be removed from pandas in a future version. Use pandas.concat instead.\n",
      "  turbo_df = turbo_df.append(data, ignore_index = True)\n",
      "C:\\Users\\bashi\\AppData\\Local\\Temp\\ipykernel_1612\\837280139.py:2: DeprecationWarning: executable_path has been deprecated, please pass in a Service object\n",
      "  driver = webdriver.Chrome(\"chromedriver.exe\")\n"
     ]
    },
    {
     "name": "stdout",
     "output_type": "stream",
     "text": [
      "332\n"
     ]
    },
    {
     "name": "stderr",
     "output_type": "stream",
     "text": [
      "C:\\Users\\bashi\\AppData\\Local\\Temp\\ipykernel_1612\\1789959209.py:4: FutureWarning: The frame.append method is deprecated and will be removed from pandas in a future version. Use pandas.concat instead.\n",
      "  turbo_df = turbo_df.append(data, ignore_index = True)\n",
      "C:\\Users\\bashi\\AppData\\Local\\Temp\\ipykernel_1612\\837280139.py:2: DeprecationWarning: executable_path has been deprecated, please pass in a Service object\n",
      "  driver = webdriver.Chrome(\"chromedriver.exe\")\n"
     ]
    },
    {
     "name": "stdout",
     "output_type": "stream",
     "text": [
      "333\n"
     ]
    },
    {
     "name": "stderr",
     "output_type": "stream",
     "text": [
      "C:\\Users\\bashi\\AppData\\Local\\Temp\\ipykernel_1612\\1789959209.py:4: FutureWarning: The frame.append method is deprecated and will be removed from pandas in a future version. Use pandas.concat instead.\n",
      "  turbo_df = turbo_df.append(data, ignore_index = True)\n",
      "C:\\Users\\bashi\\AppData\\Local\\Temp\\ipykernel_1612\\837280139.py:2: DeprecationWarning: executable_path has been deprecated, please pass in a Service object\n",
      "  driver = webdriver.Chrome(\"chromedriver.exe\")\n"
     ]
    },
    {
     "name": "stdout",
     "output_type": "stream",
     "text": [
      "334\n"
     ]
    },
    {
     "name": "stderr",
     "output_type": "stream",
     "text": [
      "C:\\Users\\bashi\\AppData\\Local\\Temp\\ipykernel_1612\\1789959209.py:4: FutureWarning: The frame.append method is deprecated and will be removed from pandas in a future version. Use pandas.concat instead.\n",
      "  turbo_df = turbo_df.append(data, ignore_index = True)\n",
      "C:\\Users\\bashi\\AppData\\Local\\Temp\\ipykernel_1612\\837280139.py:2: DeprecationWarning: executable_path has been deprecated, please pass in a Service object\n",
      "  driver = webdriver.Chrome(\"chromedriver.exe\")\n"
     ]
    },
    {
     "name": "stdout",
     "output_type": "stream",
     "text": [
      "335\n"
     ]
    },
    {
     "name": "stderr",
     "output_type": "stream",
     "text": [
      "C:\\Users\\bashi\\AppData\\Local\\Temp\\ipykernel_1612\\1789959209.py:4: FutureWarning: The frame.append method is deprecated and will be removed from pandas in a future version. Use pandas.concat instead.\n",
      "  turbo_df = turbo_df.append(data, ignore_index = True)\n",
      "C:\\Users\\bashi\\AppData\\Local\\Temp\\ipykernel_1612\\837280139.py:2: DeprecationWarning: executable_path has been deprecated, please pass in a Service object\n",
      "  driver = webdriver.Chrome(\"chromedriver.exe\")\n"
     ]
    },
    {
     "name": "stdout",
     "output_type": "stream",
     "text": [
      "335\n"
     ]
    },
    {
     "name": "stderr",
     "output_type": "stream",
     "text": [
      "C:\\Users\\bashi\\AppData\\Local\\Temp\\ipykernel_1612\\1789959209.py:4: FutureWarning: The frame.append method is deprecated and will be removed from pandas in a future version. Use pandas.concat instead.\n",
      "  turbo_df = turbo_df.append(data, ignore_index = True)\n",
      "C:\\Users\\bashi\\AppData\\Local\\Temp\\ipykernel_1612\\837280139.py:2: DeprecationWarning: executable_path has been deprecated, please pass in a Service object\n",
      "  driver = webdriver.Chrome(\"chromedriver.exe\")\n"
     ]
    },
    {
     "name": "stdout",
     "output_type": "stream",
     "text": [
      "337\n"
     ]
    },
    {
     "name": "stderr",
     "output_type": "stream",
     "text": [
      "C:\\Users\\bashi\\AppData\\Local\\Temp\\ipykernel_1612\\1789959209.py:4: FutureWarning: The frame.append method is deprecated and will be removed from pandas in a future version. Use pandas.concat instead.\n",
      "  turbo_df = turbo_df.append(data, ignore_index = True)\n",
      "C:\\Users\\bashi\\AppData\\Local\\Temp\\ipykernel_1612\\837280139.py:2: DeprecationWarning: executable_path has been deprecated, please pass in a Service object\n",
      "  driver = webdriver.Chrome(\"chromedriver.exe\")\n"
     ]
    },
    {
     "name": "stdout",
     "output_type": "stream",
     "text": [
      "338\n"
     ]
    },
    {
     "name": "stderr",
     "output_type": "stream",
     "text": [
      "C:\\Users\\bashi\\AppData\\Local\\Temp\\ipykernel_1612\\1789959209.py:4: FutureWarning: The frame.append method is deprecated and will be removed from pandas in a future version. Use pandas.concat instead.\n",
      "  turbo_df = turbo_df.append(data, ignore_index = True)\n",
      "C:\\Users\\bashi\\AppData\\Local\\Temp\\ipykernel_1612\\837280139.py:2: DeprecationWarning: executable_path has been deprecated, please pass in a Service object\n",
      "  driver = webdriver.Chrome(\"chromedriver.exe\")\n"
     ]
    },
    {
     "name": "stdout",
     "output_type": "stream",
     "text": [
      "339\n"
     ]
    },
    {
     "name": "stderr",
     "output_type": "stream",
     "text": [
      "C:\\Users\\bashi\\AppData\\Local\\Temp\\ipykernel_1612\\1789959209.py:4: FutureWarning: The frame.append method is deprecated and will be removed from pandas in a future version. Use pandas.concat instead.\n",
      "  turbo_df = turbo_df.append(data, ignore_index = True)\n",
      "C:\\Users\\bashi\\AppData\\Local\\Temp\\ipykernel_1612\\837280139.py:2: DeprecationWarning: executable_path has been deprecated, please pass in a Service object\n",
      "  driver = webdriver.Chrome(\"chromedriver.exe\")\n"
     ]
    },
    {
     "name": "stdout",
     "output_type": "stream",
     "text": [
      "340\n"
     ]
    },
    {
     "name": "stderr",
     "output_type": "stream",
     "text": [
      "C:\\Users\\bashi\\AppData\\Local\\Temp\\ipykernel_1612\\1789959209.py:4: FutureWarning: The frame.append method is deprecated and will be removed from pandas in a future version. Use pandas.concat instead.\n",
      "  turbo_df = turbo_df.append(data, ignore_index = True)\n",
      "C:\\Users\\bashi\\AppData\\Local\\Temp\\ipykernel_1612\\837280139.py:2: DeprecationWarning: executable_path has been deprecated, please pass in a Service object\n",
      "  driver = webdriver.Chrome(\"chromedriver.exe\")\n"
     ]
    },
    {
     "name": "stdout",
     "output_type": "stream",
     "text": [
      "341\n"
     ]
    },
    {
     "name": "stderr",
     "output_type": "stream",
     "text": [
      "C:\\Users\\bashi\\AppData\\Local\\Temp\\ipykernel_1612\\1789959209.py:4: FutureWarning: The frame.append method is deprecated and will be removed from pandas in a future version. Use pandas.concat instead.\n",
      "  turbo_df = turbo_df.append(data, ignore_index = True)\n",
      "C:\\Users\\bashi\\AppData\\Local\\Temp\\ipykernel_1612\\837280139.py:2: DeprecationWarning: executable_path has been deprecated, please pass in a Service object\n",
      "  driver = webdriver.Chrome(\"chromedriver.exe\")\n"
     ]
    },
    {
     "name": "stdout",
     "output_type": "stream",
     "text": [
      "342\n"
     ]
    },
    {
     "name": "stderr",
     "output_type": "stream",
     "text": [
      "C:\\Users\\bashi\\AppData\\Local\\Temp\\ipykernel_1612\\1789959209.py:4: FutureWarning: The frame.append method is deprecated and will be removed from pandas in a future version. Use pandas.concat instead.\n",
      "  turbo_df = turbo_df.append(data, ignore_index = True)\n",
      "C:\\Users\\bashi\\AppData\\Local\\Temp\\ipykernel_1612\\837280139.py:2: DeprecationWarning: executable_path has been deprecated, please pass in a Service object\n",
      "  driver = webdriver.Chrome(\"chromedriver.exe\")\n"
     ]
    },
    {
     "name": "stdout",
     "output_type": "stream",
     "text": [
      "343\n"
     ]
    },
    {
     "name": "stderr",
     "output_type": "stream",
     "text": [
      "C:\\Users\\bashi\\AppData\\Local\\Temp\\ipykernel_1612\\1789959209.py:4: FutureWarning: The frame.append method is deprecated and will be removed from pandas in a future version. Use pandas.concat instead.\n",
      "  turbo_df = turbo_df.append(data, ignore_index = True)\n",
      "C:\\Users\\bashi\\AppData\\Local\\Temp\\ipykernel_1612\\837280139.py:2: DeprecationWarning: executable_path has been deprecated, please pass in a Service object\n",
      "  driver = webdriver.Chrome(\"chromedriver.exe\")\n"
     ]
    },
    {
     "name": "stdout",
     "output_type": "stream",
     "text": [
      "344\n"
     ]
    },
    {
     "name": "stderr",
     "output_type": "stream",
     "text": [
      "C:\\Users\\bashi\\AppData\\Local\\Temp\\ipykernel_1612\\1789959209.py:4: FutureWarning: The frame.append method is deprecated and will be removed from pandas in a future version. Use pandas.concat instead.\n",
      "  turbo_df = turbo_df.append(data, ignore_index = True)\n",
      "C:\\Users\\bashi\\AppData\\Local\\Temp\\ipykernel_1612\\837280139.py:2: DeprecationWarning: executable_path has been deprecated, please pass in a Service object\n",
      "  driver = webdriver.Chrome(\"chromedriver.exe\")\n"
     ]
    },
    {
     "name": "stdout",
     "output_type": "stream",
     "text": [
      "345\n"
     ]
    },
    {
     "name": "stderr",
     "output_type": "stream",
     "text": [
      "C:\\Users\\bashi\\AppData\\Local\\Temp\\ipykernel_1612\\1789959209.py:4: FutureWarning: The frame.append method is deprecated and will be removed from pandas in a future version. Use pandas.concat instead.\n",
      "  turbo_df = turbo_df.append(data, ignore_index = True)\n",
      "C:\\Users\\bashi\\AppData\\Local\\Temp\\ipykernel_1612\\837280139.py:2: DeprecationWarning: executable_path has been deprecated, please pass in a Service object\n",
      "  driver = webdriver.Chrome(\"chromedriver.exe\")\n"
     ]
    },
    {
     "name": "stdout",
     "output_type": "stream",
     "text": [
      "346\n"
     ]
    },
    {
     "name": "stderr",
     "output_type": "stream",
     "text": [
      "C:\\Users\\bashi\\AppData\\Local\\Temp\\ipykernel_1612\\1789959209.py:4: FutureWarning: The frame.append method is deprecated and will be removed from pandas in a future version. Use pandas.concat instead.\n",
      "  turbo_df = turbo_df.append(data, ignore_index = True)\n",
      "C:\\Users\\bashi\\AppData\\Local\\Temp\\ipykernel_1612\\837280139.py:2: DeprecationWarning: executable_path has been deprecated, please pass in a Service object\n",
      "  driver = webdriver.Chrome(\"chromedriver.exe\")\n"
     ]
    },
    {
     "name": "stdout",
     "output_type": "stream",
     "text": [
      "347\n"
     ]
    },
    {
     "name": "stderr",
     "output_type": "stream",
     "text": [
      "C:\\Users\\bashi\\AppData\\Local\\Temp\\ipykernel_1612\\1789959209.py:4: FutureWarning: The frame.append method is deprecated and will be removed from pandas in a future version. Use pandas.concat instead.\n",
      "  turbo_df = turbo_df.append(data, ignore_index = True)\n",
      "C:\\Users\\bashi\\AppData\\Local\\Temp\\ipykernel_1612\\837280139.py:2: DeprecationWarning: executable_path has been deprecated, please pass in a Service object\n",
      "  driver = webdriver.Chrome(\"chromedriver.exe\")\n"
     ]
    },
    {
     "name": "stdout",
     "output_type": "stream",
     "text": [
      "348\n"
     ]
    },
    {
     "name": "stderr",
     "output_type": "stream",
     "text": [
      "C:\\Users\\bashi\\AppData\\Local\\Temp\\ipykernel_1612\\1789959209.py:4: FutureWarning: The frame.append method is deprecated and will be removed from pandas in a future version. Use pandas.concat instead.\n",
      "  turbo_df = turbo_df.append(data, ignore_index = True)\n",
      "C:\\Users\\bashi\\AppData\\Local\\Temp\\ipykernel_1612\\837280139.py:2: DeprecationWarning: executable_path has been deprecated, please pass in a Service object\n",
      "  driver = webdriver.Chrome(\"chromedriver.exe\")\n"
     ]
    },
    {
     "name": "stdout",
     "output_type": "stream",
     "text": [
      "349\n"
     ]
    },
    {
     "name": "stderr",
     "output_type": "stream",
     "text": [
      "C:\\Users\\bashi\\AppData\\Local\\Temp\\ipykernel_1612\\1789959209.py:4: FutureWarning: The frame.append method is deprecated and will be removed from pandas in a future version. Use pandas.concat instead.\n",
      "  turbo_df = turbo_df.append(data, ignore_index = True)\n",
      "C:\\Users\\bashi\\AppData\\Local\\Temp\\ipykernel_1612\\837280139.py:2: DeprecationWarning: executable_path has been deprecated, please pass in a Service object\n",
      "  driver = webdriver.Chrome(\"chromedriver.exe\")\n"
     ]
    },
    {
     "name": "stdout",
     "output_type": "stream",
     "text": [
      "350\n"
     ]
    },
    {
     "name": "stderr",
     "output_type": "stream",
     "text": [
      "C:\\Users\\bashi\\AppData\\Local\\Temp\\ipykernel_1612\\1789959209.py:4: FutureWarning: The frame.append method is deprecated and will be removed from pandas in a future version. Use pandas.concat instead.\n",
      "  turbo_df = turbo_df.append(data, ignore_index = True)\n",
      "C:\\Users\\bashi\\AppData\\Local\\Temp\\ipykernel_1612\\837280139.py:2: DeprecationWarning: executable_path has been deprecated, please pass in a Service object\n",
      "  driver = webdriver.Chrome(\"chromedriver.exe\")\n"
     ]
    },
    {
     "name": "stdout",
     "output_type": "stream",
     "text": [
      "351\n"
     ]
    },
    {
     "name": "stderr",
     "output_type": "stream",
     "text": [
      "C:\\Users\\bashi\\AppData\\Local\\Temp\\ipykernel_1612\\1789959209.py:4: FutureWarning: The frame.append method is deprecated and will be removed from pandas in a future version. Use pandas.concat instead.\n",
      "  turbo_df = turbo_df.append(data, ignore_index = True)\n",
      "C:\\Users\\bashi\\AppData\\Local\\Temp\\ipykernel_1612\\837280139.py:2: DeprecationWarning: executable_path has been deprecated, please pass in a Service object\n",
      "  driver = webdriver.Chrome(\"chromedriver.exe\")\n"
     ]
    },
    {
     "name": "stdout",
     "output_type": "stream",
     "text": [
      "352\n"
     ]
    },
    {
     "name": "stderr",
     "output_type": "stream",
     "text": [
      "C:\\Users\\bashi\\AppData\\Local\\Temp\\ipykernel_1612\\1789959209.py:4: FutureWarning: The frame.append method is deprecated and will be removed from pandas in a future version. Use pandas.concat instead.\n",
      "  turbo_df = turbo_df.append(data, ignore_index = True)\n",
      "C:\\Users\\bashi\\AppData\\Local\\Temp\\ipykernel_1612\\837280139.py:2: DeprecationWarning: executable_path has been deprecated, please pass in a Service object\n",
      "  driver = webdriver.Chrome(\"chromedriver.exe\")\n"
     ]
    },
    {
     "name": "stdout",
     "output_type": "stream",
     "text": [
      "353\n"
     ]
    },
    {
     "name": "stderr",
     "output_type": "stream",
     "text": [
      "C:\\Users\\bashi\\AppData\\Local\\Temp\\ipykernel_1612\\1789959209.py:4: FutureWarning: The frame.append method is deprecated and will be removed from pandas in a future version. Use pandas.concat instead.\n",
      "  turbo_df = turbo_df.append(data, ignore_index = True)\n",
      "C:\\Users\\bashi\\AppData\\Local\\Temp\\ipykernel_1612\\837280139.py:2: DeprecationWarning: executable_path has been deprecated, please pass in a Service object\n",
      "  driver = webdriver.Chrome(\"chromedriver.exe\")\n"
     ]
    },
    {
     "name": "stdout",
     "output_type": "stream",
     "text": [
      "354\n"
     ]
    },
    {
     "name": "stderr",
     "output_type": "stream",
     "text": [
      "C:\\Users\\bashi\\AppData\\Local\\Temp\\ipykernel_1612\\1789959209.py:4: FutureWarning: The frame.append method is deprecated and will be removed from pandas in a future version. Use pandas.concat instead.\n",
      "  turbo_df = turbo_df.append(data, ignore_index = True)\n",
      "C:\\Users\\bashi\\AppData\\Local\\Temp\\ipykernel_1612\\837280139.py:2: DeprecationWarning: executable_path has been deprecated, please pass in a Service object\n",
      "  driver = webdriver.Chrome(\"chromedriver.exe\")\n"
     ]
    },
    {
     "name": "stdout",
     "output_type": "stream",
     "text": [
      "355\n"
     ]
    },
    {
     "name": "stderr",
     "output_type": "stream",
     "text": [
      "C:\\Users\\bashi\\AppData\\Local\\Temp\\ipykernel_1612\\1789959209.py:4: FutureWarning: The frame.append method is deprecated and will be removed from pandas in a future version. Use pandas.concat instead.\n",
      "  turbo_df = turbo_df.append(data, ignore_index = True)\n",
      "C:\\Users\\bashi\\AppData\\Local\\Temp\\ipykernel_1612\\837280139.py:2: DeprecationWarning: executable_path has been deprecated, please pass in a Service object\n",
      "  driver = webdriver.Chrome(\"chromedriver.exe\")\n"
     ]
    },
    {
     "name": "stdout",
     "output_type": "stream",
     "text": [
      "356\n"
     ]
    },
    {
     "name": "stderr",
     "output_type": "stream",
     "text": [
      "C:\\Users\\bashi\\AppData\\Local\\Temp\\ipykernel_1612\\1789959209.py:4: FutureWarning: The frame.append method is deprecated and will be removed from pandas in a future version. Use pandas.concat instead.\n",
      "  turbo_df = turbo_df.append(data, ignore_index = True)\n",
      "C:\\Users\\bashi\\AppData\\Local\\Temp\\ipykernel_1612\\837280139.py:2: DeprecationWarning: executable_path has been deprecated, please pass in a Service object\n",
      "  driver = webdriver.Chrome(\"chromedriver.exe\")\n"
     ]
    },
    {
     "name": "stdout",
     "output_type": "stream",
     "text": [
      "357\n"
     ]
    },
    {
     "name": "stderr",
     "output_type": "stream",
     "text": [
      "C:\\Users\\bashi\\AppData\\Local\\Temp\\ipykernel_1612\\1789959209.py:4: FutureWarning: The frame.append method is deprecated and will be removed from pandas in a future version. Use pandas.concat instead.\n",
      "  turbo_df = turbo_df.append(data, ignore_index = True)\n",
      "C:\\Users\\bashi\\AppData\\Local\\Temp\\ipykernel_1612\\837280139.py:2: DeprecationWarning: executable_path has been deprecated, please pass in a Service object\n",
      "  driver = webdriver.Chrome(\"chromedriver.exe\")\n"
     ]
    },
    {
     "name": "stdout",
     "output_type": "stream",
     "text": [
      "358\n"
     ]
    },
    {
     "name": "stderr",
     "output_type": "stream",
     "text": [
      "C:\\Users\\bashi\\AppData\\Local\\Temp\\ipykernel_1612\\1789959209.py:4: FutureWarning: The frame.append method is deprecated and will be removed from pandas in a future version. Use pandas.concat instead.\n",
      "  turbo_df = turbo_df.append(data, ignore_index = True)\n",
      "C:\\Users\\bashi\\AppData\\Local\\Temp\\ipykernel_1612\\837280139.py:2: DeprecationWarning: executable_path has been deprecated, please pass in a Service object\n",
      "  driver = webdriver.Chrome(\"chromedriver.exe\")\n"
     ]
    },
    {
     "name": "stdout",
     "output_type": "stream",
     "text": [
      "359\n"
     ]
    },
    {
     "name": "stderr",
     "output_type": "stream",
     "text": [
      "C:\\Users\\bashi\\AppData\\Local\\Temp\\ipykernel_1612\\1789959209.py:4: FutureWarning: The frame.append method is deprecated and will be removed from pandas in a future version. Use pandas.concat instead.\n",
      "  turbo_df = turbo_df.append(data, ignore_index = True)\n",
      "C:\\Users\\bashi\\AppData\\Local\\Temp\\ipykernel_1612\\837280139.py:2: DeprecationWarning: executable_path has been deprecated, please pass in a Service object\n",
      "  driver = webdriver.Chrome(\"chromedriver.exe\")\n"
     ]
    },
    {
     "name": "stdout",
     "output_type": "stream",
     "text": [
      "359\n"
     ]
    },
    {
     "name": "stderr",
     "output_type": "stream",
     "text": [
      "C:\\Users\\bashi\\AppData\\Local\\Temp\\ipykernel_1612\\1789959209.py:4: FutureWarning: The frame.append method is deprecated and will be removed from pandas in a future version. Use pandas.concat instead.\n",
      "  turbo_df = turbo_df.append(data, ignore_index = True)\n",
      "C:\\Users\\bashi\\AppData\\Local\\Temp\\ipykernel_1612\\837280139.py:2: DeprecationWarning: executable_path has been deprecated, please pass in a Service object\n",
      "  driver = webdriver.Chrome(\"chromedriver.exe\")\n"
     ]
    },
    {
     "name": "stdout",
     "output_type": "stream",
     "text": [
      "361\n"
     ]
    },
    {
     "name": "stderr",
     "output_type": "stream",
     "text": [
      "C:\\Users\\bashi\\AppData\\Local\\Temp\\ipykernel_1612\\1789959209.py:4: FutureWarning: The frame.append method is deprecated and will be removed from pandas in a future version. Use pandas.concat instead.\n",
      "  turbo_df = turbo_df.append(data, ignore_index = True)\n",
      "C:\\Users\\bashi\\AppData\\Local\\Temp\\ipykernel_1612\\837280139.py:2: DeprecationWarning: executable_path has been deprecated, please pass in a Service object\n",
      "  driver = webdriver.Chrome(\"chromedriver.exe\")\n"
     ]
    },
    {
     "name": "stdout",
     "output_type": "stream",
     "text": [
      "362\n"
     ]
    },
    {
     "name": "stderr",
     "output_type": "stream",
     "text": [
      "C:\\Users\\bashi\\AppData\\Local\\Temp\\ipykernel_1612\\1789959209.py:4: FutureWarning: The frame.append method is deprecated and will be removed from pandas in a future version. Use pandas.concat instead.\n",
      "  turbo_df = turbo_df.append(data, ignore_index = True)\n",
      "C:\\Users\\bashi\\AppData\\Local\\Temp\\ipykernel_1612\\837280139.py:2: DeprecationWarning: executable_path has been deprecated, please pass in a Service object\n",
      "  driver = webdriver.Chrome(\"chromedriver.exe\")\n"
     ]
    },
    {
     "name": "stdout",
     "output_type": "stream",
     "text": [
      "363\n"
     ]
    },
    {
     "name": "stderr",
     "output_type": "stream",
     "text": [
      "C:\\Users\\bashi\\AppData\\Local\\Temp\\ipykernel_1612\\1789959209.py:4: FutureWarning: The frame.append method is deprecated and will be removed from pandas in a future version. Use pandas.concat instead.\n",
      "  turbo_df = turbo_df.append(data, ignore_index = True)\n",
      "C:\\Users\\bashi\\AppData\\Local\\Temp\\ipykernel_1612\\837280139.py:2: DeprecationWarning: executable_path has been deprecated, please pass in a Service object\n",
      "  driver = webdriver.Chrome(\"chromedriver.exe\")\n"
     ]
    },
    {
     "name": "stdout",
     "output_type": "stream",
     "text": [
      "364\n"
     ]
    },
    {
     "name": "stderr",
     "output_type": "stream",
     "text": [
      "C:\\Users\\bashi\\AppData\\Local\\Temp\\ipykernel_1612\\1789959209.py:4: FutureWarning: The frame.append method is deprecated and will be removed from pandas in a future version. Use pandas.concat instead.\n",
      "  turbo_df = turbo_df.append(data, ignore_index = True)\n",
      "C:\\Users\\bashi\\AppData\\Local\\Temp\\ipykernel_1612\\837280139.py:2: DeprecationWarning: executable_path has been deprecated, please pass in a Service object\n",
      "  driver = webdriver.Chrome(\"chromedriver.exe\")\n"
     ]
    },
    {
     "name": "stdout",
     "output_type": "stream",
     "text": [
      "365\n"
     ]
    },
    {
     "name": "stderr",
     "output_type": "stream",
     "text": [
      "C:\\Users\\bashi\\AppData\\Local\\Temp\\ipykernel_1612\\1789959209.py:4: FutureWarning: The frame.append method is deprecated and will be removed from pandas in a future version. Use pandas.concat instead.\n",
      "  turbo_df = turbo_df.append(data, ignore_index = True)\n",
      "C:\\Users\\bashi\\AppData\\Local\\Temp\\ipykernel_1612\\837280139.py:2: DeprecationWarning: executable_path has been deprecated, please pass in a Service object\n",
      "  driver = webdriver.Chrome(\"chromedriver.exe\")\n"
     ]
    },
    {
     "name": "stdout",
     "output_type": "stream",
     "text": [
      "366\n"
     ]
    },
    {
     "name": "stderr",
     "output_type": "stream",
     "text": [
      "C:\\Users\\bashi\\AppData\\Local\\Temp\\ipykernel_1612\\1789959209.py:4: FutureWarning: The frame.append method is deprecated and will be removed from pandas in a future version. Use pandas.concat instead.\n",
      "  turbo_df = turbo_df.append(data, ignore_index = True)\n",
      "C:\\Users\\bashi\\AppData\\Local\\Temp\\ipykernel_1612\\837280139.py:2: DeprecationWarning: executable_path has been deprecated, please pass in a Service object\n",
      "  driver = webdriver.Chrome(\"chromedriver.exe\")\n"
     ]
    },
    {
     "name": "stdout",
     "output_type": "stream",
     "text": [
      "367\n"
     ]
    },
    {
     "name": "stderr",
     "output_type": "stream",
     "text": [
      "C:\\Users\\bashi\\AppData\\Local\\Temp\\ipykernel_1612\\1789959209.py:4: FutureWarning: The frame.append method is deprecated and will be removed from pandas in a future version. Use pandas.concat instead.\n",
      "  turbo_df = turbo_df.append(data, ignore_index = True)\n",
      "C:\\Users\\bashi\\AppData\\Local\\Temp\\ipykernel_1612\\837280139.py:2: DeprecationWarning: executable_path has been deprecated, please pass in a Service object\n",
      "  driver = webdriver.Chrome(\"chromedriver.exe\")\n"
     ]
    },
    {
     "name": "stdout",
     "output_type": "stream",
     "text": [
      "368\n"
     ]
    },
    {
     "name": "stderr",
     "output_type": "stream",
     "text": [
      "C:\\Users\\bashi\\AppData\\Local\\Temp\\ipykernel_1612\\1789959209.py:4: FutureWarning: The frame.append method is deprecated and will be removed from pandas in a future version. Use pandas.concat instead.\n",
      "  turbo_df = turbo_df.append(data, ignore_index = True)\n",
      "C:\\Users\\bashi\\AppData\\Local\\Temp\\ipykernel_1612\\837280139.py:2: DeprecationWarning: executable_path has been deprecated, please pass in a Service object\n",
      "  driver = webdriver.Chrome(\"chromedriver.exe\")\n"
     ]
    },
    {
     "name": "stdout",
     "output_type": "stream",
     "text": [
      "369\n"
     ]
    },
    {
     "name": "stderr",
     "output_type": "stream",
     "text": [
      "C:\\Users\\bashi\\AppData\\Local\\Temp\\ipykernel_1612\\1789959209.py:4: FutureWarning: The frame.append method is deprecated and will be removed from pandas in a future version. Use pandas.concat instead.\n",
      "  turbo_df = turbo_df.append(data, ignore_index = True)\n",
      "C:\\Users\\bashi\\AppData\\Local\\Temp\\ipykernel_1612\\837280139.py:2: DeprecationWarning: executable_path has been deprecated, please pass in a Service object\n",
      "  driver = webdriver.Chrome(\"chromedriver.exe\")\n"
     ]
    },
    {
     "name": "stdout",
     "output_type": "stream",
     "text": [
      "370\n"
     ]
    },
    {
     "name": "stderr",
     "output_type": "stream",
     "text": [
      "C:\\Users\\bashi\\AppData\\Local\\Temp\\ipykernel_1612\\1789959209.py:4: FutureWarning: The frame.append method is deprecated and will be removed from pandas in a future version. Use pandas.concat instead.\n",
      "  turbo_df = turbo_df.append(data, ignore_index = True)\n",
      "C:\\Users\\bashi\\AppData\\Local\\Temp\\ipykernel_1612\\837280139.py:2: DeprecationWarning: executable_path has been deprecated, please pass in a Service object\n",
      "  driver = webdriver.Chrome(\"chromedriver.exe\")\n"
     ]
    },
    {
     "name": "stdout",
     "output_type": "stream",
     "text": [
      "371\n"
     ]
    },
    {
     "name": "stderr",
     "output_type": "stream",
     "text": [
      "C:\\Users\\bashi\\AppData\\Local\\Temp\\ipykernel_1612\\1789959209.py:4: FutureWarning: The frame.append method is deprecated and will be removed from pandas in a future version. Use pandas.concat instead.\n",
      "  turbo_df = turbo_df.append(data, ignore_index = True)\n",
      "C:\\Users\\bashi\\AppData\\Local\\Temp\\ipykernel_1612\\837280139.py:2: DeprecationWarning: executable_path has been deprecated, please pass in a Service object\n",
      "  driver = webdriver.Chrome(\"chromedriver.exe\")\n"
     ]
    },
    {
     "name": "stdout",
     "output_type": "stream",
     "text": [
      "372\n"
     ]
    },
    {
     "name": "stderr",
     "output_type": "stream",
     "text": [
      "C:\\Users\\bashi\\AppData\\Local\\Temp\\ipykernel_1612\\1789959209.py:4: FutureWarning: The frame.append method is deprecated and will be removed from pandas in a future version. Use pandas.concat instead.\n",
      "  turbo_df = turbo_df.append(data, ignore_index = True)\n",
      "C:\\Users\\bashi\\AppData\\Local\\Temp\\ipykernel_1612\\837280139.py:2: DeprecationWarning: executable_path has been deprecated, please pass in a Service object\n",
      "  driver = webdriver.Chrome(\"chromedriver.exe\")\n"
     ]
    },
    {
     "name": "stdout",
     "output_type": "stream",
     "text": [
      "373\n"
     ]
    },
    {
     "name": "stderr",
     "output_type": "stream",
     "text": [
      "C:\\Users\\bashi\\AppData\\Local\\Temp\\ipykernel_1612\\1789959209.py:4: FutureWarning: The frame.append method is deprecated and will be removed from pandas in a future version. Use pandas.concat instead.\n",
      "  turbo_df = turbo_df.append(data, ignore_index = True)\n",
      "C:\\Users\\bashi\\AppData\\Local\\Temp\\ipykernel_1612\\837280139.py:2: DeprecationWarning: executable_path has been deprecated, please pass in a Service object\n",
      "  driver = webdriver.Chrome(\"chromedriver.exe\")\n"
     ]
    },
    {
     "name": "stdout",
     "output_type": "stream",
     "text": [
      "374\n"
     ]
    },
    {
     "name": "stderr",
     "output_type": "stream",
     "text": [
      "C:\\Users\\bashi\\AppData\\Local\\Temp\\ipykernel_1612\\1789959209.py:4: FutureWarning: The frame.append method is deprecated and will be removed from pandas in a future version. Use pandas.concat instead.\n",
      "  turbo_df = turbo_df.append(data, ignore_index = True)\n",
      "C:\\Users\\bashi\\AppData\\Local\\Temp\\ipykernel_1612\\837280139.py:2: DeprecationWarning: executable_path has been deprecated, please pass in a Service object\n",
      "  driver = webdriver.Chrome(\"chromedriver.exe\")\n"
     ]
    },
    {
     "name": "stdout",
     "output_type": "stream",
     "text": [
      "375\n"
     ]
    },
    {
     "name": "stderr",
     "output_type": "stream",
     "text": [
      "C:\\Users\\bashi\\AppData\\Local\\Temp\\ipykernel_1612\\1789959209.py:4: FutureWarning: The frame.append method is deprecated and will be removed from pandas in a future version. Use pandas.concat instead.\n",
      "  turbo_df = turbo_df.append(data, ignore_index = True)\n",
      "C:\\Users\\bashi\\AppData\\Local\\Temp\\ipykernel_1612\\837280139.py:2: DeprecationWarning: executable_path has been deprecated, please pass in a Service object\n",
      "  driver = webdriver.Chrome(\"chromedriver.exe\")\n"
     ]
    },
    {
     "name": "stdout",
     "output_type": "stream",
     "text": [
      "376\n"
     ]
    },
    {
     "name": "stderr",
     "output_type": "stream",
     "text": [
      "C:\\Users\\bashi\\AppData\\Local\\Temp\\ipykernel_1612\\1789959209.py:4: FutureWarning: The frame.append method is deprecated and will be removed from pandas in a future version. Use pandas.concat instead.\n",
      "  turbo_df = turbo_df.append(data, ignore_index = True)\n",
      "C:\\Users\\bashi\\AppData\\Local\\Temp\\ipykernel_1612\\837280139.py:2: DeprecationWarning: executable_path has been deprecated, please pass in a Service object\n",
      "  driver = webdriver.Chrome(\"chromedriver.exe\")\n"
     ]
    },
    {
     "name": "stdout",
     "output_type": "stream",
     "text": [
      "377\n"
     ]
    },
    {
     "name": "stderr",
     "output_type": "stream",
     "text": [
      "C:\\Users\\bashi\\AppData\\Local\\Temp\\ipykernel_1612\\1789959209.py:4: FutureWarning: The frame.append method is deprecated and will be removed from pandas in a future version. Use pandas.concat instead.\n",
      "  turbo_df = turbo_df.append(data, ignore_index = True)\n",
      "C:\\Users\\bashi\\AppData\\Local\\Temp\\ipykernel_1612\\837280139.py:2: DeprecationWarning: executable_path has been deprecated, please pass in a Service object\n",
      "  driver = webdriver.Chrome(\"chromedriver.exe\")\n"
     ]
    },
    {
     "name": "stdout",
     "output_type": "stream",
     "text": [
      "378\n"
     ]
    },
    {
     "name": "stderr",
     "output_type": "stream",
     "text": [
      "C:\\Users\\bashi\\AppData\\Local\\Temp\\ipykernel_1612\\1789959209.py:4: FutureWarning: The frame.append method is deprecated and will be removed from pandas in a future version. Use pandas.concat instead.\n",
      "  turbo_df = turbo_df.append(data, ignore_index = True)\n",
      "C:\\Users\\bashi\\AppData\\Local\\Temp\\ipykernel_1612\\837280139.py:2: DeprecationWarning: executable_path has been deprecated, please pass in a Service object\n",
      "  driver = webdriver.Chrome(\"chromedriver.exe\")\n"
     ]
    },
    {
     "name": "stdout",
     "output_type": "stream",
     "text": [
      "379\n"
     ]
    },
    {
     "name": "stderr",
     "output_type": "stream",
     "text": [
      "C:\\Users\\bashi\\AppData\\Local\\Temp\\ipykernel_1612\\1789959209.py:4: FutureWarning: The frame.append method is deprecated and will be removed from pandas in a future version. Use pandas.concat instead.\n",
      "  turbo_df = turbo_df.append(data, ignore_index = True)\n",
      "C:\\Users\\bashi\\AppData\\Local\\Temp\\ipykernel_1612\\837280139.py:2: DeprecationWarning: executable_path has been deprecated, please pass in a Service object\n",
      "  driver = webdriver.Chrome(\"chromedriver.exe\")\n"
     ]
    },
    {
     "name": "stdout",
     "output_type": "stream",
     "text": [
      "380\n"
     ]
    },
    {
     "name": "stderr",
     "output_type": "stream",
     "text": [
      "C:\\Users\\bashi\\AppData\\Local\\Temp\\ipykernel_1612\\1789959209.py:4: FutureWarning: The frame.append method is deprecated and will be removed from pandas in a future version. Use pandas.concat instead.\n",
      "  turbo_df = turbo_df.append(data, ignore_index = True)\n",
      "C:\\Users\\bashi\\AppData\\Local\\Temp\\ipykernel_1612\\837280139.py:2: DeprecationWarning: executable_path has been deprecated, please pass in a Service object\n",
      "  driver = webdriver.Chrome(\"chromedriver.exe\")\n"
     ]
    },
    {
     "name": "stdout",
     "output_type": "stream",
     "text": [
      "381\n"
     ]
    },
    {
     "name": "stderr",
     "output_type": "stream",
     "text": [
      "C:\\Users\\bashi\\AppData\\Local\\Temp\\ipykernel_1612\\1789959209.py:4: FutureWarning: The frame.append method is deprecated and will be removed from pandas in a future version. Use pandas.concat instead.\n",
      "  turbo_df = turbo_df.append(data, ignore_index = True)\n",
      "C:\\Users\\bashi\\AppData\\Local\\Temp\\ipykernel_1612\\837280139.py:2: DeprecationWarning: executable_path has been deprecated, please pass in a Service object\n",
      "  driver = webdriver.Chrome(\"chromedriver.exe\")\n"
     ]
    },
    {
     "name": "stdout",
     "output_type": "stream",
     "text": [
      "382\n"
     ]
    },
    {
     "name": "stderr",
     "output_type": "stream",
     "text": [
      "C:\\Users\\bashi\\AppData\\Local\\Temp\\ipykernel_1612\\1789959209.py:4: FutureWarning: The frame.append method is deprecated and will be removed from pandas in a future version. Use pandas.concat instead.\n",
      "  turbo_df = turbo_df.append(data, ignore_index = True)\n",
      "C:\\Users\\bashi\\AppData\\Local\\Temp\\ipykernel_1612\\837280139.py:2: DeprecationWarning: executable_path has been deprecated, please pass in a Service object\n",
      "  driver = webdriver.Chrome(\"chromedriver.exe\")\n"
     ]
    },
    {
     "name": "stdout",
     "output_type": "stream",
     "text": [
      "383\n"
     ]
    },
    {
     "name": "stderr",
     "output_type": "stream",
     "text": [
      "C:\\Users\\bashi\\AppData\\Local\\Temp\\ipykernel_1612\\1789959209.py:4: FutureWarning: The frame.append method is deprecated and will be removed from pandas in a future version. Use pandas.concat instead.\n",
      "  turbo_df = turbo_df.append(data, ignore_index = True)\n",
      "C:\\Users\\bashi\\AppData\\Local\\Temp\\ipykernel_1612\\837280139.py:2: DeprecationWarning: executable_path has been deprecated, please pass in a Service object\n",
      "  driver = webdriver.Chrome(\"chromedriver.exe\")\n"
     ]
    },
    {
     "name": "stdout",
     "output_type": "stream",
     "text": [
      "384\n"
     ]
    },
    {
     "name": "stderr",
     "output_type": "stream",
     "text": [
      "C:\\Users\\bashi\\AppData\\Local\\Temp\\ipykernel_1612\\1789959209.py:4: FutureWarning: The frame.append method is deprecated and will be removed from pandas in a future version. Use pandas.concat instead.\n",
      "  turbo_df = turbo_df.append(data, ignore_index = True)\n",
      "C:\\Users\\bashi\\AppData\\Local\\Temp\\ipykernel_1612\\837280139.py:2: DeprecationWarning: executable_path has been deprecated, please pass in a Service object\n",
      "  driver = webdriver.Chrome(\"chromedriver.exe\")\n"
     ]
    },
    {
     "name": "stdout",
     "output_type": "stream",
     "text": [
      "385\n"
     ]
    },
    {
     "name": "stderr",
     "output_type": "stream",
     "text": [
      "C:\\Users\\bashi\\AppData\\Local\\Temp\\ipykernel_1612\\1789959209.py:4: FutureWarning: The frame.append method is deprecated and will be removed from pandas in a future version. Use pandas.concat instead.\n",
      "  turbo_df = turbo_df.append(data, ignore_index = True)\n",
      "C:\\Users\\bashi\\AppData\\Local\\Temp\\ipykernel_1612\\837280139.py:2: DeprecationWarning: executable_path has been deprecated, please pass in a Service object\n",
      "  driver = webdriver.Chrome(\"chromedriver.exe\")\n"
     ]
    },
    {
     "name": "stdout",
     "output_type": "stream",
     "text": [
      "386\n"
     ]
    },
    {
     "name": "stderr",
     "output_type": "stream",
     "text": [
      "C:\\Users\\bashi\\AppData\\Local\\Temp\\ipykernel_1612\\1789959209.py:4: FutureWarning: The frame.append method is deprecated and will be removed from pandas in a future version. Use pandas.concat instead.\n",
      "  turbo_df = turbo_df.append(data, ignore_index = True)\n",
      "C:\\Users\\bashi\\AppData\\Local\\Temp\\ipykernel_1612\\837280139.py:2: DeprecationWarning: executable_path has been deprecated, please pass in a Service object\n",
      "  driver = webdriver.Chrome(\"chromedriver.exe\")\n"
     ]
    },
    {
     "name": "stdout",
     "output_type": "stream",
     "text": [
      "387\n"
     ]
    },
    {
     "name": "stderr",
     "output_type": "stream",
     "text": [
      "C:\\Users\\bashi\\AppData\\Local\\Temp\\ipykernel_1612\\1789959209.py:4: FutureWarning: The frame.append method is deprecated and will be removed from pandas in a future version. Use pandas.concat instead.\n",
      "  turbo_df = turbo_df.append(data, ignore_index = True)\n",
      "C:\\Users\\bashi\\AppData\\Local\\Temp\\ipykernel_1612\\837280139.py:2: DeprecationWarning: executable_path has been deprecated, please pass in a Service object\n",
      "  driver = webdriver.Chrome(\"chromedriver.exe\")\n"
     ]
    },
    {
     "name": "stdout",
     "output_type": "stream",
     "text": [
      "388\n"
     ]
    },
    {
     "name": "stderr",
     "output_type": "stream",
     "text": [
      "C:\\Users\\bashi\\AppData\\Local\\Temp\\ipykernel_1612\\1789959209.py:4: FutureWarning: The frame.append method is deprecated and will be removed from pandas in a future version. Use pandas.concat instead.\n",
      "  turbo_df = turbo_df.append(data, ignore_index = True)\n",
      "C:\\Users\\bashi\\AppData\\Local\\Temp\\ipykernel_1612\\837280139.py:2: DeprecationWarning: executable_path has been deprecated, please pass in a Service object\n",
      "  driver = webdriver.Chrome(\"chromedriver.exe\")\n"
     ]
    },
    {
     "name": "stdout",
     "output_type": "stream",
     "text": [
      "389\n"
     ]
    },
    {
     "name": "stderr",
     "output_type": "stream",
     "text": [
      "C:\\Users\\bashi\\AppData\\Local\\Temp\\ipykernel_1612\\1789959209.py:4: FutureWarning: The frame.append method is deprecated and will be removed from pandas in a future version. Use pandas.concat instead.\n",
      "  turbo_df = turbo_df.append(data, ignore_index = True)\n",
      "C:\\Users\\bashi\\AppData\\Local\\Temp\\ipykernel_1612\\837280139.py:2: DeprecationWarning: executable_path has been deprecated, please pass in a Service object\n",
      "  driver = webdriver.Chrome(\"chromedriver.exe\")\n"
     ]
    },
    {
     "name": "stdout",
     "output_type": "stream",
     "text": [
      "390\n"
     ]
    },
    {
     "name": "stderr",
     "output_type": "stream",
     "text": [
      "C:\\Users\\bashi\\AppData\\Local\\Temp\\ipykernel_1612\\1789959209.py:4: FutureWarning: The frame.append method is deprecated and will be removed from pandas in a future version. Use pandas.concat instead.\n",
      "  turbo_df = turbo_df.append(data, ignore_index = True)\n",
      "C:\\Users\\bashi\\AppData\\Local\\Temp\\ipykernel_1612\\837280139.py:2: DeprecationWarning: executable_path has been deprecated, please pass in a Service object\n",
      "  driver = webdriver.Chrome(\"chromedriver.exe\")\n"
     ]
    },
    {
     "name": "stdout",
     "output_type": "stream",
     "text": [
      "391\n"
     ]
    },
    {
     "name": "stderr",
     "output_type": "stream",
     "text": [
      "C:\\Users\\bashi\\AppData\\Local\\Temp\\ipykernel_1612\\1789959209.py:4: FutureWarning: The frame.append method is deprecated and will be removed from pandas in a future version. Use pandas.concat instead.\n",
      "  turbo_df = turbo_df.append(data, ignore_index = True)\n",
      "C:\\Users\\bashi\\AppData\\Local\\Temp\\ipykernel_1612\\837280139.py:2: DeprecationWarning: executable_path has been deprecated, please pass in a Service object\n",
      "  driver = webdriver.Chrome(\"chromedriver.exe\")\n"
     ]
    },
    {
     "name": "stdout",
     "output_type": "stream",
     "text": [
      "392\n"
     ]
    },
    {
     "name": "stderr",
     "output_type": "stream",
     "text": [
      "C:\\Users\\bashi\\AppData\\Local\\Temp\\ipykernel_1612\\1789959209.py:4: FutureWarning: The frame.append method is deprecated and will be removed from pandas in a future version. Use pandas.concat instead.\n",
      "  turbo_df = turbo_df.append(data, ignore_index = True)\n",
      "C:\\Users\\bashi\\AppData\\Local\\Temp\\ipykernel_1612\\837280139.py:2: DeprecationWarning: executable_path has been deprecated, please pass in a Service object\n",
      "  driver = webdriver.Chrome(\"chromedriver.exe\")\n"
     ]
    },
    {
     "name": "stdout",
     "output_type": "stream",
     "text": [
      "393\n"
     ]
    },
    {
     "name": "stderr",
     "output_type": "stream",
     "text": [
      "C:\\Users\\bashi\\AppData\\Local\\Temp\\ipykernel_1612\\1789959209.py:4: FutureWarning: The frame.append method is deprecated and will be removed from pandas in a future version. Use pandas.concat instead.\n",
      "  turbo_df = turbo_df.append(data, ignore_index = True)\n",
      "C:\\Users\\bashi\\AppData\\Local\\Temp\\ipykernel_1612\\837280139.py:2: DeprecationWarning: executable_path has been deprecated, please pass in a Service object\n",
      "  driver = webdriver.Chrome(\"chromedriver.exe\")\n"
     ]
    },
    {
     "name": "stdout",
     "output_type": "stream",
     "text": [
      "394\n"
     ]
    },
    {
     "name": "stderr",
     "output_type": "stream",
     "text": [
      "C:\\Users\\bashi\\AppData\\Local\\Temp\\ipykernel_1612\\1789959209.py:4: FutureWarning: The frame.append method is deprecated and will be removed from pandas in a future version. Use pandas.concat instead.\n",
      "  turbo_df = turbo_df.append(data, ignore_index = True)\n",
      "C:\\Users\\bashi\\AppData\\Local\\Temp\\ipykernel_1612\\837280139.py:2: DeprecationWarning: executable_path has been deprecated, please pass in a Service object\n",
      "  driver = webdriver.Chrome(\"chromedriver.exe\")\n"
     ]
    },
    {
     "name": "stdout",
     "output_type": "stream",
     "text": [
      "395\n"
     ]
    },
    {
     "name": "stderr",
     "output_type": "stream",
     "text": [
      "C:\\Users\\bashi\\AppData\\Local\\Temp\\ipykernel_1612\\1789959209.py:4: FutureWarning: The frame.append method is deprecated and will be removed from pandas in a future version. Use pandas.concat instead.\n",
      "  turbo_df = turbo_df.append(data, ignore_index = True)\n",
      "C:\\Users\\bashi\\AppData\\Local\\Temp\\ipykernel_1612\\837280139.py:2: DeprecationWarning: executable_path has been deprecated, please pass in a Service object\n",
      "  driver = webdriver.Chrome(\"chromedriver.exe\")\n"
     ]
    },
    {
     "name": "stdout",
     "output_type": "stream",
     "text": [
      "396\n"
     ]
    },
    {
     "name": "stderr",
     "output_type": "stream",
     "text": [
      "C:\\Users\\bashi\\AppData\\Local\\Temp\\ipykernel_1612\\1789959209.py:4: FutureWarning: The frame.append method is deprecated and will be removed from pandas in a future version. Use pandas.concat instead.\n",
      "  turbo_df = turbo_df.append(data, ignore_index = True)\n",
      "C:\\Users\\bashi\\AppData\\Local\\Temp\\ipykernel_1612\\837280139.py:2: DeprecationWarning: executable_path has been deprecated, please pass in a Service object\n",
      "  driver = webdriver.Chrome(\"chromedriver.exe\")\n"
     ]
    },
    {
     "name": "stdout",
     "output_type": "stream",
     "text": [
      "397\n"
     ]
    },
    {
     "name": "stderr",
     "output_type": "stream",
     "text": [
      "C:\\Users\\bashi\\AppData\\Local\\Temp\\ipykernel_1612\\1789959209.py:4: FutureWarning: The frame.append method is deprecated and will be removed from pandas in a future version. Use pandas.concat instead.\n",
      "  turbo_df = turbo_df.append(data, ignore_index = True)\n",
      "C:\\Users\\bashi\\AppData\\Local\\Temp\\ipykernel_1612\\837280139.py:2: DeprecationWarning: executable_path has been deprecated, please pass in a Service object\n",
      "  driver = webdriver.Chrome(\"chromedriver.exe\")\n"
     ]
    },
    {
     "name": "stdout",
     "output_type": "stream",
     "text": [
      "398\n"
     ]
    },
    {
     "name": "stderr",
     "output_type": "stream",
     "text": [
      "C:\\Users\\bashi\\AppData\\Local\\Temp\\ipykernel_1612\\1789959209.py:4: FutureWarning: The frame.append method is deprecated and will be removed from pandas in a future version. Use pandas.concat instead.\n",
      "  turbo_df = turbo_df.append(data, ignore_index = True)\n",
      "C:\\Users\\bashi\\AppData\\Local\\Temp\\ipykernel_1612\\837280139.py:2: DeprecationWarning: executable_path has been deprecated, please pass in a Service object\n",
      "  driver = webdriver.Chrome(\"chromedriver.exe\")\n"
     ]
    },
    {
     "name": "stdout",
     "output_type": "stream",
     "text": [
      "399\n"
     ]
    },
    {
     "name": "stderr",
     "output_type": "stream",
     "text": [
      "C:\\Users\\bashi\\AppData\\Local\\Temp\\ipykernel_1612\\1789959209.py:4: FutureWarning: The frame.append method is deprecated and will be removed from pandas in a future version. Use pandas.concat instead.\n",
      "  turbo_df = turbo_df.append(data, ignore_index = True)\n",
      "C:\\Users\\bashi\\AppData\\Local\\Temp\\ipykernel_1612\\837280139.py:2: DeprecationWarning: executable_path has been deprecated, please pass in a Service object\n",
      "  driver = webdriver.Chrome(\"chromedriver.exe\")\n"
     ]
    },
    {
     "name": "stdout",
     "output_type": "stream",
     "text": [
      "400\n"
     ]
    },
    {
     "name": "stderr",
     "output_type": "stream",
     "text": [
      "C:\\Users\\bashi\\AppData\\Local\\Temp\\ipykernel_1612\\1789959209.py:4: FutureWarning: The frame.append method is deprecated and will be removed from pandas in a future version. Use pandas.concat instead.\n",
      "  turbo_df = turbo_df.append(data, ignore_index = True)\n",
      "C:\\Users\\bashi\\AppData\\Local\\Temp\\ipykernel_1612\\837280139.py:2: DeprecationWarning: executable_path has been deprecated, please pass in a Service object\n",
      "  driver = webdriver.Chrome(\"chromedriver.exe\")\n"
     ]
    },
    {
     "name": "stdout",
     "output_type": "stream",
     "text": [
      "401\n"
     ]
    },
    {
     "name": "stderr",
     "output_type": "stream",
     "text": [
      "C:\\Users\\bashi\\AppData\\Local\\Temp\\ipykernel_1612\\1789959209.py:4: FutureWarning: The frame.append method is deprecated and will be removed from pandas in a future version. Use pandas.concat instead.\n",
      "  turbo_df = turbo_df.append(data, ignore_index = True)\n",
      "C:\\Users\\bashi\\AppData\\Local\\Temp\\ipykernel_1612\\837280139.py:2: DeprecationWarning: executable_path has been deprecated, please pass in a Service object\n",
      "  driver = webdriver.Chrome(\"chromedriver.exe\")\n"
     ]
    },
    {
     "name": "stdout",
     "output_type": "stream",
     "text": [
      "402\n"
     ]
    },
    {
     "name": "stderr",
     "output_type": "stream",
     "text": [
      "C:\\Users\\bashi\\AppData\\Local\\Temp\\ipykernel_1612\\1789959209.py:4: FutureWarning: The frame.append method is deprecated and will be removed from pandas in a future version. Use pandas.concat instead.\n",
      "  turbo_df = turbo_df.append(data, ignore_index = True)\n",
      "C:\\Users\\bashi\\AppData\\Local\\Temp\\ipykernel_1612\\837280139.py:2: DeprecationWarning: executable_path has been deprecated, please pass in a Service object\n",
      "  driver = webdriver.Chrome(\"chromedriver.exe\")\n"
     ]
    },
    {
     "name": "stdout",
     "output_type": "stream",
     "text": [
      "403\n"
     ]
    },
    {
     "name": "stderr",
     "output_type": "stream",
     "text": [
      "C:\\Users\\bashi\\AppData\\Local\\Temp\\ipykernel_1612\\1789959209.py:4: FutureWarning: The frame.append method is deprecated and will be removed from pandas in a future version. Use pandas.concat instead.\n",
      "  turbo_df = turbo_df.append(data, ignore_index = True)\n",
      "C:\\Users\\bashi\\AppData\\Local\\Temp\\ipykernel_1612\\837280139.py:2: DeprecationWarning: executable_path has been deprecated, please pass in a Service object\n",
      "  driver = webdriver.Chrome(\"chromedriver.exe\")\n"
     ]
    },
    {
     "name": "stdout",
     "output_type": "stream",
     "text": [
      "404\n"
     ]
    },
    {
     "name": "stderr",
     "output_type": "stream",
     "text": [
      "C:\\Users\\bashi\\AppData\\Local\\Temp\\ipykernel_1612\\1789959209.py:4: FutureWarning: The frame.append method is deprecated and will be removed from pandas in a future version. Use pandas.concat instead.\n",
      "  turbo_df = turbo_df.append(data, ignore_index = True)\n",
      "C:\\Users\\bashi\\AppData\\Local\\Temp\\ipykernel_1612\\837280139.py:2: DeprecationWarning: executable_path has been deprecated, please pass in a Service object\n",
      "  driver = webdriver.Chrome(\"chromedriver.exe\")\n"
     ]
    },
    {
     "name": "stdout",
     "output_type": "stream",
     "text": [
      "405\n"
     ]
    },
    {
     "name": "stderr",
     "output_type": "stream",
     "text": [
      "C:\\Users\\bashi\\AppData\\Local\\Temp\\ipykernel_1612\\1789959209.py:4: FutureWarning: The frame.append method is deprecated and will be removed from pandas in a future version. Use pandas.concat instead.\n",
      "  turbo_df = turbo_df.append(data, ignore_index = True)\n",
      "C:\\Users\\bashi\\AppData\\Local\\Temp\\ipykernel_1612\\837280139.py:2: DeprecationWarning: executable_path has been deprecated, please pass in a Service object\n",
      "  driver = webdriver.Chrome(\"chromedriver.exe\")\n"
     ]
    },
    {
     "name": "stdout",
     "output_type": "stream",
     "text": [
      "406\n"
     ]
    },
    {
     "name": "stderr",
     "output_type": "stream",
     "text": [
      "C:\\Users\\bashi\\AppData\\Local\\Temp\\ipykernel_1612\\1789959209.py:4: FutureWarning: The frame.append method is deprecated and will be removed from pandas in a future version. Use pandas.concat instead.\n",
      "  turbo_df = turbo_df.append(data, ignore_index = True)\n",
      "C:\\Users\\bashi\\AppData\\Local\\Temp\\ipykernel_1612\\837280139.py:2: DeprecationWarning: executable_path has been deprecated, please pass in a Service object\n",
      "  driver = webdriver.Chrome(\"chromedriver.exe\")\n"
     ]
    },
    {
     "name": "stdout",
     "output_type": "stream",
     "text": [
      "407\n"
     ]
    },
    {
     "name": "stderr",
     "output_type": "stream",
     "text": [
      "C:\\Users\\bashi\\AppData\\Local\\Temp\\ipykernel_1612\\1789959209.py:4: FutureWarning: The frame.append method is deprecated and will be removed from pandas in a future version. Use pandas.concat instead.\n",
      "  turbo_df = turbo_df.append(data, ignore_index = True)\n",
      "C:\\Users\\bashi\\AppData\\Local\\Temp\\ipykernel_1612\\837280139.py:2: DeprecationWarning: executable_path has been deprecated, please pass in a Service object\n",
      "  driver = webdriver.Chrome(\"chromedriver.exe\")\n"
     ]
    },
    {
     "name": "stdout",
     "output_type": "stream",
     "text": [
      "407\n"
     ]
    },
    {
     "name": "stderr",
     "output_type": "stream",
     "text": [
      "C:\\Users\\bashi\\AppData\\Local\\Temp\\ipykernel_1612\\1789959209.py:4: FutureWarning: The frame.append method is deprecated and will be removed from pandas in a future version. Use pandas.concat instead.\n",
      "  turbo_df = turbo_df.append(data, ignore_index = True)\n",
      "C:\\Users\\bashi\\AppData\\Local\\Temp\\ipykernel_1612\\837280139.py:2: DeprecationWarning: executable_path has been deprecated, please pass in a Service object\n",
      "  driver = webdriver.Chrome(\"chromedriver.exe\")\n"
     ]
    },
    {
     "name": "stdout",
     "output_type": "stream",
     "text": [
      "409\n"
     ]
    },
    {
     "name": "stderr",
     "output_type": "stream",
     "text": [
      "C:\\Users\\bashi\\AppData\\Local\\Temp\\ipykernel_1612\\1789959209.py:4: FutureWarning: The frame.append method is deprecated and will be removed from pandas in a future version. Use pandas.concat instead.\n",
      "  turbo_df = turbo_df.append(data, ignore_index = True)\n",
      "C:\\Users\\bashi\\AppData\\Local\\Temp\\ipykernel_1612\\837280139.py:2: DeprecationWarning: executable_path has been deprecated, please pass in a Service object\n",
      "  driver = webdriver.Chrome(\"chromedriver.exe\")\n"
     ]
    },
    {
     "name": "stdout",
     "output_type": "stream",
     "text": [
      "410\n"
     ]
    },
    {
     "name": "stderr",
     "output_type": "stream",
     "text": [
      "C:\\Users\\bashi\\AppData\\Local\\Temp\\ipykernel_1612\\1789959209.py:4: FutureWarning: The frame.append method is deprecated and will be removed from pandas in a future version. Use pandas.concat instead.\n",
      "  turbo_df = turbo_df.append(data, ignore_index = True)\n",
      "C:\\Users\\bashi\\AppData\\Local\\Temp\\ipykernel_1612\\837280139.py:2: DeprecationWarning: executable_path has been deprecated, please pass in a Service object\n",
      "  driver = webdriver.Chrome(\"chromedriver.exe\")\n"
     ]
    },
    {
     "name": "stdout",
     "output_type": "stream",
     "text": [
      "411\n"
     ]
    },
    {
     "name": "stderr",
     "output_type": "stream",
     "text": [
      "C:\\Users\\bashi\\AppData\\Local\\Temp\\ipykernel_1612\\1789959209.py:4: FutureWarning: The frame.append method is deprecated and will be removed from pandas in a future version. Use pandas.concat instead.\n",
      "  turbo_df = turbo_df.append(data, ignore_index = True)\n",
      "C:\\Users\\bashi\\AppData\\Local\\Temp\\ipykernel_1612\\837280139.py:2: DeprecationWarning: executable_path has been deprecated, please pass in a Service object\n",
      "  driver = webdriver.Chrome(\"chromedriver.exe\")\n"
     ]
    },
    {
     "name": "stdout",
     "output_type": "stream",
     "text": [
      "412\n"
     ]
    },
    {
     "name": "stderr",
     "output_type": "stream",
     "text": [
      "C:\\Users\\bashi\\AppData\\Local\\Temp\\ipykernel_1612\\1789959209.py:4: FutureWarning: The frame.append method is deprecated and will be removed from pandas in a future version. Use pandas.concat instead.\n",
      "  turbo_df = turbo_df.append(data, ignore_index = True)\n",
      "C:\\Users\\bashi\\AppData\\Local\\Temp\\ipykernel_1612\\837280139.py:2: DeprecationWarning: executable_path has been deprecated, please pass in a Service object\n",
      "  driver = webdriver.Chrome(\"chromedriver.exe\")\n"
     ]
    },
    {
     "name": "stdout",
     "output_type": "stream",
     "text": [
      "413\n"
     ]
    },
    {
     "name": "stderr",
     "output_type": "stream",
     "text": [
      "C:\\Users\\bashi\\AppData\\Local\\Temp\\ipykernel_1612\\1789959209.py:4: FutureWarning: The frame.append method is deprecated and will be removed from pandas in a future version. Use pandas.concat instead.\n",
      "  turbo_df = turbo_df.append(data, ignore_index = True)\n",
      "C:\\Users\\bashi\\AppData\\Local\\Temp\\ipykernel_1612\\837280139.py:2: DeprecationWarning: executable_path has been deprecated, please pass in a Service object\n",
      "  driver = webdriver.Chrome(\"chromedriver.exe\")\n"
     ]
    },
    {
     "name": "stdout",
     "output_type": "stream",
     "text": [
      "414\n"
     ]
    },
    {
     "name": "stderr",
     "output_type": "stream",
     "text": [
      "C:\\Users\\bashi\\AppData\\Local\\Temp\\ipykernel_1612\\1789959209.py:4: FutureWarning: The frame.append method is deprecated and will be removed from pandas in a future version. Use pandas.concat instead.\n",
      "  turbo_df = turbo_df.append(data, ignore_index = True)\n",
      "C:\\Users\\bashi\\AppData\\Local\\Temp\\ipykernel_1612\\837280139.py:2: DeprecationWarning: executable_path has been deprecated, please pass in a Service object\n",
      "  driver = webdriver.Chrome(\"chromedriver.exe\")\n"
     ]
    },
    {
     "name": "stdout",
     "output_type": "stream",
     "text": [
      "415\n"
     ]
    },
    {
     "name": "stderr",
     "output_type": "stream",
     "text": [
      "C:\\Users\\bashi\\AppData\\Local\\Temp\\ipykernel_1612\\1789959209.py:4: FutureWarning: The frame.append method is deprecated and will be removed from pandas in a future version. Use pandas.concat instead.\n",
      "  turbo_df = turbo_df.append(data, ignore_index = True)\n",
      "C:\\Users\\bashi\\AppData\\Local\\Temp\\ipykernel_1612\\837280139.py:2: DeprecationWarning: executable_path has been deprecated, please pass in a Service object\n",
      "  driver = webdriver.Chrome(\"chromedriver.exe\")\n"
     ]
    },
    {
     "name": "stdout",
     "output_type": "stream",
     "text": [
      "416\n"
     ]
    },
    {
     "name": "stderr",
     "output_type": "stream",
     "text": [
      "C:\\Users\\bashi\\AppData\\Local\\Temp\\ipykernel_1612\\1789959209.py:4: FutureWarning: The frame.append method is deprecated and will be removed from pandas in a future version. Use pandas.concat instead.\n",
      "  turbo_df = turbo_df.append(data, ignore_index = True)\n",
      "C:\\Users\\bashi\\AppData\\Local\\Temp\\ipykernel_1612\\837280139.py:2: DeprecationWarning: executable_path has been deprecated, please pass in a Service object\n",
      "  driver = webdriver.Chrome(\"chromedriver.exe\")\n"
     ]
    },
    {
     "name": "stdout",
     "output_type": "stream",
     "text": [
      "417\n"
     ]
    },
    {
     "name": "stderr",
     "output_type": "stream",
     "text": [
      "C:\\Users\\bashi\\AppData\\Local\\Temp\\ipykernel_1612\\1789959209.py:4: FutureWarning: The frame.append method is deprecated and will be removed from pandas in a future version. Use pandas.concat instead.\n",
      "  turbo_df = turbo_df.append(data, ignore_index = True)\n",
      "C:\\Users\\bashi\\AppData\\Local\\Temp\\ipykernel_1612\\837280139.py:2: DeprecationWarning: executable_path has been deprecated, please pass in a Service object\n",
      "  driver = webdriver.Chrome(\"chromedriver.exe\")\n"
     ]
    },
    {
     "name": "stdout",
     "output_type": "stream",
     "text": [
      "418\n"
     ]
    },
    {
     "name": "stderr",
     "output_type": "stream",
     "text": [
      "C:\\Users\\bashi\\AppData\\Local\\Temp\\ipykernel_1612\\1789959209.py:4: FutureWarning: The frame.append method is deprecated and will be removed from pandas in a future version. Use pandas.concat instead.\n",
      "  turbo_df = turbo_df.append(data, ignore_index = True)\n",
      "C:\\Users\\bashi\\AppData\\Local\\Temp\\ipykernel_1612\\837280139.py:2: DeprecationWarning: executable_path has been deprecated, please pass in a Service object\n",
      "  driver = webdriver.Chrome(\"chromedriver.exe\")\n"
     ]
    },
    {
     "name": "stdout",
     "output_type": "stream",
     "text": [
      "419\n"
     ]
    },
    {
     "name": "stderr",
     "output_type": "stream",
     "text": [
      "C:\\Users\\bashi\\AppData\\Local\\Temp\\ipykernel_1612\\1789959209.py:4: FutureWarning: The frame.append method is deprecated and will be removed from pandas in a future version. Use pandas.concat instead.\n",
      "  turbo_df = turbo_df.append(data, ignore_index = True)\n",
      "C:\\Users\\bashi\\AppData\\Local\\Temp\\ipykernel_1612\\837280139.py:2: DeprecationWarning: executable_path has been deprecated, please pass in a Service object\n",
      "  driver = webdriver.Chrome(\"chromedriver.exe\")\n"
     ]
    },
    {
     "name": "stdout",
     "output_type": "stream",
     "text": [
      "420\n"
     ]
    },
    {
     "name": "stderr",
     "output_type": "stream",
     "text": [
      "C:\\Users\\bashi\\AppData\\Local\\Temp\\ipykernel_1612\\1789959209.py:4: FutureWarning: The frame.append method is deprecated and will be removed from pandas in a future version. Use pandas.concat instead.\n",
      "  turbo_df = turbo_df.append(data, ignore_index = True)\n",
      "C:\\Users\\bashi\\AppData\\Local\\Temp\\ipykernel_1612\\837280139.py:2: DeprecationWarning: executable_path has been deprecated, please pass in a Service object\n",
      "  driver = webdriver.Chrome(\"chromedriver.exe\")\n"
     ]
    },
    {
     "name": "stdout",
     "output_type": "stream",
     "text": [
      "421\n"
     ]
    },
    {
     "name": "stderr",
     "output_type": "stream",
     "text": [
      "C:\\Users\\bashi\\AppData\\Local\\Temp\\ipykernel_1612\\1789959209.py:4: FutureWarning: The frame.append method is deprecated and will be removed from pandas in a future version. Use pandas.concat instead.\n",
      "  turbo_df = turbo_df.append(data, ignore_index = True)\n",
      "C:\\Users\\bashi\\AppData\\Local\\Temp\\ipykernel_1612\\837280139.py:2: DeprecationWarning: executable_path has been deprecated, please pass in a Service object\n",
      "  driver = webdriver.Chrome(\"chromedriver.exe\")\n"
     ]
    },
    {
     "name": "stdout",
     "output_type": "stream",
     "text": [
      "422\n"
     ]
    },
    {
     "name": "stderr",
     "output_type": "stream",
     "text": [
      "C:\\Users\\bashi\\AppData\\Local\\Temp\\ipykernel_1612\\1789959209.py:4: FutureWarning: The frame.append method is deprecated and will be removed from pandas in a future version. Use pandas.concat instead.\n",
      "  turbo_df = turbo_df.append(data, ignore_index = True)\n",
      "C:\\Users\\bashi\\AppData\\Local\\Temp\\ipykernel_1612\\837280139.py:2: DeprecationWarning: executable_path has been deprecated, please pass in a Service object\n",
      "  driver = webdriver.Chrome(\"chromedriver.exe\")\n"
     ]
    },
    {
     "name": "stdout",
     "output_type": "stream",
     "text": [
      "423\n"
     ]
    },
    {
     "name": "stderr",
     "output_type": "stream",
     "text": [
      "C:\\Users\\bashi\\AppData\\Local\\Temp\\ipykernel_1612\\1789959209.py:4: FutureWarning: The frame.append method is deprecated and will be removed from pandas in a future version. Use pandas.concat instead.\n",
      "  turbo_df = turbo_df.append(data, ignore_index = True)\n",
      "C:\\Users\\bashi\\AppData\\Local\\Temp\\ipykernel_1612\\837280139.py:2: DeprecationWarning: executable_path has been deprecated, please pass in a Service object\n",
      "  driver = webdriver.Chrome(\"chromedriver.exe\")\n"
     ]
    },
    {
     "name": "stdout",
     "output_type": "stream",
     "text": [
      "424\n"
     ]
    },
    {
     "name": "stderr",
     "output_type": "stream",
     "text": [
      "C:\\Users\\bashi\\AppData\\Local\\Temp\\ipykernel_1612\\1789959209.py:4: FutureWarning: The frame.append method is deprecated and will be removed from pandas in a future version. Use pandas.concat instead.\n",
      "  turbo_df = turbo_df.append(data, ignore_index = True)\n",
      "C:\\Users\\bashi\\AppData\\Local\\Temp\\ipykernel_1612\\837280139.py:2: DeprecationWarning: executable_path has been deprecated, please pass in a Service object\n",
      "  driver = webdriver.Chrome(\"chromedriver.exe\")\n"
     ]
    },
    {
     "name": "stdout",
     "output_type": "stream",
     "text": [
      "425\n"
     ]
    },
    {
     "name": "stderr",
     "output_type": "stream",
     "text": [
      "C:\\Users\\bashi\\AppData\\Local\\Temp\\ipykernel_1612\\1789959209.py:4: FutureWarning: The frame.append method is deprecated and will be removed from pandas in a future version. Use pandas.concat instead.\n",
      "  turbo_df = turbo_df.append(data, ignore_index = True)\n",
      "C:\\Users\\bashi\\AppData\\Local\\Temp\\ipykernel_1612\\837280139.py:2: DeprecationWarning: executable_path has been deprecated, please pass in a Service object\n",
      "  driver = webdriver.Chrome(\"chromedriver.exe\")\n"
     ]
    },
    {
     "name": "stdout",
     "output_type": "stream",
     "text": [
      "426\n"
     ]
    },
    {
     "name": "stderr",
     "output_type": "stream",
     "text": [
      "C:\\Users\\bashi\\AppData\\Local\\Temp\\ipykernel_1612\\1789959209.py:4: FutureWarning: The frame.append method is deprecated and will be removed from pandas in a future version. Use pandas.concat instead.\n",
      "  turbo_df = turbo_df.append(data, ignore_index = True)\n",
      "C:\\Users\\bashi\\AppData\\Local\\Temp\\ipykernel_1612\\837280139.py:2: DeprecationWarning: executable_path has been deprecated, please pass in a Service object\n",
      "  driver = webdriver.Chrome(\"chromedriver.exe\")\n"
     ]
    },
    {
     "name": "stdout",
     "output_type": "stream",
     "text": [
      "427\n"
     ]
    },
    {
     "name": "stderr",
     "output_type": "stream",
     "text": [
      "C:\\Users\\bashi\\AppData\\Local\\Temp\\ipykernel_1612\\1789959209.py:4: FutureWarning: The frame.append method is deprecated and will be removed from pandas in a future version. Use pandas.concat instead.\n",
      "  turbo_df = turbo_df.append(data, ignore_index = True)\n",
      "C:\\Users\\bashi\\AppData\\Local\\Temp\\ipykernel_1612\\837280139.py:2: DeprecationWarning: executable_path has been deprecated, please pass in a Service object\n",
      "  driver = webdriver.Chrome(\"chromedriver.exe\")\n"
     ]
    },
    {
     "name": "stdout",
     "output_type": "stream",
     "text": [
      "428\n"
     ]
    },
    {
     "name": "stderr",
     "output_type": "stream",
     "text": [
      "C:\\Users\\bashi\\AppData\\Local\\Temp\\ipykernel_1612\\1789959209.py:4: FutureWarning: The frame.append method is deprecated and will be removed from pandas in a future version. Use pandas.concat instead.\n",
      "  turbo_df = turbo_df.append(data, ignore_index = True)\n",
      "C:\\Users\\bashi\\AppData\\Local\\Temp\\ipykernel_1612\\837280139.py:2: DeprecationWarning: executable_path has been deprecated, please pass in a Service object\n",
      "  driver = webdriver.Chrome(\"chromedriver.exe\")\n"
     ]
    },
    {
     "name": "stdout",
     "output_type": "stream",
     "text": [
      "429\n"
     ]
    },
    {
     "name": "stderr",
     "output_type": "stream",
     "text": [
      "C:\\Users\\bashi\\AppData\\Local\\Temp\\ipykernel_1612\\1789959209.py:4: FutureWarning: The frame.append method is deprecated and will be removed from pandas in a future version. Use pandas.concat instead.\n",
      "  turbo_df = turbo_df.append(data, ignore_index = True)\n",
      "C:\\Users\\bashi\\AppData\\Local\\Temp\\ipykernel_1612\\837280139.py:2: DeprecationWarning: executable_path has been deprecated, please pass in a Service object\n",
      "  driver = webdriver.Chrome(\"chromedriver.exe\")\n"
     ]
    },
    {
     "name": "stdout",
     "output_type": "stream",
     "text": [
      "430\n"
     ]
    },
    {
     "name": "stderr",
     "output_type": "stream",
     "text": [
      "C:\\Users\\bashi\\AppData\\Local\\Temp\\ipykernel_1612\\1789959209.py:4: FutureWarning: The frame.append method is deprecated and will be removed from pandas in a future version. Use pandas.concat instead.\n",
      "  turbo_df = turbo_df.append(data, ignore_index = True)\n",
      "C:\\Users\\bashi\\AppData\\Local\\Temp\\ipykernel_1612\\837280139.py:2: DeprecationWarning: executable_path has been deprecated, please pass in a Service object\n",
      "  driver = webdriver.Chrome(\"chromedriver.exe\")\n"
     ]
    },
    {
     "name": "stdout",
     "output_type": "stream",
     "text": [
      "431\n"
     ]
    },
    {
     "name": "stderr",
     "output_type": "stream",
     "text": [
      "C:\\Users\\bashi\\AppData\\Local\\Temp\\ipykernel_1612\\1789959209.py:4: FutureWarning: The frame.append method is deprecated and will be removed from pandas in a future version. Use pandas.concat instead.\n",
      "  turbo_df = turbo_df.append(data, ignore_index = True)\n",
      "C:\\Users\\bashi\\AppData\\Local\\Temp\\ipykernel_1612\\837280139.py:2: DeprecationWarning: executable_path has been deprecated, please pass in a Service object\n",
      "  driver = webdriver.Chrome(\"chromedriver.exe\")\n"
     ]
    },
    {
     "name": "stdout",
     "output_type": "stream",
     "text": [
      "432\n"
     ]
    },
    {
     "name": "stderr",
     "output_type": "stream",
     "text": [
      "C:\\Users\\bashi\\AppData\\Local\\Temp\\ipykernel_1612\\1789959209.py:4: FutureWarning: The frame.append method is deprecated and will be removed from pandas in a future version. Use pandas.concat instead.\n",
      "  turbo_df = turbo_df.append(data, ignore_index = True)\n",
      "C:\\Users\\bashi\\AppData\\Local\\Temp\\ipykernel_1612\\837280139.py:2: DeprecationWarning: executable_path has been deprecated, please pass in a Service object\n",
      "  driver = webdriver.Chrome(\"chromedriver.exe\")\n"
     ]
    },
    {
     "name": "stdout",
     "output_type": "stream",
     "text": [
      "433\n"
     ]
    },
    {
     "name": "stderr",
     "output_type": "stream",
     "text": [
      "C:\\Users\\bashi\\AppData\\Local\\Temp\\ipykernel_1612\\1789959209.py:4: FutureWarning: The frame.append method is deprecated and will be removed from pandas in a future version. Use pandas.concat instead.\n",
      "  turbo_df = turbo_df.append(data, ignore_index = True)\n",
      "C:\\Users\\bashi\\AppData\\Local\\Temp\\ipykernel_1612\\837280139.py:2: DeprecationWarning: executable_path has been deprecated, please pass in a Service object\n",
      "  driver = webdriver.Chrome(\"chromedriver.exe\")\n"
     ]
    },
    {
     "name": "stdout",
     "output_type": "stream",
     "text": [
      "434\n"
     ]
    },
    {
     "name": "stderr",
     "output_type": "stream",
     "text": [
      "C:\\Users\\bashi\\AppData\\Local\\Temp\\ipykernel_1612\\1789959209.py:4: FutureWarning: The frame.append method is deprecated and will be removed from pandas in a future version. Use pandas.concat instead.\n",
      "  turbo_df = turbo_df.append(data, ignore_index = True)\n",
      "C:\\Users\\bashi\\AppData\\Local\\Temp\\ipykernel_1612\\837280139.py:2: DeprecationWarning: executable_path has been deprecated, please pass in a Service object\n",
      "  driver = webdriver.Chrome(\"chromedriver.exe\")\n"
     ]
    },
    {
     "name": "stdout",
     "output_type": "stream",
     "text": [
      "435\n"
     ]
    },
    {
     "name": "stderr",
     "output_type": "stream",
     "text": [
      "C:\\Users\\bashi\\AppData\\Local\\Temp\\ipykernel_1612\\1789959209.py:4: FutureWarning: The frame.append method is deprecated and will be removed from pandas in a future version. Use pandas.concat instead.\n",
      "  turbo_df = turbo_df.append(data, ignore_index = True)\n",
      "C:\\Users\\bashi\\AppData\\Local\\Temp\\ipykernel_1612\\837280139.py:2: DeprecationWarning: executable_path has been deprecated, please pass in a Service object\n",
      "  driver = webdriver.Chrome(\"chromedriver.exe\")\n"
     ]
    },
    {
     "name": "stdout",
     "output_type": "stream",
     "text": [
      "436\n"
     ]
    },
    {
     "name": "stderr",
     "output_type": "stream",
     "text": [
      "C:\\Users\\bashi\\AppData\\Local\\Temp\\ipykernel_1612\\1789959209.py:4: FutureWarning: The frame.append method is deprecated and will be removed from pandas in a future version. Use pandas.concat instead.\n",
      "  turbo_df = turbo_df.append(data, ignore_index = True)\n",
      "C:\\Users\\bashi\\AppData\\Local\\Temp\\ipykernel_1612\\837280139.py:2: DeprecationWarning: executable_path has been deprecated, please pass in a Service object\n",
      "  driver = webdriver.Chrome(\"chromedriver.exe\")\n"
     ]
    },
    {
     "name": "stdout",
     "output_type": "stream",
     "text": [
      "437\n"
     ]
    },
    {
     "name": "stderr",
     "output_type": "stream",
     "text": [
      "C:\\Users\\bashi\\AppData\\Local\\Temp\\ipykernel_1612\\1789959209.py:4: FutureWarning: The frame.append method is deprecated and will be removed from pandas in a future version. Use pandas.concat instead.\n",
      "  turbo_df = turbo_df.append(data, ignore_index = True)\n",
      "C:\\Users\\bashi\\AppData\\Local\\Temp\\ipykernel_1612\\837280139.py:2: DeprecationWarning: executable_path has been deprecated, please pass in a Service object\n",
      "  driver = webdriver.Chrome(\"chromedriver.exe\")\n"
     ]
    },
    {
     "name": "stdout",
     "output_type": "stream",
     "text": [
      "438\n"
     ]
    },
    {
     "name": "stderr",
     "output_type": "stream",
     "text": [
      "C:\\Users\\bashi\\AppData\\Local\\Temp\\ipykernel_1612\\1789959209.py:4: FutureWarning: The frame.append method is deprecated and will be removed from pandas in a future version. Use pandas.concat instead.\n",
      "  turbo_df = turbo_df.append(data, ignore_index = True)\n",
      "C:\\Users\\bashi\\AppData\\Local\\Temp\\ipykernel_1612\\837280139.py:2: DeprecationWarning: executable_path has been deprecated, please pass in a Service object\n",
      "  driver = webdriver.Chrome(\"chromedriver.exe\")\n"
     ]
    },
    {
     "name": "stdout",
     "output_type": "stream",
     "text": [
      "439\n"
     ]
    },
    {
     "name": "stderr",
     "output_type": "stream",
     "text": [
      "C:\\Users\\bashi\\AppData\\Local\\Temp\\ipykernel_1612\\1789959209.py:4: FutureWarning: The frame.append method is deprecated and will be removed from pandas in a future version. Use pandas.concat instead.\n",
      "  turbo_df = turbo_df.append(data, ignore_index = True)\n",
      "C:\\Users\\bashi\\AppData\\Local\\Temp\\ipykernel_1612\\837280139.py:2: DeprecationWarning: executable_path has been deprecated, please pass in a Service object\n",
      "  driver = webdriver.Chrome(\"chromedriver.exe\")\n"
     ]
    },
    {
     "name": "stdout",
     "output_type": "stream",
     "text": [
      "440\n"
     ]
    },
    {
     "name": "stderr",
     "output_type": "stream",
     "text": [
      "C:\\Users\\bashi\\AppData\\Local\\Temp\\ipykernel_1612\\1789959209.py:4: FutureWarning: The frame.append method is deprecated and will be removed from pandas in a future version. Use pandas.concat instead.\n",
      "  turbo_df = turbo_df.append(data, ignore_index = True)\n",
      "C:\\Users\\bashi\\AppData\\Local\\Temp\\ipykernel_1612\\837280139.py:2: DeprecationWarning: executable_path has been deprecated, please pass in a Service object\n",
      "  driver = webdriver.Chrome(\"chromedriver.exe\")\n"
     ]
    },
    {
     "name": "stdout",
     "output_type": "stream",
     "text": [
      "441\n"
     ]
    },
    {
     "name": "stderr",
     "output_type": "stream",
     "text": [
      "C:\\Users\\bashi\\AppData\\Local\\Temp\\ipykernel_1612\\1789959209.py:4: FutureWarning: The frame.append method is deprecated and will be removed from pandas in a future version. Use pandas.concat instead.\n",
      "  turbo_df = turbo_df.append(data, ignore_index = True)\n",
      "C:\\Users\\bashi\\AppData\\Local\\Temp\\ipykernel_1612\\837280139.py:2: DeprecationWarning: executable_path has been deprecated, please pass in a Service object\n",
      "  driver = webdriver.Chrome(\"chromedriver.exe\")\n"
     ]
    },
    {
     "name": "stdout",
     "output_type": "stream",
     "text": [
      "442\n"
     ]
    },
    {
     "name": "stderr",
     "output_type": "stream",
     "text": [
      "C:\\Users\\bashi\\AppData\\Local\\Temp\\ipykernel_1612\\1789959209.py:4: FutureWarning: The frame.append method is deprecated and will be removed from pandas in a future version. Use pandas.concat instead.\n",
      "  turbo_df = turbo_df.append(data, ignore_index = True)\n",
      "C:\\Users\\bashi\\AppData\\Local\\Temp\\ipykernel_1612\\837280139.py:2: DeprecationWarning: executable_path has been deprecated, please pass in a Service object\n",
      "  driver = webdriver.Chrome(\"chromedriver.exe\")\n"
     ]
    },
    {
     "name": "stdout",
     "output_type": "stream",
     "text": [
      "443\n"
     ]
    },
    {
     "name": "stderr",
     "output_type": "stream",
     "text": [
      "C:\\Users\\bashi\\AppData\\Local\\Temp\\ipykernel_1612\\1789959209.py:4: FutureWarning: The frame.append method is deprecated and will be removed from pandas in a future version. Use pandas.concat instead.\n",
      "  turbo_df = turbo_df.append(data, ignore_index = True)\n",
      "C:\\Users\\bashi\\AppData\\Local\\Temp\\ipykernel_1612\\837280139.py:2: DeprecationWarning: executable_path has been deprecated, please pass in a Service object\n",
      "  driver = webdriver.Chrome(\"chromedriver.exe\")\n"
     ]
    },
    {
     "name": "stdout",
     "output_type": "stream",
     "text": [
      "444\n"
     ]
    },
    {
     "name": "stderr",
     "output_type": "stream",
     "text": [
      "C:\\Users\\bashi\\AppData\\Local\\Temp\\ipykernel_1612\\1789959209.py:4: FutureWarning: The frame.append method is deprecated and will be removed from pandas in a future version. Use pandas.concat instead.\n",
      "  turbo_df = turbo_df.append(data, ignore_index = True)\n",
      "C:\\Users\\bashi\\AppData\\Local\\Temp\\ipykernel_1612\\837280139.py:2: DeprecationWarning: executable_path has been deprecated, please pass in a Service object\n",
      "  driver = webdriver.Chrome(\"chromedriver.exe\")\n"
     ]
    },
    {
     "name": "stdout",
     "output_type": "stream",
     "text": [
      "445\n"
     ]
    },
    {
     "name": "stderr",
     "output_type": "stream",
     "text": [
      "C:\\Users\\bashi\\AppData\\Local\\Temp\\ipykernel_1612\\1789959209.py:4: FutureWarning: The frame.append method is deprecated and will be removed from pandas in a future version. Use pandas.concat instead.\n",
      "  turbo_df = turbo_df.append(data, ignore_index = True)\n",
      "C:\\Users\\bashi\\AppData\\Local\\Temp\\ipykernel_1612\\837280139.py:2: DeprecationWarning: executable_path has been deprecated, please pass in a Service object\n",
      "  driver = webdriver.Chrome(\"chromedriver.exe\")\n"
     ]
    },
    {
     "name": "stdout",
     "output_type": "stream",
     "text": [
      "446\n"
     ]
    },
    {
     "name": "stderr",
     "output_type": "stream",
     "text": [
      "C:\\Users\\bashi\\AppData\\Local\\Temp\\ipykernel_1612\\1789959209.py:4: FutureWarning: The frame.append method is deprecated and will be removed from pandas in a future version. Use pandas.concat instead.\n",
      "  turbo_df = turbo_df.append(data, ignore_index = True)\n",
      "C:\\Users\\bashi\\AppData\\Local\\Temp\\ipykernel_1612\\837280139.py:2: DeprecationWarning: executable_path has been deprecated, please pass in a Service object\n",
      "  driver = webdriver.Chrome(\"chromedriver.exe\")\n"
     ]
    },
    {
     "name": "stdout",
     "output_type": "stream",
     "text": [
      "447\n"
     ]
    },
    {
     "name": "stderr",
     "output_type": "stream",
     "text": [
      "C:\\Users\\bashi\\AppData\\Local\\Temp\\ipykernel_1612\\1789959209.py:4: FutureWarning: The frame.append method is deprecated and will be removed from pandas in a future version. Use pandas.concat instead.\n",
      "  turbo_df = turbo_df.append(data, ignore_index = True)\n",
      "C:\\Users\\bashi\\AppData\\Local\\Temp\\ipykernel_1612\\837280139.py:2: DeprecationWarning: executable_path has been deprecated, please pass in a Service object\n",
      "  driver = webdriver.Chrome(\"chromedriver.exe\")\n"
     ]
    },
    {
     "name": "stdout",
     "output_type": "stream",
     "text": [
      "448\n"
     ]
    },
    {
     "name": "stderr",
     "output_type": "stream",
     "text": [
      "C:\\Users\\bashi\\AppData\\Local\\Temp\\ipykernel_1612\\1789959209.py:4: FutureWarning: The frame.append method is deprecated and will be removed from pandas in a future version. Use pandas.concat instead.\n",
      "  turbo_df = turbo_df.append(data, ignore_index = True)\n",
      "C:\\Users\\bashi\\AppData\\Local\\Temp\\ipykernel_1612\\837280139.py:2: DeprecationWarning: executable_path has been deprecated, please pass in a Service object\n",
      "  driver = webdriver.Chrome(\"chromedriver.exe\")\n"
     ]
    },
    {
     "name": "stdout",
     "output_type": "stream",
     "text": [
      "449\n"
     ]
    },
    {
     "name": "stderr",
     "output_type": "stream",
     "text": [
      "C:\\Users\\bashi\\AppData\\Local\\Temp\\ipykernel_1612\\1789959209.py:4: FutureWarning: The frame.append method is deprecated and will be removed from pandas in a future version. Use pandas.concat instead.\n",
      "  turbo_df = turbo_df.append(data, ignore_index = True)\n",
      "C:\\Users\\bashi\\AppData\\Local\\Temp\\ipykernel_1612\\837280139.py:2: DeprecationWarning: executable_path has been deprecated, please pass in a Service object\n",
      "  driver = webdriver.Chrome(\"chromedriver.exe\")\n"
     ]
    },
    {
     "name": "stdout",
     "output_type": "stream",
     "text": [
      "450\n"
     ]
    },
    {
     "name": "stderr",
     "output_type": "stream",
     "text": [
      "C:\\Users\\bashi\\AppData\\Local\\Temp\\ipykernel_1612\\1789959209.py:4: FutureWarning: The frame.append method is deprecated and will be removed from pandas in a future version. Use pandas.concat instead.\n",
      "  turbo_df = turbo_df.append(data, ignore_index = True)\n",
      "C:\\Users\\bashi\\AppData\\Local\\Temp\\ipykernel_1612\\837280139.py:2: DeprecationWarning: executable_path has been deprecated, please pass in a Service object\n",
      "  driver = webdriver.Chrome(\"chromedriver.exe\")\n"
     ]
    },
    {
     "name": "stdout",
     "output_type": "stream",
     "text": [
      "451\n"
     ]
    },
    {
     "name": "stderr",
     "output_type": "stream",
     "text": [
      "C:\\Users\\bashi\\AppData\\Local\\Temp\\ipykernel_1612\\1789959209.py:4: FutureWarning: The frame.append method is deprecated and will be removed from pandas in a future version. Use pandas.concat instead.\n",
      "  turbo_df = turbo_df.append(data, ignore_index = True)\n",
      "C:\\Users\\bashi\\AppData\\Local\\Temp\\ipykernel_1612\\837280139.py:2: DeprecationWarning: executable_path has been deprecated, please pass in a Service object\n",
      "  driver = webdriver.Chrome(\"chromedriver.exe\")\n"
     ]
    },
    {
     "name": "stdout",
     "output_type": "stream",
     "text": [
      "452\n"
     ]
    },
    {
     "name": "stderr",
     "output_type": "stream",
     "text": [
      "C:\\Users\\bashi\\AppData\\Local\\Temp\\ipykernel_1612\\1789959209.py:4: FutureWarning: The frame.append method is deprecated and will be removed from pandas in a future version. Use pandas.concat instead.\n",
      "  turbo_df = turbo_df.append(data, ignore_index = True)\n",
      "C:\\Users\\bashi\\AppData\\Local\\Temp\\ipykernel_1612\\837280139.py:2: DeprecationWarning: executable_path has been deprecated, please pass in a Service object\n",
      "  driver = webdriver.Chrome(\"chromedriver.exe\")\n"
     ]
    },
    {
     "name": "stdout",
     "output_type": "stream",
     "text": [
      "453\n"
     ]
    },
    {
     "name": "stderr",
     "output_type": "stream",
     "text": [
      "C:\\Users\\bashi\\AppData\\Local\\Temp\\ipykernel_1612\\1789959209.py:4: FutureWarning: The frame.append method is deprecated and will be removed from pandas in a future version. Use pandas.concat instead.\n",
      "  turbo_df = turbo_df.append(data, ignore_index = True)\n",
      "C:\\Users\\bashi\\AppData\\Local\\Temp\\ipykernel_1612\\837280139.py:2: DeprecationWarning: executable_path has been deprecated, please pass in a Service object\n",
      "  driver = webdriver.Chrome(\"chromedriver.exe\")\n"
     ]
    },
    {
     "name": "stdout",
     "output_type": "stream",
     "text": [
      "454\n"
     ]
    },
    {
     "name": "stderr",
     "output_type": "stream",
     "text": [
      "C:\\Users\\bashi\\AppData\\Local\\Temp\\ipykernel_1612\\1789959209.py:4: FutureWarning: The frame.append method is deprecated and will be removed from pandas in a future version. Use pandas.concat instead.\n",
      "  turbo_df = turbo_df.append(data, ignore_index = True)\n",
      "C:\\Users\\bashi\\AppData\\Local\\Temp\\ipykernel_1612\\837280139.py:2: DeprecationWarning: executable_path has been deprecated, please pass in a Service object\n",
      "  driver = webdriver.Chrome(\"chromedriver.exe\")\n"
     ]
    },
    {
     "name": "stdout",
     "output_type": "stream",
     "text": [
      "455\n"
     ]
    },
    {
     "name": "stderr",
     "output_type": "stream",
     "text": [
      "C:\\Users\\bashi\\AppData\\Local\\Temp\\ipykernel_1612\\1789959209.py:4: FutureWarning: The frame.append method is deprecated and will be removed from pandas in a future version. Use pandas.concat instead.\n",
      "  turbo_df = turbo_df.append(data, ignore_index = True)\n",
      "C:\\Users\\bashi\\AppData\\Local\\Temp\\ipykernel_1612\\837280139.py:2: DeprecationWarning: executable_path has been deprecated, please pass in a Service object\n",
      "  driver = webdriver.Chrome(\"chromedriver.exe\")\n"
     ]
    },
    {
     "name": "stdout",
     "output_type": "stream",
     "text": [
      "456\n"
     ]
    },
    {
     "name": "stderr",
     "output_type": "stream",
     "text": [
      "C:\\Users\\bashi\\AppData\\Local\\Temp\\ipykernel_1612\\1789959209.py:4: FutureWarning: The frame.append method is deprecated and will be removed from pandas in a future version. Use pandas.concat instead.\n",
      "  turbo_df = turbo_df.append(data, ignore_index = True)\n",
      "C:\\Users\\bashi\\AppData\\Local\\Temp\\ipykernel_1612\\837280139.py:2: DeprecationWarning: executable_path has been deprecated, please pass in a Service object\n",
      "  driver = webdriver.Chrome(\"chromedriver.exe\")\n"
     ]
    },
    {
     "name": "stdout",
     "output_type": "stream",
     "text": [
      "457\n"
     ]
    },
    {
     "name": "stderr",
     "output_type": "stream",
     "text": [
      "C:\\Users\\bashi\\AppData\\Local\\Temp\\ipykernel_1612\\1789959209.py:4: FutureWarning: The frame.append method is deprecated and will be removed from pandas in a future version. Use pandas.concat instead.\n",
      "  turbo_df = turbo_df.append(data, ignore_index = True)\n",
      "C:\\Users\\bashi\\AppData\\Local\\Temp\\ipykernel_1612\\837280139.py:2: DeprecationWarning: executable_path has been deprecated, please pass in a Service object\n",
      "  driver = webdriver.Chrome(\"chromedriver.exe\")\n"
     ]
    },
    {
     "name": "stdout",
     "output_type": "stream",
     "text": [
      "458\n"
     ]
    },
    {
     "name": "stderr",
     "output_type": "stream",
     "text": [
      "C:\\Users\\bashi\\AppData\\Local\\Temp\\ipykernel_1612\\1789959209.py:4: FutureWarning: The frame.append method is deprecated and will be removed from pandas in a future version. Use pandas.concat instead.\n",
      "  turbo_df = turbo_df.append(data, ignore_index = True)\n",
      "C:\\Users\\bashi\\AppData\\Local\\Temp\\ipykernel_1612\\837280139.py:2: DeprecationWarning: executable_path has been deprecated, please pass in a Service object\n",
      "  driver = webdriver.Chrome(\"chromedriver.exe\")\n"
     ]
    },
    {
     "name": "stdout",
     "output_type": "stream",
     "text": [
      "459\n"
     ]
    },
    {
     "name": "stderr",
     "output_type": "stream",
     "text": [
      "C:\\Users\\bashi\\AppData\\Local\\Temp\\ipykernel_1612\\1789959209.py:4: FutureWarning: The frame.append method is deprecated and will be removed from pandas in a future version. Use pandas.concat instead.\n",
      "  turbo_df = turbo_df.append(data, ignore_index = True)\n",
      "C:\\Users\\bashi\\AppData\\Local\\Temp\\ipykernel_1612\\837280139.py:2: DeprecationWarning: executable_path has been deprecated, please pass in a Service object\n",
      "  driver = webdriver.Chrome(\"chromedriver.exe\")\n"
     ]
    },
    {
     "name": "stdout",
     "output_type": "stream",
     "text": [
      "460\n"
     ]
    },
    {
     "name": "stderr",
     "output_type": "stream",
     "text": [
      "C:\\Users\\bashi\\AppData\\Local\\Temp\\ipykernel_1612\\1789959209.py:4: FutureWarning: The frame.append method is deprecated and will be removed from pandas in a future version. Use pandas.concat instead.\n",
      "  turbo_df = turbo_df.append(data, ignore_index = True)\n",
      "C:\\Users\\bashi\\AppData\\Local\\Temp\\ipykernel_1612\\837280139.py:2: DeprecationWarning: executable_path has been deprecated, please pass in a Service object\n",
      "  driver = webdriver.Chrome(\"chromedriver.exe\")\n"
     ]
    },
    {
     "name": "stdout",
     "output_type": "stream",
     "text": [
      "461\n"
     ]
    },
    {
     "name": "stderr",
     "output_type": "stream",
     "text": [
      "C:\\Users\\bashi\\AppData\\Local\\Temp\\ipykernel_1612\\1789959209.py:4: FutureWarning: The frame.append method is deprecated and will be removed from pandas in a future version. Use pandas.concat instead.\n",
      "  turbo_df = turbo_df.append(data, ignore_index = True)\n",
      "C:\\Users\\bashi\\AppData\\Local\\Temp\\ipykernel_1612\\837280139.py:2: DeprecationWarning: executable_path has been deprecated, please pass in a Service object\n",
      "  driver = webdriver.Chrome(\"chromedriver.exe\")\n"
     ]
    },
    {
     "name": "stdout",
     "output_type": "stream",
     "text": [
      "462\n"
     ]
    },
    {
     "name": "stderr",
     "output_type": "stream",
     "text": [
      "C:\\Users\\bashi\\AppData\\Local\\Temp\\ipykernel_1612\\1789959209.py:4: FutureWarning: The frame.append method is deprecated and will be removed from pandas in a future version. Use pandas.concat instead.\n",
      "  turbo_df = turbo_df.append(data, ignore_index = True)\n",
      "C:\\Users\\bashi\\AppData\\Local\\Temp\\ipykernel_1612\\837280139.py:2: DeprecationWarning: executable_path has been deprecated, please pass in a Service object\n",
      "  driver = webdriver.Chrome(\"chromedriver.exe\")\n"
     ]
    },
    {
     "name": "stdout",
     "output_type": "stream",
     "text": [
      "463\n"
     ]
    },
    {
     "name": "stderr",
     "output_type": "stream",
     "text": [
      "C:\\Users\\bashi\\AppData\\Local\\Temp\\ipykernel_1612\\1789959209.py:4: FutureWarning: The frame.append method is deprecated and will be removed from pandas in a future version. Use pandas.concat instead.\n",
      "  turbo_df = turbo_df.append(data, ignore_index = True)\n",
      "C:\\Users\\bashi\\AppData\\Local\\Temp\\ipykernel_1612\\837280139.py:2: DeprecationWarning: executable_path has been deprecated, please pass in a Service object\n",
      "  driver = webdriver.Chrome(\"chromedriver.exe\")\n"
     ]
    },
    {
     "name": "stdout",
     "output_type": "stream",
     "text": [
      "464\n"
     ]
    },
    {
     "name": "stderr",
     "output_type": "stream",
     "text": [
      "C:\\Users\\bashi\\AppData\\Local\\Temp\\ipykernel_1612\\1789959209.py:4: FutureWarning: The frame.append method is deprecated and will be removed from pandas in a future version. Use pandas.concat instead.\n",
      "  turbo_df = turbo_df.append(data, ignore_index = True)\n",
      "C:\\Users\\bashi\\AppData\\Local\\Temp\\ipykernel_1612\\837280139.py:2: DeprecationWarning: executable_path has been deprecated, please pass in a Service object\n",
      "  driver = webdriver.Chrome(\"chromedriver.exe\")\n"
     ]
    },
    {
     "name": "stdout",
     "output_type": "stream",
     "text": [
      "465\n"
     ]
    },
    {
     "name": "stderr",
     "output_type": "stream",
     "text": [
      "C:\\Users\\bashi\\AppData\\Local\\Temp\\ipykernel_1612\\1789959209.py:4: FutureWarning: The frame.append method is deprecated and will be removed from pandas in a future version. Use pandas.concat instead.\n",
      "  turbo_df = turbo_df.append(data, ignore_index = True)\n",
      "C:\\Users\\bashi\\AppData\\Local\\Temp\\ipykernel_1612\\837280139.py:2: DeprecationWarning: executable_path has been deprecated, please pass in a Service object\n",
      "  driver = webdriver.Chrome(\"chromedriver.exe\")\n"
     ]
    },
    {
     "name": "stdout",
     "output_type": "stream",
     "text": [
      "466\n"
     ]
    },
    {
     "name": "stderr",
     "output_type": "stream",
     "text": [
      "C:\\Users\\bashi\\AppData\\Local\\Temp\\ipykernel_1612\\1789959209.py:4: FutureWarning: The frame.append method is deprecated and will be removed from pandas in a future version. Use pandas.concat instead.\n",
      "  turbo_df = turbo_df.append(data, ignore_index = True)\n",
      "C:\\Users\\bashi\\AppData\\Local\\Temp\\ipykernel_1612\\837280139.py:2: DeprecationWarning: executable_path has been deprecated, please pass in a Service object\n",
      "  driver = webdriver.Chrome(\"chromedriver.exe\")\n"
     ]
    },
    {
     "name": "stdout",
     "output_type": "stream",
     "text": [
      "467\n"
     ]
    },
    {
     "name": "stderr",
     "output_type": "stream",
     "text": [
      "C:\\Users\\bashi\\AppData\\Local\\Temp\\ipykernel_1612\\1789959209.py:4: FutureWarning: The frame.append method is deprecated and will be removed from pandas in a future version. Use pandas.concat instead.\n",
      "  turbo_df = turbo_df.append(data, ignore_index = True)\n",
      "C:\\Users\\bashi\\AppData\\Local\\Temp\\ipykernel_1612\\837280139.py:2: DeprecationWarning: executable_path has been deprecated, please pass in a Service object\n",
      "  driver = webdriver.Chrome(\"chromedriver.exe\")\n"
     ]
    },
    {
     "name": "stdout",
     "output_type": "stream",
     "text": [
      "468\n"
     ]
    },
    {
     "name": "stderr",
     "output_type": "stream",
     "text": [
      "C:\\Users\\bashi\\AppData\\Local\\Temp\\ipykernel_1612\\1789959209.py:4: FutureWarning: The frame.append method is deprecated and will be removed from pandas in a future version. Use pandas.concat instead.\n",
      "  turbo_df = turbo_df.append(data, ignore_index = True)\n",
      "C:\\Users\\bashi\\AppData\\Local\\Temp\\ipykernel_1612\\837280139.py:2: DeprecationWarning: executable_path has been deprecated, please pass in a Service object\n",
      "  driver = webdriver.Chrome(\"chromedriver.exe\")\n"
     ]
    },
    {
     "name": "stdout",
     "output_type": "stream",
     "text": [
      "469\n"
     ]
    },
    {
     "name": "stderr",
     "output_type": "stream",
     "text": [
      "C:\\Users\\bashi\\AppData\\Local\\Temp\\ipykernel_1612\\1789959209.py:4: FutureWarning: The frame.append method is deprecated and will be removed from pandas in a future version. Use pandas.concat instead.\n",
      "  turbo_df = turbo_df.append(data, ignore_index = True)\n",
      "C:\\Users\\bashi\\AppData\\Local\\Temp\\ipykernel_1612\\837280139.py:2: DeprecationWarning: executable_path has been deprecated, please pass in a Service object\n",
      "  driver = webdriver.Chrome(\"chromedriver.exe\")\n"
     ]
    },
    {
     "name": "stdout",
     "output_type": "stream",
     "text": [
      "470\n"
     ]
    },
    {
     "name": "stderr",
     "output_type": "stream",
     "text": [
      "C:\\Users\\bashi\\AppData\\Local\\Temp\\ipykernel_1612\\1789959209.py:4: FutureWarning: The frame.append method is deprecated and will be removed from pandas in a future version. Use pandas.concat instead.\n",
      "  turbo_df = turbo_df.append(data, ignore_index = True)\n",
      "C:\\Users\\bashi\\AppData\\Local\\Temp\\ipykernel_1612\\837280139.py:2: DeprecationWarning: executable_path has been deprecated, please pass in a Service object\n",
      "  driver = webdriver.Chrome(\"chromedriver.exe\")\n"
     ]
    },
    {
     "name": "stdout",
     "output_type": "stream",
     "text": [
      "471\n"
     ]
    },
    {
     "name": "stderr",
     "output_type": "stream",
     "text": [
      "C:\\Users\\bashi\\AppData\\Local\\Temp\\ipykernel_1612\\1789959209.py:4: FutureWarning: The frame.append method is deprecated and will be removed from pandas in a future version. Use pandas.concat instead.\n",
      "  turbo_df = turbo_df.append(data, ignore_index = True)\n",
      "C:\\Users\\bashi\\AppData\\Local\\Temp\\ipykernel_1612\\837280139.py:2: DeprecationWarning: executable_path has been deprecated, please pass in a Service object\n",
      "  driver = webdriver.Chrome(\"chromedriver.exe\")\n"
     ]
    },
    {
     "name": "stdout",
     "output_type": "stream",
     "text": [
      "472\n"
     ]
    },
    {
     "name": "stderr",
     "output_type": "stream",
     "text": [
      "C:\\Users\\bashi\\AppData\\Local\\Temp\\ipykernel_1612\\1789959209.py:4: FutureWarning: The frame.append method is deprecated and will be removed from pandas in a future version. Use pandas.concat instead.\n",
      "  turbo_df = turbo_df.append(data, ignore_index = True)\n",
      "C:\\Users\\bashi\\AppData\\Local\\Temp\\ipykernel_1612\\837280139.py:2: DeprecationWarning: executable_path has been deprecated, please pass in a Service object\n",
      "  driver = webdriver.Chrome(\"chromedriver.exe\")\n"
     ]
    },
    {
     "name": "stdout",
     "output_type": "stream",
     "text": [
      "473\n"
     ]
    },
    {
     "name": "stderr",
     "output_type": "stream",
     "text": [
      "C:\\Users\\bashi\\AppData\\Local\\Temp\\ipykernel_1612\\1789959209.py:4: FutureWarning: The frame.append method is deprecated and will be removed from pandas in a future version. Use pandas.concat instead.\n",
      "  turbo_df = turbo_df.append(data, ignore_index = True)\n",
      "C:\\Users\\bashi\\AppData\\Local\\Temp\\ipykernel_1612\\837280139.py:2: DeprecationWarning: executable_path has been deprecated, please pass in a Service object\n",
      "  driver = webdriver.Chrome(\"chromedriver.exe\")\n"
     ]
    },
    {
     "name": "stdout",
     "output_type": "stream",
     "text": [
      "474\n"
     ]
    },
    {
     "name": "stderr",
     "output_type": "stream",
     "text": [
      "C:\\Users\\bashi\\AppData\\Local\\Temp\\ipykernel_1612\\1789959209.py:4: FutureWarning: The frame.append method is deprecated and will be removed from pandas in a future version. Use pandas.concat instead.\n",
      "  turbo_df = turbo_df.append(data, ignore_index = True)\n",
      "C:\\Users\\bashi\\AppData\\Local\\Temp\\ipykernel_1612\\837280139.py:2: DeprecationWarning: executable_path has been deprecated, please pass in a Service object\n",
      "  driver = webdriver.Chrome(\"chromedriver.exe\")\n"
     ]
    },
    {
     "name": "stdout",
     "output_type": "stream",
     "text": [
      "475\n"
     ]
    },
    {
     "name": "stderr",
     "output_type": "stream",
     "text": [
      "C:\\Users\\bashi\\AppData\\Local\\Temp\\ipykernel_1612\\1789959209.py:4: FutureWarning: The frame.append method is deprecated and will be removed from pandas in a future version. Use pandas.concat instead.\n",
      "  turbo_df = turbo_df.append(data, ignore_index = True)\n",
      "C:\\Users\\bashi\\AppData\\Local\\Temp\\ipykernel_1612\\837280139.py:2: DeprecationWarning: executable_path has been deprecated, please pass in a Service object\n",
      "  driver = webdriver.Chrome(\"chromedriver.exe\")\n"
     ]
    },
    {
     "name": "stdout",
     "output_type": "stream",
     "text": [
      "476\n"
     ]
    },
    {
     "name": "stderr",
     "output_type": "stream",
     "text": [
      "C:\\Users\\bashi\\AppData\\Local\\Temp\\ipykernel_1612\\1789959209.py:4: FutureWarning: The frame.append method is deprecated and will be removed from pandas in a future version. Use pandas.concat instead.\n",
      "  turbo_df = turbo_df.append(data, ignore_index = True)\n",
      "C:\\Users\\bashi\\AppData\\Local\\Temp\\ipykernel_1612\\837280139.py:2: DeprecationWarning: executable_path has been deprecated, please pass in a Service object\n",
      "  driver = webdriver.Chrome(\"chromedriver.exe\")\n"
     ]
    },
    {
     "name": "stdout",
     "output_type": "stream",
     "text": [
      "477\n"
     ]
    },
    {
     "name": "stderr",
     "output_type": "stream",
     "text": [
      "C:\\Users\\bashi\\AppData\\Local\\Temp\\ipykernel_1612\\1789959209.py:4: FutureWarning: The frame.append method is deprecated and will be removed from pandas in a future version. Use pandas.concat instead.\n",
      "  turbo_df = turbo_df.append(data, ignore_index = True)\n",
      "C:\\Users\\bashi\\AppData\\Local\\Temp\\ipykernel_1612\\837280139.py:2: DeprecationWarning: executable_path has been deprecated, please pass in a Service object\n",
      "  driver = webdriver.Chrome(\"chromedriver.exe\")\n"
     ]
    },
    {
     "name": "stdout",
     "output_type": "stream",
     "text": [
      "478\n"
     ]
    },
    {
     "name": "stderr",
     "output_type": "stream",
     "text": [
      "C:\\Users\\bashi\\AppData\\Local\\Temp\\ipykernel_1612\\1789959209.py:4: FutureWarning: The frame.append method is deprecated and will be removed from pandas in a future version. Use pandas.concat instead.\n",
      "  turbo_df = turbo_df.append(data, ignore_index = True)\n",
      "C:\\Users\\bashi\\AppData\\Local\\Temp\\ipykernel_1612\\837280139.py:2: DeprecationWarning: executable_path has been deprecated, please pass in a Service object\n",
      "  driver = webdriver.Chrome(\"chromedriver.exe\")\n"
     ]
    },
    {
     "name": "stdout",
     "output_type": "stream",
     "text": [
      "479\n"
     ]
    },
    {
     "name": "stderr",
     "output_type": "stream",
     "text": [
      "C:\\Users\\bashi\\AppData\\Local\\Temp\\ipykernel_1612\\1789959209.py:4: FutureWarning: The frame.append method is deprecated and will be removed from pandas in a future version. Use pandas.concat instead.\n",
      "  turbo_df = turbo_df.append(data, ignore_index = True)\n",
      "C:\\Users\\bashi\\AppData\\Local\\Temp\\ipykernel_1612\\837280139.py:2: DeprecationWarning: executable_path has been deprecated, please pass in a Service object\n",
      "  driver = webdriver.Chrome(\"chromedriver.exe\")\n"
     ]
    },
    {
     "name": "stdout",
     "output_type": "stream",
     "text": [
      "479\n"
     ]
    },
    {
     "name": "stderr",
     "output_type": "stream",
     "text": [
      "C:\\Users\\bashi\\AppData\\Local\\Temp\\ipykernel_1612\\1789959209.py:4: FutureWarning: The frame.append method is deprecated and will be removed from pandas in a future version. Use pandas.concat instead.\n",
      "  turbo_df = turbo_df.append(data, ignore_index = True)\n",
      "C:\\Users\\bashi\\AppData\\Local\\Temp\\ipykernel_1612\\837280139.py:2: DeprecationWarning: executable_path has been deprecated, please pass in a Service object\n",
      "  driver = webdriver.Chrome(\"chromedriver.exe\")\n"
     ]
    },
    {
     "name": "stdout",
     "output_type": "stream",
     "text": [
      "481\n"
     ]
    },
    {
     "name": "stderr",
     "output_type": "stream",
     "text": [
      "C:\\Users\\bashi\\AppData\\Local\\Temp\\ipykernel_1612\\1789959209.py:4: FutureWarning: The frame.append method is deprecated and will be removed from pandas in a future version. Use pandas.concat instead.\n",
      "  turbo_df = turbo_df.append(data, ignore_index = True)\n",
      "C:\\Users\\bashi\\AppData\\Local\\Temp\\ipykernel_1612\\837280139.py:2: DeprecationWarning: executable_path has been deprecated, please pass in a Service object\n",
      "  driver = webdriver.Chrome(\"chromedriver.exe\")\n"
     ]
    },
    {
     "name": "stdout",
     "output_type": "stream",
     "text": [
      "482\n"
     ]
    },
    {
     "name": "stderr",
     "output_type": "stream",
     "text": [
      "C:\\Users\\bashi\\AppData\\Local\\Temp\\ipykernel_1612\\1789959209.py:4: FutureWarning: The frame.append method is deprecated and will be removed from pandas in a future version. Use pandas.concat instead.\n",
      "  turbo_df = turbo_df.append(data, ignore_index = True)\n",
      "C:\\Users\\bashi\\AppData\\Local\\Temp\\ipykernel_1612\\837280139.py:2: DeprecationWarning: executable_path has been deprecated, please pass in a Service object\n",
      "  driver = webdriver.Chrome(\"chromedriver.exe\")\n"
     ]
    },
    {
     "name": "stdout",
     "output_type": "stream",
     "text": [
      "483\n"
     ]
    },
    {
     "name": "stderr",
     "output_type": "stream",
     "text": [
      "C:\\Users\\bashi\\AppData\\Local\\Temp\\ipykernel_1612\\1789959209.py:4: FutureWarning: The frame.append method is deprecated and will be removed from pandas in a future version. Use pandas.concat instead.\n",
      "  turbo_df = turbo_df.append(data, ignore_index = True)\n",
      "C:\\Users\\bashi\\AppData\\Local\\Temp\\ipykernel_1612\\837280139.py:2: DeprecationWarning: executable_path has been deprecated, please pass in a Service object\n",
      "  driver = webdriver.Chrome(\"chromedriver.exe\")\n"
     ]
    },
    {
     "name": "stdout",
     "output_type": "stream",
     "text": [
      "484\n"
     ]
    },
    {
     "name": "stderr",
     "output_type": "stream",
     "text": [
      "C:\\Users\\bashi\\AppData\\Local\\Temp\\ipykernel_1612\\1789959209.py:4: FutureWarning: The frame.append method is deprecated and will be removed from pandas in a future version. Use pandas.concat instead.\n",
      "  turbo_df = turbo_df.append(data, ignore_index = True)\n",
      "C:\\Users\\bashi\\AppData\\Local\\Temp\\ipykernel_1612\\837280139.py:2: DeprecationWarning: executable_path has been deprecated, please pass in a Service object\n",
      "  driver = webdriver.Chrome(\"chromedriver.exe\")\n"
     ]
    },
    {
     "name": "stdout",
     "output_type": "stream",
     "text": [
      "485\n"
     ]
    },
    {
     "name": "stderr",
     "output_type": "stream",
     "text": [
      "C:\\Users\\bashi\\AppData\\Local\\Temp\\ipykernel_1612\\1789959209.py:4: FutureWarning: The frame.append method is deprecated and will be removed from pandas in a future version. Use pandas.concat instead.\n",
      "  turbo_df = turbo_df.append(data, ignore_index = True)\n",
      "C:\\Users\\bashi\\AppData\\Local\\Temp\\ipykernel_1612\\837280139.py:2: DeprecationWarning: executable_path has been deprecated, please pass in a Service object\n",
      "  driver = webdriver.Chrome(\"chromedriver.exe\")\n"
     ]
    },
    {
     "name": "stdout",
     "output_type": "stream",
     "text": [
      "486\n"
     ]
    },
    {
     "name": "stderr",
     "output_type": "stream",
     "text": [
      "C:\\Users\\bashi\\AppData\\Local\\Temp\\ipykernel_1612\\1789959209.py:4: FutureWarning: The frame.append method is deprecated and will be removed from pandas in a future version. Use pandas.concat instead.\n",
      "  turbo_df = turbo_df.append(data, ignore_index = True)\n",
      "C:\\Users\\bashi\\AppData\\Local\\Temp\\ipykernel_1612\\837280139.py:2: DeprecationWarning: executable_path has been deprecated, please pass in a Service object\n",
      "  driver = webdriver.Chrome(\"chromedriver.exe\")\n"
     ]
    },
    {
     "name": "stdout",
     "output_type": "stream",
     "text": [
      "487\n"
     ]
    },
    {
     "name": "stderr",
     "output_type": "stream",
     "text": [
      "C:\\Users\\bashi\\AppData\\Local\\Temp\\ipykernel_1612\\1789959209.py:4: FutureWarning: The frame.append method is deprecated and will be removed from pandas in a future version. Use pandas.concat instead.\n",
      "  turbo_df = turbo_df.append(data, ignore_index = True)\n",
      "C:\\Users\\bashi\\AppData\\Local\\Temp\\ipykernel_1612\\837280139.py:2: DeprecationWarning: executable_path has been deprecated, please pass in a Service object\n",
      "  driver = webdriver.Chrome(\"chromedriver.exe\")\n"
     ]
    },
    {
     "name": "stdout",
     "output_type": "stream",
     "text": [
      "488\n"
     ]
    },
    {
     "name": "stderr",
     "output_type": "stream",
     "text": [
      "C:\\Users\\bashi\\AppData\\Local\\Temp\\ipykernel_1612\\1789959209.py:4: FutureWarning: The frame.append method is deprecated and will be removed from pandas in a future version. Use pandas.concat instead.\n",
      "  turbo_df = turbo_df.append(data, ignore_index = True)\n",
      "C:\\Users\\bashi\\AppData\\Local\\Temp\\ipykernel_1612\\837280139.py:2: DeprecationWarning: executable_path has been deprecated, please pass in a Service object\n",
      "  driver = webdriver.Chrome(\"chromedriver.exe\")\n"
     ]
    },
    {
     "name": "stdout",
     "output_type": "stream",
     "text": [
      "489\n"
     ]
    },
    {
     "name": "stderr",
     "output_type": "stream",
     "text": [
      "C:\\Users\\bashi\\AppData\\Local\\Temp\\ipykernel_1612\\1789959209.py:4: FutureWarning: The frame.append method is deprecated and will be removed from pandas in a future version. Use pandas.concat instead.\n",
      "  turbo_df = turbo_df.append(data, ignore_index = True)\n",
      "C:\\Users\\bashi\\AppData\\Local\\Temp\\ipykernel_1612\\837280139.py:2: DeprecationWarning: executable_path has been deprecated, please pass in a Service object\n",
      "  driver = webdriver.Chrome(\"chromedriver.exe\")\n"
     ]
    },
    {
     "name": "stdout",
     "output_type": "stream",
     "text": [
      "490\n"
     ]
    },
    {
     "name": "stderr",
     "output_type": "stream",
     "text": [
      "C:\\Users\\bashi\\AppData\\Local\\Temp\\ipykernel_1612\\1789959209.py:4: FutureWarning: The frame.append method is deprecated and will be removed from pandas in a future version. Use pandas.concat instead.\n",
      "  turbo_df = turbo_df.append(data, ignore_index = True)\n",
      "C:\\Users\\bashi\\AppData\\Local\\Temp\\ipykernel_1612\\837280139.py:2: DeprecationWarning: executable_path has been deprecated, please pass in a Service object\n",
      "  driver = webdriver.Chrome(\"chromedriver.exe\")\n"
     ]
    },
    {
     "name": "stdout",
     "output_type": "stream",
     "text": [
      "491\n"
     ]
    },
    {
     "name": "stderr",
     "output_type": "stream",
     "text": [
      "C:\\Users\\bashi\\AppData\\Local\\Temp\\ipykernel_1612\\1789959209.py:4: FutureWarning: The frame.append method is deprecated and will be removed from pandas in a future version. Use pandas.concat instead.\n",
      "  turbo_df = turbo_df.append(data, ignore_index = True)\n",
      "C:\\Users\\bashi\\AppData\\Local\\Temp\\ipykernel_1612\\837280139.py:2: DeprecationWarning: executable_path has been deprecated, please pass in a Service object\n",
      "  driver = webdriver.Chrome(\"chromedriver.exe\")\n"
     ]
    },
    {
     "name": "stdout",
     "output_type": "stream",
     "text": [
      "492\n"
     ]
    },
    {
     "name": "stderr",
     "output_type": "stream",
     "text": [
      "C:\\Users\\bashi\\AppData\\Local\\Temp\\ipykernel_1612\\1789959209.py:4: FutureWarning: The frame.append method is deprecated and will be removed from pandas in a future version. Use pandas.concat instead.\n",
      "  turbo_df = turbo_df.append(data, ignore_index = True)\n",
      "C:\\Users\\bashi\\AppData\\Local\\Temp\\ipykernel_1612\\837280139.py:2: DeprecationWarning: executable_path has been deprecated, please pass in a Service object\n",
      "  driver = webdriver.Chrome(\"chromedriver.exe\")\n"
     ]
    },
    {
     "name": "stdout",
     "output_type": "stream",
     "text": [
      "493\n"
     ]
    },
    {
     "name": "stderr",
     "output_type": "stream",
     "text": [
      "C:\\Users\\bashi\\AppData\\Local\\Temp\\ipykernel_1612\\1789959209.py:4: FutureWarning: The frame.append method is deprecated and will be removed from pandas in a future version. Use pandas.concat instead.\n",
      "  turbo_df = turbo_df.append(data, ignore_index = True)\n",
      "C:\\Users\\bashi\\AppData\\Local\\Temp\\ipykernel_1612\\837280139.py:2: DeprecationWarning: executable_path has been deprecated, please pass in a Service object\n",
      "  driver = webdriver.Chrome(\"chromedriver.exe\")\n"
     ]
    },
    {
     "name": "stdout",
     "output_type": "stream",
     "text": [
      "494\n"
     ]
    },
    {
     "name": "stderr",
     "output_type": "stream",
     "text": [
      "C:\\Users\\bashi\\AppData\\Local\\Temp\\ipykernel_1612\\1789959209.py:4: FutureWarning: The frame.append method is deprecated and will be removed from pandas in a future version. Use pandas.concat instead.\n",
      "  turbo_df = turbo_df.append(data, ignore_index = True)\n",
      "C:\\Users\\bashi\\AppData\\Local\\Temp\\ipykernel_1612\\837280139.py:2: DeprecationWarning: executable_path has been deprecated, please pass in a Service object\n",
      "  driver = webdriver.Chrome(\"chromedriver.exe\")\n"
     ]
    },
    {
     "name": "stdout",
     "output_type": "stream",
     "text": [
      "495\n"
     ]
    },
    {
     "name": "stderr",
     "output_type": "stream",
     "text": [
      "C:\\Users\\bashi\\AppData\\Local\\Temp\\ipykernel_1612\\1789959209.py:4: FutureWarning: The frame.append method is deprecated and will be removed from pandas in a future version. Use pandas.concat instead.\n",
      "  turbo_df = turbo_df.append(data, ignore_index = True)\n",
      "C:\\Users\\bashi\\AppData\\Local\\Temp\\ipykernel_1612\\837280139.py:2: DeprecationWarning: executable_path has been deprecated, please pass in a Service object\n",
      "  driver = webdriver.Chrome(\"chromedriver.exe\")\n"
     ]
    },
    {
     "name": "stdout",
     "output_type": "stream",
     "text": [
      "496\n"
     ]
    },
    {
     "name": "stderr",
     "output_type": "stream",
     "text": [
      "C:\\Users\\bashi\\AppData\\Local\\Temp\\ipykernel_1612\\1789959209.py:4: FutureWarning: The frame.append method is deprecated and will be removed from pandas in a future version. Use pandas.concat instead.\n",
      "  turbo_df = turbo_df.append(data, ignore_index = True)\n",
      "C:\\Users\\bashi\\AppData\\Local\\Temp\\ipykernel_1612\\837280139.py:2: DeprecationWarning: executable_path has been deprecated, please pass in a Service object\n",
      "  driver = webdriver.Chrome(\"chromedriver.exe\")\n"
     ]
    },
    {
     "name": "stdout",
     "output_type": "stream",
     "text": [
      "497\n"
     ]
    },
    {
     "name": "stderr",
     "output_type": "stream",
     "text": [
      "C:\\Users\\bashi\\AppData\\Local\\Temp\\ipykernel_1612\\1789959209.py:4: FutureWarning: The frame.append method is deprecated and will be removed from pandas in a future version. Use pandas.concat instead.\n",
      "  turbo_df = turbo_df.append(data, ignore_index = True)\n",
      "C:\\Users\\bashi\\AppData\\Local\\Temp\\ipykernel_1612\\837280139.py:2: DeprecationWarning: executable_path has been deprecated, please pass in a Service object\n",
      "  driver = webdriver.Chrome(\"chromedriver.exe\")\n"
     ]
    },
    {
     "name": "stdout",
     "output_type": "stream",
     "text": [
      "498\n"
     ]
    },
    {
     "name": "stderr",
     "output_type": "stream",
     "text": [
      "C:\\Users\\bashi\\AppData\\Local\\Temp\\ipykernel_1612\\1789959209.py:4: FutureWarning: The frame.append method is deprecated and will be removed from pandas in a future version. Use pandas.concat instead.\n",
      "  turbo_df = turbo_df.append(data, ignore_index = True)\n",
      "C:\\Users\\bashi\\AppData\\Local\\Temp\\ipykernel_1612\\837280139.py:2: DeprecationWarning: executable_path has been deprecated, please pass in a Service object\n",
      "  driver = webdriver.Chrome(\"chromedriver.exe\")\n"
     ]
    },
    {
     "name": "stdout",
     "output_type": "stream",
     "text": [
      "499\n"
     ]
    },
    {
     "name": "stderr",
     "output_type": "stream",
     "text": [
      "C:\\Users\\bashi\\AppData\\Local\\Temp\\ipykernel_1612\\1789959209.py:4: FutureWarning: The frame.append method is deprecated and will be removed from pandas in a future version. Use pandas.concat instead.\n",
      "  turbo_df = turbo_df.append(data, ignore_index = True)\n",
      "C:\\Users\\bashi\\AppData\\Local\\Temp\\ipykernel_1612\\837280139.py:2: DeprecationWarning: executable_path has been deprecated, please pass in a Service object\n",
      "  driver = webdriver.Chrome(\"chromedriver.exe\")\n"
     ]
    },
    {
     "name": "stdout",
     "output_type": "stream",
     "text": [
      "500\n"
     ]
    },
    {
     "name": "stderr",
     "output_type": "stream",
     "text": [
      "C:\\Users\\bashi\\AppData\\Local\\Temp\\ipykernel_1612\\1789959209.py:4: FutureWarning: The frame.append method is deprecated and will be removed from pandas in a future version. Use pandas.concat instead.\n",
      "  turbo_df = turbo_df.append(data, ignore_index = True)\n",
      "C:\\Users\\bashi\\AppData\\Local\\Temp\\ipykernel_1612\\837280139.py:2: DeprecationWarning: executable_path has been deprecated, please pass in a Service object\n",
      "  driver = webdriver.Chrome(\"chromedriver.exe\")\n"
     ]
    },
    {
     "name": "stdout",
     "output_type": "stream",
     "text": [
      "501\n"
     ]
    },
    {
     "name": "stderr",
     "output_type": "stream",
     "text": [
      "C:\\Users\\bashi\\AppData\\Local\\Temp\\ipykernel_1612\\1789959209.py:4: FutureWarning: The frame.append method is deprecated and will be removed from pandas in a future version. Use pandas.concat instead.\n",
      "  turbo_df = turbo_df.append(data, ignore_index = True)\n",
      "C:\\Users\\bashi\\AppData\\Local\\Temp\\ipykernel_1612\\837280139.py:2: DeprecationWarning: executable_path has been deprecated, please pass in a Service object\n",
      "  driver = webdriver.Chrome(\"chromedriver.exe\")\n"
     ]
    },
    {
     "name": "stdout",
     "output_type": "stream",
     "text": [
      "502\n"
     ]
    },
    {
     "name": "stderr",
     "output_type": "stream",
     "text": [
      "C:\\Users\\bashi\\AppData\\Local\\Temp\\ipykernel_1612\\1789959209.py:4: FutureWarning: The frame.append method is deprecated and will be removed from pandas in a future version. Use pandas.concat instead.\n",
      "  turbo_df = turbo_df.append(data, ignore_index = True)\n",
      "C:\\Users\\bashi\\AppData\\Local\\Temp\\ipykernel_1612\\837280139.py:2: DeprecationWarning: executable_path has been deprecated, please pass in a Service object\n",
      "  driver = webdriver.Chrome(\"chromedriver.exe\")\n"
     ]
    },
    {
     "name": "stdout",
     "output_type": "stream",
     "text": [
      "503\n"
     ]
    },
    {
     "name": "stderr",
     "output_type": "stream",
     "text": [
      "C:\\Users\\bashi\\AppData\\Local\\Temp\\ipykernel_1612\\1789959209.py:4: FutureWarning: The frame.append method is deprecated and will be removed from pandas in a future version. Use pandas.concat instead.\n",
      "  turbo_df = turbo_df.append(data, ignore_index = True)\n",
      "C:\\Users\\bashi\\AppData\\Local\\Temp\\ipykernel_1612\\837280139.py:2: DeprecationWarning: executable_path has been deprecated, please pass in a Service object\n",
      "  driver = webdriver.Chrome(\"chromedriver.exe\")\n"
     ]
    },
    {
     "name": "stdout",
     "output_type": "stream",
     "text": [
      "503\n"
     ]
    },
    {
     "name": "stderr",
     "output_type": "stream",
     "text": [
      "C:\\Users\\bashi\\AppData\\Local\\Temp\\ipykernel_1612\\1789959209.py:4: FutureWarning: The frame.append method is deprecated and will be removed from pandas in a future version. Use pandas.concat instead.\n",
      "  turbo_df = turbo_df.append(data, ignore_index = True)\n",
      "C:\\Users\\bashi\\AppData\\Local\\Temp\\ipykernel_1612\\837280139.py:2: DeprecationWarning: executable_path has been deprecated, please pass in a Service object\n",
      "  driver = webdriver.Chrome(\"chromedriver.exe\")\n"
     ]
    },
    {
     "name": "stdout",
     "output_type": "stream",
     "text": [
      "505\n"
     ]
    },
    {
     "name": "stderr",
     "output_type": "stream",
     "text": [
      "C:\\Users\\bashi\\AppData\\Local\\Temp\\ipykernel_1612\\1789959209.py:4: FutureWarning: The frame.append method is deprecated and will be removed from pandas in a future version. Use pandas.concat instead.\n",
      "  turbo_df = turbo_df.append(data, ignore_index = True)\n",
      "C:\\Users\\bashi\\AppData\\Local\\Temp\\ipykernel_1612\\837280139.py:2: DeprecationWarning: executable_path has been deprecated, please pass in a Service object\n",
      "  driver = webdriver.Chrome(\"chromedriver.exe\")\n"
     ]
    },
    {
     "name": "stdout",
     "output_type": "stream",
     "text": [
      "506\n"
     ]
    },
    {
     "name": "stderr",
     "output_type": "stream",
     "text": [
      "C:\\Users\\bashi\\AppData\\Local\\Temp\\ipykernel_1612\\1789959209.py:4: FutureWarning: The frame.append method is deprecated and will be removed from pandas in a future version. Use pandas.concat instead.\n",
      "  turbo_df = turbo_df.append(data, ignore_index = True)\n",
      "C:\\Users\\bashi\\AppData\\Local\\Temp\\ipykernel_1612\\837280139.py:2: DeprecationWarning: executable_path has been deprecated, please pass in a Service object\n",
      "  driver = webdriver.Chrome(\"chromedriver.exe\")\n"
     ]
    },
    {
     "name": "stdout",
     "output_type": "stream",
     "text": [
      "507\n"
     ]
    },
    {
     "name": "stderr",
     "output_type": "stream",
     "text": [
      "C:\\Users\\bashi\\AppData\\Local\\Temp\\ipykernel_1612\\1789959209.py:4: FutureWarning: The frame.append method is deprecated and will be removed from pandas in a future version. Use pandas.concat instead.\n",
      "  turbo_df = turbo_df.append(data, ignore_index = True)\n",
      "C:\\Users\\bashi\\AppData\\Local\\Temp\\ipykernel_1612\\837280139.py:2: DeprecationWarning: executable_path has been deprecated, please pass in a Service object\n",
      "  driver = webdriver.Chrome(\"chromedriver.exe\")\n"
     ]
    },
    {
     "name": "stdout",
     "output_type": "stream",
     "text": [
      "508\n"
     ]
    },
    {
     "name": "stderr",
     "output_type": "stream",
     "text": [
      "C:\\Users\\bashi\\AppData\\Local\\Temp\\ipykernel_1612\\1789959209.py:4: FutureWarning: The frame.append method is deprecated and will be removed from pandas in a future version. Use pandas.concat instead.\n",
      "  turbo_df = turbo_df.append(data, ignore_index = True)\n",
      "C:\\Users\\bashi\\AppData\\Local\\Temp\\ipykernel_1612\\837280139.py:2: DeprecationWarning: executable_path has been deprecated, please pass in a Service object\n",
      "  driver = webdriver.Chrome(\"chromedriver.exe\")\n"
     ]
    },
    {
     "name": "stdout",
     "output_type": "stream",
     "text": [
      "509\n"
     ]
    },
    {
     "name": "stderr",
     "output_type": "stream",
     "text": [
      "C:\\Users\\bashi\\AppData\\Local\\Temp\\ipykernel_1612\\1789959209.py:4: FutureWarning: The frame.append method is deprecated and will be removed from pandas in a future version. Use pandas.concat instead.\n",
      "  turbo_df = turbo_df.append(data, ignore_index = True)\n",
      "C:\\Users\\bashi\\AppData\\Local\\Temp\\ipykernel_1612\\837280139.py:2: DeprecationWarning: executable_path has been deprecated, please pass in a Service object\n",
      "  driver = webdriver.Chrome(\"chromedriver.exe\")\n"
     ]
    },
    {
     "name": "stdout",
     "output_type": "stream",
     "text": [
      "510\n"
     ]
    },
    {
     "name": "stderr",
     "output_type": "stream",
     "text": [
      "C:\\Users\\bashi\\AppData\\Local\\Temp\\ipykernel_1612\\1789959209.py:4: FutureWarning: The frame.append method is deprecated and will be removed from pandas in a future version. Use pandas.concat instead.\n",
      "  turbo_df = turbo_df.append(data, ignore_index = True)\n",
      "C:\\Users\\bashi\\AppData\\Local\\Temp\\ipykernel_1612\\837280139.py:2: DeprecationWarning: executable_path has been deprecated, please pass in a Service object\n",
      "  driver = webdriver.Chrome(\"chromedriver.exe\")\n"
     ]
    },
    {
     "name": "stdout",
     "output_type": "stream",
     "text": [
      "511\n"
     ]
    },
    {
     "name": "stderr",
     "output_type": "stream",
     "text": [
      "C:\\Users\\bashi\\AppData\\Local\\Temp\\ipykernel_1612\\1789959209.py:4: FutureWarning: The frame.append method is deprecated and will be removed from pandas in a future version. Use pandas.concat instead.\n",
      "  turbo_df = turbo_df.append(data, ignore_index = True)\n",
      "C:\\Users\\bashi\\AppData\\Local\\Temp\\ipykernel_1612\\837280139.py:2: DeprecationWarning: executable_path has been deprecated, please pass in a Service object\n",
      "  driver = webdriver.Chrome(\"chromedriver.exe\")\n"
     ]
    },
    {
     "name": "stdout",
     "output_type": "stream",
     "text": [
      "512\n"
     ]
    },
    {
     "ename": "WebDriverException",
     "evalue": "Message: unknown error: DevToolsActivePort file doesn't exist\nStacktrace:\nBacktrace:\n\t(No symbol) [0x00E96643]\n\t(No symbol) [0x00E2BE21]\n\t(No symbol) [0x00D2DA9D]\n\t(No symbol) [0x00D51D8E]\n\t(No symbol) [0x00D4D3F0]\n\t(No symbol) [0x00D4A899]\n\t(No symbol) [0x00D86917]\n\t(No symbol) [0x00D8655C]\n\t(No symbol) [0x00D7FB76]\n\t(No symbol) [0x00D549C1]\n\t(No symbol) [0x00D55E5D]\n\tGetHandleVerifier [0x0110A142+2497106]\n\tGetHandleVerifier [0x011385D3+2686691]\n\tGetHandleVerifier [0x0113BB9C+2700460]\n\tGetHandleVerifier [0x00F43B10+635936]\n\t(No symbol) [0x00E34A1F]\n\t(No symbol) [0x00E3A418]\n\t(No symbol) [0x00E3A505]\n\t(No symbol) [0x00E4508B]\n\tBaseThreadInitThunk [0x764900F9+25]\n\tRtlGetAppContainerNamedObjectPath [0x770F7BBE+286]\n\tRtlGetAppContainerNamedObjectPath [0x770F7B8E+238]\n",
     "output_type": "error",
     "traceback": [
      "\u001b[1;31m---------------------------------------------------------------------------\u001b[0m",
      "\u001b[1;31mWebDriverException\u001b[0m                        Traceback (most recent call last)",
      "Input \u001b[1;32mIn [34]\u001b[0m, in \u001b[0;36m<cell line: 2>\u001b[1;34m()\u001b[0m\n\u001b[0;32m      1\u001b[0m turbo_df \u001b[38;5;241m=\u001b[39m pd\u001b[38;5;241m.\u001b[39mDataFrame()\n\u001b[0;32m      2\u001b[0m \u001b[38;5;28;01mfor\u001b[39;00m link \u001b[38;5;129;01min\u001b[39;00m links:\n\u001b[1;32m----> 3\u001b[0m     \u001b[43mget_all_properties\u001b[49m\u001b[43m(\u001b[49m\u001b[43mlink\u001b[49m\u001b[43m)\u001b[49m\n\u001b[0;32m      4\u001b[0m     turbo_df \u001b[38;5;241m=\u001b[39m turbo_df\u001b[38;5;241m.\u001b[39mappend(data, ignore_index \u001b[38;5;241m=\u001b[39m \u001b[38;5;28;01mTrue\u001b[39;00m)\n\u001b[0;32m      5\u001b[0m     \u001b[38;5;28mprint\u001b[39m(links\u001b[38;5;241m.\u001b[39mindex(link))\n",
      "Input \u001b[1;32mIn [32]\u001b[0m, in \u001b[0;36mget_all_properties\u001b[1;34m(url)\u001b[0m\n\u001b[0;32m      1\u001b[0m \u001b[38;5;28;01mdef\u001b[39;00m \u001b[38;5;21mget_all_properties\u001b[39m(url):\n\u001b[0;32m      2\u001b[0m     all_properties\u001b[38;5;241m=\u001b[39m{\u001b[38;5;124m\"\u001b[39m\u001b[38;5;124murl\u001b[39m\u001b[38;5;124m\"\u001b[39m:url}\n\u001b[1;32m----> 3\u001b[0m     r \u001b[38;5;241m=\u001b[39m \u001b[43mrender_page\u001b[49m\u001b[43m(\u001b[49m\u001b[43murl\u001b[49m\u001b[43m)\u001b[49m\n\u001b[0;32m      4\u001b[0m     soup \u001b[38;5;241m=\u001b[39m BeautifulSoup(r, \u001b[38;5;124m\"\u001b[39m\u001b[38;5;124mhtml.parser\u001b[39m\u001b[38;5;124m\"\u001b[39m)\n\u001b[0;32m      5\u001b[0m     properties \u001b[38;5;241m=\u001b[39m soup\u001b[38;5;241m.\u001b[39mfind_all(\u001b[38;5;124m'\u001b[39m\u001b[38;5;124mdiv\u001b[39m\u001b[38;5;124m'\u001b[39m, attrs\u001b[38;5;241m=\u001b[39m{\u001b[38;5;124m'\u001b[39m\u001b[38;5;124mclass\u001b[39m\u001b[38;5;124m'\u001b[39m:\u001b[38;5;124m'\u001b[39m\u001b[38;5;124mproduct-properties__i\u001b[39m\u001b[38;5;124m'\u001b[39m})\n",
      "Input \u001b[1;32mIn [7]\u001b[0m, in \u001b[0;36mrender_page\u001b[1;34m(url)\u001b[0m\n\u001b[0;32m      1\u001b[0m \u001b[38;5;28;01mdef\u001b[39;00m \u001b[38;5;21mrender_page\u001b[39m(url):\n\u001b[1;32m----> 2\u001b[0m     driver \u001b[38;5;241m=\u001b[39m \u001b[43mwebdriver\u001b[49m\u001b[38;5;241;43m.\u001b[39;49m\u001b[43mChrome\u001b[49m\u001b[43m(\u001b[49m\u001b[38;5;124;43m\"\u001b[39;49m\u001b[38;5;124;43mchromedriver.exe\u001b[39;49m\u001b[38;5;124;43m\"\u001b[39;49m\u001b[43m)\u001b[49m\n\u001b[0;32m      3\u001b[0m     driver\u001b[38;5;241m.\u001b[39mget(url)\n\u001b[0;32m      4\u001b[0m     height \u001b[38;5;241m=\u001b[39m driver\u001b[38;5;241m.\u001b[39mexecute_script(\u001b[38;5;124m\"\u001b[39m\u001b[38;5;124mreturn document.body.scrollHeight\u001b[39m\u001b[38;5;124m\"\u001b[39m)\n",
      "File \u001b[1;32m~\\AppData\\Local\\Programs\\Python\\Python310\\lib\\site-packages\\selenium\\webdriver\\chrome\\webdriver.py:70\u001b[0m, in \u001b[0;36mWebDriver.__init__\u001b[1;34m(self, executable_path, port, options, service_args, desired_capabilities, service_log_path, chrome_options, service, keep_alive)\u001b[0m\n\u001b[0;32m     67\u001b[0m \u001b[38;5;28;01mif\u001b[39;00m \u001b[38;5;129;01mnot\u001b[39;00m service:\n\u001b[0;32m     68\u001b[0m     service \u001b[38;5;241m=\u001b[39m Service(executable_path, port, service_args, service_log_path)\n\u001b[1;32m---> 70\u001b[0m \u001b[38;5;28;43msuper\u001b[39;49m\u001b[43m(\u001b[49m\u001b[43mWebDriver\u001b[49m\u001b[43m,\u001b[49m\u001b[43m \u001b[49m\u001b[38;5;28;43mself\u001b[39;49m\u001b[43m)\u001b[49m\u001b[38;5;241;43m.\u001b[39;49m\u001b[38;5;21;43m__init__\u001b[39;49m\u001b[43m(\u001b[49m\u001b[43mDesiredCapabilities\u001b[49m\u001b[38;5;241;43m.\u001b[39;49m\u001b[43mCHROME\u001b[49m\u001b[43m[\u001b[49m\u001b[38;5;124;43m'\u001b[39;49m\u001b[38;5;124;43mbrowserName\u001b[39;49m\u001b[38;5;124;43m'\u001b[39;49m\u001b[43m]\u001b[49m\u001b[43m,\u001b[49m\u001b[43m \u001b[49m\u001b[38;5;124;43m\"\u001b[39;49m\u001b[38;5;124;43mgoog\u001b[39;49m\u001b[38;5;124;43m\"\u001b[39;49m\u001b[43m,\u001b[49m\n\u001b[0;32m     71\u001b[0m \u001b[43m                                \u001b[49m\u001b[43mport\u001b[49m\u001b[43m,\u001b[49m\u001b[43m \u001b[49m\u001b[43moptions\u001b[49m\u001b[43m,\u001b[49m\n\u001b[0;32m     72\u001b[0m \u001b[43m                                \u001b[49m\u001b[43mservice_args\u001b[49m\u001b[43m,\u001b[49m\u001b[43m \u001b[49m\u001b[43mdesired_capabilities\u001b[49m\u001b[43m,\u001b[49m\n\u001b[0;32m     73\u001b[0m \u001b[43m                                \u001b[49m\u001b[43mservice_log_path\u001b[49m\u001b[43m,\u001b[49m\u001b[43m \u001b[49m\u001b[43mservice\u001b[49m\u001b[43m,\u001b[49m\u001b[43m \u001b[49m\u001b[43mkeep_alive\u001b[49m\u001b[43m)\u001b[49m\n",
      "File \u001b[1;32m~\\AppData\\Local\\Programs\\Python\\Python310\\lib\\site-packages\\selenium\\webdriver\\chromium\\webdriver.py:92\u001b[0m, in \u001b[0;36mChromiumDriver.__init__\u001b[1;34m(self, browser_name, vendor_prefix, port, options, service_args, desired_capabilities, service_log_path, service, keep_alive)\u001b[0m\n\u001b[0;32m     89\u001b[0m \u001b[38;5;28mself\u001b[39m\u001b[38;5;241m.\u001b[39mservice\u001b[38;5;241m.\u001b[39mstart()\n\u001b[0;32m     91\u001b[0m \u001b[38;5;28;01mtry\u001b[39;00m:\n\u001b[1;32m---> 92\u001b[0m     \u001b[43mRemoteWebDriver\u001b[49m\u001b[38;5;241;43m.\u001b[39;49m\u001b[38;5;21;43m__init__\u001b[39;49m\u001b[43m(\u001b[49m\n\u001b[0;32m     93\u001b[0m \u001b[43m        \u001b[49m\u001b[38;5;28;43mself\u001b[39;49m\u001b[43m,\u001b[49m\n\u001b[0;32m     94\u001b[0m \u001b[43m        \u001b[49m\u001b[43mcommand_executor\u001b[49m\u001b[38;5;241;43m=\u001b[39;49m\u001b[43mChromiumRemoteConnection\u001b[49m\u001b[43m(\u001b[49m\n\u001b[0;32m     95\u001b[0m \u001b[43m            \u001b[49m\u001b[43mremote_server_addr\u001b[49m\u001b[38;5;241;43m=\u001b[39;49m\u001b[38;5;28;43mself\u001b[39;49m\u001b[38;5;241;43m.\u001b[39;49m\u001b[43mservice\u001b[49m\u001b[38;5;241;43m.\u001b[39;49m\u001b[43mservice_url\u001b[49m\u001b[43m,\u001b[49m\n\u001b[0;32m     96\u001b[0m \u001b[43m            \u001b[49m\u001b[43mbrowser_name\u001b[49m\u001b[38;5;241;43m=\u001b[39;49m\u001b[43mbrowser_name\u001b[49m\u001b[43m,\u001b[49m\u001b[43m \u001b[49m\u001b[43mvendor_prefix\u001b[49m\u001b[38;5;241;43m=\u001b[39;49m\u001b[43mvendor_prefix\u001b[49m\u001b[43m,\u001b[49m\n\u001b[0;32m     97\u001b[0m \u001b[43m            \u001b[49m\u001b[43mkeep_alive\u001b[49m\u001b[38;5;241;43m=\u001b[39;49m\u001b[43mkeep_alive\u001b[49m\u001b[43m,\u001b[49m\u001b[43m \u001b[49m\u001b[43mignore_proxy\u001b[49m\u001b[38;5;241;43m=\u001b[39;49m\u001b[43m_ignore_proxy\u001b[49m\u001b[43m)\u001b[49m\u001b[43m,\u001b[49m\n\u001b[0;32m     98\u001b[0m \u001b[43m        \u001b[49m\u001b[43moptions\u001b[49m\u001b[38;5;241;43m=\u001b[39;49m\u001b[43moptions\u001b[49m\u001b[43m)\u001b[49m\n\u001b[0;32m     99\u001b[0m \u001b[38;5;28;01mexcept\u001b[39;00m \u001b[38;5;167;01mException\u001b[39;00m:\n\u001b[0;32m    100\u001b[0m     \u001b[38;5;28mself\u001b[39m\u001b[38;5;241m.\u001b[39mquit()\n",
      "File \u001b[1;32m~\\AppData\\Local\\Programs\\Python\\Python310\\lib\\site-packages\\selenium\\webdriver\\remote\\webdriver.py:275\u001b[0m, in \u001b[0;36mWebDriver.__init__\u001b[1;34m(self, command_executor, desired_capabilities, browser_profile, proxy, keep_alive, file_detector, options)\u001b[0m\n\u001b[0;32m    273\u001b[0m \u001b[38;5;28mself\u001b[39m\u001b[38;5;241m.\u001b[39m_authenticator_id \u001b[38;5;241m=\u001b[39m \u001b[38;5;28;01mNone\u001b[39;00m\n\u001b[0;32m    274\u001b[0m \u001b[38;5;28mself\u001b[39m\u001b[38;5;241m.\u001b[39mstart_client()\n\u001b[1;32m--> 275\u001b[0m \u001b[38;5;28;43mself\u001b[39;49m\u001b[38;5;241;43m.\u001b[39;49m\u001b[43mstart_session\u001b[49m\u001b[43m(\u001b[49m\u001b[43mcapabilities\u001b[49m\u001b[43m,\u001b[49m\u001b[43m \u001b[49m\u001b[43mbrowser_profile\u001b[49m\u001b[43m)\u001b[49m\n",
      "File \u001b[1;32m~\\AppData\\Local\\Programs\\Python\\Python310\\lib\\site-packages\\selenium\\webdriver\\remote\\webdriver.py:365\u001b[0m, in \u001b[0;36mWebDriver.start_session\u001b[1;34m(self, capabilities, browser_profile)\u001b[0m\n\u001b[0;32m    363\u001b[0m w3c_caps \u001b[38;5;241m=\u001b[39m _make_w3c_caps(capabilities)\n\u001b[0;32m    364\u001b[0m parameters \u001b[38;5;241m=\u001b[39m {\u001b[38;5;124m\"\u001b[39m\u001b[38;5;124mcapabilities\u001b[39m\u001b[38;5;124m\"\u001b[39m: w3c_caps}\n\u001b[1;32m--> 365\u001b[0m response \u001b[38;5;241m=\u001b[39m \u001b[38;5;28;43mself\u001b[39;49m\u001b[38;5;241;43m.\u001b[39;49m\u001b[43mexecute\u001b[49m\u001b[43m(\u001b[49m\u001b[43mCommand\u001b[49m\u001b[38;5;241;43m.\u001b[39;49m\u001b[43mNEW_SESSION\u001b[49m\u001b[43m,\u001b[49m\u001b[43m \u001b[49m\u001b[43mparameters\u001b[49m\u001b[43m)\u001b[49m\n\u001b[0;32m    366\u001b[0m \u001b[38;5;28;01mif\u001b[39;00m \u001b[38;5;124m'\u001b[39m\u001b[38;5;124msessionId\u001b[39m\u001b[38;5;124m'\u001b[39m \u001b[38;5;129;01mnot\u001b[39;00m \u001b[38;5;129;01min\u001b[39;00m response:\n\u001b[0;32m    367\u001b[0m     response \u001b[38;5;241m=\u001b[39m response[\u001b[38;5;124m'\u001b[39m\u001b[38;5;124mvalue\u001b[39m\u001b[38;5;124m'\u001b[39m]\n",
      "File \u001b[1;32m~\\AppData\\Local\\Programs\\Python\\Python310\\lib\\site-packages\\selenium\\webdriver\\remote\\webdriver.py:430\u001b[0m, in \u001b[0;36mWebDriver.execute\u001b[1;34m(self, driver_command, params)\u001b[0m\n\u001b[0;32m    428\u001b[0m response \u001b[38;5;241m=\u001b[39m \u001b[38;5;28mself\u001b[39m\u001b[38;5;241m.\u001b[39mcommand_executor\u001b[38;5;241m.\u001b[39mexecute(driver_command, params)\n\u001b[0;32m    429\u001b[0m \u001b[38;5;28;01mif\u001b[39;00m response:\n\u001b[1;32m--> 430\u001b[0m     \u001b[38;5;28;43mself\u001b[39;49m\u001b[38;5;241;43m.\u001b[39;49m\u001b[43merror_handler\u001b[49m\u001b[38;5;241;43m.\u001b[39;49m\u001b[43mcheck_response\u001b[49m\u001b[43m(\u001b[49m\u001b[43mresponse\u001b[49m\u001b[43m)\u001b[49m\n\u001b[0;32m    431\u001b[0m     response[\u001b[38;5;124m'\u001b[39m\u001b[38;5;124mvalue\u001b[39m\u001b[38;5;124m'\u001b[39m] \u001b[38;5;241m=\u001b[39m \u001b[38;5;28mself\u001b[39m\u001b[38;5;241m.\u001b[39m_unwrap_value(\n\u001b[0;32m    432\u001b[0m         response\u001b[38;5;241m.\u001b[39mget(\u001b[38;5;124m'\u001b[39m\u001b[38;5;124mvalue\u001b[39m\u001b[38;5;124m'\u001b[39m, \u001b[38;5;28;01mNone\u001b[39;00m))\n\u001b[0;32m    433\u001b[0m     \u001b[38;5;28;01mreturn\u001b[39;00m response\n",
      "File \u001b[1;32m~\\AppData\\Local\\Programs\\Python\\Python310\\lib\\site-packages\\selenium\\webdriver\\remote\\errorhandler.py:247\u001b[0m, in \u001b[0;36mErrorHandler.check_response\u001b[1;34m(self, response)\u001b[0m\n\u001b[0;32m    245\u001b[0m         alert_text \u001b[38;5;241m=\u001b[39m value[\u001b[38;5;124m'\u001b[39m\u001b[38;5;124malert\u001b[39m\u001b[38;5;124m'\u001b[39m]\u001b[38;5;241m.\u001b[39mget(\u001b[38;5;124m'\u001b[39m\u001b[38;5;124mtext\u001b[39m\u001b[38;5;124m'\u001b[39m)\n\u001b[0;32m    246\u001b[0m     \u001b[38;5;28;01mraise\u001b[39;00m exception_class(message, screen, stacktrace, alert_text)  \u001b[38;5;66;03m# type: ignore[call-arg]  # mypy is not smart enough here\u001b[39;00m\n\u001b[1;32m--> 247\u001b[0m \u001b[38;5;28;01mraise\u001b[39;00m exception_class(message, screen, stacktrace)\n",
      "\u001b[1;31mWebDriverException\u001b[0m: Message: unknown error: DevToolsActivePort file doesn't exist\nStacktrace:\nBacktrace:\n\t(No symbol) [0x00E96643]\n\t(No symbol) [0x00E2BE21]\n\t(No symbol) [0x00D2DA9D]\n\t(No symbol) [0x00D51D8E]\n\t(No symbol) [0x00D4D3F0]\n\t(No symbol) [0x00D4A899]\n\t(No symbol) [0x00D86917]\n\t(No symbol) [0x00D8655C]\n\t(No symbol) [0x00D7FB76]\n\t(No symbol) [0x00D549C1]\n\t(No symbol) [0x00D55E5D]\n\tGetHandleVerifier [0x0110A142+2497106]\n\tGetHandleVerifier [0x011385D3+2686691]\n\tGetHandleVerifier [0x0113BB9C+2700460]\n\tGetHandleVerifier [0x00F43B10+635936]\n\t(No symbol) [0x00E34A1F]\n\t(No symbol) [0x00E3A418]\n\t(No symbol) [0x00E3A505]\n\t(No symbol) [0x00E4508B]\n\tBaseThreadInitThunk [0x764900F9+25]\n\tRtlGetAppContainerNamedObjectPath [0x770F7BBE+286]\n\tRtlGetAppContainerNamedObjectPath [0x770F7B8E+238]\n"
     ]
    }
   ],
   "source": [
    "turbo_df = pd.DataFrame()\n",
    "for link in links:\n",
    "    get_all_properties(link)\n",
    "    turbo_df = turbo_df.append(data, ignore_index = True)\n",
    "#     print(links.index(link))"
   ]
  },
  {
   "cell_type": "code",
   "execution_count": null,
   "id": "509d257e",
   "metadata": {},
   "outputs": [],
   "source": [
    "turbo_df.to_csv('turbo_data.csv')"
   ]
  },
  {
   "cell_type": "code",
   "execution_count": null,
   "id": "3eebb506",
   "metadata": {},
   "outputs": [],
   "source": []
  }
 ],
 "metadata": {
  "kernelspec": {
   "display_name": "Python 3 (ipykernel)",
   "language": "python",
   "name": "python3"
  },
  "language_info": {
   "codemirror_mode": {
    "name": "ipython",
    "version": 3
   },
   "file_extension": ".py",
   "mimetype": "text/x-python",
   "name": "python",
   "nbconvert_exporter": "python",
   "pygments_lexer": "ipython3",
   "version": "3.10.2"
  }
 },
 "nbformat": 4,
 "nbformat_minor": 5
}
